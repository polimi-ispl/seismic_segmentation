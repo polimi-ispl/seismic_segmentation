{
 "cells": [
  {
   "cell_type": "code",
   "execution_count": 1,
   "metadata": {
    "id": "8H65wGVbY25q",
    "scrolled": true
   },
   "outputs": [
    {
     "name": "stdout",
     "output_type": "stream",
     "text": [
      "torch: 1.7.0, catalyst: 20.11\n"
     ]
    }
   ],
   "source": [
    "from typing import Callable, List, Tuple\n",
    "from pathlib import Path\n",
    "import os\n",
    "from argparse import Namespace\n",
    "import random\n",
    "import matplotlib.pyplot as plt\n",
    "import numpy as np\n",
    "from tqdm.notebook import trange\n",
    "\n",
    "import torch\n",
    "from torch import nn\n",
    "\n",
    "import albumentations as albu\n",
    "import catalyst\n",
    "from catalyst.dl import SupervisedRunner\n",
    "\n",
    "# models\n",
    "import segmentation_models_pytorch as smp\n",
    "\n",
    "# optimizer\n",
    "from torch import optim\n",
    "from catalyst.contrib.nn import RAdam, Lookahead\n",
    "\n",
    "# losses\n",
    "from torch.nn import CrossEntropyLoss\n",
    "from catalyst.contrib.nn import LovaszLossMultiClass, LovaszLossBinary\n",
    "\n",
    "# metrics\n",
    "from catalyst.dl import IouCallback\n",
    "from catalyst.dl import CriterionCallback, MetricAggregationCallback, EarlyStoppingCallback\n",
    "\n",
    "# utilities\n",
    "from pytorch_toolbelt.utils import count_parameters\n",
    "import utils as u\n",
    "from _torch.catalyst import SegmentationDataset, get_loaders, DataLoader, get_tensorboard_log\n",
    "\n",
    "print(f\"torch: {torch.__version__}, catalyst: {catalyst.__version__}\")\n",
    "\n",
    "SEED = 42\n",
    "catalyst.utils.set_global_seed(SEED)\n",
    "catalyst.utils.prepare_cudnn(deterministic=True)"
   ]
  },
  {
   "cell_type": "code",
   "execution_count": 2,
   "metadata": {
    "id": "zNdK5P0UY26A"
   },
   "outputs": [],
   "source": [
    "def pre_transform(target_size):\n",
    "    return [albu.Resize(target_size[0], target_size[1], p=1)]\n",
    "\n",
    "def aug_transform():\n",
    "    return [\n",
    "        albu.HorizontalFlip(p=0.5),\n",
    "        # albu.Downscale(scale_min=0.5, scale_max=0.95, p=0.1),\n",
    "    ]  \n",
    "\n",
    "def tensor_transforms(v2=False, long=False, add_ch_mask=False):\n",
    "    \n",
    "    def _long(x: torch.Tensor, **params):\n",
    "        return x.long()\n",
    "    \n",
    "    def _ch(x: torch.Tensor, **params):\n",
    "        return x.unsqueeze(0)\n",
    "    # we convert it to torch.Tensor\n",
    "    t = [albu.pytorch.ToTensorV2()] if v2 else [albu.pytorch.ToTensor()]\n",
    "    \n",
    "    # convert the mask to long for CrossEntropyLoss\n",
    "    if long:\n",
    "        t.append(albu.Lambda(image=None, mask=_long, p=1))\n",
    "    \n",
    "    if add_ch_mask:\n",
    "        t.append(albu.Lambda(image=None, mask=_ch, p=1))\n",
    "        \n",
    "    return t\n",
    "\n",
    "def compose(transforms_list):\n",
    "    # combine all augmentations into single pipeline\n",
    "    result = albu.Compose([\n",
    "      item for sublist in transforms_list for item in sublist\n",
    "    ])\n",
    "    return result"
   ]
  },
  {
   "cell_type": "markdown",
   "metadata": {},
   "source": [
    "## Arguments"
   ]
  },
  {
   "cell_type": "code",
   "execution_count": 3,
   "metadata": {},
   "outputs": [],
   "source": [
    "args = Namespace()\n",
    "args.gpus = os.environ['CUDA_VISIBLE_DEVICES']\n",
    "args.num_workers = 16\n",
    "args.is_fp16_used = False\n",
    "\n",
    "args.batch_size = 64\n",
    "\n",
    "args.epochs = 100\n",
    "args.stopping_patience = 10\n",
    "args.lr = 0.001\n",
    "#args.lr_enc = 0.005\n",
    "args.lr_enc = 0.001\n",
    "args.lr_plateau_factor=0.25\n",
    "args.lr_plateau_patience=10\n",
    "args.opt_weight_decay=0.0003\n",
    "#args.enc_weight_decay=0.00003\n",
    "args.enc_weight_decay=0.0003\n",
    "\n",
    "args.num_classes = 6\n",
    "args.class_weights = [1/44]*args.num_classes\n",
    "args.class_weights[4] = 20/44\n",
    "args.class_weights[5] = 20/44\n",
    "\n",
    "args.split_x = None\n",
    "args.split_y = None\n",
    "args.split_shuffle = True\n",
    "args.valid = 0.05\n",
    "args.patch_shape = (160,160,1)\n",
    "args.target_shape = (160,160)\n",
    "args.patch_stride = (80,80,1)\n",
    "\n",
    "args.loss_lovasz = 1.\n",
    "args.loss_cce = 0.\n",
    "\n",
    "# https://pypi.org/project/segmentation-models-pytorch/#encoders\n",
    "args.backbone = \"resnext50_32x4d\" #\"efficientnet-b3\"\n",
    "args.activation = None  # will be Identity, can be \"sigmoid\", \"softmax2d\" or Callable (like nn.Tanh)\n",
    "args.pretrained = False\n",
    "args.use_fpn = False\n",
    "attempt = 0\n",
    "args.outname = \"%s_%s%s_%dto%d_attempt%d\" % \\\n",
    "                   (\"FPN\" if args.use_fpn else \"UNET\", args.backbone, \"_pre\" if args.pretrained else \"\",\n",
    "                    args.patch_shape[0], args.target_shape[0], attempt)\n",
    "args.logdir = Path(\"./results/facies/\") / args.outname"
   ]
  },
  {
   "cell_type": "code",
   "execution_count": 4,
   "metadata": {},
   "outputs": [
    {
     "data": {
      "text/plain": [
       "PosixPath('results/facies/UNET_resnext50_32x4d_160to160_attempt0')"
      ]
     },
     "execution_count": 4,
     "metadata": {},
     "output_type": "execute_result"
    }
   ],
   "source": [
    "args.logdir"
   ]
  },
  {
   "cell_type": "code",
   "execution_count": 5,
   "metadata": {},
   "outputs": [
    {
     "name": "stdout",
     "output_type": "stream",
     "text": [
      "batch_size: 64\n"
     ]
    }
   ],
   "source": [
    "batch_size = args.batch_size * (2 if args.is_fp16_used else 1)\n",
    "\n",
    "print(f\"batch_size: {batch_size}\")"
   ]
  },
  {
   "cell_type": "code",
   "execution_count": 6,
   "metadata": {},
   "outputs": [
    {
     "name": "stdout",
     "output_type": "stream",
     "text": [
      "2,3,4,5\r\n"
     ]
    }
   ],
   "source": [
    "!echo $CUDA_VISIBLE_DEVICES"
   ]
  },
  {
   "cell_type": "code",
   "execution_count": 7,
   "metadata": {},
   "outputs": [
    {
     "name": "stdout",
     "output_type": "stream",
     "text": [
      "device: cuda\n"
     ]
    }
   ],
   "source": [
    "device = catalyst.utils.get_device()\n",
    "print(f\"device: {device}\")"
   ]
  },
  {
   "cell_type": "code",
   "execution_count": 8,
   "metadata": {},
   "outputs": [],
   "source": [
    "u.save_args_to_file(args.logdir, args)"
   ]
  },
  {
   "cell_type": "code",
   "execution_count": 9,
   "metadata": {},
   "outputs": [],
   "source": [
    "save_opts = {'format':'png', 'dpi':150, 'bbox_inches':'tight'}"
   ]
  },
  {
   "cell_type": "markdown",
   "metadata": {
    "id": "nWseoJqWY25z"
   },
   "source": [
    "## Dataset"
   ]
  },
  {
   "cell_type": "code",
   "execution_count": 10,
   "metadata": {},
   "outputs": [],
   "source": [
    "ROOT = Path(\"/nas/home/fpicetti/datasets/seismic_facies/normalized/\")"
   ]
  },
  {
   "cell_type": "code",
   "execution_count": 11,
   "metadata": {
    "id": "g4Vqm9FzY254"
   },
   "outputs": [],
   "source": [
    "image = np.load(ROOT / \"data_train.npz\", allow_pickle=True, mmap_mode='r')['data']\n",
    "label = np.load(ROOT / \"labels_train.npz\", allow_pickle=True, mmap_mode='r')['labels']"
   ]
  },
  {
   "cell_type": "code",
   "execution_count": 12,
   "metadata": {},
   "outputs": [
    {
     "data": {
      "text/plain": [
       "((1006, 782, 590), (1006, 782, 590))"
      ]
     },
     "execution_count": 12,
     "metadata": {},
     "output_type": "execute_result"
    }
   ],
   "source": [
    "image.shape, label.shape"
   ]
  },
  {
   "cell_type": "code",
   "execution_count": 13,
   "metadata": {},
   "outputs": [],
   "source": [
    "image_train, image_test = image[:, :args.split_x, :args.split_y], image[:, args.split_x:, args.split_y:]\n",
    "label_train, label_test = label[:, :args.split_x, :args.split_y], label[:, args.split_x:, args.split_y:]"
   ]
  },
  {
   "cell_type": "code",
   "execution_count": 14,
   "metadata": {},
   "outputs": [
    {
     "data": {
      "text/plain": [
       "((1006, 782, 590), (1006, 782, 590))"
      ]
     },
     "execution_count": 14,
     "metadata": {},
     "output_type": "execute_result"
    }
   ],
   "source": [
    "image_train.shape, image_test.shape"
   ]
  },
  {
   "cell_type": "code",
   "execution_count": 15,
   "metadata": {},
   "outputs": [],
   "source": [
    "if args.split_x is None and args.split_y is None:\n",
    "    del image, label"
   ]
  },
  {
   "cell_type": "markdown",
   "metadata": {},
   "source": [
    "#### Patches in both X and Y directions"
   ]
  },
  {
   "cell_type": "code",
   "execution_count": 16,
   "metadata": {},
   "outputs": [],
   "source": [
    "def swap_tuple(in_content: tuple):\n",
    "    temp = list(in_content)\n",
    "    temp[1], temp[2] = temp[2], temp[1]\n",
    "    return tuple(temp)"
   ]
  },
  {
   "cell_type": "code",
   "execution_count": 17,
   "metadata": {},
   "outputs": [
    {
     "name": "stdout",
     "output_type": "stream",
     "text": [
      "total ZX patches:   51920\n",
      "input volume  :     (1006, 782, 590)\n",
      "cropped volume:     (960, 720, 590)\n"
     ]
    }
   ],
   "source": [
    "pe_y = u.PatchExtractor(args.patch_shape, stride=args.patch_stride)\n",
    "print('total ZX patches:   %d' % u.patch_extractor.count_patches(image_train.shape, pe_y.dim, pe_y.stride))\n",
    "print('input volume  :    ', image_train.shape)\n",
    "print('cropped volume:    ', u.patch_extractor.in_content_cropped_shape(image_train.shape, pe_y.dim, pe_y.stride))"
   ]
  },
  {
   "cell_type": "code",
   "execution_count": 18,
   "metadata": {},
   "outputs": [
    {
     "name": "stdout",
     "output_type": "stream",
     "text": [
      "total ZY patches:   51612\n",
      "input volume  :     (1006, 782, 590)\n",
      "cropped volume:     (960, 782, 560)\n"
     ]
    }
   ],
   "source": [
    "pe_x = u.PatchExtractor(swap_tuple(args.patch_shape), stride=swap_tuple(args.patch_stride))\n",
    "print('total ZY patches:   %d' % u.patch_extractor.count_patches(image_train.shape, pe_x.dim, pe_x.stride))\n",
    "print('input volume  :    ', image_train.shape)\n",
    "print('cropped volume:    ', u.patch_extractor.in_content_cropped_shape(image_train.shape, pe_x.dim, pe_x.stride))\n"
   ]
  },
  {
   "cell_type": "code",
   "execution_count": 19,
   "metadata": {},
   "outputs": [
    {
     "name": "stdout",
     "output_type": "stream",
     "text": [
      "(103532, 160, 160, 1)\n",
      "(103532, 160, 160, 1)\n"
     ]
    }
   ],
   "source": [
    "patches_image_train = np.concatenate((pe_y.extract(image_train).reshape((-1,)+pe_y.dim),\n",
    "                                      pe_x.extract(image_train).reshape((-1,)+pe_x.dim).transpose(0,1,3,2)),\n",
    "                                     axis=0)\n",
    "patches_label_train = np.concatenate((pe_y.extract(label_train).reshape((-1,)+pe_y.dim),\n",
    "                                      pe_x.extract(label_train).reshape((-1,)+pe_x.dim).transpose(0,1,3,2)),\n",
    "                                     axis=0)\n",
    "\n",
    "print(patches_image_train.shape)\n",
    "print(patches_label_train.shape)"
   ]
  },
  {
   "cell_type": "markdown",
   "metadata": {},
   "source": [
    "#### Transforms, augmentations and loaders"
   ]
  },
  {
   "cell_type": "code",
   "execution_count": 20,
   "metadata": {
    "id": "mrRzeFppnPMt"
   },
   "outputs": [],
   "source": [
    "train_transforms = compose([\n",
    "    pre_transform(args.target_shape),\n",
    "    aug_transform(),\n",
    "    tensor_transforms(v2=True, long=True, add_ch_mask=True)])\n",
    "\n",
    "valid_transforms = compose([\n",
    "    pre_transform(args.target_shape),\n",
    "    aug_transform(),\n",
    "    tensor_transforms(v2=True, long=True, add_ch_mask=True)])\n",
    "\n",
    "show_transforms  = compose([aug_transform()])"
   ]
  },
  {
   "cell_type": "code",
   "execution_count": 21,
   "metadata": {
    "id": "OG6_pgmkxk_b"
   },
   "outputs": [],
   "source": [
    "loaders = get_loaders(\n",
    "    images=patches_image_train,\n",
    "    masks=patches_label_train.astype(np.float),\n",
    "    dataset = SegmentationDataset,\n",
    "    random_state=SEED,\n",
    "    valid_size=args.valid,\n",
    "    train_transforms_fn=train_transforms,\n",
    "    valid_transforms_fn=valid_transforms,\n",
    "    batch_size=batch_size,\n",
    "    num_workers=args.num_workers,\n",
    "    split_shuffle=args.split_shuffle,\n",
    "    epoch_shuffle=True,\n",
    ")"
   ]
  },
  {
   "cell_type": "markdown",
   "metadata": {},
   "source": [
    "## Model"
   ]
  },
  {
   "cell_type": "code",
   "execution_count": 22,
   "metadata": {},
   "outputs": [],
   "source": [
    "# We will use Feature Pyramid Network with pre-trained backbone\n",
    "# https://pypi.org/project/segmentation-models-pytorch/\n",
    "if args.use_fpn:\n",
    "    model = smp.FPN(\n",
    "        classes=args.num_classes,\n",
    "        in_channels=1,\n",
    "        encoder_depth=5,\n",
    "        encoder_name=args.backbone,\n",
    "        encoder_weights='imagenet' if args.pretrained else None,\n",
    "        decoder_pyramid_channels=256,\n",
    "        decoder_segmentation_channels=128,\n",
    "        decoder_dropout=0.3,\n",
    "        decoder_merge_policy='add',\n",
    "        activation=args.activation,\n",
    "    )\n",
    "else:\n",
    "    model = smp.Unet(\n",
    "        classes=args.num_classes,\n",
    "        in_channels=1,\n",
    "        encoder_depth=5,\n",
    "        encoder_name=args.backbone,\n",
    "        encoder_weights='imagenet' if args.pretrained else None,\n",
    "        decoder_use_batchnorm=True,\n",
    "        decoder_channels=(256, 128, 64, 32, 16),\n",
    "        decoder_attention_type=None,\n",
    "        activation=args.activation,\n",
    "    )"
   ]
  },
  {
   "cell_type": "code",
   "execution_count": 23,
   "metadata": {},
   "outputs": [
    {
     "data": {
      "text/plain": [
       "{'total': 31987430,\n",
       " 'trainable': 31987430,\n",
       " 'encoder': 22973632,\n",
       " 'decoder': 9012928}"
      ]
     },
     "execution_count": 23,
     "metadata": {},
     "output_type": "execute_result"
    }
   ],
   "source": [
    "count_parameters(model)"
   ]
  },
  {
   "cell_type": "markdown",
   "metadata": {},
   "source": [
    "Check the initial guess"
   ]
  },
  {
   "cell_type": "code",
   "execution_count": 24,
   "metadata": {
    "scrolled": false
   },
   "outputs": [
    {
     "data": {
      "image/png": "[encoded data removed]",
      "text/plain": [
       "<Figure size 576x216 with 4 Axes>"
      ]
     },
     "metadata": {
      "needs_background": "light"
     },
     "output_type": "display_data"
    }
   ],
   "source": [
    "idx = 0\n",
    "d = loaders['train'].dataset[idx]\n",
    "img = d['image']\n",
    "msk_true = d['mask'].unsqueeze(0)\n",
    "msk_pred = model(img.unsqueeze(0))\n",
    "\n",
    "img_ = img.detach().numpy().squeeze()\n",
    "msk_true_ = msk_true.detach().numpy().squeeze()\n",
    "msk_pred_ = msk_pred.detach().cpu().numpy().squeeze()\n",
    "\n",
    "plt.figure(figsize=(8,3))\n",
    "plt.subplot(121), plt.title('True')\n",
    "plt.imshow(img_, cmap='gray', clim=u.plotting.clim(img_, 90))\n",
    "plt.imshow(msk_true_, cmap='jet', alpha=.2), plt.colorbar(label='classes', aspect=50)\n",
    "plt.subplot(122), plt.title('Pred')\n",
    "plt.imshow(img_, cmap='gray', clim=u.plotting.clim(img_, 90))\n",
    "plt.imshow(np.argmax(msk_pred_, axis=0), cmap='jet', alpha=.2), plt.colorbar(label='classes', aspect=50)\n",
    "\n",
    "plt.suptitle(args.outname, fontsize=14)\n",
    "plt.tight_layout(pad=.5)\n",
    "plt.savefig(args.logdir/f\"{idx}-th train patch with initialization.{save_opts['format']}\", **save_opts)\n",
    "plt.show()"
   ]
  },
  {
   "cell_type": "markdown",
   "metadata": {
    "id": "nhVSEDGbY26G"
   },
   "source": [
    "### Losses and metrics"
   ]
  },
  {
   "cell_type": "markdown",
   "metadata": {},
   "source": [
    "Classes 5 and 6 are 20 times more important w.r.t. the others (read [here](https://discourse.aicrowd.com/t/round-2-is-live/3959)).\n",
    "Reweighting:"
   ]
  },
  {
   "cell_type": "code",
   "execution_count": 25,
   "metadata": {},
   "outputs": [],
   "source": [
    "def f1_loss_single(targets, outputs, eps=1e-10):\n",
    "    tp = torch.sum(targets * outputs)\n",
    "    fp = torch.sum((1-targets) * outputs)\n",
    "    fn = torch.sum(targets * (1-outputs))\n",
    "    \n",
    "    p = tp / (tp + fp + eps)\n",
    "    r = tp / (tp + fn + eps)\n",
    "    f1 = 2 * p * r / (p + r + eps)\n",
    "    f1 = torch.where(torch.isnan(f1), torch.zeros_like(f1), f1)\n",
    "    \n",
    "    return 1 - torch.mean(f1)"
   ]
  },
  {
   "cell_type": "code",
   "execution_count": 51,
   "metadata": {},
   "outputs": [
    {
     "ename": "NameError",
     "evalue": "name 'self' is not defined",
     "output_type": "error",
     "traceback": [
      "\u001b[0;31m---------------------------------------------------------------------------\u001b[0m",
      "\u001b[0;31mNameError\u001b[0m                                 Traceback (most recent call last)",
      "\u001b[0;32m<ipython-input-51-8b3ebf31f9d1>\u001b[0m in \u001b[0;36m<module>\u001b[0;34m\u001b[0m\n\u001b[0;32m----> 1\u001b[0;31m \u001b[0mself\u001b[0m\u001b[0;34m.\u001b[0m\u001b[0mweight\u001b[0m\u001b[0;34m\u001b[0m\u001b[0;34m\u001b[0m\u001b[0m\n\u001b[0m",
      "\u001b[0;31mNameError\u001b[0m: name 'self' is not defined"
     ]
    }
   ],
   "source": [
    "self.weight"
   ]
  },
  {
   "cell_type": "code",
   "execution_count": 26,
   "metadata": {},
   "outputs": [],
   "source": [
    "class Lovasz(torch.nn.Module):\n",
    "    def __init__(self, weight:list=None):\n",
    "        super().__init__()\n",
    "        self.weight = torch.tensor(weight).to(device) if weight is not None else None\n",
    "        self.criterion = LovaszLossMultiClass() if self.weight is None else LovaszLossBinary()\n",
    "\n",
    "    def forward(self, output, target): \n",
    "        if self.weight is not None:\n",
    "            return sum([self.weight[i]*self.criterion(torch.softmax(output, dim=1)[:,i], target[:,i])\n",
    "                        for i in range(target.size(1))])\n",
    "        else:\n",
    "            return self.criterion(torch.softmax(output, dim=1), target)\n",
    "    \n",
    "class CrossEntropy(torch.nn.Module):\n",
    "    def __init__(self, weight):\n",
    "        super().__init__()\n",
    "        self.criterion = CrossEntropyLoss(torch.tensor(weight).to(device))\n",
    "\n",
    "    def forward(self, output, target):\n",
    "        self.criterion.weight.to(target.device)\n",
    "        return self.criterion(output, target.squeeze(1).long())\n",
    "\n",
    "\n",
    "class F1Loss(torch.nn.Module):\n",
    "    def __init__(self, weight:list):\n",
    "        super().__init__()\n",
    "        self.weight = torch.tensor(weight).to(device)\n",
    "        self.criterion = f1_loss_single\n",
    "        \n",
    "    def forward(self, output, target):\n",
    "        if target.shape != output.shape:\n",
    "            target = u.to_categorical(target)\n",
    "        output = torch.softmax(output, dim=1)\n",
    "        return sum([self.weight[i] * self.criterion(output[:,i], target[:,i])\n",
    "                    for i in range(target.size(1))])"
   ]
  },
  {
   "cell_type": "code",
   "execution_count": 27,
   "metadata": {},
   "outputs": [
    {
     "data": {
      "text/plain": [
       "tensor(0.8798, device='cuda:0', grad_fn=<AddBackward0>)"
      ]
     },
     "execution_count": 27,
     "metadata": {},
     "output_type": "execute_result"
    }
   ],
   "source": [
    "F1Loss(args.class_weights)(msk_pred, msk_pred)"
   ]
  },
  {
   "cell_type": "code",
   "execution_count": 28,
   "metadata": {
    "id": "VqBlC5_iY26K"
   },
   "outputs": [],
   "source": [
    "# we have multiple criterions\n",
    "criterion = {\n",
    "    \"cce\": CrossEntropy(weight=args.class_weights),\n",
    "    \"lov\": Lovasz(weight=args.class_weights),\n",
    "}\n",
    "callbacks = [\n",
    "    # Each criterion is calculated separately.\n",
    "    CriterionCallback(\n",
    "        input_key=\"mask\",\n",
    "        prefix=\"loss_cce\",\n",
    "        criterion_key=\"cce\"\n",
    "    ),\n",
    "    CriterionCallback(\n",
    "        input_key=\"mask\",\n",
    "        prefix=\"loss_lov\",\n",
    "        criterion_key=\"lov\"\n",
    "    ),\n",
    "    # And only then we aggregate everything into one loss.\n",
    "    MetricAggregationCallback(\n",
    "        prefix=\"loss\",\n",
    "        mode=\"weighted_sum\", # can be \"sum\", \"weighted_sum\" or \"mean\"\n",
    "        # because we want weighted sum, we need to add scale for each loss\n",
    "        metrics={\n",
    "            \"loss_cce\": args.loss_cce,\n",
    "            \"loss_lov\": args.loss_lovasz,\n",
    "        }\n",
    "    ),\n",
    "\n",
    "    # metrics\n",
    "    # F1ScoreMulticlass(input_key=\"mask\", weights=args.class_weights)\n",
    "    #DiceCallback(input_key=\"mask\"),\n",
    "    #IouCallback(input_key=\"mask\"),\n",
    "    # F1ScoreCallback(input_key=\"mask\", prefix=\"f1\", threshold=0.5, activation='Softmax2d')\n",
    "\n",
    "    # stop training\n",
    "    # EarlyStoppingCallback(patience=args.stopping_patience, metric=\"iou\", minimize=False,)\n",
    "]"
   ]
  },
  {
   "cell_type": "code",
   "execution_count": 29,
   "metadata": {},
   "outputs": [
    {
     "data": {
      "text/plain": [
       "tensor(0.0095, device='cuda:0', grad_fn=<AddBackward0>)"
      ]
     },
     "execution_count": 29,
     "metadata": {},
     "output_type": "execute_result"
    }
   ],
   "source": [
    "criterion['lov'](msk_pred, msk_true)"
   ]
  },
  {
   "cell_type": "markdown",
   "metadata": {},
   "source": [
    "#### Optimizer and scheduling"
   ]
  },
  {
   "cell_type": "code",
   "execution_count": 30,
   "metadata": {
    "id": "IirWWkf8PeXh"
   },
   "outputs": [],
   "source": [
    "# Since we use a pre-trained encoder, we will reduce the learning rate on it.\n",
    "# This function removes weight_decay for biases and applies our layerwise_params\n",
    "model_params = catalyst.utils.process_model_params(\n",
    "    model, layerwise_params={\"encoder*\": dict(lr=args.lr_enc, weight_decay=args.enc_weight_decay)})\n",
    "\n",
    "# Catalyst has new SOTA optimizers out of box\n",
    "optimizer = Lookahead(RAdam(model_params, lr=args.lr, weight_decay=args.opt_weight_decay))\n",
    "\n",
    "scheduler = optim.lr_scheduler.ReduceLROnPlateau(optimizer,\n",
    "                                                 factor=args.lr_plateau_factor,\n",
    "                                                 patience=args.lr_plateau_patience)"
   ]
  },
  {
   "cell_type": "markdown",
   "metadata": {},
   "source": [
    "## Train"
   ]
  },
  {
   "cell_type": "code",
   "execution_count": 31,
   "metadata": {
    "id": "3pTmRiOfY26I"
   },
   "outputs": [],
   "source": [
    "# by default SupervisedRunner uses \"features\" and \"targets\",\n",
    "# in our case we get \"image\" and \"mask\" keys in dataset __getitem__\n",
    "runner = SupervisedRunner(device=device, input_key=\"image\", input_target_key=\"mask\")"
   ]
  },
  {
   "cell_type": "code",
   "execution_count": 32,
   "metadata": {
    "id": "mK1GsxC4WtS_",
    "pycharm": {
     "name": "#%%\n"
    },
    "scrolled": false
   },
   "outputs": [],
   "source": [
    "!rm -rf {args.logdir/\"*log*\"}\n",
    "!rm -rf {args.logdir/\"checkpoints\"}"
   ]
  },
  {
   "cell_type": "code",
   "execution_count": 33,
   "metadata": {
    "scrolled": true
   },
   "outputs": [
    {
     "name": "stdout",
     "output_type": "stream",
     "text": [
      "1/100 * Epoch (train):   0% 1/1536 [00:09<4:03:54,  9.53s/it, loss=0.010, loss_cce=2.022, loss_lov=0.010]"
     ]
    },
    {
     "name": "stderr",
     "output_type": "stream",
     "text": [
      "/nas/home/fpicetti/miniconda3/envs/geoml/lib/python3.8/site-packages/catalyst/contrib/nn/optimizers/radam.py:85: UserWarning:\n",
      "\n",
      "This overload of addcmul_ is deprecated:\n",
      "\taddcmul_(Number value, Tensor tensor1, Tensor tensor2)\n",
      "Consider using one of the following signatures instead:\n",
      "\taddcmul_(Tensor tensor1, Tensor tensor2, *, Number value) (Triggered internally at  /opt/conda/conda-bld/pytorch_1603729009598/work/torch/csrc/utils/python_arg_parser.cpp:882.)\n",
      "\n"
     ]
    },
    {
     "name": "stdout",
     "output_type": "stream",
     "text": [
      "1/100 * Epoch (train): 100% 1536/1536 [08:36<00:00,  2.97it/s, loss=7.196e-04, loss_cce=7.452, loss_lov=7.196e-04]\n",
      "1/100 * Epoch (valid): 100% 80/80 [00:10<00:00,  7.90it/s, loss=4.113e-04, loss_cce=7.844, loss_lov=4.113e-04]\n",
      "[2020-12-16 11:02:16,237] \n",
      "1/100 * Epoch 1 (_base): lr=0.0010 | momentum=0.9000\n",
      "1/100 * Epoch 1 (train): loss=0.0019 | loss_cce=5.5355 | loss_lov=0.0019\n",
      "1/100 * Epoch 1 (valid): loss=0.0010 | loss_cce=7.7460 | loss_lov=0.0010\n",
      "2/100 * Epoch (train): 100% 1536/1536 [08:36<00:00,  2.98it/s, loss=0.001, loss_cce=10.145, loss_lov=0.001]        \n",
      "2/100 * Epoch (valid): 100% 80/80 [00:09<00:00,  8.01it/s, loss=3.968e-04, loss_cce=10.392, loss_lov=3.968e-04]\n",
      "[2020-12-16 11:11:06,382] \n",
      "2/100 * Epoch 2 (_base): lr=0.0010 | momentum=0.9000\n",
      "2/100 * Epoch 2 (train): loss=0.0010 | loss_cce=8.9304 | loss_lov=0.0010\n",
      "2/100 * Epoch 2 (valid): loss=0.0010 | loss_cce=10.1555 | loss_lov=0.0010\n",
      "3/100 * Epoch (train): 100% 1536/1536 [08:37<00:00,  2.97it/s, loss=8.110e-04, loss_cce=10.921, loss_lov=8.110e-04]\n",
      "3/100 * Epoch (valid): 100% 80/80 [00:10<00:00,  7.97it/s, loss=3.937e-04, loss_cce=11.337, loss_lov=3.937e-04]\n",
      "[2020-12-16 11:19:58,335] \n",
      "3/100 * Epoch 3 (_base): lr=0.0010 | momentum=0.9000\n",
      "3/100 * Epoch 3 (train): loss=0.0010 | loss_cce=10.7827 | loss_lov=0.0010\n",
      "3/100 * Epoch 3 (valid): loss=0.0010 | loss_cce=11.4340 | loss_lov=0.0010\n",
      "4/100 * Epoch (train): 100% 1536/1536 [08:37<00:00,  2.97it/s, loss=4.859e-04, loss_cce=11.769, loss_lov=4.859e-04]\n",
      "4/100 * Epoch (valid): 100% 80/80 [00:10<00:00,  7.91it/s, loss=4.033e-04, loss_cce=12.931, loss_lov=4.033e-04]\n",
      "[2020-12-16 11:28:50,112] \n",
      "4/100 * Epoch 4 (_base): lr=0.0010 | momentum=0.9000\n",
      "4/100 * Epoch 4 (train): loss=0.0010 | loss_cce=12.3704 | loss_lov=0.0010\n",
      "4/100 * Epoch 4 (valid): loss=0.0010 | loss_cce=13.1342 | loss_lov=0.0010\n",
      "5/100 * Epoch (train): 100% 1536/1536 [08:36<00:00,  2.98it/s, loss=5.864e-04, loss_cce=13.744, loss_lov=5.864e-04]\n",
      "5/100 * Epoch (valid): 100% 80/80 [00:09<00:00,  8.01it/s, loss=3.927e-04, loss_cce=14.313, loss_lov=3.927e-04]\n",
      "[2020-12-16 11:37:39,785] \n",
      "5/100 * Epoch 5 (_base): lr=0.0010 | momentum=0.9000\n",
      "5/100 * Epoch 5 (train): loss=0.0010 | loss_cce=13.7045 | loss_lov=0.0010\n",
      "5/100 * Epoch 5 (valid): loss=0.0009 | loss_cce=14.5557 | loss_lov=0.0009\n",
      "6/100 * Epoch (train): 100% 1536/1536 [08:37<00:00,  2.97it/s, loss=8.986e-04, loss_cce=15.871, loss_lov=8.986e-04]\n",
      "6/100 * Epoch (valid): 100% 80/80 [00:10<00:00,  7.94it/s, loss=3.879e-04, loss_cce=14.991, loss_lov=3.879e-04]\n",
      "[2020-12-16 11:46:31,912] \n",
      "6/100 * Epoch 6 (_base): lr=0.0010 | momentum=0.9000\n",
      "6/100 * Epoch 6 (train): loss=0.0010 | loss_cce=14.9105 | loss_lov=0.0010\n",
      "6/100 * Epoch 6 (valid): loss=0.0010 | loss_cce=15.0885 | loss_lov=0.0010\n",
      "7/100 * Epoch (train): 100% 1536/1536 [08:36<00:00,  2.98it/s, loss=0.002, loss_cce=18.175, loss_lov=0.002]        \n",
      "7/100 * Epoch (valid): 100% 80/80 [00:10<00:00,  7.92it/s, loss=3.838e-04, loss_cce=17.865, loss_lov=3.838e-04]\n",
      "[2020-12-16 11:55:21,920] \n",
      "7/100 * Epoch 7 (_base): lr=0.0010 | momentum=0.9000\n",
      "7/100 * Epoch 7 (train): loss=0.0010 | loss_cce=16.6810 | loss_lov=0.0010\n",
      "7/100 * Epoch 7 (valid): loss=0.0009 | loss_cce=17.8448 | loss_lov=0.0009\n",
      "8/100 * Epoch (train): 100% 1536/1536 [08:36<00:00,  2.98it/s, loss=0.002, loss_cce=19.745, loss_lov=0.002]        \n",
      "8/100 * Epoch (valid): 100% 80/80 [00:10<00:00,  7.90it/s, loss=3.776e-04, loss_cce=18.404, loss_lov=3.776e-04]\n",
      "[2020-12-16 12:04:12,919] \n",
      "8/100 * Epoch 8 (_base): lr=0.0010 | momentum=0.9000\n",
      "8/100 * Epoch 8 (train): loss=0.0010 | loss_cce=17.7485 | loss_lov=0.0010\n",
      "8/100 * Epoch 8 (valid): loss=0.0009 | loss_cce=18.5256 | loss_lov=0.0009\n",
      "9/100 * Epoch (train): 100% 1536/1536 [08:35<00:00,  2.98it/s, loss=0.001, loss_cce=20.075, loss_lov=0.001]        \n",
      "9/100 * Epoch (valid): 100% 80/80 [00:10<00:00,  7.88it/s, loss=3.776e-04, loss_cce=19.608, loss_lov=3.776e-04]\n",
      "[2020-12-16 12:13:03,466] \n",
      "9/100 * Epoch 9 (_base): lr=0.0010 | momentum=0.9000\n",
      "9/100 * Epoch 9 (train): loss=0.0010 | loss_cce=19.0609 | loss_lov=0.0010\n",
      "9/100 * Epoch 9 (valid): loss=0.0009 | loss_cce=19.7644 | loss_lov=0.0009\n",
      "10/100 * Epoch (train): 100% 1536/1536 [08:36<00:00,  2.97it/s, loss=5.908e-04, loss_cce=20.417, loss_lov=5.908e-04]\n",
      "10/100 * Epoch (valid): 100% 80/80 [00:10<00:00,  7.83it/s, loss=3.766e-04, loss_cce=20.530, loss_lov=3.766e-04]\n",
      "[2020-12-16 12:21:55,374] \n",
      "10/100 * Epoch 10 (_base): lr=0.0010 | momentum=0.9000\n",
      "10/100 * Epoch 10 (train): loss=0.0010 | loss_cce=20.2515 | loss_lov=0.0010\n",
      "10/100 * Epoch 10 (valid): loss=0.0009 | loss_cce=20.6634 | loss_lov=0.0009\n",
      "11/100 * Epoch (train): 100% 1536/1536 [08:36<00:00,  2.98it/s, loss=5.754e-04, loss_cce=21.828, loss_lov=5.754e-04]\n",
      "11/100 * Epoch (valid): 100% 80/80 [00:10<00:00,  7.88it/s, loss=3.788e-04, loss_cce=21.702, loss_lov=3.788e-04]\n",
      "[2020-12-16 12:30:46,451] \n",
      "11/100 * Epoch 11 (_base): lr=0.0010 | momentum=0.9000\n",
      "11/100 * Epoch 11 (train): loss=0.0010 | loss_cce=21.8796 | loss_lov=0.0010\n",
      "11/100 * Epoch 11 (valid): loss=0.0009 | loss_cce=21.7588 | loss_lov=0.0009\n",
      "12/100 * Epoch (train): 100% 1536/1536 [08:36<00:00,  2.97it/s, loss=9.726e-04, loss_cce=23.887, loss_lov=9.726e-04]\n",
      "12/100 * Epoch (valid): 100% 80/80 [00:09<00:00,  8.11it/s, loss=3.732e-04, loss_cce=23.741, loss_lov=3.732e-04]\n",
      "[2020-12-16 12:39:36,129] \n",
      "12/100 * Epoch 12 (_base): lr=0.0010 | momentum=0.9000\n",
      "12/100 * Epoch 12 (train): loss=0.0010 | loss_cce=23.4541 | loss_lov=0.0010\n",
      "12/100 * Epoch 12 (valid): loss=0.0009 | loss_cce=23.7108 | loss_lov=0.0009\n",
      "13/100 * Epoch (train): 100% 1536/1536 [08:33<00:00,  2.99it/s, loss=0.001, loss_cce=25.564, loss_lov=0.001]        \n",
      "13/100 * Epoch (valid): 100% 80/80 [00:10<00:00,  7.93it/s, loss=3.742e-04, loss_cce=24.828, loss_lov=3.742e-04]\n",
      "[2020-12-16 12:48:24,385] \n",
      "13/100 * Epoch 13 (_base): lr=0.0010 | momentum=0.9000\n",
      "13/100 * Epoch 13 (train): loss=0.0010 | loss_cce=24.8631 | loss_lov=0.0010\n",
      "13/100 * Epoch 13 (valid): loss=0.0009 | loss_cce=25.0616 | loss_lov=0.0009\n",
      "14/100 * Epoch (train): 100% 1536/1536 [08:36<00:00,  2.97it/s, loss=0.002, loss_cce=29.217, loss_lov=0.002]        \n",
      "14/100 * Epoch (valid): 100% 80/80 [00:10<00:00,  7.92it/s, loss=3.724e-04, loss_cce=26.507, loss_lov=3.724e-04]\n",
      "[2020-12-16 12:57:13,886] \n",
      "14/100 * Epoch 14 (_base): lr=0.0010 | momentum=0.9000\n",
      "14/100 * Epoch 14 (train): loss=0.0010 | loss_cce=26.1466 | loss_lov=0.0010\n",
      "14/100 * Epoch 14 (valid): loss=0.0009 | loss_cce=26.7905 | loss_lov=0.0009\n",
      "15/100 * Epoch (train): 100% 1536/1536 [08:36<00:00,  2.97it/s, loss=9.134e-04, loss_cce=27.905, loss_lov=9.134e-04]\n",
      "15/100 * Epoch (valid): 100% 80/80 [00:10<00:00,  7.81it/s, loss=3.717e-04, loss_cce=26.249, loss_lov=3.717e-04]\n",
      "[2020-12-16 13:06:04,915] \n",
      "15/100 * Epoch 15 (_base): lr=0.0010 | momentum=0.9000\n",
      "15/100 * Epoch 15 (train): loss=0.0010 | loss_cce=27.7253 | loss_lov=0.0010\n",
      "15/100 * Epoch 15 (valid): loss=0.0009 | loss_cce=26.5936 | loss_lov=0.0009\n",
      "16/100 * Epoch (train): 100% 1536/1536 [08:36<00:00,  2.97it/s, loss=0.001, loss_cce=28.764, loss_lov=0.001]        \n",
      "16/100 * Epoch (valid): 100% 80/80 [00:10<00:00,  7.90it/s, loss=3.705e-04, loss_cce=28.896, loss_lov=3.705e-04]\n",
      "[2020-12-16 13:14:55,590] \n",
      "16/100 * Epoch 16 (_base): lr=0.0010 | momentum=0.9000\n",
      "16/100 * Epoch 16 (train): loss=0.0010 | loss_cce=29.2752 | loss_lov=0.0010\n",
      "16/100 * Epoch 16 (valid): loss=0.0009 | loss_cce=29.0270 | loss_lov=0.0009\n",
      "17/100 * Epoch (train): 100% 1536/1536 [08:36<00:00,  2.98it/s, loss=0.001, loss_cce=30.394, loss_lov=0.001]        \n",
      "17/100 * Epoch (valid): 100% 80/80 [00:10<00:00,  7.83it/s, loss=3.719e-04, loss_cce=32.214, loss_lov=3.719e-04]\n",
      "[2020-12-16 13:23:57,632] \n",
      "17/100 * Epoch 17 (_base): lr=0.0010 | momentum=0.9000\n",
      "17/100 * Epoch 17 (train): loss=0.0010 | loss_cce=30.0793 | loss_lov=0.0010\n",
      "17/100 * Epoch 17 (valid): loss=0.0009 | loss_cce=31.7050 | loss_lov=0.0009\n",
      "18/100 * Epoch (train): 100% 1536/1536 [08:36<00:00,  2.97it/s, loss=7.884e-04, loss_cce=31.174, loss_lov=7.884e-04]\n",
      "18/100 * Epoch (valid): 100% 80/80 [00:10<00:00,  7.88it/s, loss=3.708e-04, loss_cce=30.792, loss_lov=3.708e-04]\n",
      "[2020-12-16 13:32:47,930] \n",
      "18/100 * Epoch 18 (_base): lr=0.0010 | momentum=0.9000\n",
      "18/100 * Epoch 18 (train): loss=0.0010 | loss_cce=31.1306 | loss_lov=0.0010\n",
      "18/100 * Epoch 18 (valid): loss=0.0009 | loss_cce=30.8100 | loss_lov=0.0009\n"
     ]
    },
    {
     "name": "stdout",
     "output_type": "stream",
     "text": [
      "19/100 * Epoch (train): 100% 1536/1536 [08:38<00:00,  2.96it/s, loss=6.982e-04, loss_cce=29.333, loss_lov=6.982e-04]\n",
      "19/100 * Epoch (valid): 100% 80/80 [00:10<00:00,  7.81it/s, loss=3.826e-04, loss_cce=28.928, loss_lov=3.826e-04]\n",
      "[2020-12-16 13:41:41,066] \n",
      "19/100 * Epoch 19 (_base): lr=0.0010 | momentum=0.9000\n",
      "19/100 * Epoch 19 (train): loss=0.0010 | loss_cce=31.8502 | loss_lov=0.0010\n",
      "19/100 * Epoch 19 (valid): loss=0.0009 | loss_cce=29.0317 | loss_lov=0.0009\n",
      "20/100 * Epoch (train): 100% 1536/1536 [08:36<00:00,  2.97it/s, loss=0.001, loss_cce=31.703, loss_lov=0.001]        \n",
      "20/100 * Epoch (valid): 100% 80/80 [00:10<00:00,  7.91it/s, loss=3.710e-04, loss_cce=31.730, loss_lov=3.710e-04]\n",
      "[2020-12-16 13:50:30,924] \n",
      "20/100 * Epoch 20 (_base): lr=0.0010 | momentum=0.9000\n",
      "20/100 * Epoch 20 (train): loss=0.0010 | loss_cce=31.8786 | loss_lov=0.0010\n",
      "20/100 * Epoch 20 (valid): loss=0.0009 | loss_cce=31.7245 | loss_lov=0.0009\n",
      "21/100 * Epoch (train): 100% 1536/1536 [08:37<00:00,  2.97it/s, loss=0.001, loss_cce=34.277, loss_lov=0.001]        \n",
      "21/100 * Epoch (valid): 100% 80/80 [00:10<00:00,  7.76it/s, loss=3.700e-04, loss_cce=33.409, loss_lov=3.700e-04]\n",
      "[2020-12-16 13:59:21,317] \n",
      "21/100 * Epoch 21 (_base): lr=0.0010 | momentum=0.9000\n",
      "21/100 * Epoch 21 (train): loss=0.0010 | loss_cce=33.0066 | loss_lov=0.0010\n",
      "21/100 * Epoch 21 (valid): loss=0.0009 | loss_cce=32.9977 | loss_lov=0.0009\n",
      "Early exiting                                                                                                      \n",
      "22/100 * Epoch (train):  29% 446/1536 [02:32<06:02,  3.01it/s, loss=5.246e-04, loss_cce=31.811, loss_lov=5.246e-04]"
     ]
    }
   ],
   "source": [
    "runner.train(\n",
    "    model=model,\n",
    "    criterion=criterion,\n",
    "    optimizer=optimizer,\n",
    "    scheduler=scheduler,\n",
    "    loaders=loaders,\n",
    "    callbacks=callbacks,\n",
    "    logdir=args.logdir,\n",
    "    num_epochs=args.epochs,\n",
    "    #main_metric=\"iou\",\n",
    "    #minimize_metric=False,\n",
    "    fp16=dict(opt_level=\"O1\") if args.is_fp16_used else None,\n",
    "    verbose=True,\n",
    ")"
   ]
  },
  {
   "cell_type": "code",
   "execution_count": 34,
   "metadata": {},
   "outputs": [],
   "source": [
    "history = get_tensorboard_log(args.logdir, metrics=['loss', 'loss_cce', 'loss_lov'])"
   ]
  },
  {
   "cell_type": "code",
   "execution_count": 37,
   "metadata": {},
   "outputs": [
    {
     "data": {
      "image/png": "[encoded data removed]",
      "text/plain": [
       "<Figure size 1008x216 with 2 Axes>"
      ]
     },
     "metadata": {
      "needs_background": "light"
     },
     "output_type": "display_data"
    }
   ],
   "source": [
    "plt.figure(figsize=(14,3))\n",
    "plt.subplot(121), plt.title('Training')\n",
    "plt.plot([a.value for a in history['loss/epoch']['train']], label='Total')\n",
    "#plt.plot([a.value for a in history['loss_cce/epoch']['train']], label='CrossEntropy')\n",
    "#plt.plot([a.value for a in history['loss_lov/epoch']['train']], label='Lovasz')\n",
    "plt.xlabel('epoch')\n",
    "plt.xlim(0,args.epochs)\n",
    "plt.ylim(0)\n",
    "plt.grid(True)\n",
    "plt.legend()\n",
    "\n",
    "plt.subplot(122), plt.title('Validation')\n",
    "plt.plot([a.value for a in history['loss/epoch']['valid']], label='Total')\n",
    "#plt.plot([a.value for a in history['loss_cce/epoch']['valid']], label='CrossEntropy')\n",
    "#plt.plot([a.value for a in history['loss_lov/epoch']['valid']], label='Lovasz')\n",
    "plt.xlabel('epoch')\n",
    "plt.xlim(0,args.epochs)\n",
    "plt.ylim(0)\n",
    "plt.grid(True)\n",
    "plt.legend()\n",
    "plt.suptitle(args.outname)\n",
    "\n",
    "plt.tight_layout(pad=.5)\n",
    "plt.savefig(args.logdir/(f\"history.{save_opts['format']}\"), **save_opts)\n",
    "plt.show()"
   ]
  },
  {
   "cell_type": "markdown",
   "metadata": {
    "id": "tRH8jhg3Q_zB"
   },
   "source": [
    "## Model inference\n",
    "\n",
    "Let's look at the model's predictions.\n"
   ]
  },
  {
   "cell_type": "code",
   "execution_count": 38,
   "metadata": {},
   "outputs": [],
   "source": [
    "test_transforms  = compose([\n",
    "    pre_transform(args.target_shape),\n",
    "    tensor_transforms(v2=True, long=True, add_ch_mask=True)\n",
    "])\n",
    "final_transforms = compose([pre_transform(pe_y.dim)])"
   ]
  },
  {
   "cell_type": "code",
   "execution_count": 39,
   "metadata": {},
   "outputs": [],
   "source": [
    "if args.split_x is not None or args.split_y is not None:\n",
    "    patches_image_test = pe_y.extract(image_test).reshape((-1,)+pe_y.dim)\n",
    "    patches_label_test = pe_y.extract(label_test).reshape((-1,)+pe_y.dim)\n",
    "\n",
    "    print(patches_image_test.shape)\n",
    "    print(patches_label_test.shape)\n",
    "    \n",
    "    # create test dataset\n",
    "    test_dataset = SegmentationDataset(\n",
    "        patches_image_test, \n",
    "        patches_label_test,\n",
    "        transforms=test_transforms\n",
    "    )\n",
    "\n",
    "    infer_loader = DataLoader(\n",
    "        test_dataset,\n",
    "        batch_size=1,\n",
    "        shuffle=False,\n",
    "        num_workers=4\n",
    "    )\n",
    "\n",
    "else:\n",
    "    infer_loader = loaders['valid']"
   ]
  },
  {
   "cell_type": "code",
   "execution_count": 44,
   "metadata": {},
   "outputs": [
    {
     "data": {
      "text/plain": [
       "Unet(\n",
       "  (encoder): ResNetEncoder(\n",
       "    (conv1): Conv2d(1, 64, kernel_size=(7, 7), stride=(2, 2), padding=(3, 3), bias=False)\n",
       "    (bn1): BatchNorm2d(64, eps=1e-05, momentum=0.1, affine=True, track_running_stats=True)\n",
       "    (relu): ReLU(inplace=True)\n",
       "    (maxpool): MaxPool2d(kernel_size=3, stride=2, padding=1, dilation=1, ceil_mode=False)\n",
       "    (layer1): Sequential(\n",
       "      (0): Bottleneck(\n",
       "        (conv1): Conv2d(64, 128, kernel_size=(1, 1), stride=(1, 1), bias=False)\n",
       "        (bn1): BatchNorm2d(128, eps=1e-05, momentum=0.1, affine=True, track_running_stats=True)\n",
       "        (conv2): Conv2d(128, 128, kernel_size=(3, 3), stride=(1, 1), padding=(1, 1), groups=32, bias=False)\n",
       "        (bn2): BatchNorm2d(128, eps=1e-05, momentum=0.1, affine=True, track_running_stats=True)\n",
       "        (conv3): Conv2d(128, 256, kernel_size=(1, 1), stride=(1, 1), bias=False)\n",
       "        (bn3): BatchNorm2d(256, eps=1e-05, momentum=0.1, affine=True, track_running_stats=True)\n",
       "        (relu): ReLU(inplace=True)\n",
       "        (downsample): Sequential(\n",
       "          (0): Conv2d(64, 256, kernel_size=(1, 1), stride=(1, 1), bias=False)\n",
       "          (1): BatchNorm2d(256, eps=1e-05, momentum=0.1, affine=True, track_running_stats=True)\n",
       "        )\n",
       "      )\n",
       "      (1): Bottleneck(\n",
       "        (conv1): Conv2d(256, 128, kernel_size=(1, 1), stride=(1, 1), bias=False)\n",
       "        (bn1): BatchNorm2d(128, eps=1e-05, momentum=0.1, affine=True, track_running_stats=True)\n",
       "        (conv2): Conv2d(128, 128, kernel_size=(3, 3), stride=(1, 1), padding=(1, 1), groups=32, bias=False)\n",
       "        (bn2): BatchNorm2d(128, eps=1e-05, momentum=0.1, affine=True, track_running_stats=True)\n",
       "        (conv3): Conv2d(128, 256, kernel_size=(1, 1), stride=(1, 1), bias=False)\n",
       "        (bn3): BatchNorm2d(256, eps=1e-05, momentum=0.1, affine=True, track_running_stats=True)\n",
       "        (relu): ReLU(inplace=True)\n",
       "      )\n",
       "      (2): Bottleneck(\n",
       "        (conv1): Conv2d(256, 128, kernel_size=(1, 1), stride=(1, 1), bias=False)\n",
       "        (bn1): BatchNorm2d(128, eps=1e-05, momentum=0.1, affine=True, track_running_stats=True)\n",
       "        (conv2): Conv2d(128, 128, kernel_size=(3, 3), stride=(1, 1), padding=(1, 1), groups=32, bias=False)\n",
       "        (bn2): BatchNorm2d(128, eps=1e-05, momentum=0.1, affine=True, track_running_stats=True)\n",
       "        (conv3): Conv2d(128, 256, kernel_size=(1, 1), stride=(1, 1), bias=False)\n",
       "        (bn3): BatchNorm2d(256, eps=1e-05, momentum=0.1, affine=True, track_running_stats=True)\n",
       "        (relu): ReLU(inplace=True)\n",
       "      )\n",
       "    )\n",
       "    (layer2): Sequential(\n",
       "      (0): Bottleneck(\n",
       "        (conv1): Conv2d(256, 256, kernel_size=(1, 1), stride=(1, 1), bias=False)\n",
       "        (bn1): BatchNorm2d(256, eps=1e-05, momentum=0.1, affine=True, track_running_stats=True)\n",
       "        (conv2): Conv2d(256, 256, kernel_size=(3, 3), stride=(2, 2), padding=(1, 1), groups=32, bias=False)\n",
       "        (bn2): BatchNorm2d(256, eps=1e-05, momentum=0.1, affine=True, track_running_stats=True)\n",
       "        (conv3): Conv2d(256, 512, kernel_size=(1, 1), stride=(1, 1), bias=False)\n",
       "        (bn3): BatchNorm2d(512, eps=1e-05, momentum=0.1, affine=True, track_running_stats=True)\n",
       "        (relu): ReLU(inplace=True)\n",
       "        (downsample): Sequential(\n",
       "          (0): Conv2d(256, 512, kernel_size=(1, 1), stride=(2, 2), bias=False)\n",
       "          (1): BatchNorm2d(512, eps=1e-05, momentum=0.1, affine=True, track_running_stats=True)\n",
       "        )\n",
       "      )\n",
       "      (1): Bottleneck(\n",
       "        (conv1): Conv2d(512, 256, kernel_size=(1, 1), stride=(1, 1), bias=False)\n",
       "        (bn1): BatchNorm2d(256, eps=1e-05, momentum=0.1, affine=True, track_running_stats=True)\n",
       "        (conv2): Conv2d(256, 256, kernel_size=(3, 3), stride=(1, 1), padding=(1, 1), groups=32, bias=False)\n",
       "        (bn2): BatchNorm2d(256, eps=1e-05, momentum=0.1, affine=True, track_running_stats=True)\n",
       "        (conv3): Conv2d(256, 512, kernel_size=(1, 1), stride=(1, 1), bias=False)\n",
       "        (bn3): BatchNorm2d(512, eps=1e-05, momentum=0.1, affine=True, track_running_stats=True)\n",
       "        (relu): ReLU(inplace=True)\n",
       "      )\n",
       "      (2): Bottleneck(\n",
       "        (conv1): Conv2d(512, 256, kernel_size=(1, 1), stride=(1, 1), bias=False)\n",
       "        (bn1): BatchNorm2d(256, eps=1e-05, momentum=0.1, affine=True, track_running_stats=True)\n",
       "        (conv2): Conv2d(256, 256, kernel_size=(3, 3), stride=(1, 1), padding=(1, 1), groups=32, bias=False)\n",
       "        (bn2): BatchNorm2d(256, eps=1e-05, momentum=0.1, affine=True, track_running_stats=True)\n",
       "        (conv3): Conv2d(256, 512, kernel_size=(1, 1), stride=(1, 1), bias=False)\n",
       "        (bn3): BatchNorm2d(512, eps=1e-05, momentum=0.1, affine=True, track_running_stats=True)\n",
       "        (relu): ReLU(inplace=True)\n",
       "      )\n",
       "      (3): Bottleneck(\n",
       "        (conv1): Conv2d(512, 256, kernel_size=(1, 1), stride=(1, 1), bias=False)\n",
       "        (bn1): BatchNorm2d(256, eps=1e-05, momentum=0.1, affine=True, track_running_stats=True)\n",
       "        (conv2): Conv2d(256, 256, kernel_size=(3, 3), stride=(1, 1), padding=(1, 1), groups=32, bias=False)\n",
       "        (bn2): BatchNorm2d(256, eps=1e-05, momentum=0.1, affine=True, track_running_stats=True)\n",
       "        (conv3): Conv2d(256, 512, kernel_size=(1, 1), stride=(1, 1), bias=False)\n",
       "        (bn3): BatchNorm2d(512, eps=1e-05, momentum=0.1, affine=True, track_running_stats=True)\n",
       "        (relu): ReLU(inplace=True)\n",
       "      )\n",
       "    )\n",
       "    (layer3): Sequential(\n",
       "      (0): Bottleneck(\n",
       "        (conv1): Conv2d(512, 512, kernel_size=(1, 1), stride=(1, 1), bias=False)\n",
       "        (bn1): BatchNorm2d(512, eps=1e-05, momentum=0.1, affine=True, track_running_stats=True)\n",
       "        (conv2): Conv2d(512, 512, kernel_size=(3, 3), stride=(2, 2), padding=(1, 1), groups=32, bias=False)\n",
       "        (bn2): BatchNorm2d(512, eps=1e-05, momentum=0.1, affine=True, track_running_stats=True)\n",
       "        (conv3): Conv2d(512, 1024, kernel_size=(1, 1), stride=(1, 1), bias=False)\n",
       "        (bn3): BatchNorm2d(1024, eps=1e-05, momentum=0.1, affine=True, track_running_stats=True)\n",
       "        (relu): ReLU(inplace=True)\n",
       "        (downsample): Sequential(\n",
       "          (0): Conv2d(512, 1024, kernel_size=(1, 1), stride=(2, 2), bias=False)\n",
       "          (1): BatchNorm2d(1024, eps=1e-05, momentum=0.1, affine=True, track_running_stats=True)\n",
       "        )\n",
       "      )\n",
       "      (1): Bottleneck(\n",
       "        (conv1): Conv2d(1024, 512, kernel_size=(1, 1), stride=(1, 1), bias=False)\n",
       "        (bn1): BatchNorm2d(512, eps=1e-05, momentum=0.1, affine=True, track_running_stats=True)\n",
       "        (conv2): Conv2d(512, 512, kernel_size=(3, 3), stride=(1, 1), padding=(1, 1), groups=32, bias=False)\n",
       "        (bn2): BatchNorm2d(512, eps=1e-05, momentum=0.1, affine=True, track_running_stats=True)\n",
       "        (conv3): Conv2d(512, 1024, kernel_size=(1, 1), stride=(1, 1), bias=False)\n",
       "        (bn3): BatchNorm2d(1024, eps=1e-05, momentum=0.1, affine=True, track_running_stats=True)\n",
       "        (relu): ReLU(inplace=True)\n",
       "      )\n",
       "      (2): Bottleneck(\n",
       "        (conv1): Conv2d(1024, 512, kernel_size=(1, 1), stride=(1, 1), bias=False)\n",
       "        (bn1): BatchNorm2d(512, eps=1e-05, momentum=0.1, affine=True, track_running_stats=True)\n",
       "        (conv2): Conv2d(512, 512, kernel_size=(3, 3), stride=(1, 1), padding=(1, 1), groups=32, bias=False)\n",
       "        (bn2): BatchNorm2d(512, eps=1e-05, momentum=0.1, affine=True, track_running_stats=True)\n",
       "        (conv3): Conv2d(512, 1024, kernel_size=(1, 1), stride=(1, 1), bias=False)\n",
       "        (bn3): BatchNorm2d(1024, eps=1e-05, momentum=0.1, affine=True, track_running_stats=True)\n",
       "        (relu): ReLU(inplace=True)\n",
       "      )\n",
       "      (3): Bottleneck(\n",
       "        (conv1): Conv2d(1024, 512, kernel_size=(1, 1), stride=(1, 1), bias=False)\n",
       "        (bn1): BatchNorm2d(512, eps=1e-05, momentum=0.1, affine=True, track_running_stats=True)\n",
       "        (conv2): Conv2d(512, 512, kernel_size=(3, 3), stride=(1, 1), padding=(1, 1), groups=32, bias=False)\n",
       "        (bn2): BatchNorm2d(512, eps=1e-05, momentum=0.1, affine=True, track_running_stats=True)\n",
       "        (conv3): Conv2d(512, 1024, kernel_size=(1, 1), stride=(1, 1), bias=False)\n",
       "        (bn3): BatchNorm2d(1024, eps=1e-05, momentum=0.1, affine=True, track_running_stats=True)\n",
       "        (relu): ReLU(inplace=True)\n",
       "      )\n",
       "      (4): Bottleneck(\n",
       "        (conv1): Conv2d(1024, 512, kernel_size=(1, 1), stride=(1, 1), bias=False)\n",
       "        (bn1): BatchNorm2d(512, eps=1e-05, momentum=0.1, affine=True, track_running_stats=True)\n",
       "        (conv2): Conv2d(512, 512, kernel_size=(3, 3), stride=(1, 1), padding=(1, 1), groups=32, bias=False)\n",
       "        (bn2): BatchNorm2d(512, eps=1e-05, momentum=0.1, affine=True, track_running_stats=True)\n",
       "        (conv3): Conv2d(512, 1024, kernel_size=(1, 1), stride=(1, 1), bias=False)\n",
       "        (bn3): BatchNorm2d(1024, eps=1e-05, momentum=0.1, affine=True, track_running_stats=True)\n",
       "        (relu): ReLU(inplace=True)\n",
       "      )\n",
       "      (5): Bottleneck(\n",
       "        (conv1): Conv2d(1024, 512, kernel_size=(1, 1), stride=(1, 1), bias=False)\n",
       "        (bn1): BatchNorm2d(512, eps=1e-05, momentum=0.1, affine=True, track_running_stats=True)\n",
       "        (conv2): Conv2d(512, 512, kernel_size=(3, 3), stride=(1, 1), padding=(1, 1), groups=32, bias=False)\n",
       "        (bn2): BatchNorm2d(512, eps=1e-05, momentum=0.1, affine=True, track_running_stats=True)\n",
       "        (conv3): Conv2d(512, 1024, kernel_size=(1, 1), stride=(1, 1), bias=False)\n",
       "        (bn3): BatchNorm2d(1024, eps=1e-05, momentum=0.1, affine=True, track_running_stats=True)\n",
       "        (relu): ReLU(inplace=True)\n",
       "      )\n",
       "    )\n",
       "    (layer4): Sequential(\n",
       "      (0): Bottleneck(\n",
       "        (conv1): Conv2d(1024, 1024, kernel_size=(1, 1), stride=(1, 1), bias=False)\n",
       "        (bn1): BatchNorm2d(1024, eps=1e-05, momentum=0.1, affine=True, track_running_stats=True)\n",
       "        (conv2): Conv2d(1024, 1024, kernel_size=(3, 3), stride=(2, 2), padding=(1, 1), groups=32, bias=False)\n",
       "        (bn2): BatchNorm2d(1024, eps=1e-05, momentum=0.1, affine=True, track_running_stats=True)\n",
       "        (conv3): Conv2d(1024, 2048, kernel_size=(1, 1), stride=(1, 1), bias=False)\n",
       "        (bn3): BatchNorm2d(2048, eps=1e-05, momentum=0.1, affine=True, track_running_stats=True)\n",
       "        (relu): ReLU(inplace=True)\n",
       "        (downsample): Sequential(\n",
       "          (0): Conv2d(1024, 2048, kernel_size=(1, 1), stride=(2, 2), bias=False)\n",
       "          (1): BatchNorm2d(2048, eps=1e-05, momentum=0.1, affine=True, track_running_stats=True)\n",
       "        )\n",
       "      )\n",
       "      (1): Bottleneck(\n",
       "        (conv1): Conv2d(2048, 1024, kernel_size=(1, 1), stride=(1, 1), bias=False)\n",
       "        (bn1): BatchNorm2d(1024, eps=1e-05, momentum=0.1, affine=True, track_running_stats=True)\n",
       "        (conv2): Conv2d(1024, 1024, kernel_size=(3, 3), stride=(1, 1), padding=(1, 1), groups=32, bias=False)\n",
       "        (bn2): BatchNorm2d(1024, eps=1e-05, momentum=0.1, affine=True, track_running_stats=True)\n",
       "        (conv3): Conv2d(1024, 2048, kernel_size=(1, 1), stride=(1, 1), bias=False)\n",
       "        (bn3): BatchNorm2d(2048, eps=1e-05, momentum=0.1, affine=True, track_running_stats=True)\n",
       "        (relu): ReLU(inplace=True)\n",
       "      )\n",
       "      (2): Bottleneck(\n",
       "        (conv1): Conv2d(2048, 1024, kernel_size=(1, 1), stride=(1, 1), bias=False)\n",
       "        (bn1): BatchNorm2d(1024, eps=1e-05, momentum=0.1, affine=True, track_running_stats=True)\n",
       "        (conv2): Conv2d(1024, 1024, kernel_size=(3, 3), stride=(1, 1), padding=(1, 1), groups=32, bias=False)\n",
       "        (bn2): BatchNorm2d(1024, eps=1e-05, momentum=0.1, affine=True, track_running_stats=True)\n",
       "        (conv3): Conv2d(1024, 2048, kernel_size=(1, 1), stride=(1, 1), bias=False)\n",
       "        (bn3): BatchNorm2d(2048, eps=1e-05, momentum=0.1, affine=True, track_running_stats=True)\n",
       "        (relu): ReLU(inplace=True)\n",
       "      )\n",
       "    )\n",
       "  )\n",
       "  (decoder): UnetDecoder(\n",
       "    (center): Identity()\n",
       "    (blocks): ModuleList(\n",
       "      (0): DecoderBlock(\n",
       "        (conv1): Conv2dReLU(\n",
       "          (0): Conv2d(3072, 256, kernel_size=(3, 3), stride=(1, 1), padding=(1, 1), bias=False)\n",
       "          (1): BatchNorm2d(256, eps=1e-05, momentum=0.1, affine=True, track_running_stats=True)\n",
       "          (2): ReLU(inplace=True)\n",
       "        )\n",
       "        (attention1): Attention(\n",
       "          (attention): Identity()\n",
       "        )\n",
       "        (conv2): Conv2dReLU(\n",
       "          (0): Conv2d(256, 256, kernel_size=(3, 3), stride=(1, 1), padding=(1, 1), bias=False)\n",
       "          (1): BatchNorm2d(256, eps=1e-05, momentum=0.1, affine=True, track_running_stats=True)\n",
       "          (2): ReLU(inplace=True)\n",
       "        )\n",
       "        (attention2): Attention(\n",
       "          (attention): Identity()\n",
       "        )\n",
       "      )\n",
       "      (1): DecoderBlock(\n",
       "        (conv1): Conv2dReLU(\n",
       "          (0): Conv2d(768, 128, kernel_size=(3, 3), stride=(1, 1), padding=(1, 1), bias=False)\n",
       "          (1): BatchNorm2d(128, eps=1e-05, momentum=0.1, affine=True, track_running_stats=True)\n",
       "          (2): ReLU(inplace=True)\n",
       "        )\n",
       "        (attention1): Attention(\n",
       "          (attention): Identity()\n",
       "        )\n",
       "        (conv2): Conv2dReLU(\n",
       "          (0): Conv2d(128, 128, kernel_size=(3, 3), stride=(1, 1), padding=(1, 1), bias=False)\n",
       "          (1): BatchNorm2d(128, eps=1e-05, momentum=0.1, affine=True, track_running_stats=True)\n",
       "          (2): ReLU(inplace=True)\n",
       "        )\n",
       "        (attention2): Attention(\n",
       "          (attention): Identity()\n",
       "        )\n",
       "      )\n",
       "      (2): DecoderBlock(\n",
       "        (conv1): Conv2dReLU(\n",
       "          (0): Conv2d(384, 64, kernel_size=(3, 3), stride=(1, 1), padding=(1, 1), bias=False)\n",
       "          (1): BatchNorm2d(64, eps=1e-05, momentum=0.1, affine=True, track_running_stats=True)\n",
       "          (2): ReLU(inplace=True)\n",
       "        )\n",
       "        (attention1): Attention(\n",
       "          (attention): Identity()\n",
       "        )\n",
       "        (conv2): Conv2dReLU(\n",
       "          (0): Conv2d(64, 64, kernel_size=(3, 3), stride=(1, 1), padding=(1, 1), bias=False)\n",
       "          (1): BatchNorm2d(64, eps=1e-05, momentum=0.1, affine=True, track_running_stats=True)\n",
       "          (2): ReLU(inplace=True)\n",
       "        )\n",
       "        (attention2): Attention(\n",
       "          (attention): Identity()\n",
       "        )\n",
       "      )\n",
       "      (3): DecoderBlock(\n",
       "        (conv1): Conv2dReLU(\n",
       "          (0): Conv2d(128, 32, kernel_size=(3, 3), stride=(1, 1), padding=(1, 1), bias=False)\n",
       "          (1): BatchNorm2d(32, eps=1e-05, momentum=0.1, affine=True, track_running_stats=True)\n",
       "          (2): ReLU(inplace=True)\n",
       "        )\n",
       "        (attention1): Attention(\n",
       "          (attention): Identity()\n",
       "        )\n",
       "        (conv2): Conv2dReLU(\n",
       "          (0): Conv2d(32, 32, kernel_size=(3, 3), stride=(1, 1), padding=(1, 1), bias=False)\n",
       "          (1): BatchNorm2d(32, eps=1e-05, momentum=0.1, affine=True, track_running_stats=True)\n",
       "          (2): ReLU(inplace=True)\n",
       "        )\n",
       "        (attention2): Attention(\n",
       "          (attention): Identity()\n",
       "        )\n",
       "      )\n",
       "      (4): DecoderBlock(\n",
       "        (conv1): Conv2dReLU(\n",
       "          (0): Conv2d(32, 16, kernel_size=(3, 3), stride=(1, 1), padding=(1, 1), bias=False)\n",
       "          (1): BatchNorm2d(16, eps=1e-05, momentum=0.1, affine=True, track_running_stats=True)\n",
       "          (2): ReLU(inplace=True)\n",
       "        )\n",
       "        (attention1): Attention(\n",
       "          (attention): Identity()\n",
       "        )\n",
       "        (conv2): Conv2dReLU(\n",
       "          (0): Conv2d(16, 16, kernel_size=(3, 3), stride=(1, 1), padding=(1, 1), bias=False)\n",
       "          (1): BatchNorm2d(16, eps=1e-05, momentum=0.1, affine=True, track_running_stats=True)\n",
       "          (2): ReLU(inplace=True)\n",
       "        )\n",
       "        (attention2): Attention(\n",
       "          (attention): Identity()\n",
       "        )\n",
       "      )\n",
       "    )\n",
       "  )\n",
       "  (segmentation_head): SegmentationHead(\n",
       "    (0): Conv2d(16, 6, kernel_size=(3, 3), stride=(1, 1), padding=(1, 1))\n",
       "    (1): Identity()\n",
       "    (2): Activation(\n",
       "      (activation): Identity()\n",
       "    )\n",
       "  )\n",
       ")"
      ]
     },
     "execution_count": 44,
     "metadata": {},
     "output_type": "execute_result"
    }
   ],
   "source": [
    "model.load_state_dict(torch.load(f\"{args.logdir}/checkpoints/best.pth\")['model_state_dict'])\n",
    "model.cuda()"
   ]
  },
  {
   "cell_type": "code",
   "execution_count": 45,
   "metadata": {},
   "outputs": [
    {
     "data": {
      "text/plain": [
       "False"
      ]
     },
     "execution_count": 45,
     "metadata": {},
     "output_type": "execute_result"
    }
   ],
   "source": [
    "(args.split_x is not None or args.split_y is not None)"
   ]
  },
  {
   "cell_type": "code",
   "execution_count": 50,
   "metadata": {},
   "outputs": [
    {
     "data": {
      "image/png": "[encoded data removed]",
      "text/plain": [
       "<Figure size 720x216 with 5 Axes>"
      ]
     },
     "metadata": {
      "needs_background": "light"
     },
     "output_type": "display_data"
    }
   ],
   "source": [
    "idx = -1\n",
    "d = infer_loader.dataset[idx]\n",
    "img = d['image']\n",
    "msk_true = d['mask'].unsqueeze(0)\n",
    "\n",
    "msk_pred = model(img.unsqueeze(0).to(device))\n",
    "\n",
    "img_ = img.detach().numpy().squeeze()\n",
    "msk_true_ = msk_true.detach().numpy().squeeze()\n",
    "msk_pred_ = msk_pred.detach().cpu().numpy().squeeze()\n",
    "\n",
    "plt.figure(figsize=(10,3))\n",
    "plt.subplot(131), plt.title('Input'), plt.imshow(img_, cmap='gray', clim=u.plotting.clim(img_, 90))\n",
    "plt.subplot(132), plt.title('Target'), plt.imshow(msk_true_, cmap='jet', clim=(0,5))\n",
    "plt.colorbar(aspect=50, label='classes')\n",
    "plt.subplot(133), plt.title('Output'), plt.imshow(np.argmax(msk_pred_, axis=0), cmap='jet', clim=(0,5))\n",
    "plt.colorbar(aspect=50, label='classes')\n",
    "\n",
    "plt.suptitle(args.outname, fontsize=14)\n",
    "plt.tight_layout(pad=.5)\n",
    "plt.savefig(args.logdir/(f\"{idx}-th %s patch.{save_opts['format']}\" %\n",
    "                         (\"test\" if (args.split_x is not None or args.split_y is not None) else \"valid\")),\n",
    "           **save_opts)\n",
    "plt.show()"
   ]
  },
  {
   "cell_type": "markdown",
   "metadata": {},
   "source": [
    "# Aicrowd submission\n",
    "\n",
    "Do it [here](https://www.aicrowd.com/challenges/seismic-facies-identification-challenge/submissions/new)"
   ]
  },
  {
   "cell_type": "code",
   "execution_count": null,
   "metadata": {},
   "outputs": [],
   "source": [
    "aicrowd = np.load(ROOT / \"data_test_2.npz\", allow_pickle=True, mmap_mode='r')['data']"
   ]
  },
  {
   "cell_type": "code",
   "execution_count": null,
   "metadata": {},
   "outputs": [],
   "source": [
    "pe_y = u.PatchExtractor(args.patch_shape, stride=(1,128,1))\n",
    "patch_array_shape = u.patch_array_shape(aicrowd.shape, pe_y.dim, pe_y.stride)\n",
    "print('total ZX patches :   %d' % u.patch_extractor.count_patches(aicrowd.shape, pe_y.dim, pe_y.stride))\n",
    "print('original volume  : ', aicrowd.shape)\n",
    "print('cropped volume   : ', u.patch_extractor.in_content_cropped_shape(aicrowd.shape, pe_y.dim, pe_y.stride))\n",
    "print('patch array shape: ', patch_array_shape)"
   ]
  },
  {
   "cell_type": "code",
   "execution_count": null,
   "metadata": {},
   "outputs": [],
   "source": [
    "pe_x = u.PatchExtractor(swap_tuple(args.patch_shape), stride=(141,1,136))\n",
    "patch_array_shape = u.patch_array_shape(aicrowd.shape, pe_x.dim, pe_x.stride)\n",
    "print('total ZY patches :   %d' % u.patch_extractor.count_patches(aicrowd.shape, pe_x.dim, pe_x.stride))\n",
    "print('original volume  : ', aicrowd.shape)\n",
    "print('cropped volume   : ', u.patch_extractor.in_content_cropped_shape(aicrowd.shape, pe_x.dim, pe_x.stride))\n",
    "print('patch array shape: ', patch_array_shape)"
   ]
  },
  {
   "cell_type": "code",
   "execution_count": null,
   "metadata": {},
   "outputs": [],
   "source": [
    "patches_aicrowd = pe_x.extract(aicrowd).reshape((-1,)+pe_x.dim).transpose(0,1,3,2)\n",
    "patches_aicrowd.shape"
   ]
  },
  {
   "cell_type": "code",
   "execution_count": null,
   "metadata": {},
   "outputs": [],
   "source": [
    "test_transforms  = compose([\n",
    "    pre_transform(args.target_shape),\n",
    "    tensor_transforms(v2=True, long=True, add_ch_mask=True)\n",
    "])\n",
    "final_transforms = compose([pre_transform(args.patch_shape)])"
   ]
  },
  {
   "cell_type": "code",
   "execution_count": null,
   "metadata": {},
   "outputs": [],
   "source": [
    "aicrowd_loader = DataLoader(\n",
    "    SegmentationDataset(patches_aicrowd, transforms=test_transforms),\n",
    "    batch_size=1,\n",
    "    shuffle=False,\n",
    "    num_workers=4\n",
    ")"
   ]
  },
  {
   "cell_type": "code",
   "execution_count": null,
   "metadata": {},
   "outputs": [],
   "source": [
    "aicrowd_predictions = np.vstack(list(map(\n",
    "    lambda x: x[\"logits\"].cpu().numpy(), \n",
    "    runner.predict_loader(loader=aicrowd_loader, model=model, resume=f\"{args.logdir}/checkpoints/best.pth\")\n",
    ")))\n",
    "print(aicrowd_predictions.shape)"
   ]
  },
  {
   "cell_type": "code",
   "execution_count": null,
   "metadata": {},
   "outputs": [],
   "source": [
    "aicrowd_result = []\n",
    "\n",
    "for patch in aicrowd_predictions:\n",
    "    patch = np.argmax(patch, 0)\n",
    "    aicrowd_result.append(final_transforms(**{'image':patch.astype(float)})['image'])\n",
    "aicrowd_result = np.expand_dims(np.asarray(aicrowd_result),-1)\n",
    "aicrowd_result = pe_x.reconstruct(aicrowd_result.reshape(patch_array_shape))\n",
    "aicrowd_result.shape"
   ]
  },
  {
   "cell_type": "markdown",
   "metadata": {},
   "source": [
    "We need to repeat the ZY section for 14 times along the x axis"
   ]
  },
  {
   "cell_type": "code",
   "execution_count": null,
   "metadata": {},
   "outputs": [],
   "source": [
    "np.expand_dims(aicrowd_result[:,:,-1], -1).shape"
   ]
  },
  {
   "cell_type": "code",
   "execution_count": null,
   "metadata": {},
   "outputs": [],
   "source": [
    "if aicrowd.shape != aicrowd_result.shape:\n",
    "    last_zx = np.expand_dims(aicrowd_result[:,:,-1], -1)\n",
    "    to_be_added = np.repeat(last_zx, aicrowd.shape[2]-aicrowd_result.shape[2], axis=2)\n",
    "    aicrowd_result = np.concatenate((aicrowd_result, to_be_added), axis=2)"
   ]
  },
  {
   "cell_type": "code",
   "execution_count": null,
   "metadata": {},
   "outputs": [],
   "source": [
    "aicrowd_result.shape == aicrowd.shape"
   ]
  },
  {
   "cell_type": "code",
   "execution_count": null,
   "metadata": {},
   "outputs": [],
   "source": [
    "idx = -1\n",
    "img_ = aicrowd[:,:,idx]\n",
    "pred_ = aicrowd_result[:,:,idx]\n",
    "\n",
    "plt.figure(figsize=(10,5))\n",
    "plt.subplot(121), plt.title('True')\n",
    "plt.imshow(img_, cmap='gray', clim=u.plotting.clim(img_, 90))\n",
    "plt.subplot(122), plt.title('Pred')\n",
    "plt.imshow(pred_, cmap='jet'), plt.colorbar(label='classes', aspect=50)\n",
    "\n",
    "plt.suptitle(args.outname, fontsize=14)\n",
    "plt.tight_layout(pad=.5)\n",
    "plt.savefig(args.logdir/f\"{idx}-th aicrowd section.{save_opts['format']}\", **save_opts)\n",
    "plt.show()"
   ]
  },
  {
   "cell_type": "markdown",
   "metadata": {
    "id": "OWDoLcQpWtTe",
    "pycharm": {
     "name": "#%% md\n"
    }
   },
   "source": [
    "## test-time augmentations (TTA) with `hflip`"
   ]
  },
  {
   "cell_type": "code",
   "execution_count": null,
   "metadata": {
    "id": "iS9U_YtXWtTf",
    "pycharm": {
     "name": "#%%\n"
    }
   },
   "outputs": [],
   "source": [
    "from pytorch_toolbelt.inference import tta\n",
    "\n",
    "tta_model = tta.TTAWrapper(model, tta.fliplr_image2mask)\n",
    "\n",
    "tta_runner = SupervisedRunner(\n",
    "    model=tta_model,\n",
    "    device=device,\n",
    "    input_key=\"image\"\n",
    ")"
   ]
  },
  {
   "cell_type": "code",
   "execution_count": null,
   "metadata": {},
   "outputs": [],
   "source": [
    "tta_predictions = np.vstack(list(map(\n",
    "    lambda x: x[\"logits\"].cpu().numpy(), \n",
    "    tta_runner.predict_loader(loader=aicrowd_loader)\n",
    ")))\n",
    "\n",
    "print(tta_predictions.shape)"
   ]
  },
  {
   "cell_type": "code",
   "execution_count": null,
   "metadata": {},
   "outputs": [],
   "source": [
    "aicrowd_result = []\n",
    "\n",
    "for patch in tta_predictions:\n",
    "    patch = np.argmax(patch, 0)\n",
    "    aicrowd_result.append(final_transforms(**{'image':patch.astype(float)})['image'])\n",
    "aicrowd_result = np.expand_dims(np.asarray(aicrowd_result),-1)\n",
    "aicrowd_result = pe_x.reconstruct(aicrowd_result.reshape(patch_array_shape))\n",
    "aicrowd_result.shape"
   ]
  },
  {
   "cell_type": "code",
   "execution_count": null,
   "metadata": {},
   "outputs": [],
   "source": [
    "if aicrowd.shape != aicrowd_result.shape:\n",
    "    last_zx = np.expand_dims(aicrowd_result[:,:,-1], -1)\n",
    "    to_be_added = np.repeat(last_zx, aicrowd.shape[2]-aicrowd_result.shape[2], axis=2)\n",
    "    aicrowd_result = np.concatenate((aicrowd_result, to_be_added), axis=2)"
   ]
  },
  {
   "cell_type": "code",
   "execution_count": null,
   "metadata": {},
   "outputs": [],
   "source": [
    "idx = -1\n",
    "img_ = aicrowd[:,:,idx]\n",
    "pred_ = aicrowd_result[:,:,idx]\n",
    "\n",
    "plt.figure(figsize=(10,5))\n",
    "plt.subplot(121), plt.title('True')\n",
    "plt.imshow(img_, cmap='gray', clim=u.plotting.clim(img_, 90))\n",
    "plt.subplot(122), plt.title('Pred')\n",
    "plt.imshow(pred_, cmap='jet'), plt.colorbar(label='classes', aspect=50)\n",
    "\n",
    "plt.suptitle(args.outname, fontsize=14)\n",
    "plt.tight_layout(pad=.5)\n",
    "plt.savefig(args.logdir/f\"{idx}-th TTA aicrowd section.{save_opts['format']}\", **save_opts)\n",
    "plt.show()"
   ]
  },
  {
   "cell_type": "markdown",
   "metadata": {},
   "source": [
    "### Save for submission"
   ]
  },
  {
   "cell_type": "code",
   "execution_count": null,
   "metadata": {},
   "outputs": [],
   "source": [
    "np.savez_compressed(os.path.join('facies_aicrowd_submissions', 'sub302_tta.npz'),\n",
    "                    prediction=aicrowd_result.astype(np.uint8)+1)"
   ]
  },
  {
   "cell_type": "code",
   "execution_count": null,
   "metadata": {},
   "outputs": [],
   "source": []
  }
 ],
 "metadata": {
  "colab": {
   "name": "segmentation-tutorial.ipynb",
   "provenance": []
  },
  "kernelspec": {
   "display_name": "Python 3",
   "language": "python",
   "name": "python3"
  },
  "language_info": {
   "codemirror_mode": {
    "name": "ipython",
    "version": 3
   },
   "file_extension": ".py",
   "mimetype": "text/x-python",
   "name": "python",
   "nbconvert_exporter": "python",
   "pygments_lexer": "ipython3",
   "version": "3.8.6"
  }
 },
 "nbformat": 4,
 "nbformat_minor": 1
}
