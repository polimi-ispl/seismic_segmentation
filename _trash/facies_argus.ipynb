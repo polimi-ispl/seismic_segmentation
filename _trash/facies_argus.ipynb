{
 "metadata": {
  "colab": {
   "name": "baseline.ipynb",
   "provenance": []
  },
  "kernelspec": {
   "display_name": "Python 3",
   "language": "python",
   "name": "python3"
  },
  "language_info": {
   "codemirror_mode": {
    "name": "ipython",
    "version": 3
   },
   "file_extension": ".py",
   "mimetype": "text/x-python",
   "name": "python",
   "nbconvert_exporter": "python",
   "pygments_lexer": "ipython3",
   "version": "3.8.5"
  },
  "name": ""
 },
 "nbformat": 3,
 "nbformat_minor": 0,
 "worksheets": [
  {
   "cells": [
    {
     "cell_type": "markdown",
     "metadata": {},
     "source": [
      "https://discourse.aicrowd.com/t/explainer-pytorch-starter-0-857-f1-score-on-public-lb/3790/4"
     ]
    },
    {
     "cell_type": "code",
     "collapsed": false,
     "input": [
      "from copy import copy\n",
      "import os\n",
      "import numpy as np\n",
      "from sklearn.model_selection import StratifiedKFold\n",
      "from tqdm.notebook import trange\n",
      "\n",
      "import torch\n",
      "torch.backends.cudnn.benchmark = True\n",
      "import torch.optim as optim\n",
      "from torch.utils.data import DataLoader, Dataset, Subset\n",
      "\n",
      "import segmentation_models_pytorch as smp\n",
      "import argus\n",
      "from argus.callbacks import MonitorCheckpoint, EarlyStopping, LoggingToFile, ReduceLROnPlateau\n",
      "import albumentations as A\n",
      "from pytorch_toolbelt.inference.tiles import ImageSlicer, CudaTileMerger\n",
      "from pytorch_toolbelt.losses import LovaszLoss"
     ],
     "language": "python",
     "metadata": {
      "id": "p3ArpTSDgLow"
     },
     "outputs": [],
     "prompt_number": 1
    },
    {
     "cell_type": "code",
     "collapsed": false,
     "input": [
      "class LovaszBCELoss(torch.nn.Module):\n",
      "    def __init__(self, lovasz_weight=0.75, ce_weight=0.25):\n",
      "        super().__init__()\n",
      "        self.lovasz_weight = lovasz_weight\n",
      "        self.ce_weight = ce_weight\n",
      "        self.ce = torch.nn.CrossEntropyLoss()\n",
      "        self.lovasz = LovaszLoss()\n",
      "\n",
      "    def forward(self, output, target):\n",
      "        if self.lovasz_weight > 0:\n",
      "            lovasz = self.lovasz(torch.softmax(output, dim=1), target) * self.lovasz_weight\n",
      "        else:\n",
      "            lovasz = 0\n",
      "\n",
      "        if self.ce_weight > 0:\n",
      "            ce = self.ce(output, target.long()) * self.ce_weight\n",
      "        else:\n",
      "            ce = 0\n",
      "\n",
      "        return lovasz + ce\n",
      "\n",
      "\n",
      "class SeismicFaciesDataset(Dataset):\n",
      "    def __init__(self, img, labels, patch_size, train=True):\n",
      "        self.img = img\n",
      "        self.labels = labels\n",
      "        self.xaxis = self.img.shape[1]\n",
      "        self.yaxis = self.img.shape[2]\n",
      "\n",
      "        self.aug = A.Compose([\n",
      "            A.HorizontalFlip(p=0.5),\n",
      "            A.Downscale(scale_min=0.5, scale_max=0.95, p=0.1),\n",
      "            A.RandomCrop(p=1, height=patch_size[0], width=patch_size[1]),\n",
      "        ])\n",
      "\n",
      "    def __len__(self):\n",
      "        return self.xaxis + self.yaxis\n",
      "\n",
      "    def __getitem__(self, idx):\n",
      "        if idx < self.xaxis:\n",
      "            image, mask = self.img[:, idx], self.labels[:, idx]\n",
      "        else:\n",
      "            image, mask = self.img[:, :, idx-self.xaxis], self.labels[:, :, idx-self.xaxis]\n",
      "\n",
      "        image = image[:, :, None]\n",
      "\n",
      "        augmented = self.aug(image=image, mask=mask)\n",
      "        image, mask = augmented['image'], augmented['mask']\n",
      "\n",
      "        return image.transpose(2, 0, 1), mask\n",
      "    \n",
      "\n",
      "class SeismicFaciesModel(argus.Model):\n",
      "    nn_module = smp.Unet\n",
      "    optimizer = optim.SGD\n",
      "    loss = LovaszBCELoss\n",
      "    \n",
      "\n",
      "def get_data_loaders(dataset, batch_size, train_index, test_index, num_workers=16):\n",
      "    train_dataset, test_dataset = Subset(dataset, train_index), Subset(copy(dataset), test_index)\n",
      "    test_dataset.dataset.aug = A.PadIfNeeded(p=1, min_height=1024, min_width=800)\n",
      "\n",
      "    train_loader = DataLoader(train_dataset, batch_size=batch_size, num_workers=num_workers, shuffle=True)\n",
      "    test_loader = DataLoader(test_dataset, batch_size=batch_size, num_workers=num_workers)\n",
      "    return train_loader, test_loader"
     ],
     "language": "python",
     "metadata": {
      "id": "tLPw3fMxgLpX"
     },
     "outputs": [],
     "prompt_number": 2
    },
    {
     "cell_type": "heading",
     "level": 2,
     "metadata": {},
     "source": [
      "Define run parameters"
     ]
    },
    {
     "cell_type": "code",
     "collapsed": false,
     "input": [
      "data_root = '/nas/public/dataset/geophysics/2020_aicrowd_facies_segmentation_challenge/'\n",
      "data_preproc = '/nas/home/fpicetti/datasets/seismic_facies/argus_normalized/'\n",
      "outpath = './results/argus2'\n",
      "gpus = (2,3,4,5)\n",
      "patch_size = (896, 256)\n",
      "batch_size = 32\n",
      "epochs = 100\n",
      "num_workers = 16\n",
      "num_folds = 5"
     ],
     "language": "python",
     "metadata": {},
     "outputs": [],
     "prompt_number": 3
    },
    {
     "cell_type": "code",
     "collapsed": false,
     "input": [
      "os.makedirs(outpath, exist_ok=True)\n",
      "os.makedirs(data_preproc, exist_ok=True)"
     ],
     "language": "python",
     "metadata": {},
     "outputs": [],
     "prompt_number": 4
    },
    {
     "cell_type": "code",
     "collapsed": false,
     "input": [
      "params = {\n",
      "    'nn_module': {\n",
      "        'encoder_name': 'efficientnet-b3',\n",
      "        'decoder_attention_type': 'scse',\n",
      "        'classes': 6,\n",
      "        'in_channels': 1,\n",
      "        'activation': None\n",
      "    },\n",
      "    'loss': {\n",
      "        'lovasz_weight': 0.75,\n",
      "        'ce_weight': 0.25,\n",
      "    },\n",
      "    'optimizer': {'lr': 0.01, 'momentum': 0.9, 'weight_decay': 0.0001},\n",
      "    'device': [f'cuda:{gpu}' for gpu in gpus]\n",
      "}"
     ],
     "language": "python",
     "metadata": {
      "id": "cEIjldj1gLpg"
     },
     "outputs": [],
     "prompt_number": 5
    },
    {
     "cell_type": "heading",
     "level": 4,
     "metadata": {},
     "source": [
      "load original data, normalize seismic and handle the labels "
     ]
    },
    {
     "cell_type": "code",
     "collapsed": false,
     "input": [
      "train_img = np.load(os.path.join(data_root, 'data_train.npz'), allow_pickle=True, mmap_mode='r')['data']\n",
      "train_labels = np.load(os.path.join(data_root, 'labels_train.npz'), allow_pickle=True, mmap_mode='r')['labels']\n",
      "test_img = np.load(os.path.join(data_root, 'data_test_1.npz'), allow_pickle=True, mmap_mode='r')['data']\n",
      "\n",
      "train_labels -= 1#\n",
      "\n",
      "train_img.shape, train_labels.shape, test_img.shape\n",
      "\n",
      "adjusted_test_img = np.concatenate([train_img, test_img], axis=2)\n",
      "\n",
      "_min, _max = adjusted_test_img.min(), adjusted_test_img.max()\n",
      "\n",
      "train_img = (train_img - _min) / (_max - _min)\n",
      "test_img = (test_img - _min) / (_max - _min)\n",
      "# adjusted_test_img = (adjusted_test_img - _min) / (_max - _min)\n",
      "\n",
      "del adjusted_test_img"
     ],
     "language": "python",
     "metadata": {
      "id": "43IqjaT3gLo6",
      "scrolled": true
     },
     "outputs": [],
     "prompt_number": 6
    },
    {
     "cell_type": "code",
     "collapsed": false,
     "input": [
      "np.savez_compressed('/nas/home/fpicetti/datasets/seismic_facies/argus_normalized/data_train.npz',\n",
      "                    data=train_img)\n",
      "np.savez_compressed('/nas/home/fpicetti/datasets/seismic_facies/argus_normalized/labels_train.npz',\n",
      "                    labels=train_labels)\n",
      "np.savez_compressed('/nas/home/fpicetti/datasets/seismic_facies/argus_normalized/data_test_1.npz',\n",
      "                    data=test_img)"
     ],
     "language": "python",
     "metadata": {},
     "outputs": [],
     "prompt_number": 7
    },
    {
     "cell_type": "heading",
     "level": 2,
     "metadata": {},
     "source": [
      "Training"
     ]
    },
    {
     "cell_type": "heading",
     "level": 3,
     "metadata": {},
     "source": [
      "Load data and create folds"
     ]
    },
    {
     "cell_type": "code",
     "collapsed": false,
     "input": [
      "train_img = np.load('/nas/home/fpicetti/datasets/seismic_facies/argus_normalized/data_train.npz',\n",
      "                    allow_pickle=True, mmap_mode='r')['data']\n",
      "train_labels = np.load('/nas/home/fpicetti/datasets/seismic_facies/argus_normalized/labels_train.npz',\n",
      "                       allow_pickle=True, mmap_mode='r')['labels']"
     ],
     "language": "python",
     "metadata": {},
     "outputs": [],
     "prompt_number": 8
    },
    {
     "cell_type": "code",
     "collapsed": false,
     "input": [
      "train_img.shape, train_labels.shape"
     ],
     "language": "python",
     "metadata": {},
     "outputs": [
      {
       "output_type": "pyout",
       "prompt_number": 9,
       "text": [
        "((1006, 782, 590), (1006, 782, 590))"
       ]
      }
     ],
     "prompt_number": 9
    },
    {
     "cell_type": "code",
     "collapsed": false,
     "input": [
      "verticals = [0 for _ in range(train_img.shape[1])] + [1 for _ in range(train_img.shape[2])]\n",
      "folds = list(StratifiedKFold(n_splits=num_folds, random_state=42, shuffle=True).split(X=verticals, y=verticals))"
     ],
     "language": "python",
     "metadata": {
      "id": "lDPxqikngLpL"
     },
     "outputs": [],
     "prompt_number": 10
    },
    {
     "cell_type": "code",
     "collapsed": false,
     "input": [
      "dataset = SeismicFaciesDataset(train_img, train_labels, patch_size)"
     ],
     "language": "python",
     "metadata": {
      "id": "GunyCeCPgLpo"
     },
     "outputs": [],
     "prompt_number": 11
    },
    {
     "cell_type": "code",
     "collapsed": false,
     "input": [
      "len(folds)"
     ],
     "language": "python",
     "metadata": {},
     "outputs": [
      {
       "output_type": "pyout",
       "prompt_number": 12,
       "text": [
        "5"
       ]
      }
     ],
     "prompt_number": 12
    },
    {
     "cell_type": "heading",
     "level": 3,
     "metadata": {},
     "source": [
      "Training"
     ]
    },
    {
     "cell_type": "code",
     "collapsed": false,
     "input": [
      "for i, (train_index, test_index) in enumerate(folds):\n",
      "    model = SeismicFaciesModel(params)\n",
      "    # model.set_device(gpus)\n",
      "\n",
      "    train_loader, val_loader = get_data_loaders(dataset,\n",
      "                                                batch_size=batch_size,\n",
      "                                                train_index=train_index,\n",
      "                                                test_index=test_index,\n",
      "                                                num_workers=num_workers)\n",
      "\n",
      "    callbacks = [\n",
      "        MonitorCheckpoint(dir_path=os.path.join(outpath, f'unet_fold_{i}'),\n",
      "                          monitor='val_loss', max_saves=3,\n",
      "                          file_format='model.pth'),\n",
      "        ReduceLROnPlateau(monitor='val_loss', patience=30, factor=0.64, min_lr=1e-8),\n",
      "        EarlyStopping(monitor='val_loss', patience=50),\n",
      "        LoggingToFile(os.path.join(outpath, f'unet_fold_{i}.log')),\n",
      "    ]\n",
      "\n",
      "    model.fit(\n",
      "        train_loader,\n",
      "        val_loader=val_loader,\n",
      "        num_epochs=epochs,\n",
      "        metrics=['loss'],\n",
      "        callbacks=callbacks,\n",
      "        metrics_on_train=False)"
     ],
     "language": "python",
     "metadata": {
      "id": "plGR0IfegLps",
      "scrolled": true
     },
     "outputs": [
      {
       "output_type": "stream",
       "stream": "stderr",
       "text": [
        "/nas/home/fpicetti/miniconda3/envs/geoml/lib/python3.8/site-packages/argus/callbacks/checkpoints.py:52: UserWarning: Directory './results/argus2/unet_fold_0' already exists\n",
        "  warnings.warn(f\"Directory '{dir_path}' already exists\")\n"
       ]
      },
      {
       "output_type": "stream",
       "stream": "stdout",
       "text": [
        "[2020-10-22 23:55:51,408][INFO]: Validation, val_loss: 1.320641\n"
       ]
      },
      {
       "output_type": "stream",
       "stream": "stdout",
       "text": [
        "[2020-10-22 23:56:26,128][INFO]: Train - Epoch: 0, LR: 0.01, train_loss: 1.02572\n"
       ]
      },
      {
       "output_type": "stream",
       "stream": "stdout",
       "text": [
        "[2020-10-22 23:56:34,249][INFO]: Validation - Epoch: 0, val_loss: 1.01059\n"
       ]
      },
      {
       "output_type": "stream",
       "stream": "stdout",
       "text": [
        "[2020-10-22 23:56:34,453][INFO]: Model saved to './results/argus2/unet_fold_0/model.pth'\n"
       ]
      },
      {
       "output_type": "stream",
       "stream": "stdout",
       "text": [
        "[2020-10-22 23:56:56,623][INFO]: Train - Epoch: 1, LR: 0.01, train_loss: 0.8961555\n"
       ]
      },
      {
       "output_type": "stream",
       "stream": "stdout",
       "text": [
        "[2020-10-22 23:57:04,558][INFO]: Validation - Epoch: 1, val_loss: 1.007554\n"
       ]
      },
      {
       "output_type": "stream",
       "stream": "stdout",
       "text": [
        "[2020-10-22 23:57:04,819][INFO]: Model saved to './results/argus2/unet_fold_0/model.pth'\n"
       ]
      },
      {
       "output_type": "stream",
       "stream": "stdout",
       "text": [
        "[2020-10-22 23:57:26,604][INFO]: Train - Epoch: 2, LR: 0.01, train_loss: 0.8223846\n"
       ]
      },
      {
       "output_type": "stream",
       "stream": "stdout",
       "text": [
        "[2020-10-22 23:57:34,537][INFO]: Validation - Epoch: 2, val_loss: 1.015414\n"
       ]
      },
      {
       "output_type": "stream",
       "stream": "stdout",
       "text": [
        "[2020-10-22 23:57:56,399][INFO]: Train - Epoch: 3, LR: 0.01, train_loss: 0.7808406\n"
       ]
      },
      {
       "output_type": "stream",
       "stream": "stdout",
       "text": [
        "[2020-10-22 23:58:04,332][INFO]: Validation - Epoch: 3, val_loss: 1.037128\n"
       ]
      },
      {
       "output_type": "stream",
       "stream": "stdout",
       "text": [
        "[2020-10-22 23:58:26,252][INFO]: Train - Epoch: 4, LR: 0.01, train_loss: 0.7487255\n"
       ]
      },
      {
       "output_type": "stream",
       "stream": "stdout",
       "text": [
        "[2020-10-22 23:58:34,199][INFO]: Validation - Epoch: 4, val_loss: 1.085696\n"
       ]
      },
      {
       "output_type": "stream",
       "stream": "stdout",
       "text": [
        "[2020-10-22 23:58:56,019][INFO]: Train - Epoch: 5, LR: 0.01, train_loss: 0.7183339\n"
       ]
      },
      {
       "output_type": "stream",
       "stream": "stdout",
       "text": [
        "[2020-10-22 23:59:04,088][INFO]: Validation - Epoch: 5, val_loss: 1.169674\n"
       ]
      },
      {
       "output_type": "stream",
       "stream": "stdout",
       "text": [
        "[2020-10-22 23:59:25,879][INFO]: Train - Epoch: 6, LR: 0.01, train_loss: 0.6910841\n"
       ]
      },
      {
       "output_type": "stream",
       "stream": "stdout",
       "text": [
        "[2020-10-22 23:59:34,007][INFO]: Validation - Epoch: 6, val_loss: 1.24176\n"
       ]
      },
      {
       "output_type": "stream",
       "stream": "stdout",
       "text": [
        "[2020-10-22 23:59:55,714][INFO]: Train - Epoch: 7, LR: 0.01, train_loss: 0.655298\n"
       ]
      },
      {
       "output_type": "stream",
       "stream": "stdout",
       "text": [
        "[2020-10-23 00:00:03,736][INFO]: Validation - Epoch: 7, val_loss: 1.437894\n"
       ]
      },
      {
       "output_type": "stream",
       "stream": "stdout",
       "text": [
        "[2020-10-23 00:00:25,672][INFO]: Train - Epoch: 8, LR: 0.01, train_loss: 0.6132543\n"
       ]
      },
      {
       "output_type": "stream",
       "stream": "stdout",
       "text": [
        "[2020-10-23 00:00:33,524][INFO]: Validation - Epoch: 8, val_loss: 1.335105\n"
       ]
      },
      {
       "output_type": "stream",
       "stream": "stdout",
       "text": [
        "[2020-10-23 00:00:55,612][INFO]: Train - Epoch: 9, LR: 0.01, train_loss: 0.5683529\n"
       ]
      },
      {
       "output_type": "stream",
       "stream": "stdout",
       "text": [
        "[2020-10-23 00:01:03,662][INFO]: Validation - Epoch: 9, val_loss: 1.238582\n"
       ]
      },
      {
       "output_type": "stream",
       "stream": "stdout",
       "text": [
        "[2020-10-23 00:01:25,460][INFO]: Train - Epoch: 10, LR: 0.01, train_loss: 0.5245675\n"
       ]
      },
      {
       "output_type": "stream",
       "stream": "stdout",
       "text": [
        "[2020-10-23 00:01:33,461][INFO]: Validation - Epoch: 10, val_loss: 1.063484\n"
       ]
      },
      {
       "output_type": "stream",
       "stream": "stdout",
       "text": [
        "[2020-10-23 00:01:55,052][INFO]: Train - Epoch: 11, LR: 0.01, train_loss: 0.4863245\n"
       ]
      },
      {
       "output_type": "stream",
       "stream": "stdout",
       "text": [
        "[2020-10-23 00:02:03,114][INFO]: Validation - Epoch: 11, val_loss: 0.956471\n"
       ]
      },
      {
       "output_type": "stream",
       "stream": "stdout",
       "text": [
        "[2020-10-23 00:02:03,329][INFO]: Model saved to './results/argus2/unet_fold_0/model.pth'\n"
       ]
      },
      {
       "output_type": "stream",
       "stream": "stdout",
       "text": [
        "[2020-10-23 00:02:25,293][INFO]: Train - Epoch: 12, LR: 0.01, train_loss: 0.4548266\n"
       ]
      },
      {
       "output_type": "stream",
       "stream": "stdout",
       "text": [
        "[2020-10-23 00:02:33,236][INFO]: Validation - Epoch: 12, val_loss: 1.146549\n"
       ]
      },
      {
       "output_type": "stream",
       "stream": "stdout",
       "text": [
        "[2020-10-23 00:02:55,003][INFO]: Train - Epoch: 13, LR: 0.01, train_loss: 0.4194236\n"
       ]
      },
      {
       "output_type": "stream",
       "stream": "stdout",
       "text": [
        "[2020-10-23 00:03:03,046][INFO]: Validation - Epoch: 13, val_loss: 0.7614995\n"
       ]
      },
      {
       "output_type": "stream",
       "stream": "stdout",
       "text": [
        "[2020-10-23 00:03:03,249][INFO]: Model saved to './results/argus2/unet_fold_0/model.pth'\n"
       ]
      },
      {
       "output_type": "stream",
       "stream": "stdout",
       "text": [
        "[2020-10-23 00:03:03,256][INFO]: Model removed './results/argus2/unet_fold_0/model.pth'\n"
       ]
      },
      {
       "output_type": "stream",
       "stream": "stdout",
       "text": [
        "[2020-10-23 00:03:24,962][INFO]: Train - Epoch: 14, LR: 0.01, train_loss: 0.3900388\n"
       ]
      },
      {
       "output_type": "stream",
       "stream": "stdout",
       "text": [
        "[2020-10-23 00:03:32,883][INFO]: Validation - Epoch: 14, val_loss: 0.824637\n"
       ]
      },
      {
       "output_type": "stream",
       "stream": "stdout",
       "text": [
        "[2020-10-23 00:03:54,719][INFO]: Train - Epoch: 15, LR: 0.01, train_loss: 0.3611005\n"
       ]
      },
      {
       "output_type": "stream",
       "stream": "stdout",
       "text": [
        "[2020-10-23 00:04:02,930][INFO]: Validation - Epoch: 15, val_loss: 0.5850986\n"
       ]
      },
      {
       "output_type": "stream",
       "stream": "stdout",
       "text": [
        "[2020-10-23 00:04:03,132][INFO]: Model saved to './results/argus2/unet_fold_0/model.pth'\n"
       ]
      },
      {
       "output_type": "stream",
       "stream": "stdout",
       "text": [
        "[2020-10-23 00:04:03,150][INFO]: Model removed './results/argus2/unet_fold_0/model.pth'\n"
       ]
      },
      {
       "output_type": "stream",
       "stream": "stdout",
       "text": [
        "[2020-10-23 00:04:25,022][INFO]: Train - Epoch: 16, LR: 0.01, train_loss: 0.3361588\n"
       ]
      },
      {
       "output_type": "stream",
       "stream": "stdout",
       "text": [
        "[2020-10-23 00:04:32,939][INFO]: Validation - Epoch: 16, val_loss: 0.4718591\n"
       ]
      },
      {
       "output_type": "stream",
       "stream": "stdout",
       "text": [
        "[2020-10-23 00:04:33,126][INFO]: Model saved to './results/argus2/unet_fold_0/model.pth'\n"
       ]
      },
      {
       "output_type": "stream",
       "stream": "stdout",
       "text": [
        "[2020-10-23 00:04:33,144][INFO]: Model removed './results/argus2/unet_fold_0/model.pth'\n"
       ]
      },
      {
       "output_type": "stream",
       "stream": "stdout",
       "text": [
        "[2020-10-23 00:04:55,094][INFO]: Train - Epoch: 17, LR: 0.01, train_loss: 0.312922\n"
       ]
      },
      {
       "output_type": "stream",
       "stream": "stdout",
       "text": [
        "[2020-10-23 00:05:03,071][INFO]: Validation - Epoch: 17, val_loss: 0.4916843\n"
       ]
      },
      {
       "output_type": "stream",
       "stream": "stdout",
       "text": [
        "[2020-10-23 00:05:24,797][INFO]: Train - Epoch: 18, LR: 0.01, train_loss: 0.2892966\n"
       ]
      },
      {
       "output_type": "stream",
       "stream": "stdout",
       "text": [
        "[2020-10-23 00:05:32,947][INFO]: Validation - Epoch: 18, val_loss: 0.4047527\n"
       ]
      },
      {
       "output_type": "stream",
       "stream": "stdout",
       "text": [
        "[2020-10-23 00:05:33,149][INFO]: Model saved to './results/argus2/unet_fold_0/model.pth'\n"
       ]
      },
      {
       "output_type": "stream",
       "stream": "stdout",
       "text": [
        "[2020-10-23 00:05:33,155][INFO]: Model removed './results/argus2/unet_fold_0/model.pth'\n"
       ]
      },
      {
       "output_type": "stream",
       "stream": "stdout",
       "text": [
        "[2020-10-23 00:05:54,887][INFO]: Train - Epoch: 19, LR: 0.01, train_loss: 0.2741079\n"
       ]
      },
      {
       "output_type": "stream",
       "stream": "stdout",
       "text": [
        "[2020-10-23 00:06:02,857][INFO]: Validation - Epoch: 19, val_loss: 0.3975891\n"
       ]
      },
      {
       "output_type": "stream",
       "stream": "stdout",
       "text": [
        "[2020-10-23 00:06:03,064][INFO]: Model saved to './results/argus2/unet_fold_0/model.pth'\n"
       ]
      },
      {
       "output_type": "stream",
       "stream": "stdout",
       "text": [
        "[2020-10-23 00:06:03,081][INFO]: Model removed './results/argus2/unet_fold_0/model.pth'\n"
       ]
      },
      {
       "output_type": "stream",
       "stream": "stdout",
       "text": [
        "[2020-10-23 00:06:24,953][INFO]: Train - Epoch: 20, LR: 0.01, train_loss: 0.258063\n"
       ]
      },
      {
       "output_type": "stream",
       "stream": "stdout",
       "text": [
        "[2020-10-23 00:06:33,172][INFO]: Validation - Epoch: 20, val_loss: 0.3778347\n"
       ]
      },
      {
       "output_type": "stream",
       "stream": "stdout",
       "text": [
        "[2020-10-23 00:06:33,378][INFO]: Model saved to './results/argus2/unet_fold_0/model.pth'\n"
       ]
      },
      {
       "output_type": "stream",
       "stream": "stdout",
       "text": [
        "[2020-10-23 00:06:33,398][INFO]: Model removed './results/argus2/unet_fold_0/model.pth'\n"
       ]
      },
      {
       "output_type": "stream",
       "stream": "stdout",
       "text": [
        "[2020-10-23 00:06:55,281][INFO]: Train - Epoch: 21, LR: 0.01, train_loss: 0.2472495\n"
       ]
      },
      {
       "output_type": "stream",
       "stream": "stdout",
       "text": [
        "[2020-10-23 00:07:03,273][INFO]: Validation - Epoch: 21, val_loss: 0.3865143\n"
       ]
      },
      {
       "output_type": "stream",
       "stream": "stdout",
       "text": [
        "[2020-10-23 00:07:24,910][INFO]: Train - Epoch: 22, LR: 0.01, train_loss: 0.2321767\n"
       ]
      },
      {
       "output_type": "stream",
       "stream": "stdout",
       "text": [
        "[2020-10-23 00:07:32,981][INFO]: Validation - Epoch: 22, val_loss: 0.5314812\n"
       ]
      },
      {
       "output_type": "stream",
       "stream": "stdout",
       "text": [
        "[2020-10-23 00:07:54,670][INFO]: Train - Epoch: 23, LR: 0.01, train_loss: 0.221092\n"
       ]
      },
      {
       "output_type": "stream",
       "stream": "stdout",
       "text": [
        "[2020-10-23 00:08:02,760][INFO]: Validation - Epoch: 23, val_loss: 0.3500222\n"
       ]
      },
      {
       "output_type": "stream",
       "stream": "stdout",
       "text": [
        "[2020-10-23 00:08:02,967][INFO]: Model saved to './results/argus2/unet_fold_0/model.pth'\n"
       ]
      },
      {
       "output_type": "stream",
       "stream": "stdout",
       "text": [
        "[2020-10-23 00:08:02,984][INFO]: Model removed './results/argus2/unet_fold_0/model.pth'\n"
       ]
      },
      {
       "output_type": "stream",
       "stream": "stdout",
       "text": [
        "[2020-10-23 00:08:24,710][INFO]: Train - Epoch: 24, LR: 0.01, train_loss: 0.2129792\n"
       ]
      },
      {
       "output_type": "stream",
       "stream": "stdout",
       "text": [
        "[2020-10-23 00:08:32,647][INFO]: Validation - Epoch: 24, val_loss: 0.3630485\n"
       ]
      },
      {
       "output_type": "stream",
       "stream": "stdout",
       "text": [
        "[2020-10-23 00:08:54,733][INFO]: Train - Epoch: 25, LR: 0.01, train_loss: 0.2066046\n"
       ]
      },
      {
       "output_type": "stream",
       "stream": "stdout",
       "text": [
        "[2020-10-23 00:09:02,794][INFO]: Validation - Epoch: 25, val_loss: 0.3896702\n"
       ]
      },
      {
       "output_type": "stream",
       "stream": "stdout",
       "text": [
        "[2020-10-23 00:09:24,487][INFO]: Train - Epoch: 26, LR: 0.01, train_loss: 0.1986542\n"
       ]
      },
      {
       "output_type": "stream",
       "stream": "stdout",
       "text": [
        "[2020-10-23 00:09:32,475][INFO]: Validation - Epoch: 26, val_loss: 0.3588493\n"
       ]
      },
      {
       "output_type": "stream",
       "stream": "stdout",
       "text": [
        "[2020-10-23 00:09:54,319][INFO]: Train - Epoch: 27, LR: 0.01, train_loss: 0.1910125\n"
       ]
      },
      {
       "output_type": "stream",
       "stream": "stdout",
       "text": [
        "[2020-10-23 00:10:02,356][INFO]: Validation - Epoch: 27, val_loss: 0.3396183\n"
       ]
      },
      {
       "output_type": "stream",
       "stream": "stdout",
       "text": [
        "[2020-10-23 00:10:02,621][INFO]: Model saved to './results/argus2/unet_fold_0/model.pth'\n"
       ]
      },
      {
       "output_type": "stream",
       "stream": "stdout",
       "text": [
        "[2020-10-23 00:10:02,639][INFO]: Model removed './results/argus2/unet_fold_0/model.pth'\n"
       ]
      },
      {
       "output_type": "stream",
       "stream": "stdout",
       "text": [
        "[2020-10-23 00:10:24,302][INFO]: Train - Epoch: 28, LR: 0.01, train_loss: 0.1877847\n"
       ]
      },
      {
       "output_type": "stream",
       "stream": "stdout",
       "text": [
        "[2020-10-23 00:10:32,287][INFO]: Validation - Epoch: 28, val_loss: 0.272962\n"
       ]
      },
      {
       "output_type": "stream",
       "stream": "stdout",
       "text": [
        "[2020-10-23 00:10:32,474][INFO]: Model saved to './results/argus2/unet_fold_0/model.pth'\n"
       ]
      },
      {
       "output_type": "stream",
       "stream": "stdout",
       "text": [
        "[2020-10-23 00:10:32,489][INFO]: Model removed './results/argus2/unet_fold_0/model.pth'\n"
       ]
      },
      {
       "output_type": "stream",
       "stream": "stdout",
       "text": [
        "[2020-10-23 00:10:54,163][INFO]: Train - Epoch: 29, LR: 0.01, train_loss: 0.1819291\n"
       ]
      },
      {
       "output_type": "stream",
       "stream": "stdout",
       "text": [
        "[2020-10-23 00:11:02,102][INFO]: Validation - Epoch: 29, val_loss: 0.2785711\n"
       ]
      },
      {
       "output_type": "stream",
       "stream": "stdout",
       "text": [
        "[2020-10-23 00:11:23,762][INFO]: Train - Epoch: 30, LR: 0.01, train_loss: 0.1755192\n"
       ]
      },
      {
       "output_type": "stream",
       "stream": "stdout",
       "text": [
        "[2020-10-23 00:11:31,730][INFO]: Validation - Epoch: 30, val_loss: 0.2620519\n"
       ]
      },
      {
       "output_type": "stream",
       "stream": "stdout",
       "text": [
        "[2020-10-23 00:11:31,914][INFO]: Model saved to './results/argus2/unet_fold_0/model.pth'\n"
       ]
      },
      {
       "output_type": "stream",
       "stream": "stdout",
       "text": [
        "[2020-10-23 00:11:31,931][INFO]: Model removed './results/argus2/unet_fold_0/model.pth'\n"
       ]
      },
      {
       "output_type": "stream",
       "stream": "stdout",
       "text": [
        "[2020-10-23 00:11:53,745][INFO]: Train - Epoch: 31, LR: 0.01, train_loss: 0.1685339\n"
       ]
      },
      {
       "output_type": "stream",
       "stream": "stdout",
       "text": [
        "[2020-10-23 00:12:01,703][INFO]: Validation - Epoch: 31, val_loss: 0.4037142\n"
       ]
      },
      {
       "output_type": "stream",
       "stream": "stdout",
       "text": [
        "[2020-10-23 00:12:23,216][INFO]: Train - Epoch: 32, LR: 0.01, train_loss: 0.1660557\n"
       ]
      },
      {
       "output_type": "stream",
       "stream": "stdout",
       "text": [
        "[2020-10-23 00:12:31,224][INFO]: Validation - Epoch: 32, val_loss: 0.3182319\n"
       ]
      },
      {
       "output_type": "stream",
       "stream": "stdout",
       "text": [
        "[2020-10-23 00:12:53,153][INFO]: Train - Epoch: 33, LR: 0.01, train_loss: 0.1639953\n"
       ]
      },
      {
       "output_type": "stream",
       "stream": "stdout",
       "text": [
        "[2020-10-23 00:13:01,110][INFO]: Validation - Epoch: 33, val_loss: 0.2456431\n"
       ]
      },
      {
       "output_type": "stream",
       "stream": "stdout",
       "text": [
        "[2020-10-23 00:13:01,300][INFO]: Model saved to './results/argus2/unet_fold_0/model.pth'\n"
       ]
      },
      {
       "output_type": "stream",
       "stream": "stdout",
       "text": [
        "[2020-10-23 00:13:01,318][INFO]: Model removed './results/argus2/unet_fold_0/model.pth'\n"
       ]
      },
      {
       "output_type": "stream",
       "stream": "stdout",
       "text": [
        "[2020-10-23 00:13:23,157][INFO]: Train - Epoch: 34, LR: 0.01, train_loss: 0.1600354\n"
       ]
      },
      {
       "output_type": "stream",
       "stream": "stdout",
       "text": [
        "[2020-10-23 00:13:31,132][INFO]: Validation - Epoch: 34, val_loss: 0.2672547\n"
       ]
      },
      {
       "output_type": "stream",
       "stream": "stdout",
       "text": [
        "[2020-10-23 00:13:53,177][INFO]: Train - Epoch: 35, LR: 0.01, train_loss: 0.1564394\n"
       ]
      },
      {
       "output_type": "stream",
       "stream": "stdout",
       "text": [
        "[2020-10-23 00:14:01,362][INFO]: Validation - Epoch: 35, val_loss: 0.2206051\n"
       ]
      },
      {
       "output_type": "stream",
       "stream": "stdout",
       "text": [
        "[2020-10-23 00:14:01,564][INFO]: Model saved to './results/argus2/unet_fold_0/model.pth'\n"
       ]
      },
      {
       "output_type": "stream",
       "stream": "stdout",
       "text": [
        "[2020-10-23 00:14:01,580][INFO]: Model removed './results/argus2/unet_fold_0/model.pth'\n"
       ]
      },
      {
       "output_type": "stream",
       "stream": "stdout",
       "text": [
        "[2020-10-23 00:14:23,347][INFO]: Train - Epoch: 36, LR: 0.01, train_loss: 0.1533751\n"
       ]
      },
      {
       "output_type": "stream",
       "stream": "stdout",
       "text": [
        "[2020-10-23 00:14:31,532][INFO]: Validation - Epoch: 36, val_loss: 0.25165\n"
       ]
      },
      {
       "output_type": "stream",
       "stream": "stdout",
       "text": [
        "[2020-10-23 00:14:53,270][INFO]: Train - Epoch: 37, LR: 0.01, train_loss: 0.1477421\n"
       ]
      },
      {
       "output_type": "stream",
       "stream": "stdout",
       "text": [
        "[2020-10-23 00:15:01,314][INFO]: Validation - Epoch: 37, val_loss: 0.1951543\n"
       ]
      },
      {
       "output_type": "stream",
       "stream": "stdout",
       "text": [
        "[2020-10-23 00:15:01,549][INFO]: Model saved to './results/argus2/unet_fold_0/model.pth'\n"
       ]
      },
      {
       "output_type": "stream",
       "stream": "stdout",
       "text": [
        "[2020-10-23 00:15:01,568][INFO]: Model removed './results/argus2/unet_fold_0/model.pth'\n"
       ]
      },
      {
       "output_type": "stream",
       "stream": "stdout",
       "text": [
        "[2020-10-23 00:15:23,214][INFO]: Train - Epoch: 38, LR: 0.01, train_loss: 0.1462294\n"
       ]
      },
      {
       "output_type": "stream",
       "stream": "stdout",
       "text": [
        "[2020-10-23 00:15:31,288][INFO]: Validation - Epoch: 38, val_loss: 0.2746607\n"
       ]
      },
      {
       "output_type": "stream",
       "stream": "stdout",
       "text": [
        "[2020-10-23 00:15:53,220][INFO]: Train - Epoch: 39, LR: 0.01, train_loss: 0.142902\n"
       ]
      },
      {
       "output_type": "stream",
       "stream": "stdout",
       "text": [
        "[2020-10-23 00:16:01,192][INFO]: Validation - Epoch: 39, val_loss: 0.2143491\n"
       ]
      },
      {
       "output_type": "stream",
       "stream": "stdout",
       "text": [
        "[2020-10-23 00:16:23,159][INFO]: Train - Epoch: 40, LR: 0.01, train_loss: 0.1405358\n"
       ]
      },
      {
       "output_type": "stream",
       "stream": "stdout",
       "text": [
        "[2020-10-23 00:16:31,200][INFO]: Validation - Epoch: 40, val_loss: 0.2272893\n"
       ]
      },
      {
       "output_type": "stream",
       "stream": "stdout",
       "text": [
        "[2020-10-23 00:16:53,153][INFO]: Train - Epoch: 41, LR: 0.01, train_loss: 0.1381376\n"
       ]
      },
      {
       "output_type": "stream",
       "stream": "stdout",
       "text": [
        "[2020-10-23 00:17:01,214][INFO]: Validation - Epoch: 41, val_loss: 0.2096232\n"
       ]
      },
      {
       "output_type": "stream",
       "stream": "stdout",
       "text": [
        "[2020-10-23 00:17:22,873][INFO]: Train - Epoch: 42, LR: 0.01, train_loss: 0.1370117\n"
       ]
      },
      {
       "output_type": "stream",
       "stream": "stdout",
       "text": [
        "[2020-10-23 00:17:30,710][INFO]: Validation - Epoch: 42, val_loss: 0.1882187\n"
       ]
      },
      {
       "output_type": "stream",
       "stream": "stdout",
       "text": [
        "[2020-10-23 00:17:30,915][INFO]: Model saved to './results/argus2/unet_fold_0/model.pth'\n"
       ]
      },
      {
       "output_type": "stream",
       "stream": "stdout",
       "text": [
        "[2020-10-23 00:17:30,934][INFO]: Model removed './results/argus2/unet_fold_0/model.pth'\n"
       ]
      },
      {
       "output_type": "stream",
       "stream": "stdout",
       "text": [
        "[2020-10-23 00:17:52,779][INFO]: Train - Epoch: 43, LR: 0.01, train_loss: 0.1355797\n"
       ]
      },
      {
       "output_type": "stream",
       "stream": "stdout",
       "text": [
        "[2020-10-23 00:18:00,859][INFO]: Validation - Epoch: 43, val_loss: 0.1935296\n"
       ]
      },
      {
       "output_type": "stream",
       "stream": "stdout",
       "text": [
        "[2020-10-23 00:18:22,684][INFO]: Train - Epoch: 44, LR: 0.01, train_loss: 0.1334409\n"
       ]
      },
      {
       "output_type": "stream",
       "stream": "stdout",
       "text": [
        "[2020-10-23 00:18:30,813][INFO]: Validation - Epoch: 44, val_loss: 0.1915012\n"
       ]
      },
      {
       "output_type": "stream",
       "stream": "stdout",
       "text": [
        "[2020-10-23 00:18:52,869][INFO]: Train - Epoch: 45, LR: 0.01, train_loss: 0.133672\n"
       ]
      },
      {
       "output_type": "stream",
       "stream": "stdout",
       "text": [
        "[2020-10-23 00:19:00,874][INFO]: Validation - Epoch: 45, val_loss: 0.1936191\n"
       ]
      },
      {
       "output_type": "stream",
       "stream": "stdout",
       "text": [
        "[2020-10-23 00:19:22,716][INFO]: Train - Epoch: 46, LR: 0.01, train_loss: 0.129855\n"
       ]
      },
      {
       "output_type": "stream",
       "stream": "stdout",
       "text": [
        "[2020-10-23 00:19:30,731][INFO]: Validation - Epoch: 46, val_loss: 0.172095\n"
       ]
      },
      {
       "output_type": "stream",
       "stream": "stdout",
       "text": [
        "[2020-10-23 00:19:30,925][INFO]: Model saved to './results/argus2/unet_fold_0/model.pth'\n"
       ]
      },
      {
       "output_type": "stream",
       "stream": "stdout",
       "text": [
        "[2020-10-23 00:19:30,941][INFO]: Model removed './results/argus2/unet_fold_0/model.pth'\n"
       ]
      },
      {
       "output_type": "stream",
       "stream": "stdout",
       "text": [
        "[2020-10-23 00:19:52,713][INFO]: Train - Epoch: 47, LR: 0.01, train_loss: 0.1268474\n"
       ]
      },
      {
       "output_type": "stream",
       "stream": "stdout",
       "text": [
        "[2020-10-23 00:20:00,726][INFO]: Validation - Epoch: 47, val_loss: 0.2001384\n"
       ]
      },
      {
       "output_type": "stream",
       "stream": "stdout",
       "text": [
        "[2020-10-23 00:20:22,359][INFO]: Train - Epoch: 48, LR: 0.01, train_loss: 0.1263883\n"
       ]
      },
      {
       "output_type": "stream",
       "stream": "stdout",
       "text": [
        "[2020-10-23 00:20:30,469][INFO]: Validation - Epoch: 48, val_loss: 0.1717729\n"
       ]
      },
      {
       "output_type": "stream",
       "stream": "stdout",
       "text": [
        "[2020-10-23 00:20:30,671][INFO]: Model saved to './results/argus2/unet_fold_0/model.pth'\n"
       ]
      },
      {
       "output_type": "stream",
       "stream": "stdout",
       "text": [
        "[2020-10-23 00:20:30,691][INFO]: Model removed './results/argus2/unet_fold_0/model.pth'\n"
       ]
      },
      {
       "output_type": "stream",
       "stream": "stdout",
       "text": [
        "[2020-10-23 00:20:52,543][INFO]: Train - Epoch: 49, LR: 0.01, train_loss: 0.1263356\n"
       ]
      },
      {
       "output_type": "stream",
       "stream": "stdout",
       "text": [
        "[2020-10-23 00:21:00,503][INFO]: Validation - Epoch: 49, val_loss: 0.2019798\n"
       ]
      },
      {
       "output_type": "stream",
       "stream": "stdout",
       "text": [
        "[2020-10-23 00:21:22,384][INFO]: Train - Epoch: 50, LR: 0.01, train_loss: 0.1218559\n"
       ]
      },
      {
       "output_type": "stream",
       "stream": "stdout",
       "text": [
        "[2020-10-23 00:21:30,226][INFO]: Validation - Epoch: 50, val_loss: 0.1840202\n"
       ]
      },
      {
       "output_type": "stream",
       "stream": "stdout",
       "text": [
        "[2020-10-23 00:21:51,922][INFO]: Train - Epoch: 51, LR: 0.01, train_loss: 0.1208704\n"
       ]
      },
      {
       "output_type": "stream",
       "stream": "stdout",
       "text": [
        "[2020-10-23 00:21:59,994][INFO]: Validation - Epoch: 51, val_loss: 0.1803961\n"
       ]
      },
      {
       "output_type": "stream",
       "stream": "stdout",
       "text": [
        "[2020-10-23 00:22:21,466][INFO]: Train - Epoch: 52, LR: 0.01, train_loss: 0.1227657\n"
       ]
      },
      {
       "output_type": "stream",
       "stream": "stdout",
       "text": [
        "[2020-10-23 00:22:29,488][INFO]: Validation - Epoch: 52, val_loss: 0.1844169\n"
       ]
      },
      {
       "output_type": "stream",
       "stream": "stdout",
       "text": [
        "[2020-10-23 00:22:51,345][INFO]: Train - Epoch: 53, LR: 0.01, train_loss: 0.1185319\n"
       ]
      },
      {
       "output_type": "stream",
       "stream": "stdout",
       "text": [
        "[2020-10-23 00:22:59,662][INFO]: Validation - Epoch: 53, val_loss: 0.1694336\n"
       ]
      },
      {
       "output_type": "stream",
       "stream": "stdout",
       "text": [
        "[2020-10-23 00:22:59,907][INFO]: Model saved to './results/argus2/unet_fold_0/model.pth'\n"
       ]
      },
      {
       "output_type": "stream",
       "stream": "stdout",
       "text": [
        "[2020-10-23 00:22:59,925][INFO]: Model removed './results/argus2/unet_fold_0/model.pth'\n"
       ]
      },
      {
       "output_type": "stream",
       "stream": "stdout",
       "text": [
        "[2020-10-23 00:23:21,525][INFO]: Train - Epoch: 54, LR: 0.01, train_loss: 0.1184992\n"
       ]
      },
      {
       "output_type": "stream",
       "stream": "stdout",
       "text": [
        "[2020-10-23 00:23:29,523][INFO]: Validation - Epoch: 54, val_loss: 0.1638192\n"
       ]
      },
      {
       "output_type": "stream",
       "stream": "stdout",
       "text": [
        "[2020-10-23 00:23:29,726][INFO]: Model saved to './results/argus2/unet_fold_0/model.pth'\n"
       ]
      },
      {
       "output_type": "stream",
       "stream": "stdout",
       "text": [
        "[2020-10-23 00:23:29,740][INFO]: Model removed './results/argus2/unet_fold_0/model.pth'\n"
       ]
      },
      {
       "output_type": "stream",
       "stream": "stdout",
       "text": [
        "[2020-10-23 00:23:51,615][INFO]: Train - Epoch: 55, LR: 0.01, train_loss: 0.1180185\n"
       ]
      },
      {
       "output_type": "stream",
       "stream": "stdout",
       "text": [
        "[2020-10-23 00:23:59,645][INFO]: Validation - Epoch: 55, val_loss: 0.1668995\n"
       ]
      },
      {
       "output_type": "stream",
       "stream": "stdout",
       "text": [
        "[2020-10-23 00:24:21,508][INFO]: Train - Epoch: 56, LR: 0.01, train_loss: 0.1150016\n"
       ]
      },
      {
       "output_type": "stream",
       "stream": "stdout",
       "text": [
        "[2020-10-23 00:24:29,537][INFO]: Validation - Epoch: 56, val_loss: 0.1710008\n"
       ]
      },
      {
       "output_type": "stream",
       "stream": "stdout",
       "text": [
        "[2020-10-23 00:24:51,542][INFO]: Train - Epoch: 57, LR: 0.01, train_loss: 0.1159282\n"
       ]
      },
      {
       "output_type": "stream",
       "stream": "stdout",
       "text": [
        "[2020-10-23 00:24:59,584][INFO]: Validation - Epoch: 57, val_loss: 0.1621868\n"
       ]
      },
      {
       "output_type": "stream",
       "stream": "stdout",
       "text": [
        "[2020-10-23 00:24:59,787][INFO]: Model saved to './results/argus2/unet_fold_0/model.pth'\n"
       ]
      },
      {
       "output_type": "stream",
       "stream": "stdout",
       "text": [
        "[2020-10-23 00:24:59,802][INFO]: Model removed './results/argus2/unet_fold_0/model.pth'\n"
       ]
      },
      {
       "output_type": "stream",
       "stream": "stdout",
       "text": [
        "[2020-10-23 00:25:21,706][INFO]: Train - Epoch: 58, LR: 0.01, train_loss: 0.1153214\n"
       ]
      },
      {
       "output_type": "stream",
       "stream": "stdout",
       "text": [
        "[2020-10-23 00:25:30,303][INFO]: Validation - Epoch: 58, val_loss: 0.1671802\n"
       ]
      },
      {
       "output_type": "stream",
       "stream": "stdout",
       "text": [
        "[2020-10-23 00:25:52,188][INFO]: Train - Epoch: 59, LR: 0.01, train_loss: 0.1133306\n"
       ]
      },
      {
       "output_type": "stream",
       "stream": "stdout",
       "text": [
        "[2020-10-23 00:26:00,262][INFO]: Validation - Epoch: 59, val_loss: 0.1801761\n"
       ]
      },
      {
       "output_type": "stream",
       "stream": "stdout",
       "text": [
        "[2020-10-23 00:26:22,036][INFO]: Train - Epoch: 60, LR: 0.01, train_loss: 0.1130942\n"
       ]
      },
      {
       "output_type": "stream",
       "stream": "stdout",
       "text": [
        "[2020-10-23 00:26:29,999][INFO]: Validation - Epoch: 60, val_loss: 0.173121\n"
       ]
      },
      {
       "output_type": "stream",
       "stream": "stdout",
       "text": [
        "[2020-10-23 00:26:52,015][INFO]: Train - Epoch: 61, LR: 0.01, train_loss: 0.1112282\n"
       ]
      },
      {
       "output_type": "stream",
       "stream": "stdout",
       "text": [
        "[2020-10-23 00:27:00,199][INFO]: Validation - Epoch: 61, val_loss: 0.1678881\n"
       ]
      },
      {
       "output_type": "stream",
       "stream": "stdout",
       "text": [
        "[2020-10-23 00:27:22,058][INFO]: Train - Epoch: 62, LR: 0.01, train_loss: 0.110547\n"
       ]
      },
      {
       "output_type": "stream",
       "stream": "stdout",
       "text": [
        "[2020-10-23 00:27:30,237][INFO]: Validation - Epoch: 62, val_loss: 0.1742041\n"
       ]
      },
      {
       "output_type": "stream",
       "stream": "stdout",
       "text": [
        "[2020-10-23 00:27:52,327][INFO]: Train - Epoch: 63, LR: 0.01, train_loss: 0.1093317\n"
       ]
      },
      {
       "output_type": "stream",
       "stream": "stdout",
       "text": [
        "[2020-10-23 00:28:00,332][INFO]: Validation - Epoch: 63, val_loss: 0.1853249\n"
       ]
      },
      {
       "output_type": "stream",
       "stream": "stdout",
       "text": [
        "[2020-10-23 00:28:22,134][INFO]: Train - Epoch: 64, LR: 0.01, train_loss: 0.1101084\n"
       ]
      },
      {
       "output_type": "stream",
       "stream": "stdout",
       "text": [
        "[2020-10-23 00:28:30,150][INFO]: Validation - Epoch: 64, val_loss: 0.159186\n"
       ]
      },
      {
       "output_type": "stream",
       "stream": "stdout",
       "text": [
        "[2020-10-23 00:28:30,333][INFO]: Model saved to './results/argus2/unet_fold_0/model.pth'\n"
       ]
      },
      {
       "output_type": "stream",
       "stream": "stdout",
       "text": [
        "[2020-10-23 00:28:30,354][INFO]: Model removed './results/argus2/unet_fold_0/model.pth'\n"
       ]
      },
      {
       "output_type": "stream",
       "stream": "stdout",
       "text": [
        "[2020-10-23 00:28:52,070][INFO]: Train - Epoch: 65, LR: 0.01, train_loss: 0.1085726\n"
       ]
      },
      {
       "output_type": "stream",
       "stream": "stdout",
       "text": [
        "[2020-10-23 00:29:00,128][INFO]: Validation - Epoch: 65, val_loss: 0.1704616\n"
       ]
      },
      {
       "output_type": "stream",
       "stream": "stdout",
       "text": [
        "[2020-10-23 00:29:21,914][INFO]: Train - Epoch: 66, LR: 0.01, train_loss: 0.1072474\n"
       ]
      },
      {
       "output_type": "stream",
       "stream": "stdout",
       "text": [
        "[2020-10-23 00:29:29,826][INFO]: Validation - Epoch: 66, val_loss: 0.1646725\n"
       ]
      },
      {
       "output_type": "stream",
       "stream": "stdout",
       "text": [
        "[2020-10-23 00:29:51,581][INFO]: Train - Epoch: 67, LR: 0.01, train_loss: 0.1060716\n"
       ]
      },
      {
       "output_type": "stream",
       "stream": "stdout",
       "text": [
        "[2020-10-23 00:29:59,632][INFO]: Validation - Epoch: 67, val_loss: 0.1589903\n"
       ]
      },
      {
       "output_type": "stream",
       "stream": "stdout",
       "text": [
        "[2020-10-23 00:29:59,832][INFO]: Model saved to './results/argus2/unet_fold_0/model.pth'\n"
       ]
      },
      {
       "output_type": "stream",
       "stream": "stdout",
       "text": [
        "[2020-10-23 00:29:59,837][INFO]: Model removed './results/argus2/unet_fold_0/model.pth'\n"
       ]
      },
      {
       "output_type": "stream",
       "stream": "stdout",
       "text": [
        "[2020-10-23 00:30:21,675][INFO]: Train - Epoch: 68, LR: 0.01, train_loss: 0.1040057\n"
       ]
      },
      {
       "output_type": "stream",
       "stream": "stdout",
       "text": [
        "[2020-10-23 00:30:29,633][INFO]: Validation - Epoch: 68, val_loss: 0.1770464\n"
       ]
      },
      {
       "output_type": "stream",
       "stream": "stdout",
       "text": [
        "[2020-10-23 00:30:51,413][INFO]: Train - Epoch: 69, LR: 0.01, train_loss: 0.1046407\n"
       ]
      },
      {
       "output_type": "stream",
       "stream": "stdout",
       "text": [
        "[2020-10-23 00:30:59,407][INFO]: Validation - Epoch: 69, val_loss: 0.1790937\n"
       ]
      },
      {
       "output_type": "stream",
       "stream": "stdout",
       "text": [
        "[2020-10-23 00:31:21,268][INFO]: Train - Epoch: 70, LR: 0.01, train_loss: 0.105846\n"
       ]
      },
      {
       "output_type": "stream",
       "stream": "stdout",
       "text": [
        "[2020-10-23 00:31:29,395][INFO]: Validation - Epoch: 70, val_loss: 0.1476632\n"
       ]
      },
      {
       "output_type": "stream",
       "stream": "stdout",
       "text": [
        "[2020-10-23 00:31:29,584][INFO]: Model saved to './results/argus2/unet_fold_0/model.pth'\n"
       ]
      },
      {
       "output_type": "stream",
       "stream": "stdout",
       "text": [
        "[2020-10-23 00:31:29,599][INFO]: Model removed './results/argus2/unet_fold_0/model.pth'\n"
       ]
      },
      {
       "output_type": "stream",
       "stream": "stdout",
       "text": [
        "[2020-10-23 00:31:51,280][INFO]: Train - Epoch: 71, LR: 0.01, train_loss: 0.1031952\n"
       ]
      },
      {
       "output_type": "stream",
       "stream": "stdout",
       "text": [
        "[2020-10-23 00:31:59,424][INFO]: Validation - Epoch: 71, val_loss: 0.1675147\n"
       ]
      },
      {
       "output_type": "stream",
       "stream": "stdout",
       "text": [
        "[2020-10-23 00:32:21,047][INFO]: Train - Epoch: 72, LR: 0.01, train_loss: 0.1029453\n"
       ]
      },
      {
       "output_type": "stream",
       "stream": "stdout",
       "text": [
        "[2020-10-23 00:32:29,089][INFO]: Validation - Epoch: 72, val_loss: 0.151719\n"
       ]
      },
      {
       "output_type": "stream",
       "stream": "stdout",
       "text": [
        "[2020-10-23 00:32:50,978][INFO]: Train - Epoch: 73, LR: 0.01, train_loss: 0.1021295\n"
       ]
      },
      {
       "output_type": "stream",
       "stream": "stdout",
       "text": [
        "[2020-10-23 00:32:58,888][INFO]: Validation - Epoch: 73, val_loss: 0.1645906\n"
       ]
      },
      {
       "output_type": "stream",
       "stream": "stdout",
       "text": [
        "[2020-10-23 00:33:20,567][INFO]: Train - Epoch: 74, LR: 0.01, train_loss: 0.1017122\n"
       ]
      },
      {
       "output_type": "stream",
       "stream": "stdout",
       "text": [
        "[2020-10-23 00:33:28,432][INFO]: Validation - Epoch: 74, val_loss: 0.1397261\n"
       ]
      },
      {
       "output_type": "stream",
       "stream": "stdout",
       "text": [
        "[2020-10-23 00:33:28,656][INFO]: Model saved to './results/argus2/unet_fold_0/model.pth'\n"
       ]
      },
      {
       "output_type": "stream",
       "stream": "stdout",
       "text": [
        "[2020-10-23 00:33:28,673][INFO]: Model removed './results/argus2/unet_fold_0/model.pth'\n"
       ]
      },
      {
       "output_type": "stream",
       "stream": "stdout",
       "text": [
        "[2020-10-23 00:33:50,607][INFO]: Train - Epoch: 75, LR: 0.01, train_loss: 0.1007051\n"
       ]
      },
      {
       "output_type": "stream",
       "stream": "stdout",
       "text": [
        "[2020-10-23 00:33:58,571][INFO]: Validation - Epoch: 75, val_loss: 0.1418122\n"
       ]
      },
      {
       "output_type": "stream",
       "stream": "stdout",
       "text": [
        "[2020-10-23 00:34:20,307][INFO]: Train - Epoch: 76, LR: 0.01, train_loss: 0.1002923\n"
       ]
      },
      {
       "output_type": "stream",
       "stream": "stdout",
       "text": [
        "[2020-10-23 00:34:28,223][INFO]: Validation - Epoch: 76, val_loss: 0.1438186\n"
       ]
      },
      {
       "output_type": "stream",
       "stream": "stdout",
       "text": [
        "[2020-10-23 00:34:49,801][INFO]: Train - Epoch: 77, LR: 0.01, train_loss: 0.100016\n"
       ]
      },
      {
       "output_type": "stream",
       "stream": "stdout",
       "text": [
        "[2020-10-23 00:34:57,748][INFO]: Validation - Epoch: 77, val_loss: 0.1443407\n"
       ]
      },
      {
       "output_type": "stream",
       "stream": "stdout",
       "text": [
        "[2020-10-23 00:35:19,368][INFO]: Train - Epoch: 78, LR: 0.01, train_loss: 0.09903336\n"
       ]
      },
      {
       "output_type": "stream",
       "stream": "stdout",
       "text": [
        "[2020-10-23 00:35:27,424][INFO]: Validation - Epoch: 78, val_loss: 0.1645151\n"
       ]
      },
      {
       "output_type": "stream",
       "stream": "stdout",
       "text": [
        "[2020-10-23 00:35:49,370][INFO]: Train - Epoch: 79, LR: 0.01, train_loss: 0.09775149\n"
       ]
      },
      {
       "output_type": "stream",
       "stream": "stdout",
       "text": [
        "[2020-10-23 00:35:57,434][INFO]: Validation - Epoch: 79, val_loss: 0.1486045\n"
       ]
      },
      {
       "output_type": "stream",
       "stream": "stdout",
       "text": [
        "[2020-10-23 00:36:19,147][INFO]: Train - Epoch: 80, LR: 0.01, train_loss: 0.0982733\n"
       ]
      },
      {
       "output_type": "stream",
       "stream": "stdout",
       "text": [
        "[2020-10-23 00:36:27,157][INFO]: Validation - Epoch: 80, val_loss: 0.1507006\n"
       ]
      },
      {
       "output_type": "stream",
       "stream": "stdout",
       "text": [
        "[2020-10-23 00:36:48,997][INFO]: Train - Epoch: 81, LR: 0.01, train_loss: 0.0974937\n"
       ]
      },
      {
       "output_type": "stream",
       "stream": "stdout",
       "text": [
        "[2020-10-23 00:36:56,956][INFO]: Validation - Epoch: 81, val_loss: 0.1404909\n"
       ]
      },
      {
       "output_type": "stream",
       "stream": "stdout",
       "text": [
        "[2020-10-23 00:37:18,729][INFO]: Train - Epoch: 82, LR: 0.01, train_loss: 0.0970444\n"
       ]
      },
      {
       "output_type": "stream",
       "stream": "stdout",
       "text": [
        "[2020-10-23 00:37:26,687][INFO]: Validation - Epoch: 82, val_loss: 0.1608416\n"
       ]
      },
      {
       "output_type": "stream",
       "stream": "stdout",
       "text": [
        "[2020-10-23 00:37:48,385][INFO]: Train - Epoch: 83, LR: 0.01, train_loss: 0.09675459\n"
       ]
      },
      {
       "output_type": "stream",
       "stream": "stdout",
       "text": [
        "[2020-10-23 00:37:56,422][INFO]: Validation - Epoch: 83, val_loss: 0.1385555\n"
       ]
      },
      {
       "output_type": "stream",
       "stream": "stdout",
       "text": [
        "[2020-10-23 00:37:56,620][INFO]: Model saved to './results/argus2/unet_fold_0/model.pth'\n"
       ]
      },
      {
       "output_type": "stream",
       "stream": "stdout",
       "text": [
        "[2020-10-23 00:37:56,637][INFO]: Model removed './results/argus2/unet_fold_0/model.pth'\n"
       ]
      },
      {
       "output_type": "stream",
       "stream": "stdout",
       "text": [
        "[2020-10-23 00:38:18,314][INFO]: Train - Epoch: 84, LR: 0.01, train_loss: 0.0953944\n"
       ]
      },
      {
       "output_type": "stream",
       "stream": "stdout",
       "text": [
        "[2020-10-23 00:38:26,286][INFO]: Validation - Epoch: 84, val_loss: 0.1453334\n"
       ]
      },
      {
       "output_type": "stream",
       "stream": "stdout",
       "text": [
        "[2020-10-23 00:38:48,062][INFO]: Train - Epoch: 85, LR: 0.01, train_loss: 0.09603366\n"
       ]
      },
      {
       "output_type": "stream",
       "stream": "stdout",
       "text": [
        "[2020-10-23 00:38:55,957][INFO]: Validation - Epoch: 85, val_loss: 0.1441571\n"
       ]
      },
      {
       "output_type": "stream",
       "stream": "stdout",
       "text": [
        "[2020-10-23 00:39:17,644][INFO]: Train - Epoch: 86, LR: 0.01, train_loss: 0.09504821\n"
       ]
      },
      {
       "output_type": "stream",
       "stream": "stdout",
       "text": [
        "[2020-10-23 00:39:25,674][INFO]: Validation - Epoch: 86, val_loss: 0.1396832\n"
       ]
      },
      {
       "output_type": "stream",
       "stream": "stdout",
       "text": [
        "[2020-10-23 00:39:47,350][INFO]: Train - Epoch: 87, LR: 0.01, train_loss: 0.09594296\n"
       ]
      },
      {
       "output_type": "stream",
       "stream": "stdout",
       "text": [
        "[2020-10-23 00:39:55,406][INFO]: Validation - Epoch: 87, val_loss: 0.1404734\n"
       ]
      },
      {
       "output_type": "stream",
       "stream": "stdout",
       "text": [
        "[2020-10-23 00:40:17,383][INFO]: Train - Epoch: 88, LR: 0.01, train_loss: 0.09394057\n"
       ]
      },
      {
       "output_type": "stream",
       "stream": "stdout",
       "text": [
        "[2020-10-23 00:40:25,445][INFO]: Validation - Epoch: 88, val_loss: 0.140454\n"
       ]
      },
      {
       "output_type": "stream",
       "stream": "stdout",
       "text": [
        "[2020-10-23 00:40:47,285][INFO]: Train - Epoch: 89, LR: 0.01, train_loss: 0.09485478\n"
       ]
      },
      {
       "output_type": "stream",
       "stream": "stdout",
       "text": [
        "[2020-10-23 00:40:55,334][INFO]: Validation - Epoch: 89, val_loss: 0.1443915\n"
       ]
      },
      {
       "output_type": "stream",
       "stream": "stdout",
       "text": [
        "[2020-10-23 00:41:17,060][INFO]: Train - Epoch: 90, LR: 0.01, train_loss: 0.09402934\n"
       ]
      },
      {
       "output_type": "stream",
       "stream": "stdout",
       "text": [
        "[2020-10-23 00:41:25,061][INFO]: Validation - Epoch: 90, val_loss: 0.151418\n"
       ]
      },
      {
       "output_type": "stream",
       "stream": "stdout",
       "text": [
        "[2020-10-23 00:41:47,086][INFO]: Train - Epoch: 91, LR: 0.01, train_loss: 0.09429268\n"
       ]
      },
      {
       "output_type": "stream",
       "stream": "stdout",
       "text": [
        "[2020-10-23 00:41:55,153][INFO]: Validation - Epoch: 91, val_loss: 0.1280606\n"
       ]
      },
      {
       "output_type": "stream",
       "stream": "stdout",
       "text": [
        "[2020-10-23 00:41:55,349][INFO]: Model saved to './results/argus2/unet_fold_0/model.pth'\n"
       ]
      },
      {
       "output_type": "stream",
       "stream": "stdout",
       "text": [
        "[2020-10-23 00:41:55,368][INFO]: Model removed './results/argus2/unet_fold_0/model.pth'\n"
       ]
      },
      {
       "output_type": "stream",
       "stream": "stdout",
       "text": [
        "[2020-10-23 00:42:17,166][INFO]: Train - Epoch: 92, LR: 0.01, train_loss: 0.09261076\n"
       ]
      },
      {
       "output_type": "stream",
       "stream": "stdout",
       "text": [
        "[2020-10-23 00:42:25,103][INFO]: Validation - Epoch: 92, val_loss: 0.161489\n"
       ]
      },
      {
       "output_type": "stream",
       "stream": "stdout",
       "text": [
        "[2020-10-23 00:42:46,602][INFO]: Train - Epoch: 93, LR: 0.01, train_loss: 0.09148846\n"
       ]
      },
      {
       "output_type": "stream",
       "stream": "stdout",
       "text": [
        "[2020-10-23 00:42:54,529][INFO]: Validation - Epoch: 93, val_loss: 0.1451527\n"
       ]
      },
      {
       "output_type": "stream",
       "stream": "stdout",
       "text": [
        "[2020-10-23 00:43:16,128][INFO]: Train - Epoch: 94, LR: 0.01, train_loss: 0.09327934\n"
       ]
      },
      {
       "output_type": "stream",
       "stream": "stdout",
       "text": [
        "[2020-10-23 00:43:24,203][INFO]: Validation - Epoch: 94, val_loss: 0.1288499\n"
       ]
      },
      {
       "output_type": "stream",
       "stream": "stdout",
       "text": [
        "[2020-10-23 00:43:46,126][INFO]: Train - Epoch: 95, LR: 0.01, train_loss: 0.09155025\n"
       ]
      },
      {
       "output_type": "stream",
       "stream": "stdout",
       "text": [
        "[2020-10-23 00:43:54,033][INFO]: Validation - Epoch: 95, val_loss: 0.1386564\n"
       ]
      },
      {
       "output_type": "stream",
       "stream": "stdout",
       "text": [
        "[2020-10-23 00:44:16,068][INFO]: Train - Epoch: 96, LR: 0.01, train_loss: 0.09173731\n"
       ]
      },
      {
       "output_type": "stream",
       "stream": "stdout",
       "text": [
        "[2020-10-23 00:44:24,019][INFO]: Validation - Epoch: 96, val_loss: 0.1389758\n"
       ]
      },
      {
       "output_type": "stream",
       "stream": "stdout",
       "text": [
        "[2020-10-23 00:44:46,054][INFO]: Train - Epoch: 97, LR: 0.01, train_loss: 0.08918629\n"
       ]
      },
      {
       "output_type": "stream",
       "stream": "stdout",
       "text": [
        "[2020-10-23 00:44:54,133][INFO]: Validation - Epoch: 97, val_loss: 0.1312891\n"
       ]
      },
      {
       "output_type": "stream",
       "stream": "stdout",
       "text": [
        "[2020-10-23 00:45:15,969][INFO]: Train - Epoch: 98, LR: 0.01, train_loss: 0.09071913\n"
       ]
      },
      {
       "output_type": "stream",
       "stream": "stdout",
       "text": [
        "[2020-10-23 00:45:23,962][INFO]: Validation - Epoch: 98, val_loss: 0.1349212\n"
       ]
      },
      {
       "output_type": "stream",
       "stream": "stdout",
       "text": [
        "[2020-10-23 00:45:45,744][INFO]: Train - Epoch: 99, LR: 0.01, train_loss: 0.09103005\n"
       ]
      },
      {
       "output_type": "stream",
       "stream": "stdout",
       "text": [
        "[2020-10-23 00:45:53,763][INFO]: Validation - Epoch: 99, val_loss: 0.1464264\n"
       ]
      },
      {
       "output_type": "stream",
       "stream": "stderr",
       "text": [
        "/nas/home/fpicetti/miniconda3/envs/geoml/lib/python3.8/site-packages/argus/callbacks/checkpoints.py:52: UserWarning: Directory './results/argus2/unet_fold_1' already exists\n",
        "  warnings.warn(f\"Directory '{dir_path}' already exists\")\n"
       ]
      },
      {
       "output_type": "stream",
       "stream": "stdout",
       "text": [
        "[2020-10-23 00:46:02,134][INFO]: Validation, val_loss: 2.252776\n"
       ]
      },
      {
       "output_type": "stream",
       "stream": "stdout",
       "text": [
        "[2020-10-23 00:46:23,932][INFO]: Train - Epoch: 0, LR: 0.01, train_loss: 1.022636\n"
       ]
      },
      {
       "output_type": "stream",
       "stream": "stdout",
       "text": [
        "[2020-10-23 00:46:31,925][INFO]: Validation - Epoch: 0, val_loss: 1.030776\n"
       ]
      },
      {
       "output_type": "stream",
       "stream": "stdout",
       "text": [
        "[2020-10-23 00:46:32,188][INFO]: Model saved to './results/argus2/unet_fold_1/model.pth'\n"
       ]
      },
      {
       "output_type": "stream",
       "stream": "stdout",
       "text": [
        "[2020-10-23 00:46:54,595][INFO]: Train - Epoch: 1, LR: 0.01, train_loss: 0.8890083\n"
       ]
      },
      {
       "output_type": "stream",
       "stream": "stdout",
       "text": [
        "[2020-10-23 00:47:02,715][INFO]: Validation - Epoch: 1, val_loss: 1.033824\n"
       ]
      },
      {
       "output_type": "stream",
       "stream": "stdout",
       "text": [
        "[2020-10-23 00:47:24,630][INFO]: Train - Epoch: 2, LR: 0.01, train_loss: 0.828645\n"
       ]
      },
      {
       "output_type": "stream",
       "stream": "stdout",
       "text": [
        "[2020-10-23 00:47:32,570][INFO]: Validation - Epoch: 2, val_loss: 0.9722906\n"
       ]
      },
      {
       "output_type": "stream",
       "stream": "stdout",
       "text": [
        "[2020-10-23 00:47:32,767][INFO]: Model saved to './results/argus2/unet_fold_1/model.pth'\n"
       ]
      },
      {
       "output_type": "stream",
       "stream": "stdout",
       "text": [
        "[2020-10-23 00:47:54,655][INFO]: Train - Epoch: 3, LR: 0.01, train_loss: 0.7874135\n"
       ]
      },
      {
       "output_type": "stream",
       "stream": "stdout",
       "text": [
        "[2020-10-23 00:48:02,826][INFO]: Validation - Epoch: 3, val_loss: 0.9819088\n"
       ]
      },
      {
       "output_type": "stream",
       "stream": "stdout",
       "text": [
        "[2020-10-23 00:48:24,807][INFO]: Train - Epoch: 4, LR: 0.01, train_loss: 0.7588326\n"
       ]
      },
      {
       "output_type": "stream",
       "stream": "stdout",
       "text": [
        "[2020-10-23 00:48:32,872][INFO]: Validation - Epoch: 4, val_loss: 0.9688267\n"
       ]
      },
      {
       "output_type": "stream",
       "stream": "stdout",
       "text": [
        "[2020-10-23 00:48:33,084][INFO]: Model saved to './results/argus2/unet_fold_1/model.pth'\n"
       ]
      },
      {
       "output_type": "stream",
       "stream": "stdout",
       "text": [
        "[2020-10-23 00:48:55,083][INFO]: Train - Epoch: 5, LR: 0.01, train_loss: 0.7360454\n"
       ]
      },
      {
       "output_type": "stream",
       "stream": "stdout",
       "text": [
        "[2020-10-23 00:49:03,299][INFO]: Validation - Epoch: 5, val_loss: 0.9282963\n"
       ]
      },
      {
       "output_type": "stream",
       "stream": "stdout",
       "text": [
        "[2020-10-23 00:49:03,514][INFO]: Model saved to './results/argus2/unet_fold_1/model.pth'\n"
       ]
      },
      {
       "output_type": "stream",
       "stream": "stdout",
       "text": [
        "[2020-10-23 00:49:03,521][INFO]: Model removed './results/argus2/unet_fold_1/model.pth'\n"
       ]
      },
      {
       "output_type": "stream",
       "stream": "stdout",
       "text": [
        "[2020-10-23 00:49:25,382][INFO]: Train - Epoch: 6, LR: 0.01, train_loss: 0.7054252\n"
       ]
      },
      {
       "output_type": "stream",
       "stream": "stdout",
       "text": [
        "[2020-10-23 00:49:33,317][INFO]: Validation - Epoch: 6, val_loss: 0.9002211\n"
       ]
      },
      {
       "output_type": "stream",
       "stream": "stdout",
       "text": [
        "[2020-10-23 00:49:33,508][INFO]: Model saved to './results/argus2/unet_fold_1/model.pth'\n"
       ]
      },
      {
       "output_type": "stream",
       "stream": "stdout",
       "text": [
        "[2020-10-23 00:49:33,524][INFO]: Model removed './results/argus2/unet_fold_1/model.pth'\n"
       ]
      },
      {
       "output_type": "stream",
       "stream": "stdout",
       "text": [
        "[2020-10-23 00:49:55,760][INFO]: Train - Epoch: 7, LR: 0.01, train_loss: 0.6678017\n"
       ]
      },
      {
       "output_type": "stream",
       "stream": "stdout",
       "text": [
        "[2020-10-23 00:50:03,914][INFO]: Validation - Epoch: 7, val_loss: 0.894465\n"
       ]
      },
      {
       "output_type": "stream",
       "stream": "stdout",
       "text": [
        "[2020-10-23 00:50:04,173][INFO]: Model saved to './results/argus2/unet_fold_1/model.pth'\n"
       ]
      },
      {
       "output_type": "stream",
       "stream": "stdout",
       "text": [
        "[2020-10-23 00:50:04,200][INFO]: Model removed './results/argus2/unet_fold_1/model.pth'\n"
       ]
      },
      {
       "output_type": "stream",
       "stream": "stdout",
       "text": [
        "[2020-10-23 00:50:25,973][INFO]: Train - Epoch: 8, LR: 0.01, train_loss: 0.6361248\n"
       ]
      },
      {
       "output_type": "stream",
       "stream": "stdout",
       "text": [
        "[2020-10-23 00:50:34,227][INFO]: Validation - Epoch: 8, val_loss: 0.8634063\n"
       ]
      },
      {
       "output_type": "stream",
       "stream": "stdout",
       "text": [
        "[2020-10-23 00:50:34,452][INFO]: Model saved to './results/argus2/unet_fold_1/model.pth'\n"
       ]
      },
      {
       "output_type": "stream",
       "stream": "stdout",
       "text": [
        "[2020-10-23 00:50:34,459][INFO]: Model removed './results/argus2/unet_fold_1/model.pth'\n"
       ]
      },
      {
       "output_type": "stream",
       "stream": "stdout",
       "text": [
        "[2020-10-23 00:50:56,268][INFO]: Train - Epoch: 9, LR: 0.01, train_loss: 0.6081268\n"
       ]
      },
      {
       "output_type": "stream",
       "stream": "stdout",
       "text": [
        "[2020-10-23 00:51:04,278][INFO]: Validation - Epoch: 9, val_loss: 0.8319655\n"
       ]
      },
      {
       "output_type": "stream",
       "stream": "stdout",
       "text": [
        "[2020-10-23 00:51:04,501][INFO]: Model saved to './results/argus2/unet_fold_1/model.pth'\n"
       ]
      },
      {
       "output_type": "stream",
       "stream": "stdout",
       "text": [
        "[2020-10-23 00:51:04,516][INFO]: Model removed './results/argus2/unet_fold_1/model.pth'\n"
       ]
      },
      {
       "output_type": "stream",
       "stream": "stdout",
       "text": [
        "[2020-10-23 00:51:26,126][INFO]: Train - Epoch: 10, LR: 0.01, train_loss: 0.5820461\n"
       ]
      },
      {
       "output_type": "stream",
       "stream": "stdout",
       "text": [
        "[2020-10-23 00:51:34,157][INFO]: Validation - Epoch: 10, val_loss: 0.7849281\n"
       ]
      },
      {
       "output_type": "stream",
       "stream": "stdout",
       "text": [
        "[2020-10-23 00:51:34,360][INFO]: Model saved to './results/argus2/unet_fold_1/model.pth'\n"
       ]
      },
      {
       "output_type": "stream",
       "stream": "stdout",
       "text": [
        "[2020-10-23 00:51:34,382][INFO]: Model removed './results/argus2/unet_fold_1/model.pth'\n"
       ]
      },
      {
       "output_type": "stream",
       "stream": "stdout",
       "text": [
        "[2020-10-23 00:51:55,968][INFO]: Train - Epoch: 11, LR: 0.01, train_loss: 0.5474235\n"
       ]
      },
      {
       "output_type": "stream",
       "stream": "stdout",
       "text": [
        "[2020-10-23 00:52:03,923][INFO]: Validation - Epoch: 11, val_loss: 0.7405258\n"
       ]
      },
      {
       "output_type": "stream",
       "stream": "stdout",
       "text": [
        "[2020-10-23 00:52:04,129][INFO]: Model saved to './results/argus2/unet_fold_1/model.pth'\n"
       ]
      },
      {
       "output_type": "stream",
       "stream": "stdout",
       "text": [
        "[2020-10-23 00:52:04,149][INFO]: Model removed './results/argus2/unet_fold_1/model.pth'\n"
       ]
      },
      {
       "output_type": "stream",
       "stream": "stdout",
       "text": [
        "[2020-10-23 00:52:25,946][INFO]: Train - Epoch: 12, LR: 0.01, train_loss: 0.5073117\n"
       ]
      },
      {
       "output_type": "stream",
       "stream": "stdout",
       "text": [
        "[2020-10-23 00:52:33,962][INFO]: Validation - Epoch: 12, val_loss: 0.7211777\n"
       ]
      },
      {
       "output_type": "stream",
       "stream": "stdout",
       "text": [
        "[2020-10-23 00:52:34,160][INFO]: Model saved to './results/argus2/unet_fold_1/model.pth'\n"
       ]
      },
      {
       "output_type": "stream",
       "stream": "stdout",
       "text": [
        "[2020-10-23 00:52:34,176][INFO]: Model removed './results/argus2/unet_fold_1/model.pth'\n"
       ]
      },
      {
       "output_type": "stream",
       "stream": "stdout",
       "text": [
        "[2020-10-23 00:52:55,988][INFO]: Train - Epoch: 13, LR: 0.01, train_loss: 0.4624366\n"
       ]
      },
      {
       "output_type": "stream",
       "stream": "stdout",
       "text": [
        "[2020-10-23 00:53:04,029][INFO]: Validation - Epoch: 13, val_loss: 0.691413\n"
       ]
      },
      {
       "output_type": "stream",
       "stream": "stdout",
       "text": [
        "[2020-10-23 00:53:04,215][INFO]: Model saved to './results/argus2/unet_fold_1/model.pth'\n"
       ]
      },
      {
       "output_type": "stream",
       "stream": "stdout",
       "text": [
        "[2020-10-23 00:53:04,230][INFO]: Model removed './results/argus2/unet_fold_1/model.pth'\n"
       ]
      },
      {
       "output_type": "stream",
       "stream": "stdout",
       "text": [
        "[2020-10-23 00:53:26,090][INFO]: Train - Epoch: 14, LR: 0.01, train_loss: 0.41962\n"
       ]
      },
      {
       "output_type": "stream",
       "stream": "stdout",
       "text": [
        "[2020-10-23 00:53:34,138][INFO]: Validation - Epoch: 14, val_loss: 0.6586446\n"
       ]
      },
      {
       "output_type": "stream",
       "stream": "stdout",
       "text": [
        "[2020-10-23 00:53:34,342][INFO]: Model saved to './results/argus2/unet_fold_1/model.pth'\n"
       ]
      },
      {
       "output_type": "stream",
       "stream": "stdout",
       "text": [
        "[2020-10-23 00:53:34,360][INFO]: Model removed './results/argus2/unet_fold_1/model.pth'\n"
       ]
      },
      {
       "output_type": "stream",
       "stream": "stdout",
       "text": [
        "[2020-10-23 00:53:56,628][INFO]: Train - Epoch: 15, LR: 0.01, train_loss: 0.3739151\n"
       ]
      },
      {
       "output_type": "stream",
       "stream": "stdout",
       "text": [
        "[2020-10-23 00:54:04,736][INFO]: Validation - Epoch: 15, val_loss: 0.6421389\n"
       ]
      },
      {
       "output_type": "stream",
       "stream": "stdout",
       "text": [
        "[2020-10-23 00:54:04,943][INFO]: Model saved to './results/argus2/unet_fold_1/model.pth'\n"
       ]
      },
      {
       "output_type": "stream",
       "stream": "stdout",
       "text": [
        "[2020-10-23 00:54:04,959][INFO]: Model removed './results/argus2/unet_fold_1/model.pth'\n"
       ]
      },
      {
       "output_type": "stream",
       "stream": "stdout",
       "text": [
        "[2020-10-23 00:54:26,934][INFO]: Train - Epoch: 16, LR: 0.01, train_loss: 0.3357033\n"
       ]
      },
      {
       "output_type": "stream",
       "stream": "stdout",
       "text": [
        "[2020-10-23 00:54:35,000][INFO]: Validation - Epoch: 16, val_loss: 0.6039801\n"
       ]
      },
      {
       "output_type": "stream",
       "stream": "stdout",
       "text": [
        "[2020-10-23 00:54:35,200][INFO]: Model saved to './results/argus2/unet_fold_1/model.pth'\n"
       ]
      },
      {
       "output_type": "stream",
       "stream": "stdout",
       "text": [
        "[2020-10-23 00:54:35,206][INFO]: Model removed './results/argus2/unet_fold_1/model.pth'\n"
       ]
      },
      {
       "output_type": "stream",
       "stream": "stdout",
       "text": [
        "[2020-10-23 00:54:57,041][INFO]: Train - Epoch: 17, LR: 0.01, train_loss: 0.3095809\n"
       ]
      },
      {
       "output_type": "stream",
       "stream": "stdout",
       "text": [
        "[2020-10-23 00:55:05,103][INFO]: Validation - Epoch: 17, val_loss: 0.5210761\n"
       ]
      },
      {
       "output_type": "stream",
       "stream": "stdout",
       "text": [
        "[2020-10-23 00:55:05,300][INFO]: Model saved to './results/argus2/unet_fold_1/model.pth'\n"
       ]
      },
      {
       "output_type": "stream",
       "stream": "stdout",
       "text": [
        "[2020-10-23 00:55:05,316][INFO]: Model removed './results/argus2/unet_fold_1/model.pth'\n"
       ]
      },
      {
       "output_type": "stream",
       "stream": "stdout",
       "text": [
        "[2020-10-23 00:55:27,166][INFO]: Train - Epoch: 18, LR: 0.01, train_loss: 0.2847199\n"
       ]
      },
      {
       "output_type": "stream",
       "stream": "stdout",
       "text": [
        "[2020-10-23 00:55:35,123][INFO]: Validation - Epoch: 18, val_loss: 0.4775129\n"
       ]
      },
      {
       "output_type": "stream",
       "stream": "stdout",
       "text": [
        "[2020-10-23 00:55:35,323][INFO]: Model saved to './results/argus2/unet_fold_1/model.pth'\n"
       ]
      },
      {
       "output_type": "stream",
       "stream": "stdout",
       "text": [
        "[2020-10-23 00:55:35,341][INFO]: Model removed './results/argus2/unet_fold_1/model.pth'\n"
       ]
      },
      {
       "output_type": "stream",
       "stream": "stdout",
       "text": [
        "[2020-10-23 00:55:57,230][INFO]: Train - Epoch: 19, LR: 0.01, train_loss: 0.2699997\n"
       ]
      },
      {
       "output_type": "stream",
       "stream": "stdout",
       "text": [
        "[2020-10-23 00:56:05,316][INFO]: Validation - Epoch: 19, val_loss: 0.4652197\n"
       ]
      },
      {
       "output_type": "stream",
       "stream": "stdout",
       "text": [
        "[2020-10-23 00:56:05,519][INFO]: Model saved to './results/argus2/unet_fold_1/model.pth'\n"
       ]
      },
      {
       "output_type": "stream",
       "stream": "stdout",
       "text": [
        "[2020-10-23 00:56:05,528][INFO]: Model removed './results/argus2/unet_fold_1/model.pth'\n"
       ]
      },
      {
       "output_type": "stream",
       "stream": "stdout",
       "text": [
        "[2020-10-23 00:56:27,500][INFO]: Train - Epoch: 20, LR: 0.01, train_loss: 0.2506184\n"
       ]
      },
      {
       "output_type": "stream",
       "stream": "stdout",
       "text": [
        "[2020-10-23 00:56:35,531][INFO]: Validation - Epoch: 20, val_loss: 0.3551417\n"
       ]
      },
      {
       "output_type": "stream",
       "stream": "stdout",
       "text": [
        "[2020-10-23 00:56:35,726][INFO]: Model saved to './results/argus2/unet_fold_1/model.pth'\n"
       ]
      },
      {
       "output_type": "stream",
       "stream": "stdout",
       "text": [
        "[2020-10-23 00:56:35,733][INFO]: Model removed './results/argus2/unet_fold_1/model.pth'\n"
       ]
      },
      {
       "output_type": "stream",
       "stream": "stdout",
       "text": [
        "[2020-10-23 00:56:57,468][INFO]: Train - Epoch: 21, LR: 0.01, train_loss: 0.2351107\n"
       ]
      },
      {
       "output_type": "stream",
       "stream": "stdout",
       "text": [
        "[2020-10-23 00:57:05,588][INFO]: Validation - Epoch: 21, val_loss: 0.3893833\n"
       ]
      },
      {
       "output_type": "stream",
       "stream": "stdout",
       "text": [
        "[2020-10-23 00:57:27,443][INFO]: Train - Epoch: 22, LR: 0.01, train_loss: 0.2255911\n"
       ]
      },
      {
       "output_type": "stream",
       "stream": "stdout",
       "text": [
        "[2020-10-23 00:57:35,487][INFO]: Validation - Epoch: 22, val_loss: 0.30421\n"
       ]
      },
      {
       "output_type": "stream",
       "stream": "stdout",
       "text": [
        "[2020-10-23 00:57:35,687][INFO]: Model saved to './results/argus2/unet_fold_1/model.pth'\n"
       ]
      },
      {
       "output_type": "stream",
       "stream": "stdout",
       "text": [
        "[2020-10-23 00:57:35,702][INFO]: Model removed './results/argus2/unet_fold_1/model.pth'\n"
       ]
      },
      {
       "output_type": "stream",
       "stream": "stdout",
       "text": [
        "[2020-10-23 00:57:57,437][INFO]: Train - Epoch: 23, LR: 0.01, train_loss: 0.2150026\n"
       ]
      },
      {
       "output_type": "stream",
       "stream": "stdout",
       "text": [
        "[2020-10-23 00:58:05,415][INFO]: Validation - Epoch: 23, val_loss: 0.2805705\n"
       ]
      },
      {
       "output_type": "stream",
       "stream": "stdout",
       "text": [
        "[2020-10-23 00:58:05,601][INFO]: Model saved to './results/argus2/unet_fold_1/model.pth'\n"
       ]
      },
      {
       "output_type": "stream",
       "stream": "stdout",
       "text": [
        "[2020-10-23 00:58:05,617][INFO]: Model removed './results/argus2/unet_fold_1/model.pth'\n"
       ]
      },
      {
       "output_type": "stream",
       "stream": "stdout",
       "text": [
        "[2020-10-23 00:58:27,504][INFO]: Train - Epoch: 24, LR: 0.01, train_loss: 0.2085382\n"
       ]
      },
      {
       "output_type": "stream",
       "stream": "stdout",
       "text": [
        "[2020-10-23 00:58:35,463][INFO]: Validation - Epoch: 24, val_loss: 0.2474012\n"
       ]
      },
      {
       "output_type": "stream",
       "stream": "stdout",
       "text": [
        "[2020-10-23 00:58:35,654][INFO]: Model saved to './results/argus2/unet_fold_1/model.pth'\n"
       ]
      },
      {
       "output_type": "stream",
       "stream": "stdout",
       "text": [
        "[2020-10-23 00:58:35,676][INFO]: Model removed './results/argus2/unet_fold_1/model.pth'\n"
       ]
      },
      {
       "output_type": "stream",
       "stream": "stdout",
       "text": [
        "[2020-10-23 00:58:57,662][INFO]: Train - Epoch: 25, LR: 0.01, train_loss: 0.1999452\n"
       ]
      },
      {
       "output_type": "stream",
       "stream": "stdout",
       "text": [
        "[2020-10-23 00:59:05,781][INFO]: Validation - Epoch: 25, val_loss: 0.2532738\n"
       ]
      },
      {
       "output_type": "stream",
       "stream": "stdout",
       "text": [
        "[2020-10-23 00:59:27,601][INFO]: Train - Epoch: 26, LR: 0.01, train_loss: 0.1907868\n"
       ]
      },
      {
       "output_type": "stream",
       "stream": "stdout",
       "text": [
        "[2020-10-23 00:59:35,507][INFO]: Validation - Epoch: 26, val_loss: 0.2327131\n"
       ]
      },
      {
       "output_type": "stream",
       "stream": "stdout",
       "text": [
        "[2020-10-23 00:59:35,705][INFO]: Model saved to './results/argus2/unet_fold_1/model.pth'\n"
       ]
      },
      {
       "output_type": "stream",
       "stream": "stdout",
       "text": [
        "[2020-10-23 00:59:35,720][INFO]: Model removed './results/argus2/unet_fold_1/model.pth'\n"
       ]
      },
      {
       "output_type": "stream",
       "stream": "stdout",
       "text": [
        "[2020-10-23 00:59:57,625][INFO]: Train - Epoch: 27, LR: 0.01, train_loss: 0.1875507\n"
       ]
      },
      {
       "output_type": "stream",
       "stream": "stdout",
       "text": [
        "[2020-10-23 01:00:05,745][INFO]: Validation - Epoch: 27, val_loss: 0.2728854\n"
       ]
      },
      {
       "output_type": "stream",
       "stream": "stdout",
       "text": [
        "[2020-10-23 01:00:27,539][INFO]: Train - Epoch: 28, LR: 0.01, train_loss: 0.1810561\n"
       ]
      },
      {
       "output_type": "stream",
       "stream": "stdout",
       "text": [
        "[2020-10-23 01:00:35,591][INFO]: Validation - Epoch: 28, val_loss: 0.2401301\n"
       ]
      },
      {
       "output_type": "stream",
       "stream": "stdout",
       "text": [
        "[2020-10-23 01:00:57,425][INFO]: Train - Epoch: 29, LR: 0.01, train_loss: 0.1783283\n"
       ]
      },
      {
       "output_type": "stream",
       "stream": "stdout",
       "text": [
        "[2020-10-23 01:01:05,503][INFO]: Validation - Epoch: 29, val_loss: 0.221243\n"
       ]
      },
      {
       "output_type": "stream",
       "stream": "stdout",
       "text": [
        "[2020-10-23 01:01:05,718][INFO]: Model saved to './results/argus2/unet_fold_1/model.pth'\n"
       ]
      },
      {
       "output_type": "stream",
       "stream": "stdout",
       "text": [
        "[2020-10-23 01:01:05,733][INFO]: Model removed './results/argus2/unet_fold_1/model.pth'\n"
       ]
      },
      {
       "output_type": "stream",
       "stream": "stdout",
       "text": [
        "[2020-10-23 01:01:27,818][INFO]: Train - Epoch: 30, LR: 0.01, train_loss: 0.1722285\n"
       ]
      },
      {
       "output_type": "stream",
       "stream": "stdout",
       "text": [
        "[2020-10-23 01:01:36,054][INFO]: Validation - Epoch: 30, val_loss: 0.219129\n"
       ]
      },
      {
       "output_type": "stream",
       "stream": "stdout",
       "text": [
        "[2020-10-23 01:01:36,245][INFO]: Model saved to './results/argus2/unet_fold_1/model.pth'\n"
       ]
      },
      {
       "output_type": "stream",
       "stream": "stdout",
       "text": [
        "[2020-10-23 01:01:36,258][INFO]: Model removed './results/argus2/unet_fold_1/model.pth'\n"
       ]
      },
      {
       "output_type": "stream",
       "stream": "stdout",
       "text": [
        "[2020-10-23 01:01:58,079][INFO]: Train - Epoch: 31, LR: 0.01, train_loss: 0.1676808\n"
       ]
      },
      {
       "output_type": "stream",
       "stream": "stdout",
       "text": [
        "[2020-10-23 01:02:06,184][INFO]: Validation - Epoch: 31, val_loss: 0.2173063\n"
       ]
      },
      {
       "output_type": "stream",
       "stream": "stdout",
       "text": [
        "[2020-10-23 01:02:06,382][INFO]: Model saved to './results/argus2/unet_fold_1/model.pth'\n"
       ]
      },
      {
       "output_type": "stream",
       "stream": "stdout",
       "text": [
        "[2020-10-23 01:02:06,395][INFO]: Model removed './results/argus2/unet_fold_1/model.pth'\n"
       ]
      },
      {
       "output_type": "stream",
       "stream": "stdout",
       "text": [
        "[2020-10-23 01:02:28,174][INFO]: Train - Epoch: 32, LR: 0.01, train_loss: 0.1643593\n"
       ]
      },
      {
       "output_type": "stream",
       "stream": "stdout",
       "text": [
        "[2020-10-23 01:02:36,285][INFO]: Validation - Epoch: 32, val_loss: 0.2553375\n"
       ]
      },
      {
       "output_type": "stream",
       "stream": "stdout",
       "text": [
        "[2020-10-23 01:02:58,103][INFO]: Train - Epoch: 33, LR: 0.01, train_loss: 0.1624306\n"
       ]
      },
      {
       "output_type": "stream",
       "stream": "stdout",
       "text": [
        "[2020-10-23 01:03:06,289][INFO]: Validation - Epoch: 33, val_loss: 0.2083813\n"
       ]
      },
      {
       "output_type": "stream",
       "stream": "stdout",
       "text": [
        "[2020-10-23 01:03:06,472][INFO]: Model saved to './results/argus2/unet_fold_1/model.pth'\n"
       ]
      },
      {
       "output_type": "stream",
       "stream": "stdout",
       "text": [
        "[2020-10-23 01:03:06,485][INFO]: Model removed './results/argus2/unet_fold_1/model.pth'\n"
       ]
      },
      {
       "output_type": "stream",
       "stream": "stdout",
       "text": [
        "[2020-10-23 01:03:28,480][INFO]: Train - Epoch: 34, LR: 0.01, train_loss: 0.1578426\n"
       ]
      },
      {
       "output_type": "stream",
       "stream": "stdout",
       "text": [
        "[2020-10-23 01:03:36,503][INFO]: Validation - Epoch: 34, val_loss: 0.2148701\n"
       ]
      },
      {
       "output_type": "stream",
       "stream": "stdout",
       "text": [
        "[2020-10-23 01:03:58,446][INFO]: Train - Epoch: 35, LR: 0.01, train_loss: 0.1543256\n"
       ]
      },
      {
       "output_type": "stream",
       "stream": "stdout",
       "text": [
        "[2020-10-23 01:04:06,691][INFO]: Validation - Epoch: 35, val_loss: 0.2271892\n"
       ]
      },
      {
       "output_type": "stream",
       "stream": "stdout",
       "text": [
        "[2020-10-23 01:04:28,591][INFO]: Train - Epoch: 36, LR: 0.01, train_loss: 0.1532336\n"
       ]
      },
      {
       "output_type": "stream",
       "stream": "stdout",
       "text": [
        "[2020-10-23 01:04:36,608][INFO]: Validation - Epoch: 36, val_loss: 0.2019551\n"
       ]
      },
      {
       "output_type": "stream",
       "stream": "stdout",
       "text": [
        "[2020-10-23 01:04:36,808][INFO]: Model saved to './results/argus2/unet_fold_1/model.pth'\n"
       ]
      },
      {
       "output_type": "stream",
       "stream": "stdout",
       "text": [
        "[2020-10-23 01:04:36,822][INFO]: Model removed './results/argus2/unet_fold_1/model.pth'\n"
       ]
      },
      {
       "output_type": "stream",
       "stream": "stdout",
       "text": [
        "[2020-10-23 01:04:58,536][INFO]: Train - Epoch: 37, LR: 0.01, train_loss: 0.1466738\n"
       ]
      },
      {
       "output_type": "stream",
       "stream": "stdout",
       "text": [
        "[2020-10-23 01:05:06,579][INFO]: Validation - Epoch: 37, val_loss: 0.1976799\n"
       ]
      },
      {
       "output_type": "stream",
       "stream": "stdout",
       "text": [
        "[2020-10-23 01:05:06,842][INFO]: Model saved to './results/argus2/unet_fold_1/model.pth'\n"
       ]
      },
      {
       "output_type": "stream",
       "stream": "stdout",
       "text": [
        "[2020-10-23 01:05:06,856][INFO]: Model removed './results/argus2/unet_fold_1/model.pth'\n"
       ]
      },
      {
       "output_type": "stream",
       "stream": "stdout",
       "text": [
        "[2020-10-23 01:05:28,440][INFO]: Train - Epoch: 38, LR: 0.01, train_loss: 0.1459152\n"
       ]
      },
      {
       "output_type": "stream",
       "stream": "stdout",
       "text": [
        "[2020-10-23 01:05:36,577][INFO]: Validation - Epoch: 38, val_loss: 0.2110357\n"
       ]
      },
      {
       "output_type": "stream",
       "stream": "stdout",
       "text": [
        "[2020-10-23 01:05:58,781][INFO]: Train - Epoch: 39, LR: 0.01, train_loss: 0.143252\n"
       ]
      },
      {
       "output_type": "stream",
       "stream": "stdout",
       "text": [
        "[2020-10-23 01:06:06,866][INFO]: Validation - Epoch: 39, val_loss: 0.20597\n"
       ]
      },
      {
       "output_type": "stream",
       "stream": "stdout",
       "text": [
        "[2020-10-23 01:06:28,832][INFO]: Train - Epoch: 40, LR: 0.01, train_loss: 0.1400364\n"
       ]
      },
      {
       "output_type": "stream",
       "stream": "stdout",
       "text": [
        "[2020-10-23 01:06:37,041][INFO]: Validation - Epoch: 40, val_loss: 0.1870325\n"
       ]
      },
      {
       "output_type": "stream",
       "stream": "stdout",
       "text": [
        "[2020-10-23 01:06:37,236][INFO]: Model saved to './results/argus2/unet_fold_1/model.pth'\n"
       ]
      },
      {
       "output_type": "stream",
       "stream": "stdout",
       "text": [
        "[2020-10-23 01:06:37,251][INFO]: Model removed './results/argus2/unet_fold_1/model.pth'\n"
       ]
      },
      {
       "output_type": "stream",
       "stream": "stdout",
       "text": [
        "[2020-10-23 01:06:59,190][INFO]: Train - Epoch: 41, LR: 0.01, train_loss: 0.1381809\n"
       ]
      },
      {
       "output_type": "stream",
       "stream": "stdout",
       "text": [
        "[2020-10-23 01:07:07,377][INFO]: Validation - Epoch: 41, val_loss: 0.1856648\n"
       ]
      },
      {
       "output_type": "stream",
       "stream": "stdout",
       "text": [
        "[2020-10-23 01:07:07,562][INFO]: Model saved to './results/argus2/unet_fold_1/model.pth'\n"
       ]
      },
      {
       "output_type": "stream",
       "stream": "stdout",
       "text": [
        "[2020-10-23 01:07:07,576][INFO]: Model removed './results/argus2/unet_fold_1/model.pth'\n"
       ]
      },
      {
       "output_type": "stream",
       "stream": "stdout",
       "text": [
        "[2020-10-23 01:07:29,313][INFO]: Train - Epoch: 42, LR: 0.01, train_loss: 0.1355834\n"
       ]
      },
      {
       "output_type": "stream",
       "stream": "stdout",
       "text": [
        "[2020-10-23 01:07:37,339][INFO]: Validation - Epoch: 42, val_loss: 0.2531305\n"
       ]
      },
      {
       "output_type": "stream",
       "stream": "stdout",
       "text": [
        "[2020-10-23 01:07:59,430][INFO]: Train - Epoch: 43, LR: 0.01, train_loss: 0.1331938\n"
       ]
      },
      {
       "output_type": "stream",
       "stream": "stdout",
       "text": [
        "[2020-10-23 01:08:07,587][INFO]: Validation - Epoch: 43, val_loss: 0.2101253\n"
       ]
      },
      {
       "output_type": "stream",
       "stream": "stdout",
       "text": [
        "[2020-10-23 01:08:29,304][INFO]: Train - Epoch: 44, LR: 0.01, train_loss: 0.1310961\n"
       ]
      },
      {
       "output_type": "stream",
       "stream": "stdout",
       "text": [
        "[2020-10-23 01:08:37,455][INFO]: Validation - Epoch: 44, val_loss: 0.1834238\n"
       ]
      },
      {
       "output_type": "stream",
       "stream": "stdout",
       "text": [
        "[2020-10-23 01:08:37,679][INFO]: Model saved to './results/argus2/unet_fold_1/model.pth'\n"
       ]
      },
      {
       "output_type": "stream",
       "stream": "stdout",
       "text": [
        "[2020-10-23 01:08:37,694][INFO]: Model removed './results/argus2/unet_fold_1/model.pth'\n"
       ]
      },
      {
       "output_type": "stream",
       "stream": "stdout",
       "text": [
        "[2020-10-23 01:08:59,662][INFO]: Train - Epoch: 45, LR: 0.01, train_loss: 0.1302056\n"
       ]
      },
      {
       "output_type": "stream",
       "stream": "stdout",
       "text": [
        "[2020-10-23 01:09:07,760][INFO]: Validation - Epoch: 45, val_loss: 0.1897154\n"
       ]
      },
      {
       "output_type": "stream",
       "stream": "stdout",
       "text": [
        "[2020-10-23 01:09:29,395][INFO]: Train - Epoch: 46, LR: 0.01, train_loss: 0.1267061\n"
       ]
      },
      {
       "output_type": "stream",
       "stream": "stdout",
       "text": [
        "[2020-10-23 01:09:37,485][INFO]: Validation - Epoch: 46, val_loss: 0.1946067\n"
       ]
      },
      {
       "output_type": "stream",
       "stream": "stdout",
       "text": [
        "[2020-10-23 01:09:59,557][INFO]: Train - Epoch: 47, LR: 0.01, train_loss: 0.1268424\n"
       ]
      },
      {
       "output_type": "stream",
       "stream": "stdout",
       "text": [
        "[2020-10-23 01:10:07,597][INFO]: Validation - Epoch: 47, val_loss: 0.162711\n"
       ]
      },
      {
       "output_type": "stream",
       "stream": "stdout",
       "text": [
        "[2020-10-23 01:10:07,790][INFO]: Model saved to './results/argus2/unet_fold_1/model.pth'\n"
       ]
      },
      {
       "output_type": "stream",
       "stream": "stdout",
       "text": [
        "[2020-10-23 01:10:07,796][INFO]: Model removed './results/argus2/unet_fold_1/model.pth'\n"
       ]
      },
      {
       "output_type": "stream",
       "stream": "stdout",
       "text": [
        "[2020-10-23 01:10:29,466][INFO]: Train - Epoch: 48, LR: 0.01, train_loss: 0.1250471\n"
       ]
      },
      {
       "output_type": "stream",
       "stream": "stdout",
       "text": [
        "[2020-10-23 01:10:37,561][INFO]: Validation - Epoch: 48, val_loss: 0.1645653\n"
       ]
      },
      {
       "output_type": "stream",
       "stream": "stdout",
       "text": [
        "[2020-10-23 01:10:59,314][INFO]: Train - Epoch: 49, LR: 0.01, train_loss: 0.1221841\n"
       ]
      },
      {
       "output_type": "stream",
       "stream": "stdout",
       "text": [
        "[2020-10-23 01:11:07,418][INFO]: Validation - Epoch: 49, val_loss: 0.166446\n"
       ]
      },
      {
       "output_type": "stream",
       "stream": "stdout",
       "text": [
        "[2020-10-23 01:11:29,891][INFO]: Train - Epoch: 50, LR: 0.01, train_loss: 0.1225771\n"
       ]
      },
      {
       "output_type": "stream",
       "stream": "stdout",
       "text": [
        "[2020-10-23 01:11:37,970][INFO]: Validation - Epoch: 50, val_loss: 0.1625612\n"
       ]
      },
      {
       "output_type": "stream",
       "stream": "stdout",
       "text": [
        "[2020-10-23 01:11:38,158][INFO]: Model saved to './results/argus2/unet_fold_1/model.pth'\n"
       ]
      },
      {
       "output_type": "stream",
       "stream": "stdout",
       "text": [
        "[2020-10-23 01:11:38,172][INFO]: Model removed './results/argus2/unet_fold_1/model.pth'\n"
       ]
      },
      {
       "output_type": "stream",
       "stream": "stdout",
       "text": [
        "[2020-10-23 01:12:00,250][INFO]: Train - Epoch: 51, LR: 0.01, train_loss: 0.1278654\n"
       ]
      },
      {
       "output_type": "stream",
       "stream": "stdout",
       "text": [
        "[2020-10-23 01:12:08,435][INFO]: Validation - Epoch: 51, val_loss: 0.210945\n"
       ]
      },
      {
       "output_type": "stream",
       "stream": "stdout",
       "text": [
        "[2020-10-23 01:12:30,303][INFO]: Train - Epoch: 52, LR: 0.01, train_loss: 0.1206324\n"
       ]
      },
      {
       "output_type": "stream",
       "stream": "stdout",
       "text": [
        "[2020-10-23 01:12:38,404][INFO]: Validation - Epoch: 52, val_loss: 0.1650756\n"
       ]
      },
      {
       "output_type": "stream",
       "stream": "stdout",
       "text": [
        "[2020-10-23 01:13:00,448][INFO]: Train - Epoch: 53, LR: 0.01, train_loss: 0.1178869\n"
       ]
      },
      {
       "output_type": "stream",
       "stream": "stdout",
       "text": [
        "[2020-10-23 01:13:08,532][INFO]: Validation - Epoch: 53, val_loss: 0.1723853\n"
       ]
      },
      {
       "output_type": "stream",
       "stream": "stdout",
       "text": [
        "[2020-10-23 01:13:30,443][INFO]: Train - Epoch: 54, LR: 0.01, train_loss: 0.1183541\n"
       ]
      },
      {
       "output_type": "stream",
       "stream": "stdout",
       "text": [
        "[2020-10-23 01:13:38,555][INFO]: Validation - Epoch: 54, val_loss: 0.1591079\n"
       ]
      },
      {
       "output_type": "stream",
       "stream": "stdout",
       "text": [
        "[2020-10-23 01:13:38,765][INFO]: Model saved to './results/argus2/unet_fold_1/model.pth'\n"
       ]
      },
      {
       "output_type": "stream",
       "stream": "stdout",
       "text": [
        "[2020-10-23 01:13:38,780][INFO]: Model removed './results/argus2/unet_fold_1/model.pth'\n"
       ]
      },
      {
       "output_type": "stream",
       "stream": "stdout",
       "text": [
        "[2020-10-23 01:14:00,549][INFO]: Train - Epoch: 55, LR: 0.01, train_loss: 0.1162532\n"
       ]
      },
      {
       "output_type": "stream",
       "stream": "stdout",
       "text": [
        "[2020-10-23 01:14:08,670][INFO]: Validation - Epoch: 55, val_loss: 0.155383\n"
       ]
      },
      {
       "output_type": "stream",
       "stream": "stdout",
       "text": [
        "[2020-10-23 01:14:08,869][INFO]: Model saved to './results/argus2/unet_fold_1/model.pth'\n"
       ]
      },
      {
       "output_type": "stream",
       "stream": "stdout",
       "text": [
        "[2020-10-23 01:14:08,889][INFO]: Model removed './results/argus2/unet_fold_1/model.pth'\n"
       ]
      },
      {
       "output_type": "stream",
       "stream": "stdout",
       "text": [
        "[2020-10-23 01:14:30,665][INFO]: Train - Epoch: 56, LR: 0.01, train_loss: 0.1152754\n"
       ]
      },
      {
       "output_type": "stream",
       "stream": "stdout",
       "text": [
        "[2020-10-23 01:14:39,011][INFO]: Validation - Epoch: 56, val_loss: 0.1503814\n"
       ]
      },
      {
       "output_type": "stream",
       "stream": "stdout",
       "text": [
        "[2020-10-23 01:14:39,222][INFO]: Model saved to './results/argus2/unet_fold_1/model.pth'\n"
       ]
      },
      {
       "output_type": "stream",
       "stream": "stdout",
       "text": [
        "[2020-10-23 01:14:39,238][INFO]: Model removed './results/argus2/unet_fold_1/model.pth'\n"
       ]
      },
      {
       "output_type": "stream",
       "stream": "stdout",
       "text": [
        "[2020-10-23 01:15:01,061][INFO]: Train - Epoch: 57, LR: 0.01, train_loss: 0.1163387\n"
       ]
      },
      {
       "output_type": "stream",
       "stream": "stdout",
       "text": [
        "[2020-10-23 01:15:09,094][INFO]: Validation - Epoch: 57, val_loss: 0.1556112\n"
       ]
      },
      {
       "output_type": "stream",
       "stream": "stdout",
       "text": [
        "[2020-10-23 01:15:30,988][INFO]: Train - Epoch: 58, LR: 0.01, train_loss: 0.1128944\n"
       ]
      },
      {
       "output_type": "stream",
       "stream": "stdout",
       "text": [
        "[2020-10-23 01:15:39,097][INFO]: Validation - Epoch: 58, val_loss: 0.1603863\n"
       ]
      },
      {
       "output_type": "stream",
       "stream": "stdout",
       "text": [
        "[2020-10-23 01:16:01,147][INFO]: Train - Epoch: 59, LR: 0.01, train_loss: 0.1134777\n"
       ]
      },
      {
       "output_type": "stream",
       "stream": "stdout",
       "text": [
        "[2020-10-23 01:16:09,241][INFO]: Validation - Epoch: 59, val_loss: 0.1513377\n"
       ]
      },
      {
       "output_type": "stream",
       "stream": "stdout",
       "text": [
        "[2020-10-23 01:16:31,021][INFO]: Train - Epoch: 60, LR: 0.01, train_loss: 0.111312\n"
       ]
      },
      {
       "output_type": "stream",
       "stream": "stdout",
       "text": [
        "[2020-10-23 01:16:38,995][INFO]: Validation - Epoch: 60, val_loss: 0.1463925\n"
       ]
      },
      {
       "output_type": "stream",
       "stream": "stdout",
       "text": [
        "[2020-10-23 01:16:39,205][INFO]: Model saved to './results/argus2/unet_fold_1/model.pth'\n"
       ]
      },
      {
       "output_type": "stream",
       "stream": "stdout",
       "text": [
        "[2020-10-23 01:16:39,219][INFO]: Model removed './results/argus2/unet_fold_1/model.pth'\n"
       ]
      },
      {
       "output_type": "stream",
       "stream": "stdout",
       "text": [
        "[2020-10-23 01:17:00,958][INFO]: Train - Epoch: 61, LR: 0.01, train_loss: 0.1104615\n"
       ]
      },
      {
       "output_type": "stream",
       "stream": "stdout",
       "text": [
        "[2020-10-23 01:17:09,005][INFO]: Validation - Epoch: 61, val_loss: 0.1490944\n"
       ]
      },
      {
       "output_type": "stream",
       "stream": "stdout",
       "text": [
        "[2020-10-23 01:17:31,010][INFO]: Train - Epoch: 62, LR: 0.01, train_loss: 0.1097858\n"
       ]
      },
      {
       "output_type": "stream",
       "stream": "stdout",
       "text": [
        "[2020-10-23 01:17:39,106][INFO]: Validation - Epoch: 62, val_loss: 0.1427117\n"
       ]
      },
      {
       "output_type": "stream",
       "stream": "stdout",
       "text": [
        "[2020-10-23 01:17:39,314][INFO]: Model saved to './results/argus2/unet_fold_1/model.pth'\n"
       ]
      },
      {
       "output_type": "stream",
       "stream": "stdout",
       "text": [
        "[2020-10-23 01:17:39,331][INFO]: Model removed './results/argus2/unet_fold_1/model.pth'\n"
       ]
      },
      {
       "output_type": "stream",
       "stream": "stdout",
       "text": [
        "[2020-10-23 01:18:01,173][INFO]: Train - Epoch: 63, LR: 0.01, train_loss: 0.1078701\n"
       ]
      },
      {
       "output_type": "stream",
       "stream": "stdout",
       "text": [
        "[2020-10-23 01:18:09,233][INFO]: Validation - Epoch: 63, val_loss: 0.1417108\n"
       ]
      },
      {
       "output_type": "stream",
       "stream": "stdout",
       "text": [
        "[2020-10-23 01:18:09,422][INFO]: Model saved to './results/argus2/unet_fold_1/model.pth'\n"
       ]
      },
      {
       "output_type": "stream",
       "stream": "stdout",
       "text": [
        "[2020-10-23 01:18:09,439][INFO]: Model removed './results/argus2/unet_fold_1/model.pth'\n"
       ]
      },
      {
       "output_type": "stream",
       "stream": "stdout",
       "text": [
        "[2020-10-23 01:18:31,253][INFO]: Train - Epoch: 64, LR: 0.01, train_loss: 0.1078402\n"
       ]
      },
      {
       "output_type": "stream",
       "stream": "stdout",
       "text": [
        "[2020-10-23 01:18:39,414][INFO]: Validation - Epoch: 64, val_loss: 0.1444023\n"
       ]
      },
      {
       "output_type": "stream",
       "stream": "stdout",
       "text": [
        "[2020-10-23 01:19:01,351][INFO]: Train - Epoch: 65, LR: 0.01, train_loss: 0.1069087\n"
       ]
      },
      {
       "output_type": "stream",
       "stream": "stdout",
       "text": [
        "[2020-10-23 01:19:09,733][INFO]: Validation - Epoch: 65, val_loss: 0.1423283\n"
       ]
      },
      {
       "output_type": "stream",
       "stream": "stdout",
       "text": [
        "[2020-10-23 01:19:31,523][INFO]: Train - Epoch: 66, LR: 0.01, train_loss: 0.1066358\n"
       ]
      },
      {
       "output_type": "stream",
       "stream": "stdout",
       "text": [
        "[2020-10-23 01:19:39,570][INFO]: Validation - Epoch: 66, val_loss: 0.1991073\n"
       ]
      },
      {
       "output_type": "stream",
       "stream": "stdout",
       "text": [
        "[2020-10-23 01:20:01,779][INFO]: Train - Epoch: 67, LR: 0.01, train_loss: 0.1070309\n"
       ]
      },
      {
       "output_type": "stream",
       "stream": "stdout",
       "text": [
        "[2020-10-23 01:20:09,770][INFO]: Validation - Epoch: 67, val_loss: 0.1503439\n"
       ]
      },
      {
       "output_type": "stream",
       "stream": "stdout",
       "text": [
        "[2020-10-23 01:20:31,964][INFO]: Train - Epoch: 68, LR: 0.01, train_loss: 0.1059711\n"
       ]
      },
      {
       "output_type": "stream",
       "stream": "stdout",
       "text": [
        "[2020-10-23 01:20:39,985][INFO]: Validation - Epoch: 68, val_loss: 0.1550331\n"
       ]
      },
      {
       "output_type": "stream",
       "stream": "stdout",
       "text": [
        "[2020-10-23 01:21:01,826][INFO]: Train - Epoch: 69, LR: 0.01, train_loss: 0.1037796\n"
       ]
      },
      {
       "output_type": "stream",
       "stream": "stdout",
       "text": [
        "[2020-10-23 01:21:10,326][INFO]: Validation - Epoch: 69, val_loss: 0.1490341\n"
       ]
      },
      {
       "output_type": "stream",
       "stream": "stdout",
       "text": [
        "[2020-10-23 01:21:32,225][INFO]: Train - Epoch: 70, LR: 0.01, train_loss: 0.1026597\n"
       ]
      },
      {
       "output_type": "stream",
       "stream": "stdout",
       "text": [
        "[2020-10-23 01:21:40,424][INFO]: Validation - Epoch: 70, val_loss: 0.1468177\n"
       ]
      },
      {
       "output_type": "stream",
       "stream": "stdout",
       "text": [
        "[2020-10-23 01:22:02,224][INFO]: Train - Epoch: 71, LR: 0.01, train_loss: 0.1035289\n"
       ]
      },
      {
       "output_type": "stream",
       "stream": "stdout",
       "text": [
        "[2020-10-23 01:22:10,322][INFO]: Validation - Epoch: 71, val_loss: 0.1421544\n"
       ]
      },
      {
       "output_type": "stream",
       "stream": "stdout",
       "text": [
        "[2020-10-23 01:22:32,437][INFO]: Train - Epoch: 72, LR: 0.01, train_loss: 0.1007269\n"
       ]
      },
      {
       "output_type": "stream",
       "stream": "stdout",
       "text": [
        "[2020-10-23 01:22:40,399][INFO]: Validation - Epoch: 72, val_loss: 0.1653661\n"
       ]
      },
      {
       "output_type": "stream",
       "stream": "stdout",
       "text": [
        "[2020-10-23 01:23:01,950][INFO]: Train - Epoch: 73, LR: 0.01, train_loss: 0.102967\n"
       ]
      },
      {
       "output_type": "stream",
       "stream": "stdout",
       "text": [
        "[2020-10-23 01:23:10,099][INFO]: Validation - Epoch: 73, val_loss: 0.1370314\n"
       ]
      },
      {
       "output_type": "stream",
       "stream": "stdout",
       "text": [
        "[2020-10-23 01:23:10,298][INFO]: Model saved to './results/argus2/unet_fold_1/model.pth'\n"
       ]
      },
      {
       "output_type": "stream",
       "stream": "stdout",
       "text": [
        "[2020-10-23 01:23:10,313][INFO]: Model removed './results/argus2/unet_fold_1/model.pth'\n"
       ]
      },
      {
       "output_type": "stream",
       "stream": "stdout",
       "text": [
        "[2020-10-23 01:23:32,217][INFO]: Train - Epoch: 74, LR: 0.01, train_loss: 0.100741\n"
       ]
      },
      {
       "output_type": "stream",
       "stream": "stdout",
       "text": [
        "[2020-10-23 01:23:40,249][INFO]: Validation - Epoch: 74, val_loss: 0.1436156\n"
       ]
      },
      {
       "output_type": "stream",
       "stream": "stdout",
       "text": [
        "[2020-10-23 01:24:02,139][INFO]: Train - Epoch: 75, LR: 0.01, train_loss: 0.1001126\n"
       ]
      },
      {
       "output_type": "stream",
       "stream": "stdout",
       "text": [
        "[2020-10-23 01:24:10,238][INFO]: Validation - Epoch: 75, val_loss: 0.1368613\n"
       ]
      },
      {
       "output_type": "stream",
       "stream": "stdout",
       "text": [
        "[2020-10-23 01:24:10,432][INFO]: Model saved to './results/argus2/unet_fold_1/model.pth'\n"
       ]
      },
      {
       "output_type": "stream",
       "stream": "stdout",
       "text": [
        "[2020-10-23 01:24:10,447][INFO]: Model removed './results/argus2/unet_fold_1/model.pth'\n"
       ]
      },
      {
       "output_type": "stream",
       "stream": "stdout",
       "text": [
        "[2020-10-23 01:24:32,302][INFO]: Train - Epoch: 76, LR: 0.01, train_loss: 0.1009699\n"
       ]
      },
      {
       "output_type": "stream",
       "stream": "stdout",
       "text": [
        "[2020-10-23 01:24:40,262][INFO]: Validation - Epoch: 76, val_loss: 0.1451936\n"
       ]
      },
      {
       "output_type": "stream",
       "stream": "stdout",
       "text": [
        "[2020-10-23 01:25:02,204][INFO]: Train - Epoch: 77, LR: 0.01, train_loss: 0.09889752\n"
       ]
      },
      {
       "output_type": "stream",
       "stream": "stdout",
       "text": [
        "[2020-10-23 01:25:10,127][INFO]: Validation - Epoch: 77, val_loss: 0.130919\n"
       ]
      },
      {
       "output_type": "stream",
       "stream": "stdout",
       "text": [
        "[2020-10-23 01:25:10,383][INFO]: Model saved to './results/argus2/unet_fold_1/model.pth'\n"
       ]
      },
      {
       "output_type": "stream",
       "stream": "stdout",
       "text": [
        "[2020-10-23 01:25:10,398][INFO]: Model removed './results/argus2/unet_fold_1/model.pth'\n"
       ]
      },
      {
       "output_type": "stream",
       "stream": "stdout",
       "text": [
        "[2020-10-23 01:25:32,455][INFO]: Train - Epoch: 78, LR: 0.01, train_loss: 0.09809655\n"
       ]
      },
      {
       "output_type": "stream",
       "stream": "stdout",
       "text": [
        "[2020-10-23 01:25:40,521][INFO]: Validation - Epoch: 78, val_loss: 0.1302585\n"
       ]
      },
      {
       "output_type": "stream",
       "stream": "stdout",
       "text": [
        "[2020-10-23 01:25:40,733][INFO]: Model saved to './results/argus2/unet_fold_1/model.pth'\n"
       ]
      },
      {
       "output_type": "stream",
       "stream": "stdout",
       "text": [
        "[2020-10-23 01:25:40,751][INFO]: Model removed './results/argus2/unet_fold_1/model.pth'\n"
       ]
      },
      {
       "output_type": "stream",
       "stream": "stdout",
       "text": [
        "[2020-10-23 01:26:02,492][INFO]: Train - Epoch: 79, LR: 0.01, train_loss: 0.09887264\n"
       ]
      },
      {
       "output_type": "stream",
       "stream": "stdout",
       "text": [
        "[2020-10-23 01:26:10,513][INFO]: Validation - Epoch: 79, val_loss: 0.1338529\n"
       ]
      },
      {
       "output_type": "stream",
       "stream": "stdout",
       "text": [
        "[2020-10-23 01:26:32,524][INFO]: Train - Epoch: 80, LR: 0.01, train_loss: 0.09778208\n"
       ]
      },
      {
       "output_type": "stream",
       "stream": "stdout",
       "text": [
        "[2020-10-23 01:26:40,653][INFO]: Validation - Epoch: 80, val_loss: 0.1350836\n"
       ]
      },
      {
       "output_type": "stream",
       "stream": "stdout",
       "text": [
        "[2020-10-23 01:27:02,566][INFO]: Train - Epoch: 81, LR: 0.01, train_loss: 0.09795781\n"
       ]
      },
      {
       "output_type": "stream",
       "stream": "stdout",
       "text": [
        "[2020-10-23 01:27:10,713][INFO]: Validation - Epoch: 81, val_loss: 0.1342512\n"
       ]
      },
      {
       "output_type": "stream",
       "stream": "stdout",
       "text": [
        "[2020-10-23 01:27:32,801][INFO]: Train - Epoch: 82, LR: 0.01, train_loss: 0.09633135\n"
       ]
      },
      {
       "output_type": "stream",
       "stream": "stdout",
       "text": [
        "[2020-10-23 01:27:40,797][INFO]: Validation - Epoch: 82, val_loss: 0.1369695\n"
       ]
      },
      {
       "output_type": "stream",
       "stream": "stdout",
       "text": [
        "[2020-10-23 01:28:02,873][INFO]: Train - Epoch: 83, LR: 0.01, train_loss: 0.0967025\n"
       ]
      },
      {
       "output_type": "stream",
       "stream": "stdout",
       "text": [
        "[2020-10-23 01:28:11,054][INFO]: Validation - Epoch: 83, val_loss: 0.1281355\n"
       ]
      },
      {
       "output_type": "stream",
       "stream": "stdout",
       "text": [
        "[2020-10-23 01:28:11,256][INFO]: Model saved to './results/argus2/unet_fold_1/model.pth'\n"
       ]
      },
      {
       "output_type": "stream",
       "stream": "stdout",
       "text": [
        "[2020-10-23 01:28:11,275][INFO]: Model removed './results/argus2/unet_fold_1/model.pth'\n"
       ]
      },
      {
       "output_type": "stream",
       "stream": "stdout",
       "text": [
        "[2020-10-23 01:28:33,005][INFO]: Train - Epoch: 84, LR: 0.01, train_loss: 0.09508848\n"
       ]
      },
      {
       "output_type": "stream",
       "stream": "stdout",
       "text": [
        "[2020-10-23 01:28:40,960][INFO]: Validation - Epoch: 84, val_loss: 0.1315546\n"
       ]
      },
      {
       "output_type": "stream",
       "stream": "stdout",
       "text": [
        "[2020-10-23 01:29:02,952][INFO]: Train - Epoch: 85, LR: 0.01, train_loss: 0.09498065\n"
       ]
      },
      {
       "output_type": "stream",
       "stream": "stdout",
       "text": [
        "[2020-10-23 01:29:11,197][INFO]: Validation - Epoch: 85, val_loss: 0.1430201\n"
       ]
      },
      {
       "output_type": "stream",
       "stream": "stdout",
       "text": [
        "[2020-10-23 01:29:33,052][INFO]: Train - Epoch: 86, LR: 0.01, train_loss: 0.09376999\n"
       ]
      },
      {
       "output_type": "stream",
       "stream": "stdout",
       "text": [
        "[2020-10-23 01:29:41,182][INFO]: Validation - Epoch: 86, val_loss: 0.133269\n"
       ]
      },
      {
       "output_type": "stream",
       "stream": "stdout",
       "text": [
        "[2020-10-23 01:30:03,320][INFO]: Train - Epoch: 87, LR: 0.01, train_loss: 0.09352709\n"
       ]
      },
      {
       "output_type": "stream",
       "stream": "stdout",
       "text": [
        "[2020-10-23 01:30:11,554][INFO]: Validation - Epoch: 87, val_loss: 0.1284857\n"
       ]
      },
      {
       "output_type": "stream",
       "stream": "stdout",
       "text": [
        "[2020-10-23 01:30:33,575][INFO]: Train - Epoch: 88, LR: 0.01, train_loss: 0.09345959\n"
       ]
      },
      {
       "output_type": "stream",
       "stream": "stdout",
       "text": [
        "[2020-10-23 01:30:41,802][INFO]: Validation - Epoch: 88, val_loss: 0.1343782\n"
       ]
      },
      {
       "output_type": "stream",
       "stream": "stdout",
       "text": [
        "[2020-10-23 01:31:03,863][INFO]: Train - Epoch: 89, LR: 0.01, train_loss: 0.09439052\n"
       ]
      },
      {
       "output_type": "stream",
       "stream": "stdout",
       "text": [
        "[2020-10-23 01:31:12,146][INFO]: Validation - Epoch: 89, val_loss: 0.1316653\n"
       ]
      },
      {
       "output_type": "stream",
       "stream": "stdout",
       "text": [
        "[2020-10-23 01:31:33,960][INFO]: Train - Epoch: 90, LR: 0.01, train_loss: 0.09441266\n"
       ]
      },
      {
       "output_type": "stream",
       "stream": "stdout",
       "text": [
        "[2020-10-23 01:31:41,950][INFO]: Validation - Epoch: 90, val_loss: 0.1314241\n"
       ]
      },
      {
       "output_type": "stream",
       "stream": "stdout",
       "text": [
        "[2020-10-23 01:32:04,000][INFO]: Train - Epoch: 91, LR: 0.01, train_loss: 0.09411484\n"
       ]
      },
      {
       "output_type": "stream",
       "stream": "stdout",
       "text": [
        "[2020-10-23 01:32:12,038][INFO]: Validation - Epoch: 91, val_loss: 0.1237354\n"
       ]
      },
      {
       "output_type": "stream",
       "stream": "stdout",
       "text": [
        "[2020-10-23 01:32:12,222][INFO]: Model saved to './results/argus2/unet_fold_1/model.pth'\n"
       ]
      },
      {
       "output_type": "stream",
       "stream": "stdout",
       "text": [
        "[2020-10-23 01:32:12,237][INFO]: Model removed './results/argus2/unet_fold_1/model.pth'\n"
       ]
      },
      {
       "output_type": "stream",
       "stream": "stdout",
       "text": [
        "[2020-10-23 01:32:34,248][INFO]: Train - Epoch: 92, LR: 0.01, train_loss: 0.09250147\n"
       ]
      },
      {
       "output_type": "stream",
       "stream": "stdout",
       "text": [
        "[2020-10-23 01:32:42,359][INFO]: Validation - Epoch: 92, val_loss: 0.1382735\n"
       ]
      },
      {
       "output_type": "stream",
       "stream": "stdout",
       "text": [
        "[2020-10-23 01:33:04,409][INFO]: Train - Epoch: 93, LR: 0.01, train_loss: 0.09227978\n"
       ]
      },
      {
       "output_type": "stream",
       "stream": "stdout",
       "text": [
        "[2020-10-23 01:33:12,451][INFO]: Validation - Epoch: 93, val_loss: 0.1337277\n"
       ]
      },
      {
       "output_type": "stream",
       "stream": "stdout",
       "text": [
        "[2020-10-23 01:33:34,614][INFO]: Train - Epoch: 94, LR: 0.01, train_loss: 0.09281682\n"
       ]
      },
      {
       "output_type": "stream",
       "stream": "stdout",
       "text": [
        "[2020-10-23 01:33:42,849][INFO]: Validation - Epoch: 94, val_loss: 0.1218258\n"
       ]
      },
      {
       "output_type": "stream",
       "stream": "stdout",
       "text": [
        "[2020-10-23 01:33:43,039][INFO]: Model saved to './results/argus2/unet_fold_1/model.pth'\n"
       ]
      },
      {
       "output_type": "stream",
       "stream": "stdout",
       "text": [
        "[2020-10-23 01:33:43,057][INFO]: Model removed './results/argus2/unet_fold_1/model.pth'\n"
       ]
      },
      {
       "output_type": "stream",
       "stream": "stdout",
       "text": [
        "[2020-10-23 01:34:05,147][INFO]: Train - Epoch: 95, LR: 0.01, train_loss: 0.09249941\n"
       ]
      },
      {
       "output_type": "stream",
       "stream": "stdout",
       "text": [
        "[2020-10-23 01:34:13,170][INFO]: Validation - Epoch: 95, val_loss: 0.1217945\n"
       ]
      },
      {
       "output_type": "stream",
       "stream": "stdout",
       "text": [
        "[2020-10-23 01:34:13,366][INFO]: Model saved to './results/argus2/unet_fold_1/model.pth'\n"
       ]
      },
      {
       "output_type": "stream",
       "stream": "stdout",
       "text": [
        "[2020-10-23 01:34:13,381][INFO]: Model removed './results/argus2/unet_fold_1/model.pth'\n"
       ]
      },
      {
       "output_type": "stream",
       "stream": "stdout",
       "text": [
        "[2020-10-23 01:34:35,425][INFO]: Train - Epoch: 96, LR: 0.01, train_loss: 0.09073057\n"
       ]
      },
      {
       "output_type": "stream",
       "stream": "stdout",
       "text": [
        "[2020-10-23 01:34:43,584][INFO]: Validation - Epoch: 96, val_loss: 0.1279645\n"
       ]
      },
      {
       "output_type": "stream",
       "stream": "stdout",
       "text": [
        "[2020-10-23 01:35:05,455][INFO]: Train - Epoch: 97, LR: 0.01, train_loss: 0.09084703\n"
       ]
      },
      {
       "output_type": "stream",
       "stream": "stdout",
       "text": [
        "[2020-10-23 01:35:13,518][INFO]: Validation - Epoch: 97, val_loss: 0.1256678\n"
       ]
      },
      {
       "output_type": "stream",
       "stream": "stdout",
       "text": [
        "[2020-10-23 01:35:35,575][INFO]: Train - Epoch: 98, LR: 0.01, train_loss: 0.08919015\n"
       ]
      },
      {
       "output_type": "stream",
       "stream": "stdout",
       "text": [
        "[2020-10-23 01:35:43,543][INFO]: Validation - Epoch: 98, val_loss: 0.1221142\n"
       ]
      },
      {
       "output_type": "stream",
       "stream": "stdout",
       "text": [
        "[2020-10-23 01:36:05,595][INFO]: Train - Epoch: 99, LR: 0.01, train_loss: 0.08892608\n"
       ]
      },
      {
       "output_type": "stream",
       "stream": "stdout",
       "text": [
        "[2020-10-23 01:36:13,720][INFO]: Validation - Epoch: 99, val_loss: 0.120647\n"
       ]
      },
      {
       "output_type": "stream",
       "stream": "stdout",
       "text": [
        "[2020-10-23 01:36:13,924][INFO]: Model saved to './results/argus2/unet_fold_1/model.pth'\n"
       ]
      },
      {
       "output_type": "stream",
       "stream": "stdout",
       "text": [
        "[2020-10-23 01:36:13,938][INFO]: Model removed './results/argus2/unet_fold_1/model.pth'\n"
       ]
      },
      {
       "output_type": "stream",
       "stream": "stdout",
       "text": [
        "[2020-10-23 01:36:25,101][INFO]: Validation, val_loss: 1.746618\n"
       ]
      },
      {
       "output_type": "stream",
       "stream": "stdout",
       "text": [
        "[2020-10-23 01:36:52,575][INFO]: Train - Epoch: 0, LR: 0.01, train_loss: 1.039968\n"
       ]
      },
      {
       "output_type": "stream",
       "stream": "stdout",
       "text": [
        "[2020-10-23 01:37:00,802][INFO]: Validation - Epoch: 0, val_loss: 0.9872926\n"
       ]
      },
      {
       "output_type": "stream",
       "stream": "stdout",
       "text": [
        "[2020-10-23 01:37:01,001][INFO]: Model saved to './results/argus2/unet_fold_2/model.pth'\n"
       ]
      },
      {
       "output_type": "stream",
       "stream": "stdout",
       "text": [
        "[2020-10-23 01:37:23,560][INFO]: Train - Epoch: 1, LR: 0.01, train_loss: 0.9104059\n"
       ]
      },
      {
       "output_type": "stream",
       "stream": "stdout",
       "text": [
        "[2020-10-23 01:37:31,793][INFO]: Validation - Epoch: 1, val_loss: 0.9603234\n"
       ]
      },
      {
       "output_type": "stream",
       "stream": "stdout",
       "text": [
        "[2020-10-23 01:37:32,019][INFO]: Model saved to './results/argus2/unet_fold_2/model.pth'\n"
       ]
      },
      {
       "output_type": "stream",
       "stream": "stdout",
       "text": [
        "[2020-10-23 01:37:54,020][INFO]: Train - Epoch: 2, LR: 0.01, train_loss: 0.8576364\n"
       ]
      },
      {
       "output_type": "stream",
       "stream": "stdout",
       "text": [
        "[2020-10-23 01:38:02,305][INFO]: Validation - Epoch: 2, val_loss: 0.9459688\n"
       ]
      },
      {
       "output_type": "stream",
       "stream": "stdout",
       "text": [
        "[2020-10-23 01:38:02,549][INFO]: Model saved to './results/argus2/unet_fold_2/model.pth'\n"
       ]
      },
      {
       "output_type": "stream",
       "stream": "stdout",
       "text": [
        "[2020-10-23 01:38:24,504][INFO]: Train - Epoch: 3, LR: 0.01, train_loss: 0.8225083\n"
       ]
      },
      {
       "output_type": "stream",
       "stream": "stdout",
       "text": [
        "[2020-10-23 01:38:32,527][INFO]: Validation - Epoch: 3, val_loss: 1.023987\n"
       ]
      },
      {
       "output_type": "stream",
       "stream": "stdout",
       "text": [
        "[2020-10-23 01:38:54,633][INFO]: Train - Epoch: 4, LR: 0.01, train_loss: 0.7938129\n"
       ]
      },
      {
       "output_type": "stream",
       "stream": "stdout",
       "text": [
        "[2020-10-23 01:39:02,809][INFO]: Validation - Epoch: 4, val_loss: 1.044863\n"
       ]
      },
      {
       "output_type": "stream",
       "stream": "stdout",
       "text": [
        "[2020-10-23 01:39:24,599][INFO]: Train - Epoch: 5, LR: 0.01, train_loss: 0.7684791\n"
       ]
      },
      {
       "output_type": "stream",
       "stream": "stdout",
       "text": [
        "[2020-10-23 01:39:32,677][INFO]: Validation - Epoch: 5, val_loss: 1.261211\n"
       ]
      },
      {
       "output_type": "stream",
       "stream": "stdout",
       "text": [
        "[2020-10-23 01:39:54,607][INFO]: Train - Epoch: 6, LR: 0.01, train_loss: 0.7472129\n"
       ]
      },
      {
       "output_type": "stream",
       "stream": "stdout",
       "text": [
        "[2020-10-23 01:40:02,530][INFO]: Validation - Epoch: 6, val_loss: 1.401374\n"
       ]
      },
      {
       "output_type": "stream",
       "stream": "stdout",
       "text": [
        "[2020-10-23 01:40:24,375][INFO]: Train - Epoch: 7, LR: 0.01, train_loss: 0.7250131\n"
       ]
      },
      {
       "output_type": "stream",
       "stream": "stdout",
       "text": [
        "[2020-10-23 01:40:32,591][INFO]: Validation - Epoch: 7, val_loss: 1.22423\n"
       ]
      },
      {
       "output_type": "stream",
       "stream": "stdout",
       "text": [
        "[2020-10-23 01:40:54,577][INFO]: Train - Epoch: 8, LR: 0.01, train_loss: 0.6965515\n"
       ]
      },
      {
       "output_type": "stream",
       "stream": "stdout",
       "text": [
        "[2020-10-23 01:41:02,765][INFO]: Validation - Epoch: 8, val_loss: 1.247658\n"
       ]
      },
      {
       "output_type": "stream",
       "stream": "stdout",
       "text": [
        "[2020-10-23 01:41:24,694][INFO]: Train - Epoch: 9, LR: 0.01, train_loss: 0.6614291\n"
       ]
      },
      {
       "output_type": "stream",
       "stream": "stdout",
       "text": [
        "[2020-10-23 01:41:32,762][INFO]: Validation - Epoch: 9, val_loss: 1.12298\n"
       ]
      },
      {
       "output_type": "stream",
       "stream": "stdout",
       "text": [
        "[2020-10-23 01:41:54,679][INFO]: Train - Epoch: 10, LR: 0.01, train_loss: 0.6254968\n"
       ]
      },
      {
       "output_type": "stream",
       "stream": "stdout",
       "text": [
        "[2020-10-23 01:42:02,783][INFO]: Validation - Epoch: 10, val_loss: 0.9382264\n"
       ]
      },
      {
       "output_type": "stream",
       "stream": "stdout",
       "text": [
        "[2020-10-23 01:42:03,007][INFO]: Model saved to './results/argus2/unet_fold_2/model.pth'\n"
       ]
      },
      {
       "output_type": "stream",
       "stream": "stdout",
       "text": [
        "[2020-10-23 01:42:03,014][INFO]: Model removed './results/argus2/unet_fold_2/model.pth'\n"
       ]
      },
      {
       "output_type": "stream",
       "stream": "stdout",
       "text": [
        "[2020-10-23 01:42:25,014][INFO]: Train - Epoch: 11, LR: 0.01, train_loss: 0.582693\n"
       ]
      },
      {
       "output_type": "stream",
       "stream": "stdout",
       "text": [
        "[2020-10-23 01:42:33,094][INFO]: Validation - Epoch: 11, val_loss: 0.9846926\n"
       ]
      },
      {
       "output_type": "stream",
       "stream": "stdout",
       "text": [
        "[2020-10-23 01:42:55,243][INFO]: Train - Epoch: 12, LR: 0.01, train_loss: 0.5319371\n"
       ]
      },
      {
       "output_type": "stream",
       "stream": "stdout",
       "text": [
        "[2020-10-23 01:43:03,304][INFO]: Validation - Epoch: 12, val_loss: 0.8417949\n"
       ]
      },
      {
       "output_type": "stream",
       "stream": "stdout",
       "text": [
        "[2020-10-23 01:43:03,504][INFO]: Model saved to './results/argus2/unet_fold_2/model.pth'\n"
       ]
      },
      {
       "output_type": "stream",
       "stream": "stdout",
       "text": [
        "[2020-10-23 01:43:03,519][INFO]: Model removed './results/argus2/unet_fold_2/model.pth'\n"
       ]
      },
      {
       "output_type": "stream",
       "stream": "stdout",
       "text": [
        "[2020-10-23 01:43:25,419][INFO]: Train - Epoch: 13, LR: 0.01, train_loss: 0.4843567\n"
       ]
      },
      {
       "output_type": "stream",
       "stream": "stdout",
       "text": [
        "[2020-10-23 01:43:33,637][INFO]: Validation - Epoch: 13, val_loss: 0.7914253\n"
       ]
      },
      {
       "output_type": "stream",
       "stream": "stdout",
       "text": [
        "[2020-10-23 01:43:33,825][INFO]: Model saved to './results/argus2/unet_fold_2/model.pth'\n"
       ]
      },
      {
       "output_type": "stream",
       "stream": "stdout",
       "text": [
        "[2020-10-23 01:43:33,842][INFO]: Model removed './results/argus2/unet_fold_2/model.pth'\n"
       ]
      },
      {
       "output_type": "stream",
       "stream": "stdout",
       "text": [
        "[2020-10-23 01:43:55,832][INFO]: Train - Epoch: 14, LR: 0.01, train_loss: 0.4398154\n"
       ]
      },
      {
       "output_type": "stream",
       "stream": "stdout",
       "text": [
        "[2020-10-23 01:44:03,992][INFO]: Validation - Epoch: 14, val_loss: 0.7376675\n"
       ]
      },
      {
       "output_type": "stream",
       "stream": "stdout",
       "text": [
        "[2020-10-23 01:44:04,184][INFO]: Model saved to './results/argus2/unet_fold_2/model.pth'\n"
       ]
      },
      {
       "output_type": "stream",
       "stream": "stdout",
       "text": [
        "[2020-10-23 01:44:04,198][INFO]: Model removed './results/argus2/unet_fold_2/model.pth'\n"
       ]
      },
      {
       "output_type": "stream",
       "stream": "stdout",
       "text": [
        "[2020-10-23 01:44:26,195][INFO]: Train - Epoch: 15, LR: 0.01, train_loss: 0.4073128\n"
       ]
      },
      {
       "output_type": "stream",
       "stream": "stdout",
       "text": [
        "[2020-10-23 01:44:34,279][INFO]: Validation - Epoch: 15, val_loss: 0.666656\n"
       ]
      },
      {
       "output_type": "stream",
       "stream": "stdout",
       "text": [
        "[2020-10-23 01:44:34,486][INFO]: Model saved to './results/argus2/unet_fold_2/model.pth'\n"
       ]
      },
      {
       "output_type": "stream",
       "stream": "stdout",
       "text": [
        "[2020-10-23 01:44:34,504][INFO]: Model removed './results/argus2/unet_fold_2/model.pth'\n"
       ]
      },
      {
       "output_type": "stream",
       "stream": "stdout",
       "text": [
        "[2020-10-23 01:44:56,413][INFO]: Train - Epoch: 16, LR: 0.01, train_loss: 0.3771728\n"
       ]
      },
      {
       "output_type": "stream",
       "stream": "stdout",
       "text": [
        "[2020-10-23 01:45:04,525][INFO]: Validation - Epoch: 16, val_loss: 0.574503\n"
       ]
      },
      {
       "output_type": "stream",
       "stream": "stdout",
       "text": [
        "[2020-10-23 01:45:04,761][INFO]: Model saved to './results/argus2/unet_fold_2/model.pth'\n"
       ]
      },
      {
       "output_type": "stream",
       "stream": "stdout",
       "text": [
        "[2020-10-23 01:45:04,776][INFO]: Model removed './results/argus2/unet_fold_2/model.pth'\n"
       ]
      },
      {
       "output_type": "stream",
       "stream": "stdout",
       "text": [
        "[2020-10-23 01:45:26,851][INFO]: Train - Epoch: 17, LR: 0.01, train_loss: 0.3435229\n"
       ]
      },
      {
       "output_type": "stream",
       "stream": "stdout",
       "text": [
        "[2020-10-23 01:45:34,935][INFO]: Validation - Epoch: 17, val_loss: 0.5490175\n"
       ]
      },
      {
       "output_type": "stream",
       "stream": "stdout",
       "text": [
        "[2020-10-23 01:45:35,122][INFO]: Model saved to './results/argus2/unet_fold_2/model.pth'\n"
       ]
      },
      {
       "output_type": "stream",
       "stream": "stdout",
       "text": [
        "[2020-10-23 01:45:35,135][INFO]: Model removed './results/argus2/unet_fold_2/model.pth'\n"
       ]
      },
      {
       "output_type": "stream",
       "stream": "stdout",
       "text": [
        "[2020-10-23 01:45:57,229][INFO]: Train - Epoch: 18, LR: 0.01, train_loss: 0.3226728\n"
       ]
      },
      {
       "output_type": "stream",
       "stream": "stdout",
       "text": [
        "[2020-10-23 01:46:05,317][INFO]: Validation - Epoch: 18, val_loss: 0.578297\n"
       ]
      },
      {
       "output_type": "stream",
       "stream": "stdout",
       "text": [
        "[2020-10-23 01:46:27,178][INFO]: Train - Epoch: 19, LR: 0.01, train_loss: 0.3026205\n"
       ]
      },
      {
       "output_type": "stream",
       "stream": "stdout",
       "text": [
        "[2020-10-23 01:46:35,496][INFO]: Validation - Epoch: 19, val_loss: 0.4113497\n"
       ]
      },
      {
       "output_type": "stream",
       "stream": "stdout",
       "text": [
        "[2020-10-23 01:46:35,683][INFO]: Model saved to './results/argus2/unet_fold_2/model.pth'\n"
       ]
      },
      {
       "output_type": "stream",
       "stream": "stdout",
       "text": [
        "[2020-10-23 01:46:35,698][INFO]: Model removed './results/argus2/unet_fold_2/model.pth'\n"
       ]
      },
      {
       "output_type": "stream",
       "stream": "stdout",
       "text": [
        "[2020-10-23 01:46:57,716][INFO]: Train - Epoch: 20, LR: 0.01, train_loss: 0.2788726\n"
       ]
      },
      {
       "output_type": "stream",
       "stream": "stdout",
       "text": [
        "[2020-10-23 01:47:05,878][INFO]: Validation - Epoch: 20, val_loss: 0.4268218\n"
       ]
      },
      {
       "output_type": "stream",
       "stream": "stdout",
       "text": [
        "[2020-10-23 01:47:27,867][INFO]: Train - Epoch: 21, LR: 0.01, train_loss: 0.2639133\n"
       ]
      },
      {
       "output_type": "stream",
       "stream": "stdout",
       "text": [
        "[2020-10-23 01:47:35,979][INFO]: Validation - Epoch: 21, val_loss: 0.357976\n"
       ]
      },
      {
       "output_type": "stream",
       "stream": "stdout",
       "text": [
        "[2020-10-23 01:47:36,174][INFO]: Model saved to './results/argus2/unet_fold_2/model.pth'\n"
       ]
      },
      {
       "output_type": "stream",
       "stream": "stdout",
       "text": [
        "[2020-10-23 01:47:36,197][INFO]: Model removed './results/argus2/unet_fold_2/model.pth'\n"
       ]
      },
      {
       "output_type": "stream",
       "stream": "stdout",
       "text": [
        "[2020-10-23 01:47:58,079][INFO]: Train - Epoch: 22, LR: 0.01, train_loss: 0.2456262\n"
       ]
      },
      {
       "output_type": "stream",
       "stream": "stdout",
       "text": [
        "[2020-10-23 01:48:06,078][INFO]: Validation - Epoch: 22, val_loss: 0.4108121\n"
       ]
      },
      {
       "output_type": "stream",
       "stream": "stdout",
       "text": [
        "[2020-10-23 01:48:28,348][INFO]: Train - Epoch: 23, LR: 0.01, train_loss: 0.2337147\n"
       ]
      },
      {
       "output_type": "stream",
       "stream": "stdout",
       "text": [
        "[2020-10-23 01:48:36,414][INFO]: Validation - Epoch: 23, val_loss: 0.392518\n"
       ]
      },
      {
       "output_type": "stream",
       "stream": "stdout",
       "text": [
        "[2020-10-23 01:48:58,592][INFO]: Train - Epoch: 24, LR: 0.01, train_loss: 0.2251349\n"
       ]
      },
      {
       "output_type": "stream",
       "stream": "stdout",
       "text": [
        "[2020-10-23 01:49:06,626][INFO]: Validation - Epoch: 24, val_loss: 0.2649178\n"
       ]
      },
      {
       "output_type": "stream",
       "stream": "stdout",
       "text": [
        "[2020-10-23 01:49:06,806][INFO]: Model saved to './results/argus2/unet_fold_2/model.pth'\n"
       ]
      },
      {
       "output_type": "stream",
       "stream": "stdout",
       "text": [
        "[2020-10-23 01:49:06,813][INFO]: Model removed './results/argus2/unet_fold_2/model.pth'\n"
       ]
      },
      {
       "output_type": "stream",
       "stream": "stdout",
       "text": [
        "[2020-10-23 01:49:28,685][INFO]: Train - Epoch: 25, LR: 0.01, train_loss: 0.2173712\n"
       ]
      },
      {
       "output_type": "stream",
       "stream": "stdout",
       "text": [
        "[2020-10-23 01:49:36,677][INFO]: Validation - Epoch: 25, val_loss: 0.318534\n"
       ]
      },
      {
       "output_type": "stream",
       "stream": "stdout",
       "text": [
        "[2020-10-23 01:49:58,715][INFO]: Train - Epoch: 26, LR: 0.01, train_loss: 0.2085516\n"
       ]
      },
      {
       "output_type": "stream",
       "stream": "stdout",
       "text": [
        "[2020-10-23 01:50:06,811][INFO]: Validation - Epoch: 26, val_loss: 0.5034887\n"
       ]
      },
      {
       "output_type": "stream",
       "stream": "stdout",
       "text": [
        "[2020-10-23 01:50:28,728][INFO]: Train - Epoch: 27, LR: 0.01, train_loss: 0.200868\n"
       ]
      },
      {
       "output_type": "stream",
       "stream": "stdout",
       "text": [
        "[2020-10-23 01:50:36,848][INFO]: Validation - Epoch: 27, val_loss: 0.306529\n"
       ]
      },
      {
       "output_type": "stream",
       "stream": "stdout",
       "text": [
        "[2020-10-23 01:50:58,477][INFO]: Train - Epoch: 28, LR: 0.01, train_loss: 0.1932737\n"
       ]
      },
      {
       "output_type": "stream",
       "stream": "stdout",
       "text": [
        "[2020-10-23 01:51:06,647][INFO]: Validation - Epoch: 28, val_loss: 0.3849277\n"
       ]
      },
      {
       "output_type": "stream",
       "stream": "stdout",
       "text": [
        "[2020-10-23 01:51:28,775][INFO]: Train - Epoch: 29, LR: 0.01, train_loss: 0.189923\n"
       ]
      },
      {
       "output_type": "stream",
       "stream": "stdout",
       "text": [
        "[2020-10-23 01:51:36,761][INFO]: Validation - Epoch: 29, val_loss: 0.2461952\n"
       ]
      },
      {
       "output_type": "stream",
       "stream": "stdout",
       "text": [
        "[2020-10-23 01:51:36,946][INFO]: Model saved to './results/argus2/unet_fold_2/model.pth'\n"
       ]
      },
      {
       "output_type": "stream",
       "stream": "stdout",
       "text": [
        "[2020-10-23 01:51:36,961][INFO]: Model removed './results/argus2/unet_fold_2/model.pth'\n"
       ]
      },
      {
       "output_type": "stream",
       "stream": "stdout",
       "text": [
        "[2020-10-23 01:51:58,835][INFO]: Train - Epoch: 30, LR: 0.01, train_loss: 0.1793596\n"
       ]
      },
      {
       "output_type": "stream",
       "stream": "stdout",
       "text": [
        "[2020-10-23 01:52:06,996][INFO]: Validation - Epoch: 30, val_loss: 0.3511905\n"
       ]
      },
      {
       "output_type": "stream",
       "stream": "stdout",
       "text": [
        "[2020-10-23 01:52:29,151][INFO]: Train - Epoch: 31, LR: 0.01, train_loss: 0.1781074\n"
       ]
      },
      {
       "output_type": "stream",
       "stream": "stdout",
       "text": [
        "[2020-10-23 01:52:37,262][INFO]: Validation - Epoch: 31, val_loss: 0.2576922\n"
       ]
      },
      {
       "output_type": "stream",
       "stream": "stdout",
       "text": [
        "[2020-10-23 01:52:59,211][INFO]: Train - Epoch: 32, LR: 0.01, train_loss: 0.1703236\n"
       ]
      },
      {
       "output_type": "stream",
       "stream": "stdout",
       "text": [
        "[2020-10-23 01:53:07,166][INFO]: Validation - Epoch: 32, val_loss: 0.2820083\n"
       ]
      },
      {
       "output_type": "stream",
       "stream": "stdout",
       "text": [
        "[2020-10-23 01:53:29,191][INFO]: Train - Epoch: 33, LR: 0.01, train_loss: 0.1679981\n"
       ]
      },
      {
       "output_type": "stream",
       "stream": "stdout",
       "text": [
        "[2020-10-23 01:53:37,089][INFO]: Validation - Epoch: 33, val_loss: 0.5319996\n"
       ]
      },
      {
       "output_type": "stream",
       "stream": "stdout",
       "text": [
        "[2020-10-23 01:53:59,177][INFO]: Train - Epoch: 34, LR: 0.01, train_loss: 0.1610578\n"
       ]
      },
      {
       "output_type": "stream",
       "stream": "stdout",
       "text": [
        "[2020-10-23 01:54:07,125][INFO]: Validation - Epoch: 34, val_loss: 0.2042854\n"
       ]
      },
      {
       "output_type": "stream",
       "stream": "stdout",
       "text": [
        "[2020-10-23 01:54:07,315][INFO]: Model saved to './results/argus2/unet_fold_2/model.pth'\n"
       ]
      },
      {
       "output_type": "stream",
       "stream": "stdout",
       "text": [
        "[2020-10-23 01:54:07,332][INFO]: Model removed './results/argus2/unet_fold_2/model.pth'\n"
       ]
      },
      {
       "output_type": "stream",
       "stream": "stdout",
       "text": [
        "[2020-10-23 01:54:29,440][INFO]: Train - Epoch: 35, LR: 0.01, train_loss: 0.1614099\n"
       ]
      },
      {
       "output_type": "stream",
       "stream": "stdout",
       "text": [
        "[2020-10-23 01:54:37,500][INFO]: Validation - Epoch: 35, val_loss: 0.2213379\n"
       ]
      },
      {
       "output_type": "stream",
       "stream": "stdout",
       "text": [
        "[2020-10-23 01:54:59,529][INFO]: Train - Epoch: 36, LR: 0.01, train_loss: 0.159172\n"
       ]
      },
      {
       "output_type": "stream",
       "stream": "stdout",
       "text": [
        "[2020-10-23 01:55:07,609][INFO]: Validation - Epoch: 36, val_loss: 0.2082979\n"
       ]
      },
      {
       "output_type": "stream",
       "stream": "stdout",
       "text": [
        "[2020-10-23 01:55:29,401][INFO]: Train - Epoch: 37, LR: 0.01, train_loss: 0.1543882\n"
       ]
      },
      {
       "output_type": "stream",
       "stream": "stdout",
       "text": [
        "[2020-10-23 01:55:37,450][INFO]: Validation - Epoch: 37, val_loss: 0.3946731\n"
       ]
      },
      {
       "output_type": "stream",
       "stream": "stdout",
       "text": [
        "[2020-10-23 01:55:59,516][INFO]: Train - Epoch: 38, LR: 0.01, train_loss: 0.1506833\n"
       ]
      },
      {
       "output_type": "stream",
       "stream": "stdout",
       "text": [
        "[2020-10-23 01:56:07,546][INFO]: Validation - Epoch: 38, val_loss: 0.2100641\n"
       ]
      },
      {
       "output_type": "stream",
       "stream": "stdout",
       "text": [
        "[2020-10-23 01:56:29,485][INFO]: Train - Epoch: 39, LR: 0.01, train_loss: 0.14934\n"
       ]
      },
      {
       "output_type": "stream",
       "stream": "stdout",
       "text": [
        "[2020-10-23 01:56:37,585][INFO]: Validation - Epoch: 39, val_loss: 0.2626333\n"
       ]
      },
      {
       "output_type": "stream",
       "stream": "stdout",
       "text": [
        "[2020-10-23 01:56:59,207][INFO]: Train - Epoch: 40, LR: 0.01, train_loss: 0.1479481\n"
       ]
      },
      {
       "output_type": "stream",
       "stream": "stdout",
       "text": [
        "[2020-10-23 01:57:07,476][INFO]: Validation - Epoch: 40, val_loss: 0.1951298\n"
       ]
      },
      {
       "output_type": "stream",
       "stream": "stdout",
       "text": [
        "[2020-10-23 01:57:07,660][INFO]: Model saved to './results/argus2/unet_fold_2/model.pth'\n"
       ]
      },
      {
       "output_type": "stream",
       "stream": "stdout",
       "text": [
        "[2020-10-23 01:57:07,674][INFO]: Model removed './results/argus2/unet_fold_2/model.pth'\n"
       ]
      },
      {
       "output_type": "stream",
       "stream": "stdout",
       "text": [
        "[2020-10-23 01:57:29,852][INFO]: Train - Epoch: 41, LR: 0.01, train_loss: 0.1428577\n"
       ]
      },
      {
       "output_type": "stream",
       "stream": "stdout",
       "text": [
        "[2020-10-23 01:57:37,981][INFO]: Validation - Epoch: 41, val_loss: 0.1929908\n"
       ]
      },
      {
       "output_type": "stream",
       "stream": "stdout",
       "text": [
        "[2020-10-23 01:57:38,171][INFO]: Model saved to './results/argus2/unet_fold_2/model.pth'\n"
       ]
      },
      {
       "output_type": "stream",
       "stream": "stdout",
       "text": [
        "[2020-10-23 01:57:38,185][INFO]: Model removed './results/argus2/unet_fold_2/model.pth'\n"
       ]
      },
      {
       "output_type": "stream",
       "stream": "stdout",
       "text": [
        "[2020-10-23 01:58:00,277][INFO]: Train - Epoch: 42, LR: 0.01, train_loss: 0.1402343\n"
       ]
      },
      {
       "output_type": "stream",
       "stream": "stdout",
       "text": [
        "[2020-10-23 01:58:08,430][INFO]: Validation - Epoch: 42, val_loss: 0.2159322\n"
       ]
      },
      {
       "output_type": "stream",
       "stream": "stdout",
       "text": [
        "[2020-10-23 01:58:30,429][INFO]: Train - Epoch: 43, LR: 0.01, train_loss: 0.1397916\n"
       ]
      },
      {
       "output_type": "stream",
       "stream": "stdout",
       "text": [
        "[2020-10-23 01:58:38,609][INFO]: Validation - Epoch: 43, val_loss: 0.2453221\n"
       ]
      },
      {
       "output_type": "stream",
       "stream": "stdout",
       "text": [
        "[2020-10-23 01:59:00,890][INFO]: Train - Epoch: 44, LR: 0.01, train_loss: 0.138219\n"
       ]
      },
      {
       "output_type": "stream",
       "stream": "stdout",
       "text": [
        "[2020-10-23 01:59:08,865][INFO]: Validation - Epoch: 44, val_loss: 0.1942801\n"
       ]
      },
      {
       "output_type": "stream",
       "stream": "stdout",
       "text": [
        "[2020-10-23 01:59:30,699][INFO]: Train - Epoch: 45, LR: 0.01, train_loss: 0.1341534\n"
       ]
      },
      {
       "output_type": "stream",
       "stream": "stdout",
       "text": [
        "[2020-10-23 01:59:38,886][INFO]: Validation - Epoch: 45, val_loss: 0.1893599\n"
       ]
      },
      {
       "output_type": "stream",
       "stream": "stdout",
       "text": [
        "[2020-10-23 01:59:39,072][INFO]: Model saved to './results/argus2/unet_fold_2/model.pth'\n"
       ]
      },
      {
       "output_type": "stream",
       "stream": "stdout",
       "text": [
        "[2020-10-23 01:59:39,086][INFO]: Model removed './results/argus2/unet_fold_2/model.pth'\n"
       ]
      },
      {
       "output_type": "stream",
       "stream": "stdout",
       "text": [
        "[2020-10-23 02:00:01,067][INFO]: Train - Epoch: 46, LR: 0.01, train_loss: 0.1316077\n"
       ]
      },
      {
       "output_type": "stream",
       "stream": "stdout",
       "text": [
        "[2020-10-23 02:00:09,065][INFO]: Validation - Epoch: 46, val_loss: 0.2189185\n"
       ]
      },
      {
       "output_type": "stream",
       "stream": "stdout",
       "text": [
        "[2020-10-23 02:00:30,956][INFO]: Train - Epoch: 47, LR: 0.01, train_loss: 0.1325854\n"
       ]
      },
      {
       "output_type": "stream",
       "stream": "stdout",
       "text": [
        "[2020-10-23 02:00:38,953][INFO]: Validation - Epoch: 47, val_loss: 0.1919954\n"
       ]
      },
      {
       "output_type": "stream",
       "stream": "stdout",
       "text": [
        "[2020-10-23 02:01:00,605][INFO]: Train - Epoch: 48, LR: 0.01, train_loss: 0.1299807\n"
       ]
      },
      {
       "output_type": "stream",
       "stream": "stdout",
       "text": [
        "[2020-10-23 02:01:08,600][INFO]: Validation - Epoch: 48, val_loss: 0.2454882\n"
       ]
      },
      {
       "output_type": "stream",
       "stream": "stdout",
       "text": [
        "[2020-10-23 02:01:30,716][INFO]: Train - Epoch: 49, LR: 0.01, train_loss: 0.128551\n"
       ]
      },
      {
       "output_type": "stream",
       "stream": "stdout",
       "text": [
        "[2020-10-23 02:01:38,967][INFO]: Validation - Epoch: 49, val_loss: 0.1970637\n"
       ]
      },
      {
       "output_type": "stream",
       "stream": "stdout",
       "text": [
        "[2020-10-23 02:02:00,905][INFO]: Train - Epoch: 50, LR: 0.01, train_loss: 0.1268773\n"
       ]
      },
      {
       "output_type": "stream",
       "stream": "stdout",
       "text": [
        "[2020-10-23 02:02:08,963][INFO]: Validation - Epoch: 50, val_loss: 0.3041778\n"
       ]
      },
      {
       "output_type": "stream",
       "stream": "stdout",
       "text": [
        "[2020-10-23 02:02:31,023][INFO]: Train - Epoch: 51, LR: 0.01, train_loss: 0.1260152\n"
       ]
      },
      {
       "output_type": "stream",
       "stream": "stdout",
       "text": [
        "[2020-10-23 02:02:39,093][INFO]: Validation - Epoch: 51, val_loss: 0.1713081\n"
       ]
      },
      {
       "output_type": "stream",
       "stream": "stdout",
       "text": [
        "[2020-10-23 02:02:39,269][INFO]: Model saved to './results/argus2/unet_fold_2/model.pth'\n"
       ]
      },
      {
       "output_type": "stream",
       "stream": "stdout",
       "text": [
        "[2020-10-23 02:02:39,284][INFO]: Model removed './results/argus2/unet_fold_2/model.pth'\n"
       ]
      },
      {
       "output_type": "stream",
       "stream": "stdout",
       "text": [
        "[2020-10-23 02:03:01,174][INFO]: Train - Epoch: 52, LR: 0.01, train_loss: 0.1253399\n"
       ]
      },
      {
       "output_type": "stream",
       "stream": "stdout",
       "text": [
        "[2020-10-23 02:03:09,178][INFO]: Validation - Epoch: 52, val_loss: 0.1713778\n"
       ]
      },
      {
       "output_type": "stream",
       "stream": "stdout",
       "text": [
        "[2020-10-23 02:03:31,160][INFO]: Train - Epoch: 53, LR: 0.01, train_loss: 0.1202768\n"
       ]
      },
      {
       "output_type": "stream",
       "stream": "stdout",
       "text": [
        "[2020-10-23 02:03:39,184][INFO]: Validation - Epoch: 53, val_loss: 0.1688144\n"
       ]
      },
      {
       "output_type": "stream",
       "stream": "stdout",
       "text": [
        "[2020-10-23 02:03:39,467][INFO]: Model saved to './results/argus2/unet_fold_2/model.pth'\n"
       ]
      },
      {
       "output_type": "stream",
       "stream": "stdout",
       "text": [
        "[2020-10-23 02:03:39,482][INFO]: Model removed './results/argus2/unet_fold_2/model.pth'\n"
       ]
      },
      {
       "output_type": "stream",
       "stream": "stdout",
       "text": [
        "[2020-10-23 02:04:01,261][INFO]: Train - Epoch: 54, LR: 0.01, train_loss: 0.120749\n"
       ]
      },
      {
       "output_type": "stream",
       "stream": "stdout",
       "text": [
        "[2020-10-23 02:04:09,332][INFO]: Validation - Epoch: 54, val_loss: 0.1665947\n"
       ]
      },
      {
       "output_type": "stream",
       "stream": "stdout",
       "text": [
        "[2020-10-23 02:04:09,516][INFO]: Model saved to './results/argus2/unet_fold_2/model.pth'\n"
       ]
      },
      {
       "output_type": "stream",
       "stream": "stdout",
       "text": [
        "[2020-10-23 02:04:09,530][INFO]: Model removed './results/argus2/unet_fold_2/model.pth'\n"
       ]
      },
      {
       "output_type": "stream",
       "stream": "stdout",
       "text": [
        "[2020-10-23 02:04:31,253][INFO]: Train - Epoch: 55, LR: 0.01, train_loss: 0.12168\n"
       ]
      },
      {
       "output_type": "stream",
       "stream": "stdout",
       "text": [
        "[2020-10-23 02:04:39,165][INFO]: Validation - Epoch: 55, val_loss: 0.2284103\n"
       ]
      },
      {
       "output_type": "stream",
       "stream": "stdout",
       "text": [
        "[2020-10-23 02:05:01,386][INFO]: Train - Epoch: 56, LR: 0.01, train_loss: 0.119503\n"
       ]
      },
      {
       "output_type": "stream",
       "stream": "stdout",
       "text": [
        "[2020-10-23 02:05:09,513][INFO]: Validation - Epoch: 56, val_loss: 0.159454\n"
       ]
      },
      {
       "output_type": "stream",
       "stream": "stdout",
       "text": [
        "[2020-10-23 02:05:09,830][INFO]: Model saved to './results/argus2/unet_fold_2/model.pth'\n"
       ]
      },
      {
       "output_type": "stream",
       "stream": "stdout",
       "text": [
        "[2020-10-23 02:05:09,837][INFO]: Model removed './results/argus2/unet_fold_2/model.pth'\n"
       ]
      },
      {
       "output_type": "stream",
       "stream": "stdout",
       "text": [
        "[2020-10-23 02:05:32,005][INFO]: Train - Epoch: 57, LR: 0.01, train_loss: 0.118412\n"
       ]
      },
      {
       "output_type": "stream",
       "stream": "stdout",
       "text": [
        "[2020-10-23 02:05:39,978][INFO]: Validation - Epoch: 57, val_loss: 0.153001\n"
       ]
      },
      {
       "output_type": "stream",
       "stream": "stdout",
       "text": [
        "[2020-10-23 02:05:40,174][INFO]: Model saved to './results/argus2/unet_fold_2/model.pth'\n"
       ]
      },
      {
       "output_type": "stream",
       "stream": "stdout",
       "text": [
        "[2020-10-23 02:05:40,191][INFO]: Model removed './results/argus2/unet_fold_2/model.pth'\n"
       ]
      },
      {
       "output_type": "stream",
       "stream": "stdout",
       "text": [
        "[2020-10-23 02:06:02,409][INFO]: Train - Epoch: 58, LR: 0.01, train_loss: 0.1159908\n"
       ]
      },
      {
       "output_type": "stream",
       "stream": "stdout",
       "text": [
        "[2020-10-23 02:06:10,517][INFO]: Validation - Epoch: 58, val_loss: 0.1554765\n"
       ]
      },
      {
       "output_type": "stream",
       "stream": "stdout",
       "text": [
        "[2020-10-23 02:06:32,583][INFO]: Train - Epoch: 59, LR: 0.01, train_loss: 0.1149373\n"
       ]
      },
      {
       "output_type": "stream",
       "stream": "stdout",
       "text": [
        "[2020-10-23 02:06:40,584][INFO]: Validation - Epoch: 59, val_loss: 0.1878551\n"
       ]
      },
      {
       "output_type": "stream",
       "stream": "stdout",
       "text": [
        "[2020-10-23 02:07:02,772][INFO]: Train - Epoch: 60, LR: 0.01, train_loss: 0.1138054\n"
       ]
      },
      {
       "output_type": "stream",
       "stream": "stdout",
       "text": [
        "[2020-10-23 02:07:11,060][INFO]: Validation - Epoch: 60, val_loss: 0.1600365\n"
       ]
      },
      {
       "output_type": "stream",
       "stream": "stdout",
       "text": [
        "[2020-10-23 02:07:32,840][INFO]: Train - Epoch: 61, LR: 0.01, train_loss: 0.1140725\n"
       ]
      },
      {
       "output_type": "stream",
       "stream": "stdout",
       "text": [
        "[2020-10-23 02:07:40,972][INFO]: Validation - Epoch: 61, val_loss: 0.1565941\n"
       ]
      },
      {
       "output_type": "stream",
       "stream": "stdout",
       "text": [
        "[2020-10-23 02:08:02,872][INFO]: Train - Epoch: 62, LR: 0.01, train_loss: 0.1136917\n"
       ]
      },
      {
       "output_type": "stream",
       "stream": "stdout",
       "text": [
        "[2020-10-23 02:08:10,992][INFO]: Validation - Epoch: 62, val_loss: 0.1497203\n"
       ]
      },
      {
       "output_type": "stream",
       "stream": "stdout",
       "text": [
        "[2020-10-23 02:08:11,177][INFO]: Model saved to './results/argus2/unet_fold_2/model.pth'\n"
       ]
      },
      {
       "output_type": "stream",
       "stream": "stdout",
       "text": [
        "[2020-10-23 02:08:11,193][INFO]: Model removed './results/argus2/unet_fold_2/model.pth'\n"
       ]
      },
      {
       "output_type": "stream",
       "stream": "stdout",
       "text": [
        "[2020-10-23 02:08:33,079][INFO]: Train - Epoch: 63, LR: 0.01, train_loss: 0.1098764\n"
       ]
      },
      {
       "output_type": "stream",
       "stream": "stdout",
       "text": [
        "[2020-10-23 02:08:41,115][INFO]: Validation - Epoch: 63, val_loss: 0.1528505\n"
       ]
      },
      {
       "output_type": "stream",
       "stream": "stdout",
       "text": [
        "[2020-10-23 02:09:03,377][INFO]: Train - Epoch: 64, LR: 0.01, train_loss: 0.1108432\n"
       ]
      },
      {
       "output_type": "stream",
       "stream": "stdout",
       "text": [
        "[2020-10-23 02:09:11,381][INFO]: Validation - Epoch: 64, val_loss: 0.1924466\n"
       ]
      },
      {
       "output_type": "stream",
       "stream": "stdout",
       "text": [
        "[2020-10-23 02:09:33,082][INFO]: Train - Epoch: 65, LR: 0.01, train_loss: 0.1102575\n"
       ]
      },
      {
       "output_type": "stream",
       "stream": "stdout",
       "text": [
        "[2020-10-23 02:09:41,247][INFO]: Validation - Epoch: 65, val_loss: 0.1605533\n"
       ]
      },
      {
       "output_type": "stream",
       "stream": "stdout",
       "text": [
        "[2020-10-23 02:10:03,217][INFO]: Train - Epoch: 66, LR: 0.01, train_loss: 0.1096843\n"
       ]
      },
      {
       "output_type": "stream",
       "stream": "stdout",
       "text": [
        "[2020-10-23 02:10:11,280][INFO]: Validation - Epoch: 66, val_loss: 0.1935711\n"
       ]
      },
      {
       "output_type": "stream",
       "stream": "stdout",
       "text": [
        "[2020-10-23 02:10:33,359][INFO]: Train - Epoch: 67, LR: 0.01, train_loss: 0.1092758\n"
       ]
      },
      {
       "output_type": "stream",
       "stream": "stdout",
       "text": [
        "[2020-10-23 02:10:41,420][INFO]: Validation - Epoch: 67, val_loss: 0.1673471\n"
       ]
      },
      {
       "output_type": "stream",
       "stream": "stdout",
       "text": [
        "[2020-10-23 02:11:03,608][INFO]: Train - Epoch: 68, LR: 0.01, train_loss: 0.1082866\n"
       ]
      },
      {
       "output_type": "stream",
       "stream": "stdout",
       "text": [
        "[2020-10-23 02:11:11,737][INFO]: Validation - Epoch: 68, val_loss: 0.1644596\n"
       ]
      },
      {
       "output_type": "stream",
       "stream": "stdout",
       "text": [
        "[2020-10-23 02:11:33,863][INFO]: Train - Epoch: 69, LR: 0.01, train_loss: 0.1068749\n"
       ]
      },
      {
       "output_type": "stream",
       "stream": "stdout",
       "text": [
        "[2020-10-23 02:11:41,879][INFO]: Validation - Epoch: 69, val_loss: 0.1436487\n"
       ]
      },
      {
       "output_type": "stream",
       "stream": "stdout",
       "text": [
        "[2020-10-23 02:11:42,080][INFO]: Model saved to './results/argus2/unet_fold_2/model.pth'\n"
       ]
      },
      {
       "output_type": "stream",
       "stream": "stdout",
       "text": [
        "[2020-10-23 02:11:42,099][INFO]: Model removed './results/argus2/unet_fold_2/model.pth'\n"
       ]
      },
      {
       "output_type": "stream",
       "stream": "stdout",
       "text": [
        "[2020-10-23 02:12:03,917][INFO]: Train - Epoch: 70, LR: 0.01, train_loss: 0.1047585\n"
       ]
      },
      {
       "output_type": "stream",
       "stream": "stdout",
       "text": [
        "[2020-10-23 02:12:12,148][INFO]: Validation - Epoch: 70, val_loss: 0.1456176\n"
       ]
      },
      {
       "output_type": "stream",
       "stream": "stdout",
       "text": [
        "[2020-10-23 02:12:34,193][INFO]: Train - Epoch: 71, LR: 0.01, train_loss: 0.1041673\n"
       ]
      },
      {
       "output_type": "stream",
       "stream": "stdout",
       "text": [
        "[2020-10-23 02:12:42,208][INFO]: Validation - Epoch: 71, val_loss: 0.1555282\n"
       ]
      },
      {
       "output_type": "stream",
       "stream": "stdout",
       "text": [
        "[2020-10-23 02:13:04,251][INFO]: Train - Epoch: 72, LR: 0.01, train_loss: 0.1040691\n"
       ]
      },
      {
       "output_type": "stream",
       "stream": "stdout",
       "text": [
        "[2020-10-23 02:13:12,322][INFO]: Validation - Epoch: 72, val_loss: 0.1570374\n"
       ]
      },
      {
       "output_type": "stream",
       "stream": "stdout",
       "text": [
        "[2020-10-23 02:13:34,225][INFO]: Train - Epoch: 73, LR: 0.01, train_loss: 0.1029901\n"
       ]
      },
      {
       "output_type": "stream",
       "stream": "stdout",
       "text": [
        "[2020-10-23 02:13:42,359][INFO]: Validation - Epoch: 73, val_loss: 0.1376048\n"
       ]
      },
      {
       "output_type": "stream",
       "stream": "stdout",
       "text": [
        "[2020-10-23 02:13:42,606][INFO]: Model saved to './results/argus2/unet_fold_2/model.pth'\n"
       ]
      },
      {
       "output_type": "stream",
       "stream": "stdout",
       "text": [
        "[2020-10-23 02:13:42,622][INFO]: Model removed './results/argus2/unet_fold_2/model.pth'\n"
       ]
      },
      {
       "output_type": "stream",
       "stream": "stdout",
       "text": [
        "[2020-10-23 02:14:04,572][INFO]: Train - Epoch: 74, LR: 0.01, train_loss: 0.1034911\n"
       ]
      },
      {
       "output_type": "stream",
       "stream": "stdout",
       "text": [
        "[2020-10-23 02:14:12,741][INFO]: Validation - Epoch: 74, val_loss: 0.1514766\n"
       ]
      },
      {
       "output_type": "stream",
       "stream": "stdout",
       "text": [
        "[2020-10-23 02:14:35,170][INFO]: Train - Epoch: 75, LR: 0.01, train_loss: 0.1022407\n"
       ]
      },
      {
       "output_type": "stream",
       "stream": "stdout",
       "text": [
        "[2020-10-23 02:14:43,200][INFO]: Validation - Epoch: 75, val_loss: 0.138363\n"
       ]
      },
      {
       "output_type": "stream",
       "stream": "stdout",
       "text": [
        "[2020-10-23 02:15:05,149][INFO]: Train - Epoch: 76, LR: 0.01, train_loss: 0.1019259\n"
       ]
      },
      {
       "output_type": "stream",
       "stream": "stdout",
       "text": [
        "[2020-10-23 02:15:13,265][INFO]: Validation - Epoch: 76, val_loss: 0.1580691\n"
       ]
      },
      {
       "output_type": "stream",
       "stream": "stdout",
       "text": [
        "[2020-10-23 02:15:35,252][INFO]: Train - Epoch: 77, LR: 0.01, train_loss: 0.0988135\n"
       ]
      },
      {
       "output_type": "stream",
       "stream": "stdout",
       "text": [
        "[2020-10-23 02:15:43,415][INFO]: Validation - Epoch: 77, val_loss: 0.1349362\n"
       ]
      },
      {
       "output_type": "stream",
       "stream": "stdout",
       "text": [
        "[2020-10-23 02:15:43,617][INFO]: Model saved to './results/argus2/unet_fold_2/model.pth'\n"
       ]
      },
      {
       "output_type": "stream",
       "stream": "stdout",
       "text": [
        "[2020-10-23 02:15:43,632][INFO]: Model removed './results/argus2/unet_fold_2/model.pth'\n"
       ]
      },
      {
       "output_type": "stream",
       "stream": "stdout",
       "text": [
        "[2020-10-23 02:16:05,571][INFO]: Train - Epoch: 78, LR: 0.01, train_loss: 0.1008288\n"
       ]
      },
      {
       "output_type": "stream",
       "stream": "stdout",
       "text": [
        "[2020-10-23 02:16:13,701][INFO]: Validation - Epoch: 78, val_loss: 0.1375886\n"
       ]
      },
      {
       "output_type": "stream",
       "stream": "stdout",
       "text": [
        "[2020-10-23 02:16:35,755][INFO]: Train - Epoch: 79, LR: 0.01, train_loss: 0.1010951\n"
       ]
      },
      {
       "output_type": "stream",
       "stream": "stdout",
       "text": [
        "[2020-10-23 02:16:44,007][INFO]: Validation - Epoch: 79, val_loss: 0.1321098\n"
       ]
      },
      {
       "output_type": "stream",
       "stream": "stdout",
       "text": [
        "[2020-10-23 02:16:44,270][INFO]: Model saved to './results/argus2/unet_fold_2/model.pth'\n"
       ]
      },
      {
       "output_type": "stream",
       "stream": "stdout",
       "text": [
        "[2020-10-23 02:16:44,283][INFO]: Model removed './results/argus2/unet_fold_2/model.pth'\n"
       ]
      },
      {
       "output_type": "stream",
       "stream": "stdout",
       "text": [
        "[2020-10-23 02:17:06,054][INFO]: Train - Epoch: 80, LR: 0.01, train_loss: 0.1007173\n"
       ]
      },
      {
       "output_type": "stream",
       "stream": "stdout",
       "text": [
        "[2020-10-23 02:17:14,026][INFO]: Validation - Epoch: 80, val_loss: 0.136083\n"
       ]
      },
      {
       "output_type": "stream",
       "stream": "stdout",
       "text": [
        "[2020-10-23 02:17:36,121][INFO]: Train - Epoch: 81, LR: 0.01, train_loss: 0.09905582\n"
       ]
      },
      {
       "output_type": "stream",
       "stream": "stdout",
       "text": [
        "[2020-10-23 02:17:44,133][INFO]: Validation - Epoch: 81, val_loss: 0.161306\n"
       ]
      },
      {
       "output_type": "stream",
       "stream": "stdout",
       "text": [
        "[2020-10-23 02:18:05,847][INFO]: Train - Epoch: 82, LR: 0.01, train_loss: 0.09883484\n"
       ]
      },
      {
       "output_type": "stream",
       "stream": "stdout",
       "text": [
        "[2020-10-23 02:18:13,846][INFO]: Validation - Epoch: 82, val_loss: 0.1345241\n"
       ]
      },
      {
       "output_type": "stream",
       "stream": "stdout",
       "text": [
        "[2020-10-23 02:18:35,856][INFO]: Train - Epoch: 83, LR: 0.01, train_loss: 0.0992574\n"
       ]
      },
      {
       "output_type": "stream",
       "stream": "stdout",
       "text": [
        "[2020-10-23 02:18:43,860][INFO]: Validation - Epoch: 83, val_loss: 0.1522001\n"
       ]
      },
      {
       "output_type": "stream",
       "stream": "stdout",
       "text": [
        "[2020-10-23 02:19:05,703][INFO]: Train - Epoch: 84, LR: 0.01, train_loss: 0.09799145\n"
       ]
      },
      {
       "output_type": "stream",
       "stream": "stdout",
       "text": [
        "[2020-10-23 02:19:13,751][INFO]: Validation - Epoch: 84, val_loss: 0.1518679\n"
       ]
      },
      {
       "output_type": "stream",
       "stream": "stdout",
       "text": [
        "[2020-10-23 02:19:35,610][INFO]: Train - Epoch: 85, LR: 0.01, train_loss: 0.09655887\n"
       ]
      },
      {
       "output_type": "stream",
       "stream": "stdout",
       "text": [
        "[2020-10-23 02:19:43,899][INFO]: Validation - Epoch: 85, val_loss: 0.1396504\n"
       ]
      },
      {
       "output_type": "stream",
       "stream": "stdout",
       "text": [
        "[2020-10-23 02:20:05,948][INFO]: Train - Epoch: 86, LR: 0.01, train_loss: 0.0960317\n"
       ]
      },
      {
       "output_type": "stream",
       "stream": "stdout",
       "text": [
        "[2020-10-23 02:20:14,426][INFO]: Validation - Epoch: 86, val_loss: 0.1257537\n"
       ]
      },
      {
       "output_type": "stream",
       "stream": "stdout",
       "text": [
        "[2020-10-23 02:20:14,627][INFO]: Model saved to './results/argus2/unet_fold_2/model.pth'\n"
       ]
      },
      {
       "output_type": "stream",
       "stream": "stdout",
       "text": [
        "[2020-10-23 02:20:14,644][INFO]: Model removed './results/argus2/unet_fold_2/model.pth'\n"
       ]
      },
      {
       "output_type": "stream",
       "stream": "stdout",
       "text": [
        "[2020-10-23 02:20:36,756][INFO]: Train - Epoch: 87, LR: 0.01, train_loss: 0.09643469\n"
       ]
      },
      {
       "output_type": "stream",
       "stream": "stdout",
       "text": [
        "[2020-10-23 02:20:44,870][INFO]: Validation - Epoch: 87, val_loss: 0.1425532\n"
       ]
      },
      {
       "output_type": "stream",
       "stream": "stdout",
       "text": [
        "[2020-10-23 02:21:07,160][INFO]: Train - Epoch: 88, LR: 0.01, train_loss: 0.09677432\n"
       ]
      },
      {
       "output_type": "stream",
       "stream": "stdout",
       "text": [
        "[2020-10-23 02:21:15,177][INFO]: Validation - Epoch: 88, val_loss: 0.1502523\n"
       ]
      },
      {
       "output_type": "stream",
       "stream": "stdout",
       "text": [
        "[2020-10-23 02:21:37,190][INFO]: Train - Epoch: 89, LR: 0.01, train_loss: 0.09519499\n"
       ]
      },
      {
       "output_type": "stream",
       "stream": "stdout",
       "text": [
        "[2020-10-23 02:21:45,250][INFO]: Validation - Epoch: 89, val_loss: 0.1487537\n"
       ]
      },
      {
       "output_type": "stream",
       "stream": "stdout",
       "text": [
        "[2020-10-23 02:22:07,470][INFO]: Train - Epoch: 90, LR: 0.01, train_loss: 0.09489966\n"
       ]
      },
      {
       "output_type": "stream",
       "stream": "stdout",
       "text": [
        "[2020-10-23 02:22:15,488][INFO]: Validation - Epoch: 90, val_loss: 0.1325796\n"
       ]
      },
      {
       "output_type": "stream",
       "stream": "stdout",
       "text": [
        "[2020-10-23 02:22:37,417][INFO]: Train - Epoch: 91, LR: 0.01, train_loss: 0.09449581\n"
       ]
      },
      {
       "output_type": "stream",
       "stream": "stdout",
       "text": [
        "[2020-10-23 02:22:45,600][INFO]: Validation - Epoch: 91, val_loss: 0.1804818\n"
       ]
      },
      {
       "output_type": "stream",
       "stream": "stdout",
       "text": [
        "[2020-10-23 02:23:07,661][INFO]: Train - Epoch: 92, LR: 0.01, train_loss: 0.09347476\n"
       ]
      },
      {
       "output_type": "stream",
       "stream": "stdout",
       "text": [
        "[2020-10-23 02:23:15,666][INFO]: Validation - Epoch: 92, val_loss: 0.1334092\n"
       ]
      },
      {
       "output_type": "stream",
       "stream": "stdout",
       "text": [
        "[2020-10-23 02:23:37,322][INFO]: Train - Epoch: 93, LR: 0.01, train_loss: 0.09369985\n"
       ]
      },
      {
       "output_type": "stream",
       "stream": "stdout",
       "text": [
        "[2020-10-23 02:23:45,367][INFO]: Validation - Epoch: 93, val_loss: 0.1284743\n"
       ]
      },
      {
       "output_type": "stream",
       "stream": "stdout",
       "text": [
        "[2020-10-23 02:24:07,403][INFO]: Train - Epoch: 94, LR: 0.01, train_loss: 0.09218135\n"
       ]
      },
      {
       "output_type": "stream",
       "stream": "stdout",
       "text": [
        "[2020-10-23 02:24:15,579][INFO]: Validation - Epoch: 94, val_loss: 0.1231858\n"
       ]
      },
      {
       "output_type": "stream",
       "stream": "stdout",
       "text": [
        "[2020-10-23 02:24:15,762][INFO]: Model saved to './results/argus2/unet_fold_2/model.pth'\n"
       ]
      },
      {
       "output_type": "stream",
       "stream": "stdout",
       "text": [
        "[2020-10-23 02:24:15,776][INFO]: Model removed './results/argus2/unet_fold_2/model.pth'\n"
       ]
      },
      {
       "output_type": "stream",
       "stream": "stdout",
       "text": [
        "[2020-10-23 02:24:37,834][INFO]: Train - Epoch: 95, LR: 0.01, train_loss: 0.09305951\n"
       ]
      },
      {
       "output_type": "stream",
       "stream": "stdout",
       "text": [
        "[2020-10-23 02:24:45,998][INFO]: Validation - Epoch: 95, val_loss: 0.1411759\n"
       ]
      },
      {
       "output_type": "stream",
       "stream": "stdout",
       "text": [
        "[2020-10-23 02:25:08,053][INFO]: Train - Epoch: 96, LR: 0.01, train_loss: 0.09195166\n"
       ]
      },
      {
       "output_type": "stream",
       "stream": "stdout",
       "text": [
        "[2020-10-23 02:25:16,150][INFO]: Validation - Epoch: 96, val_loss: 0.1373785\n"
       ]
      },
      {
       "output_type": "stream",
       "stream": "stdout",
       "text": [
        "[2020-10-23 02:25:38,380][INFO]: Train - Epoch: 97, LR: 0.01, train_loss: 0.09223493\n"
       ]
      },
      {
       "output_type": "stream",
       "stream": "stdout",
       "text": [
        "[2020-10-23 02:25:46,379][INFO]: Validation - Epoch: 97, val_loss: 0.126131\n"
       ]
      },
      {
       "output_type": "stream",
       "stream": "stdout",
       "text": [
        "[2020-10-23 02:26:08,577][INFO]: Train - Epoch: 98, LR: 0.01, train_loss: 0.091229\n"
       ]
      },
      {
       "output_type": "stream",
       "stream": "stdout",
       "text": [
        "[2020-10-23 02:26:16,542][INFO]: Validation - Epoch: 98, val_loss: 0.1556641\n"
       ]
      },
      {
       "output_type": "stream",
       "stream": "stdout",
       "text": [
        "[2020-10-23 02:26:38,265][INFO]: Train - Epoch: 99, LR: 0.01, train_loss: 0.09141994\n"
       ]
      },
      {
       "output_type": "stream",
       "stream": "stdout",
       "text": [
        "[2020-10-23 02:26:46,386][INFO]: Validation - Epoch: 99, val_loss: 0.1687101\n"
       ]
      },
      {
       "output_type": "stream",
       "stream": "stdout",
       "text": [
        "[2020-10-23 02:26:54,562][INFO]: Validation, val_loss: 6.83482\n"
       ]
      },
      {
       "output_type": "stream",
       "stream": "stdout",
       "text": [
        "[2020-10-23 02:27:16,797][INFO]: Train - Epoch: 0, LR: 0.01, train_loss: 1.02835\n"
       ]
      },
      {
       "output_type": "stream",
       "stream": "stdout",
       "text": [
        "[2020-10-23 02:27:24,964][INFO]: Validation - Epoch: 0, val_loss: 1.028859\n"
       ]
      },
      {
       "output_type": "stream",
       "stream": "stdout",
       "text": [
        "[2020-10-23 02:27:25,167][INFO]: Model saved to './results/argus2/unet_fold_3/model.pth'\n"
       ]
      },
      {
       "output_type": "stream",
       "stream": "stdout",
       "text": [
        "[2020-10-23 02:27:47,277][INFO]: Train - Epoch: 1, LR: 0.01, train_loss: 0.8871711\n"
       ]
      },
      {
       "output_type": "stream",
       "stream": "stdout",
       "text": [
        "[2020-10-23 02:27:55,250][INFO]: Validation - Epoch: 1, val_loss: 0.9301101\n"
       ]
      },
      {
       "output_type": "stream",
       "stream": "stdout",
       "text": [
        "[2020-10-23 02:27:55,468][INFO]: Model saved to './results/argus2/unet_fold_3/model.pth'\n"
       ]
      },
      {
       "output_type": "stream",
       "stream": "stdout",
       "text": [
        "[2020-10-23 02:28:17,899][INFO]: Train - Epoch: 2, LR: 0.01, train_loss: 0.8298114\n"
       ]
      },
      {
       "output_type": "stream",
       "stream": "stdout",
       "text": [
        "[2020-10-23 02:28:26,497][INFO]: Validation - Epoch: 2, val_loss: 0.9510266\n"
       ]
      },
      {
       "output_type": "stream",
       "stream": "stdout",
       "text": [
        "[2020-10-23 02:28:48,687][INFO]: Train - Epoch: 3, LR: 0.01, train_loss: 0.7935247\n"
       ]
      },
      {
       "output_type": "stream",
       "stream": "stdout",
       "text": [
        "[2020-10-23 02:28:56,602][INFO]: Validation - Epoch: 3, val_loss: 0.9952374\n"
       ]
      },
      {
       "output_type": "stream",
       "stream": "stdout",
       "text": [
        "[2020-10-23 02:29:18,781][INFO]: Train - Epoch: 4, LR: 0.01, train_loss: 0.7677188\n"
       ]
      },
      {
       "output_type": "stream",
       "stream": "stdout",
       "text": [
        "[2020-10-23 02:29:26,856][INFO]: Validation - Epoch: 4, val_loss: 1.045302\n"
       ]
      },
      {
       "output_type": "stream",
       "stream": "stdout",
       "text": [
        "[2020-10-23 02:29:48,693][INFO]: Train - Epoch: 5, LR: 0.01, train_loss: 0.7458635\n"
       ]
      },
      {
       "output_type": "stream",
       "stream": "stdout",
       "text": [
        "[2020-10-23 02:29:56,643][INFO]: Validation - Epoch: 5, val_loss: 1.253807\n"
       ]
      },
      {
       "output_type": "stream",
       "stream": "stdout",
       "text": [
        "[2020-10-23 02:30:18,718][INFO]: Train - Epoch: 6, LR: 0.01, train_loss: 0.7186274\n"
       ]
      },
      {
       "output_type": "stream",
       "stream": "stdout",
       "text": [
        "[2020-10-23 02:30:26,709][INFO]: Validation - Epoch: 6, val_loss: 1.125751\n"
       ]
      },
      {
       "output_type": "stream",
       "stream": "stdout",
       "text": [
        "[2020-10-23 02:30:48,660][INFO]: Train - Epoch: 7, LR: 0.01, train_loss: 0.6982308\n"
       ]
      },
      {
       "output_type": "stream",
       "stream": "stdout",
       "text": [
        "[2020-10-23 02:30:57,079][INFO]: Validation - Epoch: 7, val_loss: 1.061591\n"
       ]
      },
      {
       "output_type": "stream",
       "stream": "stdout",
       "text": [
        "[2020-10-23 02:31:19,423][INFO]: Train - Epoch: 8, LR: 0.01, train_loss: 0.6713806\n"
       ]
      },
      {
       "output_type": "stream",
       "stream": "stdout",
       "text": [
        "[2020-10-23 02:31:27,416][INFO]: Validation - Epoch: 8, val_loss: 0.9671504\n"
       ]
      },
      {
       "output_type": "stream",
       "stream": "stdout",
       "text": [
        "[2020-10-23 02:31:49,395][INFO]: Train - Epoch: 9, LR: 0.01, train_loss: 0.6434142\n"
       ]
      },
      {
       "output_type": "stream",
       "stream": "stdout",
       "text": [
        "[2020-10-23 02:31:57,455][INFO]: Validation - Epoch: 9, val_loss: 0.9068282\n"
       ]
      },
      {
       "output_type": "stream",
       "stream": "stdout",
       "text": [
        "[2020-10-23 02:31:57,667][INFO]: Model saved to './results/argus2/unet_fold_3/model.pth'\n"
       ]
      },
      {
       "output_type": "stream",
       "stream": "stdout",
       "text": [
        "[2020-10-23 02:32:19,315][INFO]: Train - Epoch: 10, LR: 0.01, train_loss: 0.6139981\n"
       ]
      },
      {
       "output_type": "stream",
       "stream": "stdout",
       "text": [
        "[2020-10-23 02:32:27,616][INFO]: Validation - Epoch: 10, val_loss: 0.954078\n"
       ]
      },
      {
       "output_type": "stream",
       "stream": "stdout",
       "text": [
        "[2020-10-23 02:32:49,460][INFO]: Train - Epoch: 11, LR: 0.01, train_loss: 0.5806662\n"
       ]
      },
      {
       "output_type": "stream",
       "stream": "stdout",
       "text": [
        "[2020-10-23 02:32:57,500][INFO]: Validation - Epoch: 11, val_loss: 0.8685055\n"
       ]
      },
      {
       "output_type": "stream",
       "stream": "stdout",
       "text": [
        "[2020-10-23 02:32:57,707][INFO]: Model saved to './results/argus2/unet_fold_3/model.pth'\n"
       ]
      },
      {
       "output_type": "stream",
       "stream": "stdout",
       "text": [
        "[2020-10-23 02:32:57,714][INFO]: Model removed './results/argus2/unet_fold_3/model.pth'\n"
       ]
      },
      {
       "output_type": "stream",
       "stream": "stdout",
       "text": [
        "[2020-10-23 02:33:19,721][INFO]: Train - Epoch: 12, LR: 0.01, train_loss: 0.5471858\n"
       ]
      },
      {
       "output_type": "stream",
       "stream": "stdout",
       "text": [
        "[2020-10-23 02:33:27,737][INFO]: Validation - Epoch: 12, val_loss: 0.9161405\n"
       ]
      },
      {
       "output_type": "stream",
       "stream": "stdout",
       "text": [
        "[2020-10-23 02:33:49,874][INFO]: Train - Epoch: 13, LR: 0.01, train_loss: 0.4997907\n"
       ]
      },
      {
       "output_type": "stream",
       "stream": "stdout",
       "text": [
        "[2020-10-23 02:33:57,823][INFO]: Validation - Epoch: 13, val_loss: 0.7271391\n"
       ]
      },
      {
       "output_type": "stream",
       "stream": "stdout",
       "text": [
        "[2020-10-23 02:33:58,097][INFO]: Model saved to './results/argus2/unet_fold_3/model.pth'\n"
       ]
      },
      {
       "output_type": "stream",
       "stream": "stdout",
       "text": [
        "[2020-10-23 02:33:58,112][INFO]: Model removed './results/argus2/unet_fold_3/model.pth'\n"
       ]
      },
      {
       "output_type": "stream",
       "stream": "stdout",
       "text": [
        "[2020-10-23 02:34:19,873][INFO]: Train - Epoch: 14, LR: 0.01, train_loss: 0.4510872\n"
       ]
      },
      {
       "output_type": "stream",
       "stream": "stdout",
       "text": [
        "[2020-10-23 02:34:28,077][INFO]: Validation - Epoch: 14, val_loss: 0.6930451\n"
       ]
      },
      {
       "output_type": "stream",
       "stream": "stdout",
       "text": [
        "[2020-10-23 02:34:28,264][INFO]: Model saved to './results/argus2/unet_fold_3/model.pth'\n"
       ]
      },
      {
       "output_type": "stream",
       "stream": "stdout",
       "text": [
        "[2020-10-23 02:34:28,278][INFO]: Model removed './results/argus2/unet_fold_3/model.pth'\n"
       ]
      },
      {
       "output_type": "stream",
       "stream": "stdout",
       "text": [
        "[2020-10-23 02:34:50,127][INFO]: Train - Epoch: 15, LR: 0.01, train_loss: 0.412852\n"
       ]
      },
      {
       "output_type": "stream",
       "stream": "stdout",
       "text": [
        "[2020-10-23 02:34:58,158][INFO]: Validation - Epoch: 15, val_loss: 0.6311665\n"
       ]
      },
      {
       "output_type": "stream",
       "stream": "stdout",
       "text": [
        "[2020-10-23 02:34:58,356][INFO]: Model saved to './results/argus2/unet_fold_3/model.pth'\n"
       ]
      },
      {
       "output_type": "stream",
       "stream": "stdout",
       "text": [
        "[2020-10-23 02:34:58,369][INFO]: Model removed './results/argus2/unet_fold_3/model.pth'\n"
       ]
      },
      {
       "output_type": "stream",
       "stream": "stdout",
       "text": [
        "[2020-10-23 02:35:20,658][INFO]: Train - Epoch: 16, LR: 0.01, train_loss: 0.3820835\n"
       ]
      },
      {
       "output_type": "stream",
       "stream": "stdout",
       "text": [
        "[2020-10-23 02:35:29,096][INFO]: Validation - Epoch: 16, val_loss: 0.6715316\n"
       ]
      },
      {
       "output_type": "stream",
       "stream": "stdout",
       "text": [
        "[2020-10-23 02:35:51,160][INFO]: Train - Epoch: 17, LR: 0.01, train_loss: 0.3466157\n"
       ]
      },
      {
       "output_type": "stream",
       "stream": "stdout",
       "text": [
        "[2020-10-23 02:35:59,138][INFO]: Validation - Epoch: 17, val_loss: 0.6279141\n"
       ]
      },
      {
       "output_type": "stream",
       "stream": "stdout",
       "text": [
        "[2020-10-23 02:35:59,322][INFO]: Model saved to './results/argus2/unet_fold_3/model.pth'\n"
       ]
      },
      {
       "output_type": "stream",
       "stream": "stdout",
       "text": [
        "[2020-10-23 02:35:59,337][INFO]: Model removed './results/argus2/unet_fold_3/model.pth'\n"
       ]
      },
      {
       "output_type": "stream",
       "stream": "stdout",
       "text": [
        "[2020-10-23 02:36:21,371][INFO]: Train - Epoch: 18, LR: 0.01, train_loss: 0.3194458\n"
       ]
      },
      {
       "output_type": "stream",
       "stream": "stdout",
       "text": [
        "[2020-10-23 02:36:29,405][INFO]: Validation - Epoch: 18, val_loss: 0.6227257\n"
       ]
      },
      {
       "output_type": "stream",
       "stream": "stdout",
       "text": [
        "[2020-10-23 02:36:29,589][INFO]: Model saved to './results/argus2/unet_fold_3/model.pth'\n"
       ]
      },
      {
       "output_type": "stream",
       "stream": "stdout",
       "text": [
        "[2020-10-23 02:36:29,603][INFO]: Model removed './results/argus2/unet_fold_3/model.pth'\n"
       ]
      },
      {
       "output_type": "stream",
       "stream": "stdout",
       "text": [
        "[2020-10-23 02:36:51,501][INFO]: Train - Epoch: 19, LR: 0.01, train_loss: 0.2983895\n"
       ]
      },
      {
       "output_type": "stream",
       "stream": "stdout",
       "text": [
        "[2020-10-23 02:36:59,492][INFO]: Validation - Epoch: 19, val_loss: 0.6653933\n"
       ]
      },
      {
       "output_type": "stream",
       "stream": "stdout",
       "text": [
        "[2020-10-23 02:37:21,502][INFO]: Train - Epoch: 20, LR: 0.01, train_loss: 0.2803951\n"
       ]
      },
      {
       "output_type": "stream",
       "stream": "stdout",
       "text": [
        "[2020-10-23 02:37:29,589][INFO]: Validation - Epoch: 20, val_loss: 0.7089898\n"
       ]
      },
      {
       "output_type": "stream",
       "stream": "stdout",
       "text": [
        "[2020-10-23 02:37:51,477][INFO]: Train - Epoch: 21, LR: 0.01, train_loss: 0.2632413\n"
       ]
      },
      {
       "output_type": "stream",
       "stream": "stdout",
       "text": [
        "[2020-10-23 02:37:59,592][INFO]: Validation - Epoch: 21, val_loss: 0.569693\n"
       ]
      },
      {
       "output_type": "stream",
       "stream": "stdout",
       "text": [
        "[2020-10-23 02:37:59,793][INFO]: Model saved to './results/argus2/unet_fold_3/model.pth'\n"
       ]
      },
      {
       "output_type": "stream",
       "stream": "stdout",
       "text": [
        "[2020-10-23 02:37:59,807][INFO]: Model removed './results/argus2/unet_fold_3/model.pth'\n"
       ]
      },
      {
       "output_type": "stream",
       "stream": "stdout",
       "text": [
        "[2020-10-23 02:38:21,853][INFO]: Train - Epoch: 22, LR: 0.01, train_loss: 0.2436834\n"
       ]
      },
      {
       "output_type": "stream",
       "stream": "stdout",
       "text": [
        "[2020-10-23 02:38:29,883][INFO]: Validation - Epoch: 22, val_loss: 0.4695984\n"
       ]
      },
      {
       "output_type": "stream",
       "stream": "stdout",
       "text": [
        "[2020-10-23 02:38:30,184][INFO]: Model saved to './results/argus2/unet_fold_3/model.pth'\n"
       ]
      },
      {
       "output_type": "stream",
       "stream": "stdout",
       "text": [
        "[2020-10-23 02:38:30,200][INFO]: Model removed './results/argus2/unet_fold_3/model.pth'\n"
       ]
      },
      {
       "output_type": "stream",
       "stream": "stdout",
       "text": [
        "[2020-10-23 02:38:52,378][INFO]: Train - Epoch: 23, LR: 0.01, train_loss: 0.2361481\n"
       ]
      },
      {
       "output_type": "stream",
       "stream": "stdout",
       "text": [
        "[2020-10-23 02:39:00,606][INFO]: Validation - Epoch: 23, val_loss: 0.3730196\n"
       ]
      },
      {
       "output_type": "stream",
       "stream": "stdout",
       "text": [
        "[2020-10-23 02:39:00,813][INFO]: Model saved to './results/argus2/unet_fold_3/model.pth'\n"
       ]
      },
      {
       "output_type": "stream",
       "stream": "stdout",
       "text": [
        "[2020-10-23 02:39:00,819][INFO]: Model removed './results/argus2/unet_fold_3/model.pth'\n"
       ]
      },
      {
       "output_type": "stream",
       "stream": "stdout",
       "text": [
        "[2020-10-23 02:39:22,670][INFO]: Train - Epoch: 24, LR: 0.01, train_loss: 0.2266189\n"
       ]
      },
      {
       "output_type": "stream",
       "stream": "stdout",
       "text": [
        "[2020-10-23 02:39:30,884][INFO]: Validation - Epoch: 24, val_loss: 0.3274806\n"
       ]
      },
      {
       "output_type": "stream",
       "stream": "stdout",
       "text": [
        "[2020-10-23 02:39:31,073][INFO]: Model saved to './results/argus2/unet_fold_3/model.pth'\n"
       ]
      },
      {
       "output_type": "stream",
       "stream": "stdout",
       "text": [
        "[2020-10-23 02:39:31,088][INFO]: Model removed './results/argus2/unet_fold_3/model.pth'\n"
       ]
      },
      {
       "output_type": "stream",
       "stream": "stdout",
       "text": [
        "[2020-10-23 02:39:53,001][INFO]: Train - Epoch: 25, LR: 0.01, train_loss: 0.2115257\n"
       ]
      },
      {
       "output_type": "stream",
       "stream": "stdout",
       "text": [
        "[2020-10-23 02:40:01,141][INFO]: Validation - Epoch: 25, val_loss: 0.4064954\n"
       ]
      },
      {
       "output_type": "stream",
       "stream": "stdout",
       "text": [
        "[2020-10-23 02:40:23,054][INFO]: Train - Epoch: 26, LR: 0.01, train_loss: 0.2070327\n"
       ]
      },
      {
       "output_type": "stream",
       "stream": "stdout",
       "text": [
        "[2020-10-23 02:40:31,076][INFO]: Validation - Epoch: 26, val_loss: 0.3782351\n"
       ]
      },
      {
       "output_type": "stream",
       "stream": "stdout",
       "text": [
        "[2020-10-23 02:40:52,992][INFO]: Train - Epoch: 27, LR: 0.01, train_loss: 0.1998264\n"
       ]
      },
      {
       "output_type": "stream",
       "stream": "stdout",
       "text": [
        "[2020-10-23 02:41:01,457][INFO]: Validation - Epoch: 27, val_loss: 0.4506511\n"
       ]
      },
      {
       "output_type": "stream",
       "stream": "stdout",
       "text": [
        "[2020-10-23 02:41:23,388][INFO]: Train - Epoch: 28, LR: 0.01, train_loss: 0.193782\n"
       ]
      },
      {
       "output_type": "stream",
       "stream": "stdout",
       "text": [
        "[2020-10-23 02:41:31,461][INFO]: Validation - Epoch: 28, val_loss: 0.3410934\n"
       ]
      },
      {
       "output_type": "stream",
       "stream": "stdout",
       "text": [
        "[2020-10-23 02:41:53,435][INFO]: Train - Epoch: 29, LR: 0.01, train_loss: 0.1870063\n"
       ]
      },
      {
       "output_type": "stream",
       "stream": "stdout",
       "text": [
        "[2020-10-23 02:42:01,529][INFO]: Validation - Epoch: 29, val_loss: 0.2839257\n"
       ]
      },
      {
       "output_type": "stream",
       "stream": "stdout",
       "text": [
        "[2020-10-23 02:42:01,818][INFO]: Model saved to './results/argus2/unet_fold_3/model.pth'\n"
       ]
      },
      {
       "output_type": "stream",
       "stream": "stdout",
       "text": [
        "[2020-10-23 02:42:01,835][INFO]: Model removed './results/argus2/unet_fold_3/model.pth'\n"
       ]
      },
      {
       "output_type": "stream",
       "stream": "stdout",
       "text": [
        "[2020-10-23 02:42:23,913][INFO]: Train - Epoch: 30, LR: 0.01, train_loss: 0.1816739\n"
       ]
      },
      {
       "output_type": "stream",
       "stream": "stdout",
       "text": [
        "[2020-10-23 02:42:31,936][INFO]: Validation - Epoch: 30, val_loss: 0.2631756\n"
       ]
      },
      {
       "output_type": "stream",
       "stream": "stdout",
       "text": [
        "[2020-10-23 02:42:32,139][INFO]: Model saved to './results/argus2/unet_fold_3/model.pth'\n"
       ]
      },
      {
       "output_type": "stream",
       "stream": "stdout",
       "text": [
        "[2020-10-23 02:42:32,154][INFO]: Model removed './results/argus2/unet_fold_3/model.pth'\n"
       ]
      },
      {
       "output_type": "stream",
       "stream": "stdout",
       "text": [
        "[2020-10-23 02:42:54,268][INFO]: Train - Epoch: 31, LR: 0.01, train_loss: 0.1772238\n"
       ]
      },
      {
       "output_type": "stream",
       "stream": "stdout",
       "text": [
        "[2020-10-23 02:43:02,242][INFO]: Validation - Epoch: 31, val_loss: 0.2721022\n"
       ]
      },
      {
       "output_type": "stream",
       "stream": "stdout",
       "text": [
        "[2020-10-23 02:43:24,229][INFO]: Train - Epoch: 32, LR: 0.01, train_loss: 0.1721998\n"
       ]
      },
      {
       "output_type": "stream",
       "stream": "stdout",
       "text": [
        "[2020-10-23 02:43:32,473][INFO]: Validation - Epoch: 32, val_loss: 0.3499539\n"
       ]
      },
      {
       "output_type": "stream",
       "stream": "stdout",
       "text": [
        "[2020-10-23 02:43:54,420][INFO]: Train - Epoch: 33, LR: 0.01, train_loss: 0.1681239\n"
       ]
      },
      {
       "output_type": "stream",
       "stream": "stdout",
       "text": [
        "[2020-10-23 02:44:02,579][INFO]: Validation - Epoch: 33, val_loss: 0.2169245\n"
       ]
      },
      {
       "output_type": "stream",
       "stream": "stdout",
       "text": [
        "[2020-10-23 02:44:02,789][INFO]: Model saved to './results/argus2/unet_fold_3/model.pth'\n"
       ]
      },
      {
       "output_type": "stream",
       "stream": "stdout",
       "text": [
        "[2020-10-23 02:44:02,796][INFO]: Model removed './results/argus2/unet_fold_3/model.pth'\n"
       ]
      },
      {
       "output_type": "stream",
       "stream": "stdout",
       "text": [
        "[2020-10-23 02:44:24,775][INFO]: Train - Epoch: 34, LR: 0.01, train_loss: 0.1635567\n"
       ]
      },
      {
       "output_type": "stream",
       "stream": "stdout",
       "text": [
        "[2020-10-23 02:44:32,818][INFO]: Validation - Epoch: 34, val_loss: 0.2193515\n"
       ]
      },
      {
       "output_type": "stream",
       "stream": "stdout",
       "text": [
        "[2020-10-23 02:44:54,784][INFO]: Train - Epoch: 35, LR: 0.01, train_loss: 0.1608876\n"
       ]
      },
      {
       "output_type": "stream",
       "stream": "stdout",
       "text": [
        "[2020-10-23 02:45:02,993][INFO]: Validation - Epoch: 35, val_loss: 0.3629268\n"
       ]
      },
      {
       "output_type": "stream",
       "stream": "stdout",
       "text": [
        "[2020-10-23 02:45:25,169][INFO]: Train - Epoch: 36, LR: 0.01, train_loss: 0.1571889\n"
       ]
      },
      {
       "output_type": "stream",
       "stream": "stdout",
       "text": [
        "[2020-10-23 02:45:33,212][INFO]: Validation - Epoch: 36, val_loss: 0.3091164\n"
       ]
      },
      {
       "output_type": "stream",
       "stream": "stdout",
       "text": [
        "[2020-10-23 02:45:54,896][INFO]: Train - Epoch: 37, LR: 0.01, train_loss: 0.1546579\n"
       ]
      },
      {
       "output_type": "stream",
       "stream": "stdout",
       "text": [
        "[2020-10-23 02:46:03,012][INFO]: Validation - Epoch: 37, val_loss: 0.2934726\n"
       ]
      },
      {
       "output_type": "stream",
       "stream": "stdout",
       "text": [
        "[2020-10-23 02:46:25,083][INFO]: Train - Epoch: 38, LR: 0.01, train_loss: 0.1490092\n"
       ]
      },
      {
       "output_type": "stream",
       "stream": "stdout",
       "text": [
        "[2020-10-23 02:46:33,100][INFO]: Validation - Epoch: 38, val_loss: 0.2813398\n"
       ]
      },
      {
       "output_type": "stream",
       "stream": "stdout",
       "text": [
        "[2020-10-23 02:46:55,122][INFO]: Train - Epoch: 39, LR: 0.01, train_loss: 0.1468238\n"
       ]
      },
      {
       "output_type": "stream",
       "stream": "stdout",
       "text": [
        "[2020-10-23 02:47:03,240][INFO]: Validation - Epoch: 39, val_loss: 0.2662569\n"
       ]
      },
      {
       "output_type": "stream",
       "stream": "stdout",
       "text": [
        "[2020-10-23 02:47:24,964][INFO]: Train - Epoch: 40, LR: 0.01, train_loss: 0.1469797\n"
       ]
      },
      {
       "output_type": "stream",
       "stream": "stdout",
       "text": [
        "[2020-10-23 02:47:32,921][INFO]: Validation - Epoch: 40, val_loss: 0.2203578\n"
       ]
      },
      {
       "output_type": "stream",
       "stream": "stdout",
       "text": [
        "[2020-10-23 02:47:54,784][INFO]: Train - Epoch: 41, LR: 0.01, train_loss: 0.1448804\n"
       ]
      },
      {
       "output_type": "stream",
       "stream": "stdout",
       "text": [
        "[2020-10-23 02:48:02,910][INFO]: Validation - Epoch: 41, val_loss: 0.2059748\n"
       ]
      },
      {
       "output_type": "stream",
       "stream": "stdout",
       "text": [
        "[2020-10-23 02:48:03,101][INFO]: Model saved to './results/argus2/unet_fold_3/model.pth'\n"
       ]
      },
      {
       "output_type": "stream",
       "stream": "stdout",
       "text": [
        "[2020-10-23 02:48:03,116][INFO]: Model removed './results/argus2/unet_fold_3/model.pth'\n"
       ]
      },
      {
       "output_type": "stream",
       "stream": "stdout",
       "text": [
        "[2020-10-23 02:48:24,880][INFO]: Train - Epoch: 42, LR: 0.01, train_loss: 0.1435058\n"
       ]
      },
      {
       "output_type": "stream",
       "stream": "stdout",
       "text": [
        "[2020-10-23 02:48:32,936][INFO]: Validation - Epoch: 42, val_loss: 0.2172951\n"
       ]
      },
      {
       "output_type": "stream",
       "stream": "stdout",
       "text": [
        "[2020-10-23 02:48:55,010][INFO]: Train - Epoch: 43, LR: 0.01, train_loss: 0.1379741\n"
       ]
      },
      {
       "output_type": "stream",
       "stream": "stdout",
       "text": [
        "[2020-10-23 02:49:03,179][INFO]: Validation - Epoch: 43, val_loss: 0.2408466\n"
       ]
      },
      {
       "output_type": "stream",
       "stream": "stdout",
       "text": [
        "[2020-10-23 02:49:25,133][INFO]: Train - Epoch: 44, LR: 0.01, train_loss: 0.1358003\n"
       ]
      },
      {
       "output_type": "stream",
       "stream": "stdout",
       "text": [
        "[2020-10-23 02:49:33,243][INFO]: Validation - Epoch: 44, val_loss: 0.2014318\n"
       ]
      },
      {
       "output_type": "stream",
       "stream": "stdout",
       "text": [
        "[2020-10-23 02:49:33,451][INFO]: Model saved to './results/argus2/unet_fold_3/model.pth'\n"
       ]
      },
      {
       "output_type": "stream",
       "stream": "stdout",
       "text": [
        "[2020-10-23 02:49:33,464][INFO]: Model removed './results/argus2/unet_fold_3/model.pth'\n"
       ]
      },
      {
       "output_type": "stream",
       "stream": "stdout",
       "text": [
        "[2020-10-23 02:49:55,411][INFO]: Train - Epoch: 45, LR: 0.01, train_loss: 0.1363073\n"
       ]
      },
      {
       "output_type": "stream",
       "stream": "stdout",
       "text": [
        "[2020-10-23 02:50:03,612][INFO]: Validation - Epoch: 45, val_loss: 0.2046926\n"
       ]
      },
      {
       "output_type": "stream",
       "stream": "stdout",
       "text": [
        "[2020-10-23 02:50:25,621][INFO]: Train - Epoch: 46, LR: 0.01, train_loss: 0.1307889\n"
       ]
      },
      {
       "output_type": "stream",
       "stream": "stdout",
       "text": [
        "[2020-10-23 02:50:33,730][INFO]: Validation - Epoch: 46, val_loss: 0.1916058\n"
       ]
      },
      {
       "output_type": "stream",
       "stream": "stdout",
       "text": [
        "[2020-10-23 02:50:33,948][INFO]: Model saved to './results/argus2/unet_fold_3/model.pth'\n"
       ]
      },
      {
       "output_type": "stream",
       "stream": "stdout",
       "text": [
        "[2020-10-23 02:50:33,963][INFO]: Model removed './results/argus2/unet_fold_3/model.pth'\n"
       ]
      },
      {
       "output_type": "stream",
       "stream": "stdout",
       "text": [
        "[2020-10-23 02:50:55,941][INFO]: Train - Epoch: 47, LR: 0.01, train_loss: 0.1309426\n"
       ]
      },
      {
       "output_type": "stream",
       "stream": "stdout",
       "text": [
        "[2020-10-23 02:51:04,109][INFO]: Validation - Epoch: 47, val_loss: 0.1750536\n"
       ]
      },
      {
       "output_type": "stream",
       "stream": "stdout",
       "text": [
        "[2020-10-23 02:51:04,310][INFO]: Model saved to './results/argus2/unet_fold_3/model.pth'\n"
       ]
      },
      {
       "output_type": "stream",
       "stream": "stdout",
       "text": [
        "[2020-10-23 02:51:04,327][INFO]: Model removed './results/argus2/unet_fold_3/model.pth'\n"
       ]
      },
      {
       "output_type": "stream",
       "stream": "stdout",
       "text": [
        "[2020-10-23 02:51:26,507][INFO]: Train - Epoch: 48, LR: 0.01, train_loss: 0.1307317\n"
       ]
      },
      {
       "output_type": "stream",
       "stream": "stdout",
       "text": [
        "[2020-10-23 02:51:34,562][INFO]: Validation - Epoch: 48, val_loss: 0.2309748\n"
       ]
      },
      {
       "output_type": "stream",
       "stream": "stdout",
       "text": [
        "[2020-10-23 02:51:56,572][INFO]: Train - Epoch: 49, LR: 0.01, train_loss: 0.1277768\n"
       ]
      },
      {
       "output_type": "stream",
       "stream": "stdout",
       "text": [
        "[2020-10-23 02:52:04,506][INFO]: Validation - Epoch: 49, val_loss: 0.2926273\n"
       ]
      },
      {
       "output_type": "stream",
       "stream": "stdout",
       "text": [
        "[2020-10-23 02:52:26,741][INFO]: Train - Epoch: 50, LR: 0.01, train_loss: 0.1277485\n"
       ]
      },
      {
       "output_type": "stream",
       "stream": "stdout",
       "text": [
        "[2020-10-23 02:52:34,761][INFO]: Validation - Epoch: 50, val_loss: 0.169929\n"
       ]
      },
      {
       "output_type": "stream",
       "stream": "stdout",
       "text": [
        "[2020-10-23 02:52:35,016][INFO]: Model saved to './results/argus2/unet_fold_3/model.pth'\n"
       ]
      },
      {
       "output_type": "stream",
       "stream": "stdout",
       "text": [
        "[2020-10-23 02:52:35,029][INFO]: Model removed './results/argus2/unet_fold_3/model.pth'\n"
       ]
      },
      {
       "output_type": "stream",
       "stream": "stdout",
       "text": [
        "[2020-10-23 02:52:56,912][INFO]: Train - Epoch: 51, LR: 0.01, train_loss: 0.1233164\n"
       ]
      },
      {
       "output_type": "stream",
       "stream": "stdout",
       "text": [
        "[2020-10-23 02:53:05,186][INFO]: Validation - Epoch: 51, val_loss: 0.1807541\n"
       ]
      },
      {
       "output_type": "stream",
       "stream": "stdout",
       "text": [
        "[2020-10-23 02:53:26,978][INFO]: Train - Epoch: 52, LR: 0.01, train_loss: 0.1236997\n"
       ]
      },
      {
       "output_type": "stream",
       "stream": "stdout",
       "text": [
        "[2020-10-23 02:53:35,090][INFO]: Validation - Epoch: 52, val_loss: 0.1981874\n"
       ]
      },
      {
       "output_type": "stream",
       "stream": "stdout",
       "text": [
        "[2020-10-23 02:53:56,912][INFO]: Train - Epoch: 53, LR: 0.01, train_loss: 0.1222136\n"
       ]
      },
      {
       "output_type": "stream",
       "stream": "stdout",
       "text": [
        "[2020-10-23 02:54:05,051][INFO]: Validation - Epoch: 53, val_loss: 0.1979908\n"
       ]
      },
      {
       "output_type": "stream",
       "stream": "stdout",
       "text": [
        "[2020-10-23 02:54:26,955][INFO]: Train - Epoch: 54, LR: 0.01, train_loss: 0.1214894\n"
       ]
      },
      {
       "output_type": "stream",
       "stream": "stdout",
       "text": [
        "[2020-10-23 02:54:34,930][INFO]: Validation - Epoch: 54, val_loss: 0.1807206\n"
       ]
      },
      {
       "output_type": "stream",
       "stream": "stdout",
       "text": [
        "[2020-10-23 02:54:56,832][INFO]: Train - Epoch: 55, LR: 0.01, train_loss: 0.1210319\n"
       ]
      },
      {
       "output_type": "stream",
       "stream": "stdout",
       "text": [
        "[2020-10-23 02:55:05,015][INFO]: Validation - Epoch: 55, val_loss: 0.2146635\n"
       ]
      },
      {
       "output_type": "stream",
       "stream": "stdout",
       "text": [
        "[2020-10-23 02:55:26,855][INFO]: Train - Epoch: 56, LR: 0.01, train_loss: 0.1191443\n"
       ]
      },
      {
       "output_type": "stream",
       "stream": "stdout",
       "text": [
        "[2020-10-23 02:55:35,037][INFO]: Validation - Epoch: 56, val_loss: 0.1625107\n"
       ]
      },
      {
       "output_type": "stream",
       "stream": "stdout",
       "text": [
        "[2020-10-23 02:55:35,239][INFO]: Model saved to './results/argus2/unet_fold_3/model.pth'\n"
       ]
      },
      {
       "output_type": "stream",
       "stream": "stdout",
       "text": [
        "[2020-10-23 02:55:35,256][INFO]: Model removed './results/argus2/unet_fold_3/model.pth'\n"
       ]
      },
      {
       "output_type": "stream",
       "stream": "stdout",
       "text": [
        "[2020-10-23 02:55:57,018][INFO]: Train - Epoch: 57, LR: 0.01, train_loss: 0.1170414\n"
       ]
      },
      {
       "output_type": "stream",
       "stream": "stdout",
       "text": [
        "[2020-10-23 02:56:05,228][INFO]: Validation - Epoch: 57, val_loss: 0.1678615\n"
       ]
      },
      {
       "output_type": "stream",
       "stream": "stdout",
       "text": [
        "[2020-10-23 02:56:27,358][INFO]: Train - Epoch: 58, LR: 0.01, train_loss: 0.1177695\n"
       ]
      },
      {
       "output_type": "stream",
       "stream": "stdout",
       "text": [
        "[2020-10-23 02:56:35,571][INFO]: Validation - Epoch: 58, val_loss: 0.1655027\n"
       ]
      },
      {
       "output_type": "stream",
       "stream": "stdout",
       "text": [
        "[2020-10-23 02:56:57,569][INFO]: Train - Epoch: 59, LR: 0.01, train_loss: 0.1142768\n"
       ]
      },
      {
       "output_type": "stream",
       "stream": "stdout",
       "text": [
        "[2020-10-23 02:57:05,673][INFO]: Validation - Epoch: 59, val_loss: 0.2255849\n"
       ]
      },
      {
       "output_type": "stream",
       "stream": "stdout",
       "text": [
        "[2020-10-23 02:57:27,696][INFO]: Train - Epoch: 60, LR: 0.01, train_loss: 0.1150455\n"
       ]
      },
      {
       "output_type": "stream",
       "stream": "stdout",
       "text": [
        "[2020-10-23 02:57:35,971][INFO]: Validation - Epoch: 60, val_loss: 0.1828253\n"
       ]
      },
      {
       "output_type": "stream",
       "stream": "stdout",
       "text": [
        "[2020-10-23 02:57:58,068][INFO]: Train - Epoch: 61, LR: 0.01, train_loss: 0.1129335\n"
       ]
      },
      {
       "output_type": "stream",
       "stream": "stdout",
       "text": [
        "[2020-10-23 02:58:06,219][INFO]: Validation - Epoch: 61, val_loss: 0.1599611\n"
       ]
      },
      {
       "output_type": "stream",
       "stream": "stdout",
       "text": [
        "[2020-10-23 02:58:06,407][INFO]: Model saved to './results/argus2/unet_fold_3/model.pth'\n"
       ]
      },
      {
       "output_type": "stream",
       "stream": "stdout",
       "text": [
        "[2020-10-23 02:58:06,412][INFO]: Model removed './results/argus2/unet_fold_3/model.pth'\n"
       ]
      },
      {
       "output_type": "stream",
       "stream": "stdout",
       "text": [
        "[2020-10-23 02:58:28,639][INFO]: Train - Epoch: 62, LR: 0.01, train_loss: 0.1137375\n"
       ]
      },
      {
       "output_type": "stream",
       "stream": "stdout",
       "text": [
        "[2020-10-23 02:58:36,828][INFO]: Validation - Epoch: 62, val_loss: 0.2128957\n"
       ]
      },
      {
       "output_type": "stream",
       "stream": "stdout",
       "text": [
        "[2020-10-23 02:58:58,598][INFO]: Train - Epoch: 63, LR: 0.01, train_loss: 0.1114205\n"
       ]
      },
      {
       "output_type": "stream",
       "stream": "stdout",
       "text": [
        "[2020-10-23 02:59:06,602][INFO]: Validation - Epoch: 63, val_loss: 0.1653892\n"
       ]
      },
      {
       "output_type": "stream",
       "stream": "stdout",
       "text": [
        "[2020-10-23 02:59:28,585][INFO]: Train - Epoch: 64, LR: 0.01, train_loss: 0.1116113\n"
       ]
      },
      {
       "output_type": "stream",
       "stream": "stdout",
       "text": [
        "[2020-10-23 02:59:36,523][INFO]: Validation - Epoch: 64, val_loss: 0.1938127\n"
       ]
      },
      {
       "output_type": "stream",
       "stream": "stdout",
       "text": [
        "[2020-10-23 02:59:58,541][INFO]: Train - Epoch: 65, LR: 0.01, train_loss: 0.1116423\n"
       ]
      },
      {
       "output_type": "stream",
       "stream": "stdout",
       "text": [
        "[2020-10-23 03:00:06,855][INFO]: Validation - Epoch: 65, val_loss: 0.1693304\n"
       ]
      },
      {
       "output_type": "stream",
       "stream": "stdout",
       "text": [
        "[2020-10-23 03:00:28,945][INFO]: Train - Epoch: 66, LR: 0.01, train_loss: 0.1085255\n"
       ]
      },
      {
       "output_type": "stream",
       "stream": "stdout",
       "text": [
        "[2020-10-23 03:00:37,018][INFO]: Validation - Epoch: 66, val_loss: 0.2011496\n"
       ]
      },
      {
       "output_type": "stream",
       "stream": "stdout",
       "text": [
        "[2020-10-23 03:00:58,991][INFO]: Train - Epoch: 67, LR: 0.01, train_loss: 0.1089763\n"
       ]
      },
      {
       "output_type": "stream",
       "stream": "stdout",
       "text": [
        "[2020-10-23 03:01:07,047][INFO]: Validation - Epoch: 67, val_loss: 0.1495154\n"
       ]
      },
      {
       "output_type": "stream",
       "stream": "stdout",
       "text": [
        "[2020-10-23 03:01:07,221][INFO]: Model saved to './results/argus2/unet_fold_3/model.pth'\n"
       ]
      },
      {
       "output_type": "stream",
       "stream": "stdout",
       "text": [
        "[2020-10-23 03:01:07,235][INFO]: Model removed './results/argus2/unet_fold_3/model.pth'\n"
       ]
      },
      {
       "output_type": "stream",
       "stream": "stdout",
       "text": [
        "[2020-10-23 03:01:29,298][INFO]: Train - Epoch: 68, LR: 0.01, train_loss: 0.1078351\n"
       ]
      },
      {
       "output_type": "stream",
       "stream": "stdout",
       "text": [
        "[2020-10-23 03:01:37,314][INFO]: Validation - Epoch: 68, val_loss: 0.1680091\n"
       ]
      },
      {
       "output_type": "stream",
       "stream": "stdout",
       "text": [
        "[2020-10-23 03:01:59,421][INFO]: Train - Epoch: 69, LR: 0.01, train_loss: 0.1082009\n"
       ]
      },
      {
       "output_type": "stream",
       "stream": "stdout",
       "text": [
        "[2020-10-23 03:02:07,563][INFO]: Validation - Epoch: 69, val_loss: 0.1681724\n"
       ]
      },
      {
       "output_type": "stream",
       "stream": "stdout",
       "text": [
        "[2020-10-23 03:02:29,487][INFO]: Train - Epoch: 70, LR: 0.01, train_loss: 0.1060674\n"
       ]
      },
      {
       "output_type": "stream",
       "stream": "stdout",
       "text": [
        "[2020-10-23 03:02:37,688][INFO]: Validation - Epoch: 70, val_loss: 0.1436146\n"
       ]
      },
      {
       "output_type": "stream",
       "stream": "stdout",
       "text": [
        "[2020-10-23 03:02:37,897][INFO]: Model saved to './results/argus2/unet_fold_3/model.pth'\n"
       ]
      },
      {
       "output_type": "stream",
       "stream": "stdout",
       "text": [
        "[2020-10-23 03:02:37,911][INFO]: Model removed './results/argus2/unet_fold_3/model.pth'\n"
       ]
      },
      {
       "output_type": "stream",
       "stream": "stdout",
       "text": [
        "[2020-10-23 03:02:59,745][INFO]: Train - Epoch: 71, LR: 0.01, train_loss: 0.1054532\n"
       ]
      },
      {
       "output_type": "stream",
       "stream": "stdout",
       "text": [
        "[2020-10-23 03:03:07,739][INFO]: Validation - Epoch: 71, val_loss: 0.1711913\n"
       ]
      },
      {
       "output_type": "stream",
       "stream": "stdout",
       "text": [
        "[2020-10-23 03:03:29,846][INFO]: Train - Epoch: 72, LR: 0.01, train_loss: 0.1043799\n"
       ]
      },
      {
       "output_type": "stream",
       "stream": "stdout",
       "text": [
        "[2020-10-23 03:03:38,001][INFO]: Validation - Epoch: 72, val_loss: 0.1700999\n"
       ]
      },
      {
       "output_type": "stream",
       "stream": "stdout",
       "text": [
        "[2020-10-23 03:03:59,963][INFO]: Train - Epoch: 73, LR: 0.01, train_loss: 0.1043452\n"
       ]
      },
      {
       "output_type": "stream",
       "stream": "stdout",
       "text": [
        "[2020-10-23 03:04:07,969][INFO]: Validation - Epoch: 73, val_loss: 0.1938438\n"
       ]
      },
      {
       "output_type": "stream",
       "stream": "stdout",
       "text": [
        "[2020-10-23 03:04:30,076][INFO]: Train - Epoch: 74, LR: 0.01, train_loss: 0.1027223\n"
       ]
      },
      {
       "output_type": "stream",
       "stream": "stdout",
       "text": [
        "[2020-10-23 03:04:38,215][INFO]: Validation - Epoch: 74, val_loss: 0.1380318\n"
       ]
      },
      {
       "output_type": "stream",
       "stream": "stdout",
       "text": [
        "[2020-10-23 03:04:38,407][INFO]: Model saved to './results/argus2/unet_fold_3/model.pth'\n"
       ]
      },
      {
       "output_type": "stream",
       "stream": "stdout",
       "text": [
        "[2020-10-23 03:04:38,421][INFO]: Model removed './results/argus2/unet_fold_3/model.pth'\n"
       ]
      },
      {
       "output_type": "stream",
       "stream": "stdout",
       "text": [
        "[2020-10-23 03:05:00,295][INFO]: Train - Epoch: 75, LR: 0.01, train_loss: 0.1034284\n"
       ]
      },
      {
       "output_type": "stream",
       "stream": "stdout",
       "text": [
        "[2020-10-23 03:05:08,428][INFO]: Validation - Epoch: 75, val_loss: 0.1566953\n"
       ]
      },
      {
       "output_type": "stream",
       "stream": "stdout",
       "text": [
        "[2020-10-23 03:05:30,325][INFO]: Train - Epoch: 76, LR: 0.01, train_loss: 0.1032282\n"
       ]
      },
      {
       "output_type": "stream",
       "stream": "stdout",
       "text": [
        "[2020-10-23 03:05:38,469][INFO]: Validation - Epoch: 76, val_loss: 0.1658505\n"
       ]
      },
      {
       "output_type": "stream",
       "stream": "stdout",
       "text": [
        "[2020-10-23 03:06:00,443][INFO]: Train - Epoch: 77, LR: 0.01, train_loss: 0.1026445\n"
       ]
      },
      {
       "output_type": "stream",
       "stream": "stdout",
       "text": [
        "[2020-10-23 03:06:08,451][INFO]: Validation - Epoch: 77, val_loss: 0.17107\n"
       ]
      },
      {
       "output_type": "stream",
       "stream": "stdout",
       "text": [
        "[2020-10-23 03:06:30,597][INFO]: Train - Epoch: 78, LR: 0.01, train_loss: 0.1022393\n"
       ]
      },
      {
       "output_type": "stream",
       "stream": "stdout",
       "text": [
        "[2020-10-23 03:06:38,666][INFO]: Validation - Epoch: 78, val_loss: 0.1681636\n"
       ]
      },
      {
       "output_type": "stream",
       "stream": "stdout",
       "text": [
        "[2020-10-23 03:07:00,705][INFO]: Train - Epoch: 79, LR: 0.01, train_loss: 0.1010178\n"
       ]
      },
      {
       "output_type": "stream",
       "stream": "stdout",
       "text": [
        "[2020-10-23 03:07:08,843][INFO]: Validation - Epoch: 79, val_loss: 0.1915318\n"
       ]
      },
      {
       "output_type": "stream",
       "stream": "stdout",
       "text": [
        "[2020-10-23 03:07:30,912][INFO]: Train - Epoch: 80, LR: 0.01, train_loss: 0.09902076\n"
       ]
      },
      {
       "output_type": "stream",
       "stream": "stdout",
       "text": [
        "[2020-10-23 03:07:38,904][INFO]: Validation - Epoch: 80, val_loss: 0.1394974\n"
       ]
      },
      {
       "output_type": "stream",
       "stream": "stdout",
       "text": [
        "[2020-10-23 03:08:01,057][INFO]: Train - Epoch: 81, LR: 0.01, train_loss: 0.09890546\n"
       ]
      },
      {
       "output_type": "stream",
       "stream": "stdout",
       "text": [
        "[2020-10-23 03:08:08,985][INFO]: Validation - Epoch: 81, val_loss: 0.149552\n"
       ]
      },
      {
       "output_type": "stream",
       "stream": "stdout",
       "text": [
        "[2020-10-23 03:08:31,062][INFO]: Train - Epoch: 82, LR: 0.01, train_loss: 0.0975462\n"
       ]
      },
      {
       "output_type": "stream",
       "stream": "stdout",
       "text": [
        "[2020-10-23 03:08:39,374][INFO]: Validation - Epoch: 82, val_loss: 0.1850504\n"
       ]
      },
      {
       "output_type": "stream",
       "stream": "stdout",
       "text": [
        "[2020-10-23 03:09:01,500][INFO]: Train - Epoch: 83, LR: 0.01, train_loss: 0.09723371\n"
       ]
      },
      {
       "output_type": "stream",
       "stream": "stdout",
       "text": [
        "[2020-10-23 03:09:09,457][INFO]: Validation - Epoch: 83, val_loss: 0.1502654\n"
       ]
      },
      {
       "output_type": "stream",
       "stream": "stdout",
       "text": [
        "[2020-10-23 03:09:31,567][INFO]: Train - Epoch: 84, LR: 0.01, train_loss: 0.09693299\n"
       ]
      },
      {
       "output_type": "stream",
       "stream": "stdout",
       "text": [
        "[2020-10-23 03:09:39,777][INFO]: Validation - Epoch: 84, val_loss: 0.1723315\n"
       ]
      },
      {
       "output_type": "stream",
       "stream": "stdout",
       "text": [
        "[2020-10-23 03:10:01,730][INFO]: Train - Epoch: 85, LR: 0.01, train_loss: 0.09586688\n"
       ]
      },
      {
       "output_type": "stream",
       "stream": "stdout",
       "text": [
        "[2020-10-23 03:10:09,734][INFO]: Validation - Epoch: 85, val_loss: 0.1503534\n"
       ]
      },
      {
       "output_type": "stream",
       "stream": "stdout",
       "text": [
        "[2020-10-23 03:10:31,567][INFO]: Train - Epoch: 86, LR: 0.01, train_loss: 0.09738533\n"
       ]
      },
      {
       "output_type": "stream",
       "stream": "stdout",
       "text": [
        "[2020-10-23 03:10:39,624][INFO]: Validation - Epoch: 86, val_loss: 0.1456116\n"
       ]
      },
      {
       "output_type": "stream",
       "stream": "stdout",
       "text": [
        "[2020-10-23 03:11:01,775][INFO]: Train - Epoch: 87, LR: 0.01, train_loss: 0.09612953\n"
       ]
      },
      {
       "output_type": "stream",
       "stream": "stdout",
       "text": [
        "[2020-10-23 03:11:10,165][INFO]: Validation - Epoch: 87, val_loss: 0.1350867\n"
       ]
      },
      {
       "output_type": "stream",
       "stream": "stdout",
       "text": [
        "[2020-10-23 03:11:10,368][INFO]: Model saved to './results/argus2/unet_fold_3/model.pth'\n"
       ]
      },
      {
       "output_type": "stream",
       "stream": "stdout",
       "text": [
        "[2020-10-23 03:11:10,386][INFO]: Model removed './results/argus2/unet_fold_3/model.pth'\n"
       ]
      },
      {
       "output_type": "stream",
       "stream": "stdout",
       "text": [
        "[2020-10-23 03:11:32,072][INFO]: Train - Epoch: 88, LR: 0.01, train_loss: 0.09649044\n"
       ]
      },
      {
       "output_type": "stream",
       "stream": "stdout",
       "text": [
        "[2020-10-23 03:11:40,036][INFO]: Validation - Epoch: 88, val_loss: 0.1357206\n"
       ]
      },
      {
       "output_type": "stream",
       "stream": "stdout",
       "text": [
        "[2020-10-23 03:12:02,005][INFO]: Train - Epoch: 89, LR: 0.01, train_loss: 0.0937239\n"
       ]
      },
      {
       "output_type": "stream",
       "stream": "stdout",
       "text": [
        "[2020-10-23 03:12:10,314][INFO]: Validation - Epoch: 89, val_loss: 0.136984\n"
       ]
      },
      {
       "output_type": "stream",
       "stream": "stdout",
       "text": [
        "[2020-10-23 03:12:32,246][INFO]: Train - Epoch: 90, LR: 0.01, train_loss: 0.0946075\n"
       ]
      },
      {
       "output_type": "stream",
       "stream": "stdout",
       "text": [
        "[2020-10-23 03:12:40,454][INFO]: Validation - Epoch: 90, val_loss: 0.1633445\n"
       ]
      },
      {
       "output_type": "stream",
       "stream": "stdout",
       "text": [
        "[2020-10-23 03:13:02,659][INFO]: Train - Epoch: 91, LR: 0.01, train_loss: 0.09335192\n"
       ]
      },
      {
       "output_type": "stream",
       "stream": "stdout",
       "text": [
        "[2020-10-23 03:13:10,700][INFO]: Validation - Epoch: 91, val_loss: 0.1343482\n"
       ]
      },
      {
       "output_type": "stream",
       "stream": "stdout",
       "text": [
        "[2020-10-23 03:13:10,901][INFO]: Model saved to './results/argus2/unet_fold_3/model.pth'\n"
       ]
      },
      {
       "output_type": "stream",
       "stream": "stdout",
       "text": [
        "[2020-10-23 03:13:10,919][INFO]: Model removed './results/argus2/unet_fold_3/model.pth'\n"
       ]
      },
      {
       "output_type": "stream",
       "stream": "stdout",
       "text": [
        "[2020-10-23 03:13:33,083][INFO]: Train - Epoch: 92, LR: 0.01, train_loss: 0.09472334\n"
       ]
      },
      {
       "output_type": "stream",
       "stream": "stdout",
       "text": [
        "[2020-10-23 03:13:41,177][INFO]: Validation - Epoch: 92, val_loss: 0.1428382\n"
       ]
      },
      {
       "output_type": "stream",
       "stream": "stdout",
       "text": [
        "[2020-10-23 03:14:03,282][INFO]: Train - Epoch: 93, LR: 0.01, train_loss: 0.0946768\n"
       ]
      },
      {
       "output_type": "stream",
       "stream": "stdout",
       "text": [
        "[2020-10-23 03:14:11,319][INFO]: Validation - Epoch: 93, val_loss: 0.1400394\n"
       ]
      },
      {
       "output_type": "stream",
       "stream": "stdout",
       "text": [
        "[2020-10-23 03:14:33,517][INFO]: Train - Epoch: 94, LR: 0.01, train_loss: 0.09204639\n"
       ]
      },
      {
       "output_type": "stream",
       "stream": "stdout",
       "text": [
        "[2020-10-23 03:14:41,493][INFO]: Validation - Epoch: 94, val_loss: 0.1455749\n"
       ]
      },
      {
       "output_type": "stream",
       "stream": "stdout",
       "text": [
        "[2020-10-23 03:15:03,621][INFO]: Train - Epoch: 95, LR: 0.01, train_loss: 0.09295141\n"
       ]
      },
      {
       "output_type": "stream",
       "stream": "stdout",
       "text": [
        "[2020-10-23 03:15:11,695][INFO]: Validation - Epoch: 95, val_loss: 0.1413609\n"
       ]
      },
      {
       "output_type": "stream",
       "stream": "stdout",
       "text": [
        "[2020-10-23 03:15:33,568][INFO]: Train - Epoch: 96, LR: 0.01, train_loss: 0.09331158\n"
       ]
      },
      {
       "output_type": "stream",
       "stream": "stdout",
       "text": [
        "[2020-10-23 03:15:41,619][INFO]: Validation - Epoch: 96, val_loss: 0.144058\n"
       ]
      },
      {
       "output_type": "stream",
       "stream": "stdout",
       "text": [
        "[2020-10-23 03:16:03,613][INFO]: Train - Epoch: 97, LR: 0.01, train_loss: 0.09213543\n"
       ]
      },
      {
       "output_type": "stream",
       "stream": "stdout",
       "text": [
        "[2020-10-23 03:16:11,741][INFO]: Validation - Epoch: 97, val_loss: 0.1431029\n"
       ]
      },
      {
       "output_type": "stream",
       "stream": "stdout",
       "text": [
        "[2020-10-23 03:16:33,802][INFO]: Train - Epoch: 98, LR: 0.01, train_loss: 0.09191142\n"
       ]
      },
      {
       "output_type": "stream",
       "stream": "stdout",
       "text": [
        "[2020-10-23 03:16:41,736][INFO]: Validation - Epoch: 98, val_loss: 0.148652\n"
       ]
      },
      {
       "output_type": "stream",
       "stream": "stdout",
       "text": [
        "[2020-10-23 03:17:03,883][INFO]: Train - Epoch: 99, LR: 0.01, train_loss: 0.09235015\n"
       ]
      },
      {
       "output_type": "stream",
       "stream": "stdout",
       "text": [
        "[2020-10-23 03:17:11,926][INFO]: Validation - Epoch: 99, val_loss: 0.1357556\n"
       ]
      },
      {
       "output_type": "stream",
       "stream": "stdout",
       "text": [
        "[2020-10-23 03:17:20,956][INFO]: Validation, val_loss: 1.90214\n"
       ]
      },
      {
       "output_type": "stream",
       "stream": "stdout",
       "text": [
        "[2020-10-23 03:17:42,993][INFO]: Train - Epoch: 0, LR: 0.01, train_loss: 1.028402\n"
       ]
      },
      {
       "output_type": "stream",
       "stream": "stdout",
       "text": [
        "[2020-10-23 03:17:51,153][INFO]: Validation - Epoch: 0, val_loss: 1.02153\n"
       ]
      },
      {
       "output_type": "stream",
       "stream": "stdout",
       "text": [
        "[2020-10-23 03:17:51,350][INFO]: Model saved to './results/argus2/unet_fold_4/model.pth'\n"
       ]
      },
      {
       "output_type": "stream",
       "stream": "stdout",
       "text": [
        "[2020-10-23 03:18:13,479][INFO]: Train - Epoch: 1, LR: 0.01, train_loss: 0.9176119\n"
       ]
      },
      {
       "output_type": "stream",
       "stream": "stdout",
       "text": [
        "[2020-10-23 03:18:21,575][INFO]: Validation - Epoch: 1, val_loss: 0.9346466\n"
       ]
      },
      {
       "output_type": "stream",
       "stream": "stdout",
       "text": [
        "[2020-10-23 03:18:21,953][INFO]: Model saved to './results/argus2/unet_fold_4/model.pth'\n"
       ]
      },
      {
       "output_type": "stream",
       "stream": "stdout",
       "text": [
        "[2020-10-23 03:18:44,313][INFO]: Train - Epoch: 2, LR: 0.01, train_loss: 0.8593066\n"
       ]
      },
      {
       "output_type": "stream",
       "stream": "stdout",
       "text": [
        "[2020-10-23 03:18:52,420][INFO]: Validation - Epoch: 2, val_loss: 0.9053939\n"
       ]
      },
      {
       "output_type": "stream",
       "stream": "stdout",
       "text": [
        "[2020-10-23 03:18:52,635][INFO]: Model saved to './results/argus2/unet_fold_4/model.pth'\n"
       ]
      },
      {
       "output_type": "stream",
       "stream": "stdout",
       "text": [
        "[2020-10-23 03:19:14,841][INFO]: Train - Epoch: 3, LR: 0.01, train_loss: 0.8183287\n"
       ]
      },
      {
       "output_type": "stream",
       "stream": "stdout",
       "text": [
        "[2020-10-23 03:19:23,012][INFO]: Validation - Epoch: 3, val_loss: 0.9018538\n"
       ]
      },
      {
       "output_type": "stream",
       "stream": "stdout",
       "text": [
        "[2020-10-23 03:19:23,211][INFO]: Model saved to './results/argus2/unet_fold_4/model.pth'\n"
       ]
      },
      {
       "output_type": "stream",
       "stream": "stdout",
       "text": [
        "[2020-10-23 03:19:23,216][INFO]: Model removed './results/argus2/unet_fold_4/model.pth'\n"
       ]
      },
      {
       "output_type": "stream",
       "stream": "stdout",
       "text": [
        "[2020-10-23 03:19:45,286][INFO]: Train - Epoch: 4, LR: 0.01, train_loss: 0.7866698\n"
       ]
      },
      {
       "output_type": "stream",
       "stream": "stdout",
       "text": [
        "[2020-10-23 03:19:53,282][INFO]: Validation - Epoch: 4, val_loss: 0.9343263\n"
       ]
      },
      {
       "output_type": "stream",
       "stream": "stdout",
       "text": [
        "[2020-10-23 03:20:15,471][INFO]: Train - Epoch: 5, LR: 0.01, train_loss: 0.7602083\n"
       ]
      },
      {
       "output_type": "stream",
       "stream": "stdout",
       "text": [
        "[2020-10-23 03:20:23,629][INFO]: Validation - Epoch: 5, val_loss: 0.9760622\n"
       ]
      },
      {
       "output_type": "stream",
       "stream": "stdout",
       "text": [
        "[2020-10-23 03:20:45,967][INFO]: Train - Epoch: 6, LR: 0.01, train_loss: 0.7362305\n"
       ]
      },
      {
       "output_type": "stream",
       "stream": "stdout",
       "text": [
        "[2020-10-23 03:20:54,132][INFO]: Validation - Epoch: 6, val_loss: 1.055386\n"
       ]
      },
      {
       "output_type": "stream",
       "stream": "stdout",
       "text": [
        "[2020-10-23 03:21:16,242][INFO]: Train - Epoch: 7, LR: 0.01, train_loss: 0.7064218\n"
       ]
      },
      {
       "output_type": "stream",
       "stream": "stdout",
       "text": [
        "[2020-10-23 03:21:24,276][INFO]: Validation - Epoch: 7, val_loss: 1.063669\n"
       ]
      },
      {
       "output_type": "stream",
       "stream": "stdout",
       "text": [
        "[2020-10-23 03:21:46,254][INFO]: Train - Epoch: 8, LR: 0.01, train_loss: 0.6761691\n"
       ]
      },
      {
       "output_type": "stream",
       "stream": "stdout",
       "text": [
        "[2020-10-23 03:21:54,242][INFO]: Validation - Epoch: 8, val_loss: 1.177989\n"
       ]
      },
      {
       "output_type": "stream",
       "stream": "stdout",
       "text": [
        "[2020-10-23 03:22:16,475][INFO]: Train - Epoch: 9, LR: 0.01, train_loss: 0.6421201\n"
       ]
      },
      {
       "output_type": "stream",
       "stream": "stdout",
       "text": [
        "[2020-10-23 03:22:24,624][INFO]: Validation - Epoch: 9, val_loss: 1.091281\n"
       ]
      },
      {
       "output_type": "stream",
       "stream": "stdout",
       "text": [
        "[2020-10-23 03:22:46,548][INFO]: Train - Epoch: 10, LR: 0.01, train_loss: 0.6101315\n"
       ]
      },
      {
       "output_type": "stream",
       "stream": "stdout",
       "text": [
        "[2020-10-23 03:22:54,517][INFO]: Validation - Epoch: 10, val_loss: 1.038266\n"
       ]
      },
      {
       "output_type": "stream",
       "stream": "stdout",
       "text": [
        "[2020-10-23 03:23:16,556][INFO]: Train - Epoch: 11, LR: 0.01, train_loss: 0.570767\n"
       ]
      },
      {
       "output_type": "stream",
       "stream": "stdout",
       "text": [
        "[2020-10-23 03:23:24,598][INFO]: Validation - Epoch: 11, val_loss: 0.9642933\n"
       ]
      },
      {
       "output_type": "stream",
       "stream": "stdout",
       "text": [
        "[2020-10-23 03:23:46,382][INFO]: Train - Epoch: 12, LR: 0.01, train_loss: 0.5277027\n"
       ]
      },
      {
       "output_type": "stream",
       "stream": "stdout",
       "text": [
        "[2020-10-23 03:23:54,441][INFO]: Validation - Epoch: 12, val_loss: 0.7854631\n"
       ]
      },
      {
       "output_type": "stream",
       "stream": "stdout",
       "text": [
        "[2020-10-23 03:23:54,655][INFO]: Model saved to './results/argus2/unet_fold_4/model.pth'\n"
       ]
      },
      {
       "output_type": "stream",
       "stream": "stdout",
       "text": [
        "[2020-10-23 03:23:54,671][INFO]: Model removed './results/argus2/unet_fold_4/model.pth'\n"
       ]
      },
      {
       "output_type": "stream",
       "stream": "stdout",
       "text": [
        "[2020-10-23 03:24:16,441][INFO]: Train - Epoch: 13, LR: 0.01, train_loss: 0.4936615\n"
       ]
      },
      {
       "output_type": "stream",
       "stream": "stdout",
       "text": [
        "[2020-10-23 03:24:24,676][INFO]: Validation - Epoch: 13, val_loss: 0.7333176\n"
       ]
      },
      {
       "output_type": "stream",
       "stream": "stdout",
       "text": [
        "[2020-10-23 03:24:24,878][INFO]: Model saved to './results/argus2/unet_fold_4/model.pth'\n"
       ]
      },
      {
       "output_type": "stream",
       "stream": "stdout",
       "text": [
        "[2020-10-23 03:24:24,894][INFO]: Model removed './results/argus2/unet_fold_4/model.pth'\n"
       ]
      },
      {
       "output_type": "stream",
       "stream": "stdout",
       "text": [
        "[2020-10-23 03:24:47,064][INFO]: Train - Epoch: 14, LR: 0.01, train_loss: 0.4561582\n"
       ]
      },
      {
       "output_type": "stream",
       "stream": "stdout",
       "text": [
        "[2020-10-23 03:24:55,073][INFO]: Validation - Epoch: 14, val_loss: 0.6773089\n"
       ]
      },
      {
       "output_type": "stream",
       "stream": "stdout",
       "text": [
        "[2020-10-23 03:24:55,275][INFO]: Model saved to './results/argus2/unet_fold_4/model.pth'\n"
       ]
      },
      {
       "output_type": "stream",
       "stream": "stdout",
       "text": [
        "[2020-10-23 03:24:55,292][INFO]: Model removed './results/argus2/unet_fold_4/model.pth'\n"
       ]
      },
      {
       "output_type": "stream",
       "stream": "stdout",
       "text": [
        "[2020-10-23 03:25:17,139][INFO]: Train - Epoch: 15, LR: 0.01, train_loss: 0.4176123\n"
       ]
      },
      {
       "output_type": "stream",
       "stream": "stdout",
       "text": [
        "[2020-10-23 03:25:25,142][INFO]: Validation - Epoch: 15, val_loss: 0.6451045\n"
       ]
      },
      {
       "output_type": "stream",
       "stream": "stdout",
       "text": [
        "[2020-10-23 03:25:25,345][INFO]: Model saved to './results/argus2/unet_fold_4/model.pth'\n"
       ]
      },
      {
       "output_type": "stream",
       "stream": "stdout",
       "text": [
        "[2020-10-23 03:25:25,361][INFO]: Model removed './results/argus2/unet_fold_4/model.pth'\n"
       ]
      },
      {
       "output_type": "stream",
       "stream": "stdout",
       "text": [
        "[2020-10-23 03:25:47,366][INFO]: Train - Epoch: 16, LR: 0.01, train_loss: 0.3818492\n"
       ]
      },
      {
       "output_type": "stream",
       "stream": "stdout",
       "text": [
        "[2020-10-23 03:25:55,427][INFO]: Validation - Epoch: 16, val_loss: 0.588707\n"
       ]
      },
      {
       "output_type": "stream",
       "stream": "stdout",
       "text": [
        "[2020-10-23 03:25:55,622][INFO]: Model saved to './results/argus2/unet_fold_4/model.pth'\n"
       ]
      },
      {
       "output_type": "stream",
       "stream": "stdout",
       "text": [
        "[2020-10-23 03:25:55,636][INFO]: Model removed './results/argus2/unet_fold_4/model.pth'\n"
       ]
      },
      {
       "output_type": "stream",
       "stream": "stdout",
       "text": [
        "[2020-10-23 03:26:17,600][INFO]: Train - Epoch: 17, LR: 0.01, train_loss: 0.3518792\n"
       ]
      },
      {
       "output_type": "stream",
       "stream": "stdout",
       "text": [
        "[2020-10-23 03:26:25,672][INFO]: Validation - Epoch: 17, val_loss: 0.5387768\n"
       ]
      },
      {
       "output_type": "stream",
       "stream": "stdout",
       "text": [
        "[2020-10-23 03:26:25,929][INFO]: Model saved to './results/argus2/unet_fold_4/model.pth'\n"
       ]
      },
      {
       "output_type": "stream",
       "stream": "stdout",
       "text": [
        "[2020-10-23 03:26:25,936][INFO]: Model removed './results/argus2/unet_fold_4/model.pth'\n"
       ]
      },
      {
       "output_type": "stream",
       "stream": "stdout",
       "text": [
        "[2020-10-23 03:26:47,625][INFO]: Train - Epoch: 18, LR: 0.01, train_loss: 0.3235405\n"
       ]
      },
      {
       "output_type": "stream",
       "stream": "stdout",
       "text": [
        "[2020-10-23 03:26:55,705][INFO]: Validation - Epoch: 18, val_loss: 0.5891564\n"
       ]
      },
      {
       "output_type": "stream",
       "stream": "stdout",
       "text": [
        "[2020-10-23 03:27:17,609][INFO]: Train - Epoch: 19, LR: 0.01, train_loss: 0.3004211\n"
       ]
      },
      {
       "output_type": "stream",
       "stream": "stdout",
       "text": [
        "[2020-10-23 03:27:25,554][INFO]: Validation - Epoch: 19, val_loss: 0.5341332\n"
       ]
      },
      {
       "output_type": "stream",
       "stream": "stdout",
       "text": [
        "[2020-10-23 03:27:25,959][INFO]: Model saved to './results/argus2/unet_fold_4/model.pth'\n"
       ]
      },
      {
       "output_type": "stream",
       "stream": "stdout",
       "text": [
        "[2020-10-23 03:27:25,975][INFO]: Model removed './results/argus2/unet_fold_4/model.pth'\n"
       ]
      },
      {
       "output_type": "stream",
       "stream": "stdout",
       "text": [
        "[2020-10-23 03:27:48,100][INFO]: Train - Epoch: 20, LR: 0.01, train_loss: 0.2775465\n"
       ]
      },
      {
       "output_type": "stream",
       "stream": "stdout",
       "text": [
        "[2020-10-23 03:27:56,162][INFO]: Validation - Epoch: 20, val_loss: 0.3972518\n"
       ]
      },
      {
       "output_type": "stream",
       "stream": "stdout",
       "text": [
        "[2020-10-23 03:27:56,361][INFO]: Model saved to './results/argus2/unet_fold_4/model.pth'\n"
       ]
      },
      {
       "output_type": "stream",
       "stream": "stdout",
       "text": [
        "[2020-10-23 03:27:56,375][INFO]: Model removed './results/argus2/unet_fold_4/model.pth'\n"
       ]
      },
      {
       "output_type": "stream",
       "stream": "stdout",
       "text": [
        "[2020-10-23 03:28:18,304][INFO]: Train - Epoch: 21, LR: 0.01, train_loss: 0.2617681\n"
       ]
      },
      {
       "output_type": "stream",
       "stream": "stdout",
       "text": [
        "[2020-10-23 03:28:26,417][INFO]: Validation - Epoch: 21, val_loss: 0.3332134\n"
       ]
      },
      {
       "output_type": "stream",
       "stream": "stdout",
       "text": [
        "[2020-10-23 03:28:26,615][INFO]: Model saved to './results/argus2/unet_fold_4/model.pth'\n"
       ]
      },
      {
       "output_type": "stream",
       "stream": "stdout",
       "text": [
        "[2020-10-23 03:28:26,632][INFO]: Model removed './results/argus2/unet_fold_4/model.pth'\n"
       ]
      },
      {
       "output_type": "stream",
       "stream": "stdout",
       "text": [
        "[2020-10-23 03:28:48,696][INFO]: Train - Epoch: 22, LR: 0.01, train_loss: 0.24669\n"
       ]
      },
      {
       "output_type": "stream",
       "stream": "stdout",
       "text": [
        "[2020-10-23 03:28:56,797][INFO]: Validation - Epoch: 22, val_loss: 0.3286182\n"
       ]
      },
      {
       "output_type": "stream",
       "stream": "stdout",
       "text": [
        "[2020-10-23 03:28:56,990][INFO]: Model saved to './results/argus2/unet_fold_4/model.pth'\n"
       ]
      },
      {
       "output_type": "stream",
       "stream": "stdout",
       "text": [
        "[2020-10-23 03:28:57,011][INFO]: Model removed './results/argus2/unet_fold_4/model.pth'\n"
       ]
      },
      {
       "output_type": "stream",
       "stream": "stdout",
       "text": [
        "[2020-10-23 03:29:18,919][INFO]: Train - Epoch: 23, LR: 0.01, train_loss: 0.2353228\n"
       ]
      },
      {
       "output_type": "stream",
       "stream": "stdout",
       "text": [
        "[2020-10-23 03:29:27,005][INFO]: Validation - Epoch: 23, val_loss: 0.2976364\n"
       ]
      },
      {
       "output_type": "stream",
       "stream": "stdout",
       "text": [
        "[2020-10-23 03:29:27,203][INFO]: Model saved to './results/argus2/unet_fold_4/model.pth'\n"
       ]
      },
      {
       "output_type": "stream",
       "stream": "stdout",
       "text": [
        "[2020-10-23 03:29:27,215][INFO]: Model removed './results/argus2/unet_fold_4/model.pth'\n"
       ]
      },
      {
       "output_type": "stream",
       "stream": "stdout",
       "text": [
        "[2020-10-23 03:29:49,165][INFO]: Train - Epoch: 24, LR: 0.01, train_loss: 0.2225003\n"
       ]
      },
      {
       "output_type": "stream",
       "stream": "stdout",
       "text": [
        "[2020-10-23 03:29:57,410][INFO]: Validation - Epoch: 24, val_loss: 0.3141586\n"
       ]
      },
      {
       "output_type": "stream",
       "stream": "stdout",
       "text": [
        "[2020-10-23 03:30:19,601][INFO]: Train - Epoch: 25, LR: 0.01, train_loss: 0.2138184\n"
       ]
      },
      {
       "output_type": "stream",
       "stream": "stdout",
       "text": [
        "[2020-10-23 03:30:27,798][INFO]: Validation - Epoch: 25, val_loss: 0.2943783\n"
       ]
      },
      {
       "output_type": "stream",
       "stream": "stdout",
       "text": [
        "[2020-10-23 03:30:27,998][INFO]: Model saved to './results/argus2/unet_fold_4/model.pth'\n"
       ]
      },
      {
       "output_type": "stream",
       "stream": "stdout",
       "text": [
        "[2020-10-23 03:30:28,011][INFO]: Model removed './results/argus2/unet_fold_4/model.pth'\n"
       ]
      },
      {
       "output_type": "stream",
       "stream": "stdout",
       "text": [
        "[2020-10-23 03:30:49,990][INFO]: Train - Epoch: 26, LR: 0.01, train_loss: 0.2078456\n"
       ]
      },
      {
       "output_type": "stream",
       "stream": "stdout",
       "text": [
        "[2020-10-23 03:30:58,183][INFO]: Validation - Epoch: 26, val_loss: 0.3082223\n"
       ]
      },
      {
       "output_type": "stream",
       "stream": "stdout",
       "text": [
        "[2020-10-23 03:31:20,264][INFO]: Train - Epoch: 27, LR: 0.01, train_loss: 0.2005489\n"
       ]
      },
      {
       "output_type": "stream",
       "stream": "stdout",
       "text": [
        "[2020-10-23 03:31:28,532][INFO]: Validation - Epoch: 27, val_loss: 0.2414011\n"
       ]
      },
      {
       "output_type": "stream",
       "stream": "stdout",
       "text": [
        "[2020-10-23 03:31:28,767][INFO]: Model saved to './results/argus2/unet_fold_4/model.pth'\n"
       ]
      },
      {
       "output_type": "stream",
       "stream": "stdout",
       "text": [
        "[2020-10-23 03:31:28,772][INFO]: Model removed './results/argus2/unet_fold_4/model.pth'\n"
       ]
      },
      {
       "output_type": "stream",
       "stream": "stdout",
       "text": [
        "[2020-10-23 03:31:50,754][INFO]: Train - Epoch: 28, LR: 0.01, train_loss: 0.1929142\n"
       ]
      },
      {
       "output_type": "stream",
       "stream": "stdout",
       "text": [
        "[2020-10-23 03:31:58,895][INFO]: Validation - Epoch: 28, val_loss: 0.2678493\n"
       ]
      },
      {
       "output_type": "stream",
       "stream": "stdout",
       "text": [
        "[2020-10-23 03:32:21,668][INFO]: Train - Epoch: 29, LR: 0.01, train_loss: 0.187766\n"
       ]
      },
      {
       "output_type": "stream",
       "stream": "stdout",
       "text": [
        "[2020-10-23 03:32:29,694][INFO]: Validation - Epoch: 29, val_loss: 0.2954984\n"
       ]
      },
      {
       "output_type": "stream",
       "stream": "stdout",
       "text": [
        "[2020-10-23 03:32:51,969][INFO]: Train - Epoch: 30, LR: 0.01, train_loss: 0.1798691\n"
       ]
      },
      {
       "output_type": "stream",
       "stream": "stdout",
       "text": [
        "[2020-10-23 03:33:00,059][INFO]: Validation - Epoch: 30, val_loss: 0.2981516\n"
       ]
      },
      {
       "output_type": "stream",
       "stream": "stdout",
       "text": [
        "[2020-10-23 03:33:22,218][INFO]: Train - Epoch: 31, LR: 0.01, train_loss: 0.1744476\n"
       ]
      },
      {
       "output_type": "stream",
       "stream": "stdout",
       "text": [
        "[2020-10-23 03:33:30,221][INFO]: Validation - Epoch: 31, val_loss: 0.2235886\n"
       ]
      },
      {
       "output_type": "stream",
       "stream": "stdout",
       "text": [
        "[2020-10-23 03:33:30,412][INFO]: Model saved to './results/argus2/unet_fold_4/model.pth'\n"
       ]
      },
      {
       "output_type": "stream",
       "stream": "stdout",
       "text": [
        "[2020-10-23 03:33:30,418][INFO]: Model removed './results/argus2/unet_fold_4/model.pth'\n"
       ]
      },
      {
       "output_type": "stream",
       "stream": "stdout",
       "text": [
        "[2020-10-23 03:33:52,532][INFO]: Train - Epoch: 32, LR: 0.01, train_loss: 0.1689792\n"
       ]
      },
      {
       "output_type": "stream",
       "stream": "stdout",
       "text": [
        "[2020-10-23 03:34:00,706][INFO]: Validation - Epoch: 32, val_loss: 0.2163909\n"
       ]
      },
      {
       "output_type": "stream",
       "stream": "stdout",
       "text": [
        "[2020-10-23 03:34:00,909][INFO]: Model saved to './results/argus2/unet_fold_4/model.pth'\n"
       ]
      },
      {
       "output_type": "stream",
       "stream": "stdout",
       "text": [
        "[2020-10-23 03:34:00,925][INFO]: Model removed './results/argus2/unet_fold_4/model.pth'\n"
       ]
      },
      {
       "output_type": "stream",
       "stream": "stdout",
       "text": [
        "[2020-10-23 03:34:23,038][INFO]: Train - Epoch: 33, LR: 0.01, train_loss: 0.1649341\n"
       ]
      },
      {
       "output_type": "stream",
       "stream": "stdout",
       "text": [
        "[2020-10-23 03:34:31,841][INFO]: Validation - Epoch: 33, val_loss: 0.2052141\n"
       ]
      },
      {
       "output_type": "stream",
       "stream": "stdout",
       "text": [
        "[2020-10-23 03:34:32,043][INFO]: Model saved to './results/argus2/unet_fold_4/model.pth'\n"
       ]
      },
      {
       "output_type": "stream",
       "stream": "stdout",
       "text": [
        "[2020-10-23 03:34:32,062][INFO]: Model removed './results/argus2/unet_fold_4/model.pth'\n"
       ]
      },
      {
       "output_type": "stream",
       "stream": "stdout",
       "text": [
        "[2020-10-23 03:34:54,097][INFO]: Train - Epoch: 34, LR: 0.01, train_loss: 0.1620787\n"
       ]
      },
      {
       "output_type": "stream",
       "stream": "stdout",
       "text": [
        "[2020-10-23 03:35:02,102][INFO]: Validation - Epoch: 34, val_loss: 0.2230237\n"
       ]
      },
      {
       "output_type": "stream",
       "stream": "stdout",
       "text": [
        "[2020-10-23 03:35:24,681][INFO]: Train - Epoch: 35, LR: 0.01, train_loss: 0.1596366\n"
       ]
      },
      {
       "output_type": "stream",
       "stream": "stdout",
       "text": [
        "[2020-10-23 03:35:32,736][INFO]: Validation - Epoch: 35, val_loss: 0.2220437\n"
       ]
      },
      {
       "output_type": "stream",
       "stream": "stdout",
       "text": [
        "[2020-10-23 03:35:55,124][INFO]: Train - Epoch: 36, LR: 0.01, train_loss: 0.1573917\n"
       ]
      },
      {
       "output_type": "stream",
       "stream": "stdout",
       "text": [
        "[2020-10-23 03:36:03,207][INFO]: Validation - Epoch: 36, val_loss: 0.2065834\n"
       ]
      },
      {
       "output_type": "stream",
       "stream": "stdout",
       "text": [
        "[2020-10-23 03:36:25,205][INFO]: Train - Epoch: 37, LR: 0.01, train_loss: 0.1515855\n"
       ]
      },
      {
       "output_type": "stream",
       "stream": "stdout",
       "text": [
        "[2020-10-23 03:36:33,364][INFO]: Validation - Epoch: 37, val_loss: 0.200197\n"
       ]
      },
      {
       "output_type": "stream",
       "stream": "stdout",
       "text": [
        "[2020-10-23 03:36:33,579][INFO]: Model saved to './results/argus2/unet_fold_4/model.pth'\n"
       ]
      },
      {
       "output_type": "stream",
       "stream": "stdout",
       "text": [
        "[2020-10-23 03:36:33,598][INFO]: Model removed './results/argus2/unet_fold_4/model.pth'\n"
       ]
      },
      {
       "output_type": "stream",
       "stream": "stdout",
       "text": [
        "[2020-10-23 03:36:56,243][INFO]: Train - Epoch: 38, LR: 0.01, train_loss: 0.1472354\n"
       ]
      },
      {
       "output_type": "stream",
       "stream": "stdout",
       "text": [
        "[2020-10-23 03:37:04,355][INFO]: Validation - Epoch: 38, val_loss: 0.1961659\n"
       ]
      },
      {
       "output_type": "stream",
       "stream": "stdout",
       "text": [
        "[2020-10-23 03:37:04,581][INFO]: Model saved to './results/argus2/unet_fold_4/model.pth'\n"
       ]
      },
      {
       "output_type": "stream",
       "stream": "stdout",
       "text": [
        "[2020-10-23 03:37:04,598][INFO]: Model removed './results/argus2/unet_fold_4/model.pth'\n"
       ]
      },
      {
       "output_type": "stream",
       "stream": "stdout",
       "text": [
        "[2020-10-23 03:37:26,496][INFO]: Train - Epoch: 39, LR: 0.01, train_loss: 0.1495686\n"
       ]
      },
      {
       "output_type": "stream",
       "stream": "stdout",
       "text": [
        "[2020-10-23 03:37:34,390][INFO]: Validation - Epoch: 39, val_loss: 0.2358368\n"
       ]
      },
      {
       "output_type": "stream",
       "stream": "stdout",
       "text": [
        "[2020-10-23 03:37:56,751][INFO]: Train - Epoch: 40, LR: 0.01, train_loss: 0.1443735\n"
       ]
      },
      {
       "output_type": "stream",
       "stream": "stdout",
       "text": [
        "[2020-10-23 03:38:05,106][INFO]: Validation - Epoch: 40, val_loss: 0.1910136\n"
       ]
      },
      {
       "output_type": "stream",
       "stream": "stdout",
       "text": [
        "[2020-10-23 03:38:05,303][INFO]: Model saved to './results/argus2/unet_fold_4/model.pth'\n"
       ]
      },
      {
       "output_type": "stream",
       "stream": "stdout",
       "text": [
        "[2020-10-23 03:38:05,318][INFO]: Model removed './results/argus2/unet_fold_4/model.pth'\n"
       ]
      },
      {
       "output_type": "stream",
       "stream": "stdout",
       "text": [
        "[2020-10-23 03:38:27,412][INFO]: Train - Epoch: 41, LR: 0.01, train_loss: 0.1441272\n"
       ]
      },
      {
       "output_type": "stream",
       "stream": "stdout",
       "text": [
        "[2020-10-23 03:38:35,711][INFO]: Validation - Epoch: 41, val_loss: 0.1834255\n"
       ]
      },
      {
       "output_type": "stream",
       "stream": "stdout",
       "text": [
        "[2020-10-23 03:38:35,915][INFO]: Model saved to './results/argus2/unet_fold_4/model.pth'\n"
       ]
      },
      {
       "output_type": "stream",
       "stream": "stdout",
       "text": [
        "[2020-10-23 03:38:35,930][INFO]: Model removed './results/argus2/unet_fold_4/model.pth'\n"
       ]
      },
      {
       "output_type": "stream",
       "stream": "stdout",
       "text": [
        "[2020-10-23 03:38:57,840][INFO]: Train - Epoch: 42, LR: 0.01, train_loss: 0.1400871\n"
       ]
      },
      {
       "output_type": "stream",
       "stream": "stdout",
       "text": [
        "[2020-10-23 03:39:05,875][INFO]: Validation - Epoch: 42, val_loss: 0.1934461\n"
       ]
      },
      {
       "output_type": "stream",
       "stream": "stdout",
       "text": [
        "[2020-10-23 03:39:27,855][INFO]: Train - Epoch: 43, LR: 0.01, train_loss: 0.1375731\n"
       ]
      },
      {
       "output_type": "stream",
       "stream": "stdout",
       "text": [
        "[2020-10-23 03:39:36,034][INFO]: Validation - Epoch: 43, val_loss: 0.1763491\n"
       ]
      },
      {
       "output_type": "stream",
       "stream": "stdout",
       "text": [
        "[2020-10-23 03:39:36,237][INFO]: Model saved to './results/argus2/unet_fold_4/model.pth'\n"
       ]
      },
      {
       "output_type": "stream",
       "stream": "stdout",
       "text": [
        "[2020-10-23 03:39:36,250][INFO]: Model removed './results/argus2/unet_fold_4/model.pth'\n"
       ]
      },
      {
       "output_type": "stream",
       "stream": "stdout",
       "text": [
        "[2020-10-23 03:39:58,221][INFO]: Train - Epoch: 44, LR: 0.01, train_loss: 0.1322386\n"
       ]
      },
      {
       "output_type": "stream",
       "stream": "stdout",
       "text": [
        "[2020-10-23 03:40:06,336][INFO]: Validation - Epoch: 44, val_loss: 0.1724474\n"
       ]
      },
      {
       "output_type": "stream",
       "stream": "stdout",
       "text": [
        "[2020-10-23 03:40:06,550][INFO]: Model saved to './results/argus2/unet_fold_4/model.pth'\n"
       ]
      },
      {
       "output_type": "stream",
       "stream": "stdout",
       "text": [
        "[2020-10-23 03:40:06,564][INFO]: Model removed './results/argus2/unet_fold_4/model.pth'\n"
       ]
      },
      {
       "output_type": "stream",
       "stream": "stdout",
       "text": [
        "[2020-10-23 03:40:28,742][INFO]: Train - Epoch: 45, LR: 0.01, train_loss: 0.134266\n"
       ]
      },
      {
       "output_type": "stream",
       "stream": "stdout",
       "text": [
        "[2020-10-23 03:40:37,160][INFO]: Validation - Epoch: 45, val_loss: 0.1750101\n"
       ]
      },
      {
       "output_type": "stream",
       "stream": "stdout",
       "text": [
        "[2020-10-23 03:40:59,310][INFO]: Train - Epoch: 46, LR: 0.01, train_loss: 0.1320302\n"
       ]
      },
      {
       "output_type": "stream",
       "stream": "stdout",
       "text": [
        "[2020-10-23 03:41:07,277][INFO]: Validation - Epoch: 46, val_loss: 0.236884\n"
       ]
      },
      {
       "output_type": "stream",
       "stream": "stdout",
       "text": [
        "[2020-10-23 03:41:29,316][INFO]: Train - Epoch: 47, LR: 0.01, train_loss: 0.1300461\n"
       ]
      },
      {
       "output_type": "stream",
       "stream": "stdout",
       "text": [
        "[2020-10-23 03:41:37,282][INFO]: Validation - Epoch: 47, val_loss: 0.1740547\n"
       ]
      },
      {
       "output_type": "stream",
       "stream": "stdout",
       "text": [
        "[2020-10-23 03:41:59,276][INFO]: Train - Epoch: 48, LR: 0.01, train_loss: 0.126736\n"
       ]
      },
      {
       "output_type": "stream",
       "stream": "stdout",
       "text": [
        "[2020-10-23 03:42:07,380][INFO]: Validation - Epoch: 48, val_loss: 0.2208373\n"
       ]
      },
      {
       "output_type": "stream",
       "stream": "stdout",
       "text": [
        "[2020-10-23 03:42:29,423][INFO]: Train - Epoch: 49, LR: 0.01, train_loss: 0.1280638\n"
       ]
      },
      {
       "output_type": "stream",
       "stream": "stdout",
       "text": [
        "[2020-10-23 03:42:37,447][INFO]: Validation - Epoch: 49, val_loss: 0.2055582\n"
       ]
      },
      {
       "output_type": "stream",
       "stream": "stdout",
       "text": [
        "[2020-10-23 03:42:59,371][INFO]: Train - Epoch: 50, LR: 0.01, train_loss: 0.1255058\n"
       ]
      },
      {
       "output_type": "stream",
       "stream": "stdout",
       "text": [
        "[2020-10-23 03:43:07,368][INFO]: Validation - Epoch: 50, val_loss: 0.1673733\n"
       ]
      },
      {
       "output_type": "stream",
       "stream": "stdout",
       "text": [
        "[2020-10-23 03:43:07,572][INFO]: Model saved to './results/argus2/unet_fold_4/model.pth'\n"
       ]
      },
      {
       "output_type": "stream",
       "stream": "stdout",
       "text": [
        "[2020-10-23 03:43:07,590][INFO]: Model removed './results/argus2/unet_fold_4/model.pth'\n"
       ]
      },
      {
       "output_type": "stream",
       "stream": "stdout",
       "text": [
        "[2020-10-23 03:43:29,731][INFO]: Train - Epoch: 51, LR: 0.01, train_loss: 0.1231867\n"
       ]
      },
      {
       "output_type": "stream",
       "stream": "stdout",
       "text": [
        "[2020-10-23 03:43:37,854][INFO]: Validation - Epoch: 51, val_loss: 0.1564547\n"
       ]
      },
      {
       "output_type": "stream",
       "stream": "stdout",
       "text": [
        "[2020-10-23 03:43:38,045][INFO]: Model saved to './results/argus2/unet_fold_4/model.pth'\n"
       ]
      },
      {
       "output_type": "stream",
       "stream": "stdout",
       "text": [
        "[2020-10-23 03:43:38,060][INFO]: Model removed './results/argus2/unet_fold_4/model.pth'\n"
       ]
      },
      {
       "output_type": "stream",
       "stream": "stdout",
       "text": [
        "[2020-10-23 03:43:59,945][INFO]: Train - Epoch: 52, LR: 0.01, train_loss: 0.1213303\n"
       ]
      },
      {
       "output_type": "stream",
       "stream": "stdout",
       "text": [
        "[2020-10-23 03:44:07,944][INFO]: Validation - Epoch: 52, val_loss: 0.1752294\n"
       ]
      },
      {
       "output_type": "stream",
       "stream": "stdout",
       "text": [
        "[2020-10-23 03:44:29,865][INFO]: Train - Epoch: 53, LR: 0.01, train_loss: 0.1219621\n"
       ]
      },
      {
       "output_type": "stream",
       "stream": "stdout",
       "text": [
        "[2020-10-23 03:44:37,851][INFO]: Validation - Epoch: 53, val_loss: 0.1679328\n"
       ]
      },
      {
       "output_type": "stream",
       "stream": "stdout",
       "text": [
        "[2020-10-23 03:44:59,932][INFO]: Train - Epoch: 54, LR: 0.01, train_loss: 0.1207569\n"
       ]
      },
      {
       "output_type": "stream",
       "stream": "stdout",
       "text": [
        "[2020-10-23 03:45:08,111][INFO]: Validation - Epoch: 54, val_loss: 0.1603729\n"
       ]
      },
      {
       "output_type": "stream",
       "stream": "stdout",
       "text": [
        "[2020-10-23 03:45:30,107][INFO]: Train - Epoch: 55, LR: 0.01, train_loss: 0.1194932\n"
       ]
      },
      {
       "output_type": "stream",
       "stream": "stdout",
       "text": [
        "[2020-10-23 03:45:38,570][INFO]: Validation - Epoch: 55, val_loss: 0.1507546\n"
       ]
      },
      {
       "output_type": "stream",
       "stream": "stdout",
       "text": [
        "[2020-10-23 03:45:38,770][INFO]: Model saved to './results/argus2/unet_fold_4/model.pth'\n"
       ]
      },
      {
       "output_type": "stream",
       "stream": "stdout",
       "text": [
        "[2020-10-23 03:45:39,475][INFO]: Model removed './results/argus2/unet_fold_4/model.pth'\n"
       ]
      },
      {
       "output_type": "stream",
       "stream": "stdout",
       "text": [
        "[2020-10-23 03:46:01,548][INFO]: Train - Epoch: 56, LR: 0.01, train_loss: 0.1170862\n"
       ]
      },
      {
       "output_type": "stream",
       "stream": "stdout",
       "text": [
        "[2020-10-23 03:46:09,740][INFO]: Validation - Epoch: 56, val_loss: 0.1483094\n"
       ]
      },
      {
       "output_type": "stream",
       "stream": "stdout",
       "text": [
        "[2020-10-23 03:46:09,925][INFO]: Model saved to './results/argus2/unet_fold_4/model.pth'\n"
       ]
      },
      {
       "output_type": "stream",
       "stream": "stdout",
       "text": [
        "[2020-10-23 03:46:09,942][INFO]: Model removed './results/argus2/unet_fold_4/model.pth'\n"
       ]
      },
      {
       "output_type": "stream",
       "stream": "stdout",
       "text": [
        "[2020-10-23 03:46:31,905][INFO]: Train - Epoch: 57, LR: 0.01, train_loss: 0.1159713\n"
       ]
      },
      {
       "output_type": "stream",
       "stream": "stdout",
       "text": [
        "[2020-10-23 03:46:39,993][INFO]: Validation - Epoch: 57, val_loss: 0.1647694\n"
       ]
      },
      {
       "output_type": "stream",
       "stream": "stdout",
       "text": [
        "[2020-10-23 03:47:01,914][INFO]: Train - Epoch: 58, LR: 0.01, train_loss: 0.1151987\n"
       ]
      },
      {
       "output_type": "stream",
       "stream": "stdout",
       "text": [
        "[2020-10-23 03:47:09,906][INFO]: Validation - Epoch: 58, val_loss: 0.1601282\n"
       ]
      },
      {
       "output_type": "stream",
       "stream": "stdout",
       "text": [
        "[2020-10-23 03:47:31,894][INFO]: Train - Epoch: 59, LR: 0.01, train_loss: 0.1139929\n"
       ]
      },
      {
       "output_type": "stream",
       "stream": "stdout",
       "text": [
        "[2020-10-23 03:47:39,870][INFO]: Validation - Epoch: 59, val_loss: 0.1530815\n"
       ]
      },
      {
       "output_type": "stream",
       "stream": "stdout",
       "text": [
        "[2020-10-23 03:48:02,123][INFO]: Train - Epoch: 60, LR: 0.01, train_loss: 0.1126317\n"
       ]
      },
      {
       "output_type": "stream",
       "stream": "stdout",
       "text": [
        "[2020-10-23 03:48:10,071][INFO]: Validation - Epoch: 60, val_loss: 0.1695366\n"
       ]
      },
      {
       "output_type": "stream",
       "stream": "stdout",
       "text": [
        "[2020-10-23 03:48:31,993][INFO]: Train - Epoch: 61, LR: 0.01, train_loss: 0.1117642\n"
       ]
      },
      {
       "output_type": "stream",
       "stream": "stdout",
       "text": [
        "[2020-10-23 03:48:40,029][INFO]: Validation - Epoch: 61, val_loss: 0.1780986\n"
       ]
      },
      {
       "output_type": "stream",
       "stream": "stdout",
       "text": [
        "[2020-10-23 03:49:01,944][INFO]: Train - Epoch: 62, LR: 0.01, train_loss: 0.1112365\n"
       ]
      },
      {
       "output_type": "stream",
       "stream": "stdout",
       "text": [
        "[2020-10-23 03:49:09,955][INFO]: Validation - Epoch: 62, val_loss: 0.1514967\n"
       ]
      },
      {
       "output_type": "stream",
       "stream": "stdout",
       "text": [
        "[2020-10-23 03:49:32,291][INFO]: Train - Epoch: 63, LR: 0.01, train_loss: 0.1112043\n"
       ]
      },
      {
       "output_type": "stream",
       "stream": "stdout",
       "text": [
        "[2020-10-23 03:49:40,338][INFO]: Validation - Epoch: 63, val_loss: 0.1479114\n"
       ]
      },
      {
       "output_type": "stream",
       "stream": "stdout",
       "text": [
        "[2020-10-23 03:49:40,652][INFO]: Model saved to './results/argus2/unet_fold_4/model.pth'\n"
       ]
      },
      {
       "output_type": "stream",
       "stream": "stdout",
       "text": [
        "[2020-10-23 03:49:40,659][INFO]: Model removed './results/argus2/unet_fold_4/model.pth'\n"
       ]
      },
      {
       "output_type": "stream",
       "stream": "stdout",
       "text": [
        "[2020-10-23 03:50:02,656][INFO]: Train - Epoch: 64, LR: 0.01, train_loss: 0.1088871\n"
       ]
      },
      {
       "output_type": "stream",
       "stream": "stdout",
       "text": [
        "[2020-10-23 03:50:10,737][INFO]: Validation - Epoch: 64, val_loss: 0.1539711\n"
       ]
      },
      {
       "output_type": "stream",
       "stream": "stdout",
       "text": [
        "[2020-10-23 03:50:32,688][INFO]: Train - Epoch: 65, LR: 0.01, train_loss: 0.1106607\n"
       ]
      },
      {
       "output_type": "stream",
       "stream": "stdout",
       "text": [
        "[2020-10-23 03:50:40,613][INFO]: Validation - Epoch: 65, val_loss: 0.1450212\n"
       ]
      },
      {
       "output_type": "stream",
       "stream": "stdout",
       "text": [
        "[2020-10-23 03:50:40,801][INFO]: Model saved to './results/argus2/unet_fold_4/model.pth'\n"
       ]
      },
      {
       "output_type": "stream",
       "stream": "stdout",
       "text": [
        "[2020-10-23 03:50:40,822][INFO]: Model removed './results/argus2/unet_fold_4/model.pth'\n"
       ]
      },
      {
       "output_type": "stream",
       "stream": "stdout",
       "text": [
        "[2020-10-23 03:51:02,887][INFO]: Train - Epoch: 66, LR: 0.01, train_loss: 0.1075526\n"
       ]
      },
      {
       "output_type": "stream",
       "stream": "stdout",
       "text": [
        "[2020-10-23 03:51:11,081][INFO]: Validation - Epoch: 66, val_loss: 0.1507072\n"
       ]
      },
      {
       "output_type": "stream",
       "stream": "stdout",
       "text": [
        "[2020-10-23 03:51:33,113][INFO]: Train - Epoch: 67, LR: 0.01, train_loss: 0.108046\n"
       ]
      },
      {
       "output_type": "stream",
       "stream": "stdout",
       "text": [
        "[2020-10-23 03:51:41,473][INFO]: Validation - Epoch: 67, val_loss: 0.1463611\n"
       ]
      },
      {
       "output_type": "stream",
       "stream": "stdout",
       "text": [
        "[2020-10-23 03:52:03,743][INFO]: Train - Epoch: 68, LR: 0.01, train_loss: 0.1075367\n"
       ]
      },
      {
       "output_type": "stream",
       "stream": "stdout",
       "text": [
        "[2020-10-23 03:52:11,877][INFO]: Validation - Epoch: 68, val_loss: 0.1508697\n"
       ]
      },
      {
       "output_type": "stream",
       "stream": "stdout",
       "text": [
        "[2020-10-23 03:52:33,862][INFO]: Train - Epoch: 69, LR: 0.01, train_loss: 0.1060619\n"
       ]
      },
      {
       "output_type": "stream",
       "stream": "stdout",
       "text": [
        "[2020-10-23 03:52:41,930][INFO]: Validation - Epoch: 69, val_loss: 0.1702652\n"
       ]
      },
      {
       "output_type": "stream",
       "stream": "stdout",
       "text": [
        "[2020-10-23 03:53:03,895][INFO]: Train - Epoch: 70, LR: 0.01, train_loss: 0.1052002\n"
       ]
      },
      {
       "output_type": "stream",
       "stream": "stdout",
       "text": [
        "[2020-10-23 03:53:11,921][INFO]: Validation - Epoch: 70, val_loss: 0.1406484\n"
       ]
      },
      {
       "output_type": "stream",
       "stream": "stdout",
       "text": [
        "[2020-10-23 03:53:12,202][INFO]: Model saved to './results/argus2/unet_fold_4/model.pth'\n"
       ]
      },
      {
       "output_type": "stream",
       "stream": "stdout",
       "text": [
        "[2020-10-23 03:53:12,216][INFO]: Model removed './results/argus2/unet_fold_4/model.pth'\n"
       ]
      },
      {
       "output_type": "stream",
       "stream": "stdout",
       "text": [
        "[2020-10-23 03:53:34,153][INFO]: Train - Epoch: 71, LR: 0.01, train_loss: 0.1065505\n"
       ]
      },
      {
       "output_type": "stream",
       "stream": "stdout",
       "text": [
        "[2020-10-23 03:53:42,342][INFO]: Validation - Epoch: 71, val_loss: 0.1389226\n"
       ]
      },
      {
       "output_type": "stream",
       "stream": "stdout",
       "text": [
        "[2020-10-23 03:53:42,545][INFO]: Model saved to './results/argus2/unet_fold_4/model.pth'\n"
       ]
      },
      {
       "output_type": "stream",
       "stream": "stdout",
       "text": [
        "[2020-10-23 03:53:42,561][INFO]: Model removed './results/argus2/unet_fold_4/model.pth'\n"
       ]
      },
      {
       "output_type": "stream",
       "stream": "stdout",
       "text": [
        "[2020-10-23 03:54:04,612][INFO]: Train - Epoch: 72, LR: 0.01, train_loss: 0.1039387\n"
       ]
      },
      {
       "output_type": "stream",
       "stream": "stdout",
       "text": [
        "[2020-10-23 03:54:12,659][INFO]: Validation - Epoch: 72, val_loss: 0.138678\n"
       ]
      },
      {
       "output_type": "stream",
       "stream": "stdout",
       "text": [
        "[2020-10-23 03:54:12,862][INFO]: Model saved to './results/argus2/unet_fold_4/model.pth'\n"
       ]
      },
      {
       "output_type": "stream",
       "stream": "stdout",
       "text": [
        "[2020-10-23 03:54:12,876][INFO]: Model removed './results/argus2/unet_fold_4/model.pth'\n"
       ]
      },
      {
       "output_type": "stream",
       "stream": "stdout",
       "text": [
        "[2020-10-23 03:54:34,682][INFO]: Train - Epoch: 73, LR: 0.01, train_loss: 0.104166\n"
       ]
      },
      {
       "output_type": "stream",
       "stream": "stdout",
       "text": [
        "[2020-10-23 03:54:42,984][INFO]: Validation - Epoch: 73, val_loss: 0.1444684\n"
       ]
      },
      {
       "output_type": "stream",
       "stream": "stdout",
       "text": [
        "[2020-10-23 03:55:05,118][INFO]: Train - Epoch: 74, LR: 0.01, train_loss: 0.1016362\n"
       ]
      },
      {
       "output_type": "stream",
       "stream": "stdout",
       "text": [
        "[2020-10-23 03:55:13,270][INFO]: Validation - Epoch: 74, val_loss: 0.1545362\n"
       ]
      },
      {
       "output_type": "stream",
       "stream": "stdout",
       "text": [
        "[2020-10-23 03:55:35,450][INFO]: Train - Epoch: 75, LR: 0.01, train_loss: 0.1009342\n"
       ]
      },
      {
       "output_type": "stream",
       "stream": "stdout",
       "text": [
        "[2020-10-23 03:55:43,528][INFO]: Validation - Epoch: 75, val_loss: 0.133676\n"
       ]
      },
      {
       "output_type": "stream",
       "stream": "stdout",
       "text": [
        "[2020-10-23 03:55:43,719][INFO]: Model saved to './results/argus2/unet_fold_4/model.pth'\n"
       ]
      },
      {
       "output_type": "stream",
       "stream": "stdout",
       "text": [
        "[2020-10-23 03:55:43,734][INFO]: Model removed './results/argus2/unet_fold_4/model.pth'\n"
       ]
      },
      {
       "output_type": "stream",
       "stream": "stdout",
       "text": [
        "[2020-10-23 03:56:05,541][INFO]: Train - Epoch: 76, LR: 0.01, train_loss: 0.1018344\n"
       ]
      },
      {
       "output_type": "stream",
       "stream": "stdout",
       "text": [
        "[2020-10-23 03:56:13,552][INFO]: Validation - Epoch: 76, val_loss: 0.1318361\n"
       ]
      },
      {
       "output_type": "stream",
       "stream": "stdout",
       "text": [
        "[2020-10-23 03:56:13,750][INFO]: Model saved to './results/argus2/unet_fold_4/model.pth'\n"
       ]
      },
      {
       "output_type": "stream",
       "stream": "stdout",
       "text": [
        "[2020-10-23 03:56:13,757][INFO]: Model removed './results/argus2/unet_fold_4/model.pth'\n"
       ]
      },
      {
       "output_type": "stream",
       "stream": "stdout",
       "text": [
        "[2020-10-23 03:56:35,942][INFO]: Train - Epoch: 77, LR: 0.01, train_loss: 0.09985009\n"
       ]
      },
      {
       "output_type": "stream",
       "stream": "stdout",
       "text": [
        "[2020-10-23 03:56:44,088][INFO]: Validation - Epoch: 77, val_loss: 0.1315813\n"
       ]
      },
      {
       "output_type": "stream",
       "stream": "stdout",
       "text": [
        "[2020-10-23 03:56:44,281][INFO]: Model saved to './results/argus2/unet_fold_4/model.pth'\n"
       ]
      },
      {
       "output_type": "stream",
       "stream": "stdout",
       "text": [
        "[2020-10-23 03:56:44,295][INFO]: Model removed './results/argus2/unet_fold_4/model.pth'\n"
       ]
      },
      {
       "output_type": "stream",
       "stream": "stdout",
       "text": [
        "[2020-10-23 03:57:06,477][INFO]: Train - Epoch: 78, LR: 0.01, train_loss: 0.1002747\n"
       ]
      },
      {
       "output_type": "stream",
       "stream": "stdout",
       "text": [
        "[2020-10-23 03:57:14,550][INFO]: Validation - Epoch: 78, val_loss: 0.1350767\n"
       ]
      },
      {
       "output_type": "stream",
       "stream": "stdout",
       "text": [
        "[2020-10-23 03:57:36,577][INFO]: Train - Epoch: 79, LR: 0.01, train_loss: 0.100495\n"
       ]
      },
      {
       "output_type": "stream",
       "stream": "stdout",
       "text": [
        "[2020-10-23 03:57:44,679][INFO]: Validation - Epoch: 79, val_loss: 0.1621165\n"
       ]
      },
      {
       "output_type": "stream",
       "stream": "stdout",
       "text": [
        "[2020-10-23 03:58:06,535][INFO]: Train - Epoch: 80, LR: 0.01, train_loss: 0.09734846\n"
       ]
      },
      {
       "output_type": "stream",
       "stream": "stdout",
       "text": [
        "[2020-10-23 03:58:14,866][INFO]: Validation - Epoch: 80, val_loss: 0.1266968\n"
       ]
      },
      {
       "output_type": "stream",
       "stream": "stdout",
       "text": [
        "[2020-10-23 03:58:15,067][INFO]: Model saved to './results/argus2/unet_fold_4/model.pth'\n"
       ]
      },
      {
       "output_type": "stream",
       "stream": "stdout",
       "text": [
        "[2020-10-23 03:58:15,082][INFO]: Model removed './results/argus2/unet_fold_4/model.pth'\n"
       ]
      },
      {
       "output_type": "stream",
       "stream": "stdout",
       "text": [
        "[2020-10-23 03:58:36,897][INFO]: Train - Epoch: 81, LR: 0.01, train_loss: 0.0992526\n"
       ]
      },
      {
       "output_type": "stream",
       "stream": "stdout",
       "text": [
        "[2020-10-23 03:58:44,928][INFO]: Validation - Epoch: 81, val_loss: 0.1305165\n"
       ]
      },
      {
       "output_type": "stream",
       "stream": "stdout",
       "text": [
        "[2020-10-23 03:59:06,808][INFO]: Train - Epoch: 82, LR: 0.01, train_loss: 0.09931813\n"
       ]
      },
      {
       "output_type": "stream",
       "stream": "stdout",
       "text": [
        "[2020-10-23 03:59:15,104][INFO]: Validation - Epoch: 82, val_loss: 0.1295047\n"
       ]
      },
      {
       "output_type": "stream",
       "stream": "stdout",
       "text": [
        "[2020-10-23 03:59:37,221][INFO]: Train - Epoch: 83, LR: 0.01, train_loss: 0.09720068\n"
       ]
      },
      {
       "output_type": "stream",
       "stream": "stdout",
       "text": [
        "[2020-10-23 03:59:45,209][INFO]: Validation - Epoch: 83, val_loss: 0.1335588\n"
       ]
      },
      {
       "output_type": "stream",
       "stream": "stdout",
       "text": [
        "[2020-10-23 04:00:07,135][INFO]: Train - Epoch: 84, LR: 0.01, train_loss: 0.09584037\n"
       ]
      },
      {
       "output_type": "stream",
       "stream": "stdout",
       "text": [
        "[2020-10-23 04:00:15,127][INFO]: Validation - Epoch: 84, val_loss: 0.1305912\n"
       ]
      },
      {
       "output_type": "stream",
       "stream": "stdout",
       "text": [
        "[2020-10-23 04:00:37,133][INFO]: Train - Epoch: 85, LR: 0.01, train_loss: 0.0952424\n"
       ]
      },
      {
       "output_type": "stream",
       "stream": "stdout",
       "text": [
        "[2020-10-23 04:00:45,216][INFO]: Validation - Epoch: 85, val_loss: 0.1421299\n"
       ]
      },
      {
       "output_type": "stream",
       "stream": "stdout",
       "text": [
        "[2020-10-23 04:01:07,290][INFO]: Train - Epoch: 86, LR: 0.01, train_loss: 0.09697895\n"
       ]
      },
      {
       "output_type": "stream",
       "stream": "stdout",
       "text": [
        "[2020-10-23 04:01:15,310][INFO]: Validation - Epoch: 86, val_loss: 0.1268045\n"
       ]
      },
      {
       "output_type": "stream",
       "stream": "stdout",
       "text": [
        "[2020-10-23 04:01:37,468][INFO]: Train - Epoch: 87, LR: 0.01, train_loss: 0.09603346\n"
       ]
      },
      {
       "output_type": "stream",
       "stream": "stdout",
       "text": [
        "[2020-10-23 04:01:45,529][INFO]: Validation - Epoch: 87, val_loss: 0.1264981\n"
       ]
      },
      {
       "output_type": "stream",
       "stream": "stdout",
       "text": [
        "[2020-10-23 04:01:45,722][INFO]: Model saved to './results/argus2/unet_fold_4/model.pth'\n"
       ]
      },
      {
       "output_type": "stream",
       "stream": "stdout",
       "text": [
        "[2020-10-23 04:01:45,740][INFO]: Model removed './results/argus2/unet_fold_4/model.pth'\n"
       ]
      },
      {
       "output_type": "stream",
       "stream": "stdout",
       "text": [
        "[2020-10-23 04:02:07,716][INFO]: Train - Epoch: 88, LR: 0.01, train_loss: 0.0956187\n"
       ]
      },
      {
       "output_type": "stream",
       "stream": "stdout",
       "text": [
        "[2020-10-23 04:02:15,616][INFO]: Validation - Epoch: 88, val_loss: 0.1231531\n"
       ]
      },
      {
       "output_type": "stream",
       "stream": "stdout",
       "text": [
        "[2020-10-23 04:02:16,021][INFO]: Model saved to './results/argus2/unet_fold_4/model.pth'\n"
       ]
      },
      {
       "output_type": "stream",
       "stream": "stdout",
       "text": [
        "[2020-10-23 04:02:16,038][INFO]: Model removed './results/argus2/unet_fold_4/model.pth'\n"
       ]
      },
      {
       "output_type": "stream",
       "stream": "stdout",
       "text": [
        "[2020-10-23 04:02:38,147][INFO]: Train - Epoch: 89, LR: 0.01, train_loss: 0.0936144\n"
       ]
      },
      {
       "output_type": "stream",
       "stream": "stdout",
       "text": [
        "[2020-10-23 04:02:46,194][INFO]: Validation - Epoch: 89, val_loss: 0.1556637\n"
       ]
      },
      {
       "output_type": "stream",
       "stream": "stdout",
       "text": [
        "[2020-10-23 04:03:08,006][INFO]: Train - Epoch: 90, LR: 0.01, train_loss: 0.09366303\n"
       ]
      },
      {
       "output_type": "stream",
       "stream": "stdout",
       "text": [
        "[2020-10-23 04:03:16,113][INFO]: Validation - Epoch: 90, val_loss: 0.1329883\n"
       ]
      },
      {
       "output_type": "stream",
       "stream": "stdout",
       "text": [
        "[2020-10-23 04:03:38,139][INFO]: Train - Epoch: 91, LR: 0.01, train_loss: 0.09158999\n"
       ]
      },
      {
       "output_type": "stream",
       "stream": "stdout",
       "text": [
        "[2020-10-23 04:03:46,230][INFO]: Validation - Epoch: 91, val_loss: 0.1264348\n"
       ]
      },
      {
       "output_type": "stream",
       "stream": "stdout",
       "text": [
        "[2020-10-23 04:04:08,141][INFO]: Train - Epoch: 92, LR: 0.01, train_loss: 0.09335654\n"
       ]
      },
      {
       "output_type": "stream",
       "stream": "stdout",
       "text": [
        "[2020-10-23 04:04:16,205][INFO]: Validation - Epoch: 92, val_loss: 0.1258662\n"
       ]
      },
      {
       "output_type": "stream",
       "stream": "stdout",
       "text": [
        "[2020-10-23 04:04:38,145][INFO]: Train - Epoch: 93, LR: 0.01, train_loss: 0.09477994\n"
       ]
      },
      {
       "output_type": "stream",
       "stream": "stdout",
       "text": [
        "[2020-10-23 04:04:46,119][INFO]: Validation - Epoch: 93, val_loss: 0.1305282\n"
       ]
      },
      {
       "output_type": "stream",
       "stream": "stdout",
       "text": [
        "[2020-10-23 04:05:08,201][INFO]: Train - Epoch: 94, LR: 0.01, train_loss: 0.09198984\n"
       ]
      },
      {
       "output_type": "stream",
       "stream": "stdout",
       "text": [
        "[2020-10-23 04:05:16,235][INFO]: Validation - Epoch: 94, val_loss: 0.1432631\n"
       ]
      },
      {
       "output_type": "stream",
       "stream": "stdout",
       "text": [
        "[2020-10-23 04:05:38,292][INFO]: Train - Epoch: 95, LR: 0.01, train_loss: 0.09210146\n"
       ]
      },
      {
       "output_type": "stream",
       "stream": "stdout",
       "text": [
        "[2020-10-23 04:05:46,341][INFO]: Validation - Epoch: 95, val_loss: 0.1290283\n"
       ]
      },
      {
       "output_type": "stream",
       "stream": "stdout",
       "text": [
        "[2020-10-23 04:06:08,478][INFO]: Train - Epoch: 96, LR: 0.01, train_loss: 0.09184659\n"
       ]
      },
      {
       "output_type": "stream",
       "stream": "stdout",
       "text": [
        "[2020-10-23 04:06:16,671][INFO]: Validation - Epoch: 96, val_loss: 0.1300763\n"
       ]
      },
      {
       "output_type": "stream",
       "stream": "stdout",
       "text": [
        "[2020-10-23 04:06:38,997][INFO]: Train - Epoch: 97, LR: 0.01, train_loss: 0.09088028\n"
       ]
      },
      {
       "output_type": "stream",
       "stream": "stdout",
       "text": [
        "[2020-10-23 04:06:47,005][INFO]: Validation - Epoch: 97, val_loss: 0.125025\n"
       ]
      },
      {
       "output_type": "stream",
       "stream": "stdout",
       "text": [
        "[2020-10-23 04:07:08,987][INFO]: Train - Epoch: 98, LR: 0.01, train_loss: 0.0912049\n"
       ]
      },
      {
       "output_type": "stream",
       "stream": "stdout",
       "text": [
        "[2020-10-23 04:07:16,976][INFO]: Validation - Epoch: 98, val_loss: 0.1256505\n"
       ]
      },
      {
       "output_type": "stream",
       "stream": "stdout",
       "text": [
        "[2020-10-23 04:07:39,158][INFO]: Train - Epoch: 99, LR: 0.01, train_loss: 0.08946437\n"
       ]
      },
      {
       "output_type": "stream",
       "stream": "stdout",
       "text": [
        "[2020-10-23 04:07:47,285][INFO]: Validation - Epoch: 99, val_loss: 0.1193056\n"
       ]
      },
      {
       "output_type": "stream",
       "stream": "stdout",
       "text": [
        "[2020-10-23 04:07:47,489][INFO]: Model saved to './results/argus2/unet_fold_4/model.pth'\n"
       ]
      },
      {
       "output_type": "stream",
       "stream": "stdout",
       "text": [
        "[2020-10-23 04:07:47,507][INFO]: Model removed './results/argus2/unet_fold_4/model.pth'\n"
       ]
      }
     ],
     "prompt_number": 13
    },
    {
     "cell_type": "heading",
     "level": 2,
     "metadata": {},
     "source": [
      "Test"
     ]
    },
    {
     "cell_type": "code",
     "collapsed": false,
     "input": [
      "run_folder = './results/argus2'"
     ],
     "language": "python",
     "metadata": {},
     "outputs": [],
     "prompt_number": 14
    },
    {
     "cell_type": "code",
     "collapsed": false,
     "input": [
      "test_img = np.load('/nas/home/fpicetti/datasets/seismic_facies/argus_normalized/data_test_1.npz',\n",
      "                   allow_pickle=True, mmap_mode='r')['data']"
     ],
     "language": "python",
     "metadata": {},
     "outputs": [],
     "prompt_number": 15
    },
    {
     "cell_type": "code",
     "collapsed": false,
     "input": [
      "gpus_test = gpus\n",
      "dev = [f\"cuda:{gpu}\" for gpu in gpus]"
     ],
     "language": "python",
     "metadata": {},
     "outputs": [],
     "prompt_number": 16
    },
    {
     "cell_type": "code",
     "collapsed": false,
     "input": [
      "# model = argus.load_model(os.path.join(os.path.join(run_folder, 'unet_fold_0/model.pth'), device=dev)\n",
      "model = argus.load_model(os.path.join(run_folder, 'unet_fold_0/model.pth'))"
     ],
     "language": "python",
     "metadata": {
      "id": "_a-3anl2gLpw"
     },
     "outputs": [
      {
       "ename": "FileNotFoundError",
       "evalue": "No state found at ./results/argus2/unet_fold_0/model.pth",
       "output_type": "pyerr",
       "traceback": [
        "\u001b[0;31m---------------------------------------------------------------------------\u001b[0m",
        "\u001b[0;31mFileNotFoundError\u001b[0m                         Traceback (most recent call last)",
        "\u001b[0;32m<ipython-input-17-213755ce93d5>\u001b[0m in \u001b[0;36m<module>\u001b[0;34m\u001b[0m\n\u001b[1;32m      1\u001b[0m \u001b[0;31m# model = argus.load_model(os.path.join(os.path.join(run_folder, 'unet_fold_0/model.pth'), device=dev)\u001b[0m\u001b[0;34m\u001b[0m\u001b[0;34m\u001b[0m\u001b[0;34m\u001b[0m\u001b[0m\n\u001b[0;32m----> 2\u001b[0;31m \u001b[0mmodel\u001b[0m \u001b[0;34m=\u001b[0m \u001b[0margus\u001b[0m\u001b[0;34m.\u001b[0m\u001b[0mload_model\u001b[0m\u001b[0;34m(\u001b[0m\u001b[0mos\u001b[0m\u001b[0;34m.\u001b[0m\u001b[0mpath\u001b[0m\u001b[0;34m.\u001b[0m\u001b[0mjoin\u001b[0m\u001b[0;34m(\u001b[0m\u001b[0mrun_folder\u001b[0m\u001b[0;34m,\u001b[0m \u001b[0;34m'unet_fold_0/model.pth'\u001b[0m\u001b[0;34m)\u001b[0m\u001b[0;34m)\u001b[0m\u001b[0;34m\u001b[0m\u001b[0;34m\u001b[0m\u001b[0m\n\u001b[0m",
        "\u001b[0;32m/nas/home/fpicetti/miniconda3/envs/geoml/lib/python3.8/site-packages/argus/model/model.py\u001b[0m in \u001b[0;36mload_model\u001b[0;34m(file_path, nn_module, optimizer, loss, prediction_transform, device, change_params_func, change_state_dict_func, model_name, **kwargs)\u001b[0m\n\u001b[1;32m    423\u001b[0m             \u001b[0;32mraise\u001b[0m \u001b[0mImportError\u001b[0m\u001b[0;34m(\u001b[0m\u001b[0;34mf\"Model '{model_name}' not found in scope\"\u001b[0m\u001b[0;34m)\u001b[0m\u001b[0;34m\u001b[0m\u001b[0;34m\u001b[0m\u001b[0m\n\u001b[1;32m    424\u001b[0m     \u001b[0;32melse\u001b[0m\u001b[0;34m:\u001b[0m\u001b[0;34m\u001b[0m\u001b[0;34m\u001b[0m\u001b[0m\n\u001b[0;32m--> 425\u001b[0;31m         \u001b[0;32mraise\u001b[0m \u001b[0mFileNotFoundError\u001b[0m\u001b[0;34m(\u001b[0m\u001b[0;34mf\"No state found at {file_path}\"\u001b[0m\u001b[0;34m)\u001b[0m\u001b[0;34m\u001b[0m\u001b[0;34m\u001b[0m\u001b[0m\n\u001b[0m",
        "\u001b[0;31mFileNotFoundError\u001b[0m: No state found at ./results/argus2/unet_fold_0/model.pth"
       ]
      }
     ],
     "prompt_number": 17
    },
    {
     "cell_type": "code",
     "collapsed": false,
     "input": [
      "model"
     ],
     "language": "python",
     "metadata": {},
     "outputs": [],
     "prompt_number": null
    },
    {
     "cell_type": "code",
     "collapsed": false,
     "input": [
      "tiler = ImageSlicer(train_img.shape[:-1] + (1,), tile_size=patch_size, tile_step=(1, 8))\n",
      "merger = CudaTileMerger(tiler.target_shape, 6, tiler.weight)"
     ],
     "language": "python",
     "metadata": {
      "id": "93VPhMWGgLp0"
     },
     "outputs": [],
     "prompt_number": null
    },
    {
     "cell_type": "code",
     "collapsed": false,
     "input": [
      "test_labels = []\n",
      "test_img_T = test_img.transpose(2, 0, 1)"
     ],
     "language": "python",
     "metadata": {},
     "outputs": [],
     "prompt_number": null
    },
    {
     "cell_type": "code",
     "collapsed": false,
     "input": [
      "for img_idx in trange(test_img_T.shape[0], desc='XZ section'):\n",
      "    \n",
      "    img = test_img_T[img_idx]\n",
      "    \n",
      "    tiles = [tile for tile in tiler.split(img[:, :, None])]\n",
      "\n",
      "    for tiles_batch, coords_batch in DataLoader(list(zip(tiles, tiler.crops)), batch_size=batch_size*8):\n",
      "        tiles_batch = tiles_batch.permute(0, 3, 1, 2)\n",
      "        pred_batch = torch.softmax(model.predict(tiles_batch), axis=1).to(merger.image.device)\n",
      "        \n",
      "        merger.integrate_batch(pred_batch, coords_batch)\n",
      "\n",
      "    merged_mask = merger.merge()\n",
      "    merged_mask = merged_mask.permute(1, 2, 0).cpu().numpy()\n",
      "    merged_mask = tiler.crop_to_orignal_size(merged_mask).argmax(2)\n",
      "    \n",
      "    test_labels.append(merged_mask)\n",
      "\n",
      "del test_img_T"
     ],
     "language": "python",
     "metadata": {
      "id": "xA-f_83BgLp4",
      "scrolled": false
     },
     "outputs": [],
     "prompt_number": null
    },
    {
     "cell_type": "code",
     "collapsed": false,
     "input": [
      "test_labels = np.stack(test_labels).transpose(1, 2, 0)"
     ],
     "language": "python",
     "metadata": {
      "id": "5eGrbjYYgLp8"
     },
     "outputs": [],
     "prompt_number": null
    },
    {
     "cell_type": "code",
     "collapsed": false,
     "input": [
      "np.savez_compressed(os.path.join('./facies_aicrowd_submissions', 'submission_argus2.npz'),\n",
      "                    prediction=test_labels.astype(train_labels.dtype) + 1)\n"
     ],
     "language": "python",
     "metadata": {
      "id": "l146n2FXgLp_"
     },
     "outputs": [],
     "prompt_number": null
    },
    {
     "cell_type": "code",
     "collapsed": false,
     "input": [
      "%%javascript\n",
      "Jupyter.notebook.session.delete();"
     ],
     "language": "python",
     "metadata": {},
     "outputs": [
      {
       "javascript": [
        "Jupyter.notebook.session.delete();\n"
       ],
       "metadata": {},
       "output_type": "display_data",
       "text": [
        "<IPython.core.display.Javascript object>"
       ]
      }
     ],
     "prompt_number": null
    },
    {
     "cell_type": "code",
     "collapsed": false,
     "input": [],
     "language": "python",
     "metadata": {},
     "outputs": [],
     "prompt_number": null
    }
   ],
   "metadata": {}
  }
 ]
}
