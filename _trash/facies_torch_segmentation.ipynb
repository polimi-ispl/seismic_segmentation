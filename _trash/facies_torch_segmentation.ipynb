{
  "nbformat": 4,
  "nbformat_minor": 0,
  "metadata": {
    "colab": {
      "name": "Segmentation(1).ipynb",
      "provenance": [],
      "collapsed_sections": [],
      "toc_visible": true
    },
    "kernelspec": {
      "name": "python3",
      "display_name": "Python 3"
    },
    "accelerator": "GPU",
    "widgets": {
      "application/vnd.jupyter.widget-state+json": {
        "beb9f36e475a467aba0eefab012c1be0": {
          "model_module": "@jupyter-widgets/controls",
          "model_name": "HBoxModel",
          "state": {
            "_view_name": "HBoxView",
            "_dom_classes": [],
            "_model_name": "HBoxModel",
            "_view_module": "@jupyter-widgets/controls",
            "_model_module_version": "1.5.0",
            "_view_count": null,
            "_view_module_version": "1.5.0",
            "box_style": "",
            "layout": "IPY_MODEL_ebc459329d4e42fbbf49ce24b31ed0ce",
            "_model_module": "@jupyter-widgets/controls",
            "children": [
              "IPY_MODEL_9a37f9464d044b0b9959db62492e9ebe",
              "IPY_MODEL_715351c377434220915639b1317898e1"
            ]
          }
        },
        "ebc459329d4e42fbbf49ce24b31ed0ce": {
          "model_module": "@jupyter-widgets/base",
          "model_name": "LayoutModel",
          "state": {
            "_view_name": "LayoutView",
            "grid_template_rows": null,
            "right": null,
            "justify_content": null,
            "_view_module": "@jupyter-widgets/base",
            "overflow": null,
            "_model_module_version": "1.2.0",
            "_view_count": null,
            "flex_flow": null,
            "width": null,
            "min_width": null,
            "border": null,
            "align_items": null,
            "bottom": null,
            "_model_module": "@jupyter-widgets/base",
            "top": null,
            "grid_column": null,
            "overflow_y": null,
            "overflow_x": null,
            "grid_auto_flow": null,
            "grid_area": null,
            "grid_template_columns": null,
            "flex": null,
            "_model_name": "LayoutModel",
            "justify_items": null,
            "grid_row": null,
            "max_height": null,
            "align_content": null,
            "visibility": null,
            "align_self": null,
            "height": null,
            "min_height": null,
            "padding": null,
            "grid_auto_rows": null,
            "grid_gap": null,
            "max_width": null,
            "order": null,
            "_view_module_version": "1.2.0",
            "grid_template_areas": null,
            "object_position": null,
            "object_fit": null,
            "grid_auto_columns": null,
            "margin": null,
            "display": null,
            "left": null
          }
        },
        "9a37f9464d044b0b9959db62492e9ebe": {
          "model_module": "@jupyter-widgets/controls",
          "model_name": "FloatProgressModel",
          "state": {
            "_view_name": "ProgressView",
            "style": "IPY_MODEL_2405f95d39394a608844845e67c8441c",
            "_dom_classes": [],
            "description": "100%",
            "_model_name": "FloatProgressModel",
            "bar_style": "success",
            "max": 782,
            "_view_module": "@jupyter-widgets/controls",
            "_model_module_version": "1.5.0",
            "value": 782,
            "_view_count": null,
            "_view_module_version": "1.5.0",
            "orientation": "horizontal",
            "min": 0,
            "description_tooltip": null,
            "_model_module": "@jupyter-widgets/controls",
            "layout": "IPY_MODEL_30ecb47ecff74500a94f3a290361a1a3"
          }
        },
        "715351c377434220915639b1317898e1": {
          "model_module": "@jupyter-widgets/controls",
          "model_name": "HTMLModel",
          "state": {
            "_view_name": "HTMLView",
            "style": "IPY_MODEL_74b1f0b4886c47f69d73902a47063116",
            "_dom_classes": [],
            "description": "",
            "_model_name": "HTMLModel",
            "placeholder": "​",
            "_view_module": "@jupyter-widgets/controls",
            "_model_module_version": "1.5.0",
            "value": " 782/782 [00:20&lt;00:00, 38.76it/s]",
            "_view_count": null,
            "_view_module_version": "1.5.0",
            "description_tooltip": null,
            "_model_module": "@jupyter-widgets/controls",
            "layout": "IPY_MODEL_3e018d23a23d4227ba9589608c4dce86"
          }
        },
        "2405f95d39394a608844845e67c8441c": {
          "model_module": "@jupyter-widgets/controls",
          "model_name": "ProgressStyleModel",
          "state": {
            "_view_name": "StyleView",
            "_model_name": "ProgressStyleModel",
            "description_width": "initial",
            "_view_module": "@jupyter-widgets/base",
            "_model_module_version": "1.5.0",
            "_view_count": null,
            "_view_module_version": "1.2.0",
            "bar_color": null,
            "_model_module": "@jupyter-widgets/controls"
          }
        },
        "30ecb47ecff74500a94f3a290361a1a3": {
          "model_module": "@jupyter-widgets/base",
          "model_name": "LayoutModel",
          "state": {
            "_view_name": "LayoutView",
            "grid_template_rows": null,
            "right": null,
            "justify_content": null,
            "_view_module": "@jupyter-widgets/base",
            "overflow": null,
            "_model_module_version": "1.2.0",
            "_view_count": null,
            "flex_flow": null,
            "width": null,
            "min_width": null,
            "border": null,
            "align_items": null,
            "bottom": null,
            "_model_module": "@jupyter-widgets/base",
            "top": null,
            "grid_column": null,
            "overflow_y": null,
            "overflow_x": null,
            "grid_auto_flow": null,
            "grid_area": null,
            "grid_template_columns": null,
            "flex": null,
            "_model_name": "LayoutModel",
            "justify_items": null,
            "grid_row": null,
            "max_height": null,
            "align_content": null,
            "visibility": null,
            "align_self": null,
            "height": null,
            "min_height": null,
            "padding": null,
            "grid_auto_rows": null,
            "grid_gap": null,
            "max_width": null,
            "order": null,
            "_view_module_version": "1.2.0",
            "grid_template_areas": null,
            "object_position": null,
            "object_fit": null,
            "grid_auto_columns": null,
            "margin": null,
            "display": null,
            "left": null
          }
        },
        "74b1f0b4886c47f69d73902a47063116": {
          "model_module": "@jupyter-widgets/controls",
          "model_name": "DescriptionStyleModel",
          "state": {
            "_view_name": "StyleView",
            "_model_name": "DescriptionStyleModel",
            "description_width": "",
            "_view_module": "@jupyter-widgets/base",
            "_model_module_version": "1.5.0",
            "_view_count": null,
            "_view_module_version": "1.2.0",
            "_model_module": "@jupyter-widgets/controls"
          }
        },
        "3e018d23a23d4227ba9589608c4dce86": {
          "model_module": "@jupyter-widgets/base",
          "model_name": "LayoutModel",
          "state": {
            "_view_name": "LayoutView",
            "grid_template_rows": null,
            "right": null,
            "justify_content": null,
            "_view_module": "@jupyter-widgets/base",
            "overflow": null,
            "_model_module_version": "1.2.0",
            "_view_count": null,
            "flex_flow": null,
            "width": null,
            "min_width": null,
            "border": null,
            "align_items": null,
            "bottom": null,
            "_model_module": "@jupyter-widgets/base",
            "top": null,
            "grid_column": null,
            "overflow_y": null,
            "overflow_x": null,
            "grid_auto_flow": null,
            "grid_area": null,
            "grid_template_columns": null,
            "flex": null,
            "_model_name": "LayoutModel",
            "justify_items": null,
            "grid_row": null,
            "max_height": null,
            "align_content": null,
            "visibility": null,
            "align_self": null,
            "height": null,
            "min_height": null,
            "padding": null,
            "grid_auto_rows": null,
            "grid_gap": null,
            "max_width": null,
            "order": null,
            "_view_module_version": "1.2.0",
            "grid_template_areas": null,
            "object_position": null,
            "object_fit": null,
            "grid_auto_columns": null,
            "margin": null,
            "display": null,
            "left": null
          }
        },
        "1a9cdecd736b488c9c8b4a335c9a614c": {
          "model_module": "@jupyter-widgets/controls",
          "model_name": "HBoxModel",
          "state": {
            "_view_name": "HBoxView",
            "_dom_classes": [],
            "_model_name": "HBoxModel",
            "_view_module": "@jupyter-widgets/controls",
            "_model_module_version": "1.5.0",
            "_view_count": null,
            "_view_module_version": "1.5.0",
            "box_style": "",
            "layout": "IPY_MODEL_b0b5ab6f5c4c43d5bad93fe410c449c0",
            "_model_module": "@jupyter-widgets/controls",
            "children": [
              "IPY_MODEL_c84926d5fa0345018f73c29e9c871cc3",
              "IPY_MODEL_a993fb81c5154d2da876c994a5dc1aa6"
            ]
          }
        },
        "b0b5ab6f5c4c43d5bad93fe410c449c0": {
          "model_module": "@jupyter-widgets/base",
          "model_name": "LayoutModel",
          "state": {
            "_view_name": "LayoutView",
            "grid_template_rows": null,
            "right": null,
            "justify_content": null,
            "_view_module": "@jupyter-widgets/base",
            "overflow": null,
            "_model_module_version": "1.2.0",
            "_view_count": null,
            "flex_flow": null,
            "width": null,
            "min_width": null,
            "border": null,
            "align_items": null,
            "bottom": null,
            "_model_module": "@jupyter-widgets/base",
            "top": null,
            "grid_column": null,
            "overflow_y": null,
            "overflow_x": null,
            "grid_auto_flow": null,
            "grid_area": null,
            "grid_template_columns": null,
            "flex": null,
            "_model_name": "LayoutModel",
            "justify_items": null,
            "grid_row": null,
            "max_height": null,
            "align_content": null,
            "visibility": null,
            "align_self": null,
            "height": null,
            "min_height": null,
            "padding": null,
            "grid_auto_rows": null,
            "grid_gap": null,
            "max_width": null,
            "order": null,
            "_view_module_version": "1.2.0",
            "grid_template_areas": null,
            "object_position": null,
            "object_fit": null,
            "grid_auto_columns": null,
            "margin": null,
            "display": null,
            "left": null
          }
        },
        "c84926d5fa0345018f73c29e9c871cc3": {
          "model_module": "@jupyter-widgets/controls",
          "model_name": "FloatProgressModel",
          "state": {
            "_view_name": "ProgressView",
            "style": "IPY_MODEL_af90231d62ed434c829a7b3a60e4af05",
            "_dom_classes": [],
            "description": "100%",
            "_model_name": "FloatProgressModel",
            "bar_style": "success",
            "max": 590,
            "_view_module": "@jupyter-widgets/controls",
            "_model_module_version": "1.5.0",
            "value": 590,
            "_view_count": null,
            "_view_module_version": "1.5.0",
            "orientation": "horizontal",
            "min": 0,
            "description_tooltip": null,
            "_model_module": "@jupyter-widgets/controls",
            "layout": "IPY_MODEL_c991b0f534ca4caaa248dcdc456f419c"
          }
        },
        "a993fb81c5154d2da876c994a5dc1aa6": {
          "model_module": "@jupyter-widgets/controls",
          "model_name": "HTMLModel",
          "state": {
            "_view_name": "HTMLView",
            "style": "IPY_MODEL_b4bf3498e06d4b3798ed431fd31d359e",
            "_dom_classes": [],
            "description": "",
            "_model_name": "HTMLModel",
            "placeholder": "​",
            "_view_module": "@jupyter-widgets/controls",
            "_model_module_version": "1.5.0",
            "value": " 590/590 [00:14&lt;00:00, 40.37it/s]",
            "_view_count": null,
            "_view_module_version": "1.5.0",
            "description_tooltip": null,
            "_model_module": "@jupyter-widgets/controls",
            "layout": "IPY_MODEL_3999f7c828314c4a98ac20f6894cc41f"
          }
        },
        "af90231d62ed434c829a7b3a60e4af05": {
          "model_module": "@jupyter-widgets/controls",
          "model_name": "ProgressStyleModel",
          "state": {
            "_view_name": "StyleView",
            "_model_name": "ProgressStyleModel",
            "description_width": "initial",
            "_view_module": "@jupyter-widgets/base",
            "_model_module_version": "1.5.0",
            "_view_count": null,
            "_view_module_version": "1.2.0",
            "bar_color": null,
            "_model_module": "@jupyter-widgets/controls"
          }
        },
        "c991b0f534ca4caaa248dcdc456f419c": {
          "model_module": "@jupyter-widgets/base",
          "model_name": "LayoutModel",
          "state": {
            "_view_name": "LayoutView",
            "grid_template_rows": null,
            "right": null,
            "justify_content": null,
            "_view_module": "@jupyter-widgets/base",
            "overflow": null,
            "_model_module_version": "1.2.0",
            "_view_count": null,
            "flex_flow": null,
            "width": null,
            "min_width": null,
            "border": null,
            "align_items": null,
            "bottom": null,
            "_model_module": "@jupyter-widgets/base",
            "top": null,
            "grid_column": null,
            "overflow_y": null,
            "overflow_x": null,
            "grid_auto_flow": null,
            "grid_area": null,
            "grid_template_columns": null,
            "flex": null,
            "_model_name": "LayoutModel",
            "justify_items": null,
            "grid_row": null,
            "max_height": null,
            "align_content": null,
            "visibility": null,
            "align_self": null,
            "height": null,
            "min_height": null,
            "padding": null,
            "grid_auto_rows": null,
            "grid_gap": null,
            "max_width": null,
            "order": null,
            "_view_module_version": "1.2.0",
            "grid_template_areas": null,
            "object_position": null,
            "object_fit": null,
            "grid_auto_columns": null,
            "margin": null,
            "display": null,
            "left": null
          }
        },
        "b4bf3498e06d4b3798ed431fd31d359e": {
          "model_module": "@jupyter-widgets/controls",
          "model_name": "DescriptionStyleModel",
          "state": {
            "_view_name": "StyleView",
            "_model_name": "DescriptionStyleModel",
            "description_width": "",
            "_view_module": "@jupyter-widgets/base",
            "_model_module_version": "1.5.0",
            "_view_count": null,
            "_view_module_version": "1.2.0",
            "_model_module": "@jupyter-widgets/controls"
          }
        },
        "3999f7c828314c4a98ac20f6894cc41f": {
          "model_module": "@jupyter-widgets/base",
          "model_name": "LayoutModel",
          "state": {
            "_view_name": "LayoutView",
            "grid_template_rows": null,
            "right": null,
            "justify_content": null,
            "_view_module": "@jupyter-widgets/base",
            "overflow": null,
            "_model_module_version": "1.2.0",
            "_view_count": null,
            "flex_flow": null,
            "width": null,
            "min_width": null,
            "border": null,
            "align_items": null,
            "bottom": null,
            "_model_module": "@jupyter-widgets/base",
            "top": null,
            "grid_column": null,
            "overflow_y": null,
            "overflow_x": null,
            "grid_auto_flow": null,
            "grid_area": null,
            "grid_template_columns": null,
            "flex": null,
            "_model_name": "LayoutModel",
            "justify_items": null,
            "grid_row": null,
            "max_height": null,
            "align_content": null,
            "visibility": null,
            "align_self": null,
            "height": null,
            "min_height": null,
            "padding": null,
            "grid_auto_rows": null,
            "grid_gap": null,
            "max_width": null,
            "order": null,
            "_view_module_version": "1.2.0",
            "grid_template_areas": null,
            "object_position": null,
            "object_fit": null,
            "grid_auto_columns": null,
            "margin": null,
            "display": null,
            "left": null
          }
        },
        "71a3c83e949544d890a14b7e7cc4838c": {
          "model_module": "@jupyter-widgets/controls",
          "model_name": "HBoxModel",
          "state": {
            "_view_name": "HBoxView",
            "_dom_classes": [],
            "_model_name": "HBoxModel",
            "_view_module": "@jupyter-widgets/controls",
            "_model_module_version": "1.5.0",
            "_view_count": null,
            "_view_module_version": "1.5.0",
            "box_style": "",
            "layout": "IPY_MODEL_73c5f0675a084419b52994d41f32b743",
            "_model_module": "@jupyter-widgets/controls",
            "children": [
              "IPY_MODEL_4cfb31268a134dd6bbd8a9aa3d83754a",
              "IPY_MODEL_2b2dff6b75424fdbb62b8b8895e31850"
            ]
          }
        },
        "73c5f0675a084419b52994d41f32b743": {
          "model_module": "@jupyter-widgets/base",
          "model_name": "LayoutModel",
          "state": {
            "_view_name": "LayoutView",
            "grid_template_rows": null,
            "right": null,
            "justify_content": null,
            "_view_module": "@jupyter-widgets/base",
            "overflow": null,
            "_model_module_version": "1.2.0",
            "_view_count": null,
            "flex_flow": null,
            "width": null,
            "min_width": null,
            "border": null,
            "align_items": null,
            "bottom": null,
            "_model_module": "@jupyter-widgets/base",
            "top": null,
            "grid_column": null,
            "overflow_y": null,
            "overflow_x": null,
            "grid_auto_flow": null,
            "grid_area": null,
            "grid_template_columns": null,
            "flex": null,
            "_model_name": "LayoutModel",
            "justify_items": null,
            "grid_row": null,
            "max_height": null,
            "align_content": null,
            "visibility": null,
            "align_self": null,
            "height": null,
            "min_height": null,
            "padding": null,
            "grid_auto_rows": null,
            "grid_gap": null,
            "max_width": null,
            "order": null,
            "_view_module_version": "1.2.0",
            "grid_template_areas": null,
            "object_position": null,
            "object_fit": null,
            "grid_auto_columns": null,
            "margin": null,
            "display": null,
            "left": null
          }
        },
        "4cfb31268a134dd6bbd8a9aa3d83754a": {
          "model_module": "@jupyter-widgets/controls",
          "model_name": "FloatProgressModel",
          "state": {
            "_view_name": "ProgressView",
            "style": "IPY_MODEL_8e5202cfb97a47aebe58e283fe836b69",
            "_dom_classes": [],
            "description": "100%",
            "_model_name": "FloatProgressModel",
            "bar_style": "success",
            "max": 782,
            "_view_module": "@jupyter-widgets/controls",
            "_model_module_version": "1.5.0",
            "value": 782,
            "_view_count": null,
            "_view_module_version": "1.5.0",
            "orientation": "horizontal",
            "min": 0,
            "description_tooltip": null,
            "_model_module": "@jupyter-widgets/controls",
            "layout": "IPY_MODEL_8f17178a7fe148b6ab278567c60a3be3"
          }
        },
        "2b2dff6b75424fdbb62b8b8895e31850": {
          "model_module": "@jupyter-widgets/controls",
          "model_name": "HTMLModel",
          "state": {
            "_view_name": "HTMLView",
            "style": "IPY_MODEL_19a25341466542108a8f1adc8cd7d9bd",
            "_dom_classes": [],
            "description": "",
            "_model_name": "HTMLModel",
            "placeholder": "​",
            "_view_module": "@jupyter-widgets/controls",
            "_model_module_version": "1.5.0",
            "value": " 782/782 [00:01&lt;00:00, 618.32it/s]",
            "_view_count": null,
            "_view_module_version": "1.5.0",
            "description_tooltip": null,
            "_model_module": "@jupyter-widgets/controls",
            "layout": "IPY_MODEL_cf236735c12b472d85e47546c776ab8b"
          }
        },
        "8e5202cfb97a47aebe58e283fe836b69": {
          "model_module": "@jupyter-widgets/controls",
          "model_name": "ProgressStyleModel",
          "state": {
            "_view_name": "StyleView",
            "_model_name": "ProgressStyleModel",
            "description_width": "initial",
            "_view_module": "@jupyter-widgets/base",
            "_model_module_version": "1.5.0",
            "_view_count": null,
            "_view_module_version": "1.2.0",
            "bar_color": null,
            "_model_module": "@jupyter-widgets/controls"
          }
        },
        "8f17178a7fe148b6ab278567c60a3be3": {
          "model_module": "@jupyter-widgets/base",
          "model_name": "LayoutModel",
          "state": {
            "_view_name": "LayoutView",
            "grid_template_rows": null,
            "right": null,
            "justify_content": null,
            "_view_module": "@jupyter-widgets/base",
            "overflow": null,
            "_model_module_version": "1.2.0",
            "_view_count": null,
            "flex_flow": null,
            "width": null,
            "min_width": null,
            "border": null,
            "align_items": null,
            "bottom": null,
            "_model_module": "@jupyter-widgets/base",
            "top": null,
            "grid_column": null,
            "overflow_y": null,
            "overflow_x": null,
            "grid_auto_flow": null,
            "grid_area": null,
            "grid_template_columns": null,
            "flex": null,
            "_model_name": "LayoutModel",
            "justify_items": null,
            "grid_row": null,
            "max_height": null,
            "align_content": null,
            "visibility": null,
            "align_self": null,
            "height": null,
            "min_height": null,
            "padding": null,
            "grid_auto_rows": null,
            "grid_gap": null,
            "max_width": null,
            "order": null,
            "_view_module_version": "1.2.0",
            "grid_template_areas": null,
            "object_position": null,
            "object_fit": null,
            "grid_auto_columns": null,
            "margin": null,
            "display": null,
            "left": null
          }
        },
        "19a25341466542108a8f1adc8cd7d9bd": {
          "model_module": "@jupyter-widgets/controls",
          "model_name": "DescriptionStyleModel",
          "state": {
            "_view_name": "StyleView",
            "_model_name": "DescriptionStyleModel",
            "description_width": "",
            "_view_module": "@jupyter-widgets/base",
            "_model_module_version": "1.5.0",
            "_view_count": null,
            "_view_module_version": "1.2.0",
            "_model_module": "@jupyter-widgets/controls"
          }
        },
        "cf236735c12b472d85e47546c776ab8b": {
          "model_module": "@jupyter-widgets/base",
          "model_name": "LayoutModel",
          "state": {
            "_view_name": "LayoutView",
            "grid_template_rows": null,
            "right": null,
            "justify_content": null,
            "_view_module": "@jupyter-widgets/base",
            "overflow": null,
            "_model_module_version": "1.2.0",
            "_view_count": null,
            "flex_flow": null,
            "width": null,
            "min_width": null,
            "border": null,
            "align_items": null,
            "bottom": null,
            "_model_module": "@jupyter-widgets/base",
            "top": null,
            "grid_column": null,
            "overflow_y": null,
            "overflow_x": null,
            "grid_auto_flow": null,
            "grid_area": null,
            "grid_template_columns": null,
            "flex": null,
            "_model_name": "LayoutModel",
            "justify_items": null,
            "grid_row": null,
            "max_height": null,
            "align_content": null,
            "visibility": null,
            "align_self": null,
            "height": null,
            "min_height": null,
            "padding": null,
            "grid_auto_rows": null,
            "grid_gap": null,
            "max_width": null,
            "order": null,
            "_view_module_version": "1.2.0",
            "grid_template_areas": null,
            "object_position": null,
            "object_fit": null,
            "grid_auto_columns": null,
            "margin": null,
            "display": null,
            "left": null
          }
        },
        "4c2d2a8c5a214a2a8a6b8ef39c202d33": {
          "model_module": "@jupyter-widgets/controls",
          "model_name": "HBoxModel",
          "state": {
            "_view_name": "HBoxView",
            "_dom_classes": [],
            "_model_name": "HBoxModel",
            "_view_module": "@jupyter-widgets/controls",
            "_model_module_version": "1.5.0",
            "_view_count": null,
            "_view_module_version": "1.5.0",
            "box_style": "",
            "layout": "IPY_MODEL_7b484a4afb6d46b1bd6bcf89c291d6a4",
            "_model_module": "@jupyter-widgets/controls",
            "children": [
              "IPY_MODEL_5bdea1b7eef24b46961eb1c0fd5cf107",
              "IPY_MODEL_85aece5c10f046cc917417fd989dbae2"
            ]
          }
        },
        "7b484a4afb6d46b1bd6bcf89c291d6a4": {
          "model_module": "@jupyter-widgets/base",
          "model_name": "LayoutModel",
          "state": {
            "_view_name": "LayoutView",
            "grid_template_rows": null,
            "right": null,
            "justify_content": null,
            "_view_module": "@jupyter-widgets/base",
            "overflow": null,
            "_model_module_version": "1.2.0",
            "_view_count": null,
            "flex_flow": null,
            "width": null,
            "min_width": null,
            "border": null,
            "align_items": null,
            "bottom": null,
            "_model_module": "@jupyter-widgets/base",
            "top": null,
            "grid_column": null,
            "overflow_y": null,
            "overflow_x": null,
            "grid_auto_flow": null,
            "grid_area": null,
            "grid_template_columns": null,
            "flex": null,
            "_model_name": "LayoutModel",
            "justify_items": null,
            "grid_row": null,
            "max_height": null,
            "align_content": null,
            "visibility": null,
            "align_self": null,
            "height": null,
            "min_height": null,
            "padding": null,
            "grid_auto_rows": null,
            "grid_gap": null,
            "max_width": null,
            "order": null,
            "_view_module_version": "1.2.0",
            "grid_template_areas": null,
            "object_position": null,
            "object_fit": null,
            "grid_auto_columns": null,
            "margin": null,
            "display": null,
            "left": null
          }
        },
        "5bdea1b7eef24b46961eb1c0fd5cf107": {
          "model_module": "@jupyter-widgets/controls",
          "model_name": "FloatProgressModel",
          "state": {
            "_view_name": "ProgressView",
            "style": "IPY_MODEL_9f75ee939072471ab2f2392d1938223c",
            "_dom_classes": [],
            "description": "100%",
            "_model_name": "FloatProgressModel",
            "bar_style": "success",
            "max": 251,
            "_view_module": "@jupyter-widgets/controls",
            "_model_module_version": "1.5.0",
            "value": 251,
            "_view_count": null,
            "_view_module_version": "1.5.0",
            "orientation": "horizontal",
            "min": 0,
            "description_tooltip": null,
            "_model_module": "@jupyter-widgets/controls",
            "layout": "IPY_MODEL_fb2c7333f59644c6aef53bc1b6fbaa1c"
          }
        },
        "85aece5c10f046cc917417fd989dbae2": {
          "model_module": "@jupyter-widgets/controls",
          "model_name": "HTMLModel",
          "state": {
            "_view_name": "HTMLView",
            "style": "IPY_MODEL_9160116cf35d4c6f9a8305fb4db524ab",
            "_dom_classes": [],
            "description": "",
            "_model_name": "HTMLModel",
            "placeholder": "​",
            "_view_module": "@jupyter-widgets/controls",
            "_model_module_version": "1.5.0",
            "value": " 251/251 [00:13&lt;00:00, 18.94it/s]",
            "_view_count": null,
            "_view_module_version": "1.5.0",
            "description_tooltip": null,
            "_model_module": "@jupyter-widgets/controls",
            "layout": "IPY_MODEL_8e5f6382949346bd87013c22e4931a05"
          }
        },
        "9f75ee939072471ab2f2392d1938223c": {
          "model_module": "@jupyter-widgets/controls",
          "model_name": "ProgressStyleModel",
          "state": {
            "_view_name": "StyleView",
            "_model_name": "ProgressStyleModel",
            "description_width": "initial",
            "_view_module": "@jupyter-widgets/base",
            "_model_module_version": "1.5.0",
            "_view_count": null,
            "_view_module_version": "1.2.0",
            "bar_color": null,
            "_model_module": "@jupyter-widgets/controls"
          }
        },
        "fb2c7333f59644c6aef53bc1b6fbaa1c": {
          "model_module": "@jupyter-widgets/base",
          "model_name": "LayoutModel",
          "state": {
            "_view_name": "LayoutView",
            "grid_template_rows": null,
            "right": null,
            "justify_content": null,
            "_view_module": "@jupyter-widgets/base",
            "overflow": null,
            "_model_module_version": "1.2.0",
            "_view_count": null,
            "flex_flow": null,
            "width": null,
            "min_width": null,
            "border": null,
            "align_items": null,
            "bottom": null,
            "_model_module": "@jupyter-widgets/base",
            "top": null,
            "grid_column": null,
            "overflow_y": null,
            "overflow_x": null,
            "grid_auto_flow": null,
            "grid_area": null,
            "grid_template_columns": null,
            "flex": null,
            "_model_name": "LayoutModel",
            "justify_items": null,
            "grid_row": null,
            "max_height": null,
            "align_content": null,
            "visibility": null,
            "align_self": null,
            "height": null,
            "min_height": null,
            "padding": null,
            "grid_auto_rows": null,
            "grid_gap": null,
            "max_width": null,
            "order": null,
            "_view_module_version": "1.2.0",
            "grid_template_areas": null,
            "object_position": null,
            "object_fit": null,
            "grid_auto_columns": null,
            "margin": null,
            "display": null,
            "left": null
          }
        },
        "9160116cf35d4c6f9a8305fb4db524ab": {
          "model_module": "@jupyter-widgets/controls",
          "model_name": "DescriptionStyleModel",
          "state": {
            "_view_name": "StyleView",
            "_model_name": "DescriptionStyleModel",
            "description_width": "",
            "_view_module": "@jupyter-widgets/base",
            "_model_module_version": "1.5.0",
            "_view_count": null,
            "_view_module_version": "1.2.0",
            "_model_module": "@jupyter-widgets/controls"
          }
        },
        "8e5f6382949346bd87013c22e4931a05": {
          "model_module": "@jupyter-widgets/base",
          "model_name": "LayoutModel",
          "state": {
            "_view_name": "LayoutView",
            "grid_template_rows": null,
            "right": null,
            "justify_content": null,
            "_view_module": "@jupyter-widgets/base",
            "overflow": null,
            "_model_module_version": "1.2.0",
            "_view_count": null,
            "flex_flow": null,
            "width": null,
            "min_width": null,
            "border": null,
            "align_items": null,
            "bottom": null,
            "_model_module": "@jupyter-widgets/base",
            "top": null,
            "grid_column": null,
            "overflow_y": null,
            "overflow_x": null,
            "grid_auto_flow": null,
            "grid_area": null,
            "grid_template_columns": null,
            "flex": null,
            "_model_name": "LayoutModel",
            "justify_items": null,
            "grid_row": null,
            "max_height": null,
            "align_content": null,
            "visibility": null,
            "align_self": null,
            "height": null,
            "min_height": null,
            "padding": null,
            "grid_auto_rows": null,
            "grid_gap": null,
            "max_width": null,
            "order": null,
            "_view_module_version": "1.2.0",
            "grid_template_areas": null,
            "object_position": null,
            "object_fit": null,
            "grid_auto_columns": null,
            "margin": null,
            "display": null,
            "left": null
          }
        },
        "92d13de3c7b846849fdf3f0469c36e32": {
          "model_module": "@jupyter-widgets/controls",
          "model_name": "HBoxModel",
          "state": {
            "_view_name": "HBoxView",
            "_dom_classes": [],
            "_model_name": "HBoxModel",
            "_view_module": "@jupyter-widgets/controls",
            "_model_module_version": "1.5.0",
            "_view_count": null,
            "_view_module_version": "1.5.0",
            "box_style": "",
            "layout": "IPY_MODEL_17981b936272478cb7477baf907aef92",
            "_model_module": "@jupyter-widgets/controls",
            "children": [
              "IPY_MODEL_5f94b74fa6f14a5e998d72e03653b597",
              "IPY_MODEL_19c1a8027b344d6d8a7625a4eab9c140"
            ]
          }
        },
        "17981b936272478cb7477baf907aef92": {
          "model_module": "@jupyter-widgets/base",
          "model_name": "LayoutModel",
          "state": {
            "_view_name": "LayoutView",
            "grid_template_rows": null,
            "right": null,
            "justify_content": null,
            "_view_module": "@jupyter-widgets/base",
            "overflow": null,
            "_model_module_version": "1.2.0",
            "_view_count": null,
            "flex_flow": null,
            "width": null,
            "min_width": null,
            "border": null,
            "align_items": null,
            "bottom": null,
            "_model_module": "@jupyter-widgets/base",
            "top": null,
            "grid_column": null,
            "overflow_y": null,
            "overflow_x": null,
            "grid_auto_flow": null,
            "grid_area": null,
            "grid_template_columns": null,
            "flex": null,
            "_model_name": "LayoutModel",
            "justify_items": null,
            "grid_row": null,
            "max_height": null,
            "align_content": null,
            "visibility": null,
            "align_self": null,
            "height": null,
            "min_height": null,
            "padding": null,
            "grid_auto_rows": null,
            "grid_gap": null,
            "max_width": null,
            "order": null,
            "_view_module_version": "1.2.0",
            "grid_template_areas": null,
            "object_position": null,
            "object_fit": null,
            "grid_auto_columns": null,
            "margin": null,
            "display": null,
            "left": null
          }
        },
        "5f94b74fa6f14a5e998d72e03653b597": {
          "model_module": "@jupyter-widgets/controls",
          "model_name": "FloatProgressModel",
          "state": {
            "_view_name": "ProgressView",
            "style": "IPY_MODEL_e8e3d0359185415496cc442799cf07e3",
            "_dom_classes": [],
            "description": "100%",
            "_model_name": "FloatProgressModel",
            "bar_style": "success",
            "max": 782,
            "_view_module": "@jupyter-widgets/controls",
            "_model_module_version": "1.5.0",
            "value": 782,
            "_view_count": null,
            "_view_module_version": "1.5.0",
            "orientation": "horizontal",
            "min": 0,
            "description_tooltip": null,
            "_model_module": "@jupyter-widgets/controls",
            "layout": "IPY_MODEL_efddbf430f13493bbe837bb536b6975d"
          }
        },
        "19c1a8027b344d6d8a7625a4eab9c140": {
          "model_module": "@jupyter-widgets/controls",
          "model_name": "HTMLModel",
          "state": {
            "_view_name": "HTMLView",
            "style": "IPY_MODEL_c887719ad5334ce49b6ef2b438d9415c",
            "_dom_classes": [],
            "description": "",
            "_model_name": "HTMLModel",
            "placeholder": "​",
            "_view_module": "@jupyter-widgets/controls",
            "_model_module_version": "1.5.0",
            "value": " 782/782 [3:14:42&lt;00:00, 14.94s/it]",
            "_view_count": null,
            "_view_module_version": "1.5.0",
            "description_tooltip": null,
            "_model_module": "@jupyter-widgets/controls",
            "layout": "IPY_MODEL_bb03859661ed493fac0c96be64353490"
          }
        },
        "e8e3d0359185415496cc442799cf07e3": {
          "model_module": "@jupyter-widgets/controls",
          "model_name": "ProgressStyleModel",
          "state": {
            "_view_name": "StyleView",
            "_model_name": "ProgressStyleModel",
            "description_width": "initial",
            "_view_module": "@jupyter-widgets/base",
            "_model_module_version": "1.5.0",
            "_view_count": null,
            "_view_module_version": "1.2.0",
            "bar_color": null,
            "_model_module": "@jupyter-widgets/controls"
          }
        },
        "efddbf430f13493bbe837bb536b6975d": {
          "model_module": "@jupyter-widgets/base",
          "model_name": "LayoutModel",
          "state": {
            "_view_name": "LayoutView",
            "grid_template_rows": null,
            "right": null,
            "justify_content": null,
            "_view_module": "@jupyter-widgets/base",
            "overflow": null,
            "_model_module_version": "1.2.0",
            "_view_count": null,
            "flex_flow": null,
            "width": null,
            "min_width": null,
            "border": null,
            "align_items": null,
            "bottom": null,
            "_model_module": "@jupyter-widgets/base",
            "top": null,
            "grid_column": null,
            "overflow_y": null,
            "overflow_x": null,
            "grid_auto_flow": null,
            "grid_area": null,
            "grid_template_columns": null,
            "flex": null,
            "_model_name": "LayoutModel",
            "justify_items": null,
            "grid_row": null,
            "max_height": null,
            "align_content": null,
            "visibility": null,
            "align_self": null,
            "height": null,
            "min_height": null,
            "padding": null,
            "grid_auto_rows": null,
            "grid_gap": null,
            "max_width": null,
            "order": null,
            "_view_module_version": "1.2.0",
            "grid_template_areas": null,
            "object_position": null,
            "object_fit": null,
            "grid_auto_columns": null,
            "margin": null,
            "display": null,
            "left": null
          }
        },
        "c887719ad5334ce49b6ef2b438d9415c": {
          "model_module": "@jupyter-widgets/controls",
          "model_name": "DescriptionStyleModel",
          "state": {
            "_view_name": "StyleView",
            "_model_name": "DescriptionStyleModel",
            "description_width": "",
            "_view_module": "@jupyter-widgets/base",
            "_model_module_version": "1.5.0",
            "_view_count": null,
            "_view_module_version": "1.2.0",
            "_model_module": "@jupyter-widgets/controls"
          }
        },
        "bb03859661ed493fac0c96be64353490": {
          "model_module": "@jupyter-widgets/base",
          "model_name": "LayoutModel",
          "state": {
            "_view_name": "LayoutView",
            "grid_template_rows": null,
            "right": null,
            "justify_content": null,
            "_view_module": "@jupyter-widgets/base",
            "overflow": null,
            "_model_module_version": "1.2.0",
            "_view_count": null,
            "flex_flow": null,
            "width": null,
            "min_width": null,
            "border": null,
            "align_items": null,
            "bottom": null,
            "_model_module": "@jupyter-widgets/base",
            "top": null,
            "grid_column": null,
            "overflow_y": null,
            "overflow_x": null,
            "grid_auto_flow": null,
            "grid_area": null,
            "grid_template_columns": null,
            "flex": null,
            "_model_name": "LayoutModel",
            "justify_items": null,
            "grid_row": null,
            "max_height": null,
            "align_content": null,
            "visibility": null,
            "align_self": null,
            "height": null,
            "min_height": null,
            "padding": null,
            "grid_auto_rows": null,
            "grid_gap": null,
            "max_width": null,
            "order": null,
            "_view_module_version": "1.2.0",
            "grid_template_areas": null,
            "object_position": null,
            "object_fit": null,
            "grid_auto_columns": null,
            "margin": null,
            "display": null,
            "left": null
          }
        }
      }
    }
  },
  "cells": [
    {
      "cell_type": "code",
      "metadata": {
        "id": "2pOGNkfSczlz"
      },
      "source": [
        "import torch.nn as nn\n",
        "import torch\n",
        "import torch.nn.functional as F\n",
        "\n",
        "# DoubleConv Class to perform two layer Convolution\n",
        "class DoubleConv(nn.Module):\n",
        "    def __init__(self,in_ch,out_ch):\n",
        "        super(DoubleConv,self).__init__()\n",
        "        self.conv = nn.Sequential(\n",
        "                nn.Conv2d(in_ch,out_ch,3,padding=1), \n",
        "                nn.BatchNorm2d(out_ch),\n",
        "                nn.ReLU(inplace = True),\n",
        "                nn.Conv2d(out_ch,out_ch,3,padding=1),\n",
        "                nn.BatchNorm2d(out_ch),\n",
        "                nn.ReLU(inplace = True)\n",
        "            )\n",
        "    def forward(self,x):\n",
        "        return self.conv(x)\n",
        "# Unter Class with shown architecture\n",
        "class UNet(nn.Module):\n",
        "    def __init__(self,in_ch,out_ch):\n",
        "        super(UNet,self).__init__()\n",
        "        self.conv1 = DoubleConv(in_ch,64)\n",
        "        self.pool1 = nn.MaxPool2d(2)\n",
        "        self.conv2 = DoubleConv(64,128)\n",
        "        self.pool2 = nn.MaxPool2d(2)\n",
        "        self.conv3 = DoubleConv(128,256)\n",
        "        self.pool3 = nn.MaxPool2d(2)\n",
        "        self.conv4 = DoubleConv(256,512)\n",
        "        self.pool4 = nn.MaxPool2d(2)\n",
        "        self.conv5 = DoubleConv(512,1024)\n",
        "        self.up6 = nn.ConvTranspose2d(1024,512,2,stride=2)\n",
        "        self.conv6 = DoubleConv(1024,512)\n",
        "        self.up7 = nn.ConvTranspose2d(512,256,2,stride=2)\n",
        "        self.conv7 = DoubleConv(512,256)\n",
        "        self.up8 = nn.ConvTranspose2d(256,128,2,stride=2)\n",
        "        self.conv8 = DoubleConv(256,128)\n",
        "        self.up9 = nn.ConvTranspose2d(128,64,2,stride=2)\n",
        "        self.conv9 = DoubleConv(128,128)\n",
        "        self.conv9 = DoubleConv(128,64)\n",
        "        self.conv10 = nn.Conv2d(64,out_ch,1)\n",
        "\n",
        "    def forward(self,x):\n",
        "        c1 = self.conv1(x)\n",
        "        p1 = self.pool1(c1)\n",
        "        c2 = self.conv2(p1)\n",
        "        p2 = self.pool2(c2)\n",
        "        c3 = self.conv3(p2)\n",
        "        p3 = self.pool3(c3)\n",
        "        c4 = self.conv4(p3)\n",
        "        p4 = self.pool4(c4)\n",
        "        c5 = self.conv5(p4)\n",
        "        up_6 = self.up6(c5)\n",
        "        merge6 = torch.cat([up_6,c4],dim=1)\n",
        "        c6 = self.conv6(merge6)\n",
        "        up_7 = self.up7(c6)\n",
        "        merge7 = torch.cat([up_7,c3],dim=1)\n",
        "        c7 = self.conv7(merge7)\n",
        "        up_8 = self.up8(c7)\n",
        "        merge8 = torch.cat([up_8,c2],dim=1)\n",
        "        c8 = self.conv8(merge8)\n",
        "        up_9 = self.up9(c8)\n",
        "        merge9 = torch.cat([up_9,c1],dim=1)\n",
        "        c9 = self.conv9(merge9)\n",
        "        out = c9\n",
        "        c10 = self.conv10(c9)\n",
        "        out = c10        \n",
        "        out = nn.Softmax()(c10) \n",
        "        return out"
      ],
      "execution_count": null,
      "outputs": []
    },
    {
      "cell_type": "markdown",
      "metadata": {
        "id": "b_u8z7CxxV-1"
      },
      "source": [
        "### We used **U-Net** model whose architecture is shown Below"
      ]
    },
    {
      "cell_type": "markdown",
      "metadata": {
        "id": "G3MOQ5-BuBU9"
      },
      "source": [
        "![Unet-Model.jpeg](data:image/jpeg;base64,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)"
      ]
    },
    {
      "cell_type": "code",
      "metadata": {
        "id": "1QmWBYDpc6yn"
      },
      "source": [
        "import torch\n",
        "import torch.nn as nn\n",
        "\n",
        "class DiceLoss(nn.Module):\n",
        "  def __init__(self):\n",
        "    super(DiceLoss, self).__init__()\n",
        "  def\tforward(self, inputs, target):\n",
        "    N = target.size(0)\n",
        "    smooth = 1\n",
        "    input_flat = inputs.view(N, -1)\n",
        "    target_flat = target.view(N, -1)\n",
        " \n",
        "    intersection = input_flat * target_flat\n",
        " \n",
        "    loss = 2 * (intersection.sum(1) + smooth) / (input_flat.sum(1) + target_flat.sum(1) + smooth)\n",
        "    loss = 1 - loss.sum() / N\n",
        " \n",
        "    return loss\n",
        " \n",
        "class MulticlassDiceLoss(nn.Module):\n",
        "\t\"\"\"\n",
        "\trequires one hot encoded target. Applies DiceLoss on each class iteratively.\n",
        "\trequires input.shape[0:1] and target.shape[0:1] to be (N, C) where N is\n",
        "\t  batch size and C is number of classes\n",
        "\t\"\"\"\n",
        "\tdef __init__(self):\n",
        "\t\tsuper(MulticlassDiceLoss, self).__init__()\n",
        " \n",
        "\tdef forward(self, inputs, target, weights=None):\n",
        "        \n",
        "\t\ttarget = torch.nn.functional.one_hot(target.long()).permute(0,3,1,2)\n",
        "\t\tinputs = torch.nn.functional.softmax(inputs,dim=1)\n",
        "\n",
        "\t\tC = target.shape[1] \n",
        "\t\t# if weights is None:\n",
        "\t\t# \tweights = torch.ones(C) #uniform weights for all classes\n",
        " \n",
        "\t\tdice = DiceLoss()\n",
        "\t\ttotalLoss = 0\n",
        " \n",
        "\t\tfor i in range(C):\n",
        "\t\t\tdiceLoss = dice(inputs[:,i], target[:,i])\n",
        "\t\t\tif weights is not None:\n",
        "\t\t\t\tdiceLoss *= weights[i]\n",
        "\t\t\ttotalLoss += diceLoss\n",
        " \n",
        "\t\treturn totalLoss"
      ],
      "execution_count": null,
      "outputs": []
    },
    {
      "cell_type": "code",
      "metadata": {
        "id": "NvPpW04nc_6D"
      },
      "source": [
        "#!wget https://datasets.aicrowd.com/default/aicrowd-public-datasets/seamai-facies-challenge/v0.1/public/data_train.npz\n",
        "#!wget https://datasets.aicrowd.com/default/aicrowd-public-datasets/seamai-facies-challenge/v0.1/public/data_test_1.npz\n",
        "#!wget https://datasets.aicrowd.com/default/aicrowd-public-datasets/seamai-facies-challenge/v0.1/public/labels_train.npz"
      ],
      "execution_count": null,
      "outputs": []
    },
    {
      "cell_type": "code",
      "metadata": {
        "id": "6Ji0hvEudC-p"
      },
      "source": [
        "import time\n",
        "import matplotlib.pyplot as plt\n",
        "import numpy as np\n",
        "import torch\n",
        "from torch.utils.data import DataLoader, Dataset#\n",
        "from torch import optim\n",
        "\n",
        "import numpy as np\n",
        "sei_patch = np.load('/content/data_train.npz')['data']\n",
        "lab_patch = np.load('/content/labels_train.npz')['labels']\n",
        "\n",
        "import cv2\n",
        "from tqdm.notebook import tqdm\n",
        "import datetime \n",
        "from IPython.display import HTML\n",
        "import cv2"
      ],
      "execution_count": null,
      "outputs": []
    },
    {
      "cell_type": "code",
      "metadata": {
        "id": "dhe-YClKdkw7",
        "outputId": "a862331d-4f95-4490-d616-fe0ab0af2476",
        "colab": {
          "base_uri": "https://localhost:8080/",
          "height": 34
        }
      },
      "source": [
        "sei_patch.shape , lab_patch.shape"
      ],
      "execution_count": null,
      "outputs": [
        {
          "output_type": "execute_result",
          "data": {
            "text/plain": [
              "((1006, 782, 590), (1006, 782, 590))"
            ]
          },
          "metadata": {
            "tags": []
          },
          "execution_count": 8
        }
      ]
    },
    {
      "cell_type": "code",
      "metadata": {
        "id": "x8UwBPNrmV-N"
      },
      "source": [
        "lab_patch[lab_patch==6] = 0"
      ],
      "execution_count": null,
      "outputs": []
    },
    {
      "cell_type": "code",
      "metadata": {
        "id": "_6L_sktducfd"
      },
      "source": [
        "#np.unique(lab_patch)"
      ],
      "execution_count": null,
      "outputs": []
    },
    {
      "cell_type": "code",
      "metadata": {
        "id": "emfXmwXUd-dW",
        "outputId": "991ca1a8-a17b-4e20-f388-759adbb26495",
        "colab": {
          "base_uri": "https://localhost:8080/",
          "height": 116,
          "referenced_widgets": [
            "beb9f36e475a467aba0eefab012c1be0",
            "ebc459329d4e42fbbf49ce24b31ed0ce",
            "9a37f9464d044b0b9959db62492e9ebe",
            "715351c377434220915639b1317898e1",
            "2405f95d39394a608844845e67c8441c",
            "30ecb47ecff74500a94f3a290361a1a3",
            "74b1f0b4886c47f69d73902a47063116",
            "3e018d23a23d4227ba9589608c4dce86",
            "1a9cdecd736b488c9c8b4a335c9a614c",
            "b0b5ab6f5c4c43d5bad93fe410c449c0",
            "c84926d5fa0345018f73c29e9c871cc3",
            "a993fb81c5154d2da876c994a5dc1aa6",
            "af90231d62ed434c829a7b3a60e4af05",
            "c991b0f534ca4caaa248dcdc456f419c",
            "b4bf3498e06d4b3798ed431fd31d359e",
            "3999f7c828314c4a98ac20f6894cc41f"
          ]
        }
      },
      "source": [
        "training_img_data = []\n",
        "training_label_data = []\n",
        "\n",
        "#MAX_AMP = np.amax(sei_patch)*1.05 # I normalize over the max amp cos I wanna\n",
        "\n",
        "# Define the X lines slices for training\n",
        "for i in tqdm(range(0, sei_patch.shape[1])):\n",
        "  img = sei_patch[:, i, :]\n",
        "  label = lab_patch[:, i, :]\n",
        "\n",
        "  #img = img/MAX_AMP\n",
        "  #img = fast_glcm_entropy(img)\n",
        "  img = np.expand_dims(img, axis=2).astype('float32')\n",
        "  label = np.expand_dims(label, axis=2).astype('float32')\n",
        "\n",
        "  img = cv2.resize(img, (256, 512), interpolation=cv2.INTER_AREA)\n",
        "  label = cv2.resize(label, (256, 512), interpolation = cv2.INTER_NEAREST)\n",
        "  label = label.astype(int)\n",
        "  #img = np.clip(img, 0, 255)\n",
        "  #img = (img*255).astype(int)\n",
        "\n",
        "  #img = cv2.merge([img,img,img]) #we need 3 channels baby\n",
        "\n",
        "  #cv2.imwrite('/content/training_imgs/image_x_%03d.png' % i, img)\n",
        "  #cv2.imwrite('/content/training_labels/image_x_%03d.png' % i, label)\n",
        "\n",
        "  training_img_data.append(img) \n",
        "  training_label_data.append(label)\n",
        "\n",
        "# Define the Y lines slices for training\n",
        "for i in tqdm(range(0, sei_patch.shape[2])):\n",
        "  img = sei_patch[:, :, i]\n",
        "  label = lab_patch[:, :, i]\n",
        "\n",
        "  #img = img/MAX_AMP\n",
        "  #img = fast_glcm_entropy(img)\n",
        "  img = np.expand_dims(img, axis=2).astype('float32')\n",
        "  label = np.expand_dims(label, axis=2).astype('float32')\n",
        "\n",
        "  img = cv2.resize(img, (256, 512), interpolation=cv2.INTER_AREA)\n",
        "  label = cv2.resize(label, (256, 512), interpolation = cv2.INTER_NEAREST)\n",
        "  label = label.astype(int)\n",
        "\n",
        "  #img = np.clip(img, 0, 255)\n",
        "  #img = (img*255).astype(int)\n",
        "  \n",
        "  #img = cv2.merge([img,img,img]) #we need 3 channels baby\n",
        "\n",
        "  #cv2.imwrite('/content/training_imgs/image_y_%03d.png' % i, img)\n",
        "  #cv2.imwrite('/content/training_labels/image_y_%03d.png' % i, label)\n",
        "  training_img_data.append(img) \n",
        "  training_label_data.append(label)\n"
      ],
      "execution_count": null,
      "outputs": [
        {
          "output_type": "display_data",
          "data": {
            "application/vnd.jupyter.widget-view+json": {
              "model_id": "beb9f36e475a467aba0eefab012c1be0",
              "version_minor": 0,
              "version_major": 2
            },
            "text/plain": [
              "HBox(children=(FloatProgress(value=0.0, max=782.0), HTML(value='')))"
            ]
          },
          "metadata": {
            "tags": []
          }
        },
        {
          "output_type": "stream",
          "text": [
            "\n"
          ],
          "name": "stdout"
        },
        {
          "output_type": "display_data",
          "data": {
            "application/vnd.jupyter.widget-view+json": {
              "model_id": "1a9cdecd736b488c9c8b4a335c9a614c",
              "version_minor": 0,
              "version_major": 2
            },
            "text/plain": [
              "HBox(children=(FloatProgress(value=0.0, max=590.0), HTML(value='')))"
            ]
          },
          "metadata": {
            "tags": []
          }
        },
        {
          "output_type": "stream",
          "text": [
            "\n"
          ],
          "name": "stdout"
        }
      ]
    },
    {
      "cell_type": "code",
      "metadata": {
        "id": "DgA4-BrSeHf3",
        "outputId": "c2363cd9-7024-4ee1-d972-1b6f1938a17a",
        "colab": {
          "base_uri": "https://localhost:8080/",
          "height": 34
        }
      },
      "source": [
        "training_img_data = np.asarray(training_img_data)\n",
        "training_label_data = np.asarray(training_label_data)\n",
        "training_label_data = np.array(training_label_data,dtype=int)\n",
        "training_img_data.shape, training_label_data.shape"
      ],
      "execution_count": null,
      "outputs": [
        {
          "output_type": "execute_result",
          "data": {
            "text/plain": [
              "((1372, 512, 256), (1372, 512, 256))"
            ]
          },
          "metadata": {
            "tags": []
          },
          "execution_count": 12
        }
      ]
    },
    {
      "cell_type": "code",
      "metadata": {
        "id": "nB51hjTgeOHw"
      },
      "source": [
        "#np.unique(training_label_data)"
      ],
      "execution_count": null,
      "outputs": []
    },
    {
      "cell_type": "code",
      "metadata": {
        "id": "CoyU8CvKeQos"
      },
      "source": [
        "class DataGenerator(Dataset):\n",
        "    def __init__(self, x_set, y_set):\n",
        "        self.x, self.y = x_set, y_set\n",
        "\n",
        "    def __len__(self):\n",
        "        return len(self.x)\n",
        "    def __getitem__(self, index):\n",
        "        batch_x = self.x[index]\n",
        "        batch_y = self.y[index]\n",
        "        return np.expand_dims(batch_x,axis=0), batch_y\n",
        "\n",
        "e=1e-2\n",
        "\n",
        "def accuracy(out, yb):\n",
        "    preds = torch.argmax(out, dim=1)\n",
        "    return (preds == yb).float().mean()\n",
        "\n",
        "\n",
        "def train(model,optimizer,dataload,num_epochs,device):\n",
        "    acc_history  = []\n",
        "    loss_history = []\n",
        "    miou_history = []\n",
        "    for epoch in range(num_epochs):\n",
        "        print('Starting epoch {}/{}'.format(epoch+1, num_epochs))\n",
        "        print('-' * 10)\n",
        "        since = time.time()\n",
        "        dataset_size = len(dataload.dataset)\n",
        "        epoch_loss = 0\n",
        "        epoch_acc  = 0\n",
        "\n",
        "        for idx,(x, y) in enumerate(dataload):                 \n",
        "            optimizer.zero_grad()             \n",
        "            inputs = x.to(device)\n",
        "            labels = y.to(device)\n",
        "            outputs = model(inputs)           \n",
        "            criterion1 = MulticlassDiceLoss() \n",
        "            loss1 = criterion1(outputs,labels.long())\n",
        "            criterion2 = torch.nn.CrossEntropyLoss()\n",
        "            loss2 = criterion2(torch.log(outputs),labels.long())\n",
        "            loss = e*loss1+loss2\n",
        "            acc  = accuracy(outputs,labels)\n",
        "            loss.backward()                  \n",
        "            optimizer.step()                  \n",
        "            \n",
        "            epoch_loss += loss.item()\n",
        "            epoch_acc+= acc\n",
        "            loss_history.append(loss.item())\n",
        "            acc_history.append(acc)\n",
        "            if (idx+1)%10==0:\n",
        "              print(\"%d/%d,train_loss:%0.3f,accuracy:%0.3f\" % (idx+1, dataset_size // dataload.batch_size, loss.item(),acc))\n",
        "\n",
        "        time_elapsed = time.time() - since     \n",
        "        all_epoch_loss=epoch_loss/len(dataload)\n",
        "        all_epoch_acc=epoch_acc/len(dataload)\n",
        "        print(\"epoch %d loss:%0.3f accuracy:%0.3f \" % (epoch, all_epoch_loss,all_epoch_acc))\n",
        "        print('Training complete in {:.0f}m {:.0f}s'.format(time_elapsed // 60, time_elapsed % 60))\n",
        "\n",
        "    torch.save(model,\"/content/model_0.pth\")      \n",
        "    return model,loss_history,acc_history"
      ],
      "execution_count": null,
      "outputs": []
    },
    {
      "cell_type": "code",
      "metadata": {
        "id": "w9Rfpz5ReaSn",
        "outputId": "485155d9-9675-4969-b62c-41cd5708b04b",
        "colab": {
          "base_uri": "https://localhost:8080/",
          "height": 1000
        }
      },
      "source": [
        "# from dice_loss import *\n",
        "!CUDA_LAUNCH_BLOCKING=1\n",
        "device = torch.device('cuda' if torch.cuda.is_available() else 'cpu')\n",
        "model = UNet(1,6).to(device)\n",
        "train_dataset = DataGenerator(x_set=training_img_data,y_set=training_label_data) \n",
        "dataloader = DataLoader(train_dataset, batch_size=10, shuffle=True)\n",
        "optimizer = optim.Adam(model.parameters(),lr=1e-2)\n",
        "num_epochs=14\n",
        "model_0,loss,acc=train(model,optimizer,dataloader,num_epochs,device)"
      ],
      "execution_count": null,
      "outputs": [
        {
          "output_type": "stream",
          "text": [
            "Starting epoch 1/14\n",
            "----------\n"
          ],
          "name": "stdout"
        },
        {
          "output_type": "stream",
          "text": [
            "/usr/local/lib/python3.6/dist-packages/ipykernel_launcher.py:68: UserWarning: Implicit dimension choice for softmax has been deprecated. Change the call to include dim=X as an argument.\n"
          ],
          "name": "stderr"
        },
        {
          "output_type": "stream",
          "text": [
            "10/137,train_loss:1.159,accuracy:0.560\n",
            "20/137,train_loss:0.906,accuracy:0.704\n",
            "30/137,train_loss:0.714,accuracy:0.762\n",
            "40/137,train_loss:0.624,accuracy:0.796\n",
            "50/137,train_loss:0.544,accuracy:0.814\n",
            "60/137,train_loss:0.471,accuracy:0.839\n",
            "70/137,train_loss:0.394,accuracy:0.854\n",
            "80/137,train_loss:0.392,accuracy:0.863\n",
            "90/137,train_loss:0.354,accuracy:0.877\n",
            "100/137,train_loss:0.314,accuracy:0.894\n",
            "110/137,train_loss:0.282,accuracy:0.907\n",
            "120/137,train_loss:0.261,accuracy:0.917\n",
            "130/137,train_loss:0.318,accuracy:0.903\n",
            "epoch 0 loss:0.552 accuracy:0.804 \n",
            "Training complete in 6m 13s\n",
            "Starting epoch 2/14\n",
            "----------\n",
            "10/137,train_loss:0.285,accuracy:0.910\n",
            "20/137,train_loss:0.252,accuracy:0.923\n",
            "30/137,train_loss:0.222,accuracy:0.928\n",
            "40/137,train_loss:0.210,accuracy:0.935\n",
            "50/137,train_loss:0.211,accuracy:0.934\n",
            "60/137,train_loss:0.177,accuracy:0.945\n",
            "70/137,train_loss:0.186,accuracy:0.943\n",
            "80/137,train_loss:0.180,accuracy:0.944\n",
            "90/137,train_loss:0.163,accuracy:0.952\n",
            "100/137,train_loss:0.173,accuracy:0.947\n",
            "110/137,train_loss:0.156,accuracy:0.956\n",
            "120/137,train_loss:0.153,accuracy:0.957\n",
            "130/137,train_loss:0.173,accuracy:0.949\n",
            "epoch 1 loss:0.203 accuracy:0.937 \n",
            "Training complete in 6m 14s\n",
            "Starting epoch 3/14\n",
            "----------\n",
            "10/137,train_loss:0.158,accuracy:0.954\n",
            "20/137,train_loss:0.173,accuracy:0.948\n",
            "30/137,train_loss:0.158,accuracy:0.955\n",
            "40/137,train_loss:0.146,accuracy:0.959\n",
            "50/137,train_loss:0.158,accuracy:0.953\n",
            "60/137,train_loss:0.143,accuracy:0.960\n",
            "70/137,train_loss:0.131,accuracy:0.965\n",
            "80/137,train_loss:0.134,accuracy:0.964\n",
            "90/137,train_loss:0.139,accuracy:0.961\n",
            "100/137,train_loss:0.159,accuracy:0.953\n",
            "110/137,train_loss:0.128,accuracy:0.966\n",
            "120/137,train_loss:0.141,accuracy:0.962\n",
            "130/137,train_loss:0.130,accuracy:0.965\n",
            "epoch 2 loss:0.149 accuracy:0.958 \n",
            "Training complete in 6m 15s\n",
            "Starting epoch 4/14\n",
            "----------\n",
            "10/137,train_loss:0.138,accuracy:0.962\n",
            "20/137,train_loss:0.141,accuracy:0.962\n",
            "30/137,train_loss:0.129,accuracy:0.965\n",
            "40/137,train_loss:0.119,accuracy:0.969\n",
            "50/137,train_loss:0.118,accuracy:0.970\n",
            "60/137,train_loss:0.131,accuracy:0.964\n",
            "70/137,train_loss:0.120,accuracy:0.969\n",
            "80/137,train_loss:0.120,accuracy:0.969\n",
            "90/137,train_loss:0.118,accuracy:0.970\n",
            "100/137,train_loss:0.117,accuracy:0.970\n",
            "110/137,train_loss:0.109,accuracy:0.974\n",
            "120/137,train_loss:0.109,accuracy:0.973\n",
            "130/137,train_loss:0.112,accuracy:0.972\n",
            "epoch 3 loss:0.124 accuracy:0.968 \n",
            "Training complete in 6m 17s\n",
            "Starting epoch 5/14\n",
            "----------\n",
            "10/137,train_loss:0.109,accuracy:0.973\n",
            "20/137,train_loss:0.112,accuracy:0.972\n",
            "30/137,train_loss:0.117,accuracy:0.971\n",
            "40/137,train_loss:0.110,accuracy:0.973\n",
            "50/137,train_loss:0.119,accuracy:0.970\n",
            "60/137,train_loss:0.132,accuracy:0.965\n",
            "70/137,train_loss:0.118,accuracy:0.969\n",
            "80/137,train_loss:0.121,accuracy:0.969\n",
            "90/137,train_loss:0.112,accuracy:0.972\n",
            "100/137,train_loss:0.107,accuracy:0.974\n",
            "110/137,train_loss:0.099,accuracy:0.977\n",
            "120/137,train_loss:0.112,accuracy:0.972\n",
            "130/137,train_loss:0.101,accuracy:0.977\n",
            "epoch 4 loss:0.114 accuracy:0.972 \n",
            "Training complete in 6m 16s\n",
            "Starting epoch 6/14\n",
            "----------\n",
            "10/137,train_loss:0.103,accuracy:0.975\n",
            "20/137,train_loss:0.112,accuracy:0.971\n",
            "30/137,train_loss:0.099,accuracy:0.977\n",
            "40/137,train_loss:0.096,accuracy:0.978\n",
            "50/137,train_loss:0.094,accuracy:0.979\n",
            "60/137,train_loss:0.108,accuracy:0.974\n",
            "70/137,train_loss:0.113,accuracy:0.972\n",
            "80/137,train_loss:0.105,accuracy:0.975\n",
            "90/137,train_loss:0.098,accuracy:0.977\n",
            "100/137,train_loss:0.095,accuracy:0.979\n",
            "110/137,train_loss:0.095,accuracy:0.979\n",
            "120/137,train_loss:0.091,accuracy:0.981\n",
            "130/137,train_loss:0.094,accuracy:0.979\n",
            "epoch 5 loss:0.102 accuracy:0.977 \n",
            "Training complete in 6m 16s\n",
            "Starting epoch 7/14\n",
            "----------\n",
            "10/137,train_loss:0.103,accuracy:0.975\n",
            "20/137,train_loss:0.094,accuracy:0.979\n",
            "30/137,train_loss:0.093,accuracy:0.980\n",
            "40/137,train_loss:0.092,accuracy:0.980\n",
            "50/137,train_loss:0.089,accuracy:0.981\n",
            "60/137,train_loss:0.094,accuracy:0.979\n",
            "70/137,train_loss:0.090,accuracy:0.981\n",
            "80/137,train_loss:0.086,accuracy:0.983\n",
            "90/137,train_loss:0.086,accuracy:0.982\n",
            "100/137,train_loss:0.087,accuracy:0.982\n",
            "110/137,train_loss:0.087,accuracy:0.982\n",
            "120/137,train_loss:0.091,accuracy:0.980\n",
            "130/137,train_loss:0.108,accuracy:0.974\n",
            "epoch 6 loss:0.095 accuracy:0.979 \n",
            "Training complete in 6m 16s\n",
            "Starting epoch 8/14\n",
            "----------\n",
            "10/137,train_loss:0.119,accuracy:0.971\n",
            "20/137,train_loss:0.108,accuracy:0.974\n",
            "30/137,train_loss:0.100,accuracy:0.977\n",
            "40/137,train_loss:0.093,accuracy:0.980\n",
            "50/137,train_loss:0.089,accuracy:0.981\n",
            "60/137,train_loss:0.088,accuracy:0.982\n",
            "70/137,train_loss:0.089,accuracy:0.981\n",
            "80/137,train_loss:0.088,accuracy:0.981\n",
            "90/137,train_loss:0.085,accuracy:0.982\n",
            "100/137,train_loss:0.085,accuracy:0.983\n",
            "110/137,train_loss:0.083,accuracy:0.984\n",
            "120/137,train_loss:0.086,accuracy:0.983\n",
            "130/137,train_loss:0.085,accuracy:0.982\n",
            "epoch 7 loss:0.093 accuracy:0.980 \n",
            "Training complete in 6m 17s\n",
            "Starting epoch 9/14\n",
            "----------\n",
            "10/137,train_loss:0.089,accuracy:0.982\n",
            "20/137,train_loss:0.098,accuracy:0.978\n",
            "30/137,train_loss:0.097,accuracy:0.979\n",
            "40/137,train_loss:0.091,accuracy:0.980\n",
            "50/137,train_loss:0.090,accuracy:0.981\n",
            "60/137,train_loss:0.088,accuracy:0.982\n",
            "70/137,train_loss:0.080,accuracy:0.985\n",
            "80/137,train_loss:0.081,accuracy:0.984\n",
            "90/137,train_loss:0.082,accuracy:0.984\n",
            "100/137,train_loss:0.083,accuracy:0.984\n",
            "110/137,train_loss:0.079,accuracy:0.985\n",
            "120/137,train_loss:0.083,accuracy:0.984\n",
            "130/137,train_loss:0.079,accuracy:0.985\n",
            "epoch 8 loss:0.088 accuracy:0.982 \n",
            "Training complete in 6m 16s\n",
            "Starting epoch 10/14\n",
            "----------\n",
            "10/137,train_loss:0.079,accuracy:0.985\n",
            "20/137,train_loss:0.080,accuracy:0.985\n",
            "30/137,train_loss:0.079,accuracy:0.985\n",
            "40/137,train_loss:0.079,accuracy:0.985\n",
            "50/137,train_loss:0.077,accuracy:0.986\n",
            "60/137,train_loss:0.078,accuracy:0.986\n",
            "70/137,train_loss:0.079,accuracy:0.985\n",
            "80/137,train_loss:0.075,accuracy:0.987\n",
            "90/137,train_loss:0.080,accuracy:0.985\n",
            "100/137,train_loss:0.076,accuracy:0.987\n",
            "110/137,train_loss:0.078,accuracy:0.985\n",
            "120/137,train_loss:0.076,accuracy:0.987\n",
            "130/137,train_loss:0.119,accuracy:0.971\n",
            "epoch 9 loss:0.084 accuracy:0.984 \n",
            "Training complete in 6m 17s\n",
            "Starting epoch 11/14\n",
            "----------\n",
            "10/137,train_loss:0.111,accuracy:0.974\n",
            "20/137,train_loss:0.101,accuracy:0.976\n",
            "30/137,train_loss:0.089,accuracy:0.981\n",
            "40/137,train_loss:0.089,accuracy:0.981\n",
            "50/137,train_loss:0.080,accuracy:0.985\n",
            "60/137,train_loss:0.115,accuracy:0.970\n",
            "70/137,train_loss:0.095,accuracy:0.979\n",
            "80/137,train_loss:0.089,accuracy:0.981\n",
            "90/137,train_loss:0.088,accuracy:0.983\n",
            "100/137,train_loss:0.080,accuracy:0.985\n",
            "110/137,train_loss:0.078,accuracy:0.986\n",
            "120/137,train_loss:0.079,accuracy:0.985\n",
            "130/137,train_loss:0.078,accuracy:0.985\n",
            "epoch 10 loss:0.091 accuracy:0.981 \n",
            "Training complete in 6m 15s\n",
            "Starting epoch 12/14\n",
            "----------\n",
            "10/137,train_loss:0.077,accuracy:0.986\n",
            "20/137,train_loss:0.101,accuracy:0.977\n",
            "30/137,train_loss:0.091,accuracy:0.981\n",
            "40/137,train_loss:0.087,accuracy:0.982\n",
            "50/137,train_loss:0.086,accuracy:0.982\n",
            "60/137,train_loss:0.077,accuracy:0.986\n",
            "70/137,train_loss:0.079,accuracy:0.985\n",
            "80/137,train_loss:0.074,accuracy:0.987\n",
            "90/137,train_loss:0.074,accuracy:0.987\n",
            "100/137,train_loss:0.076,accuracy:0.986\n",
            "110/137,train_loss:0.080,accuracy:0.985\n",
            "120/137,train_loss:0.074,accuracy:0.987\n",
            "130/137,train_loss:0.074,accuracy:0.987\n",
            "epoch 11 loss:0.082 accuracy:0.985 \n",
            "Training complete in 6m 14s\n",
            "Starting epoch 13/14\n",
            "----------\n",
            "10/137,train_loss:0.075,accuracy:0.987\n",
            "20/137,train_loss:0.072,accuracy:0.988\n",
            "30/137,train_loss:0.072,accuracy:0.988\n",
            "40/137,train_loss:0.072,accuracy:0.988\n",
            "50/137,train_loss:0.073,accuracy:0.988\n",
            "60/137,train_loss:0.073,accuracy:0.987\n",
            "70/137,train_loss:0.072,accuracy:0.988\n",
            "80/137,train_loss:0.073,accuracy:0.988\n",
            "90/137,train_loss:0.071,accuracy:0.989\n",
            "100/137,train_loss:0.088,accuracy:0.982\n",
            "110/137,train_loss:0.091,accuracy:0.981\n",
            "120/137,train_loss:0.086,accuracy:0.982\n",
            "130/137,train_loss:0.081,accuracy:0.984\n",
            "epoch 12 loss:0.079 accuracy:0.986 \n",
            "Training complete in 6m 15s\n",
            "Starting epoch 14/14\n",
            "----------\n",
            "10/137,train_loss:0.076,accuracy:0.986\n",
            "20/137,train_loss:0.079,accuracy:0.985\n",
            "30/137,train_loss:0.073,accuracy:0.988\n",
            "40/137,train_loss:0.072,accuracy:0.988\n",
            "50/137,train_loss:0.086,accuracy:0.983\n",
            "60/137,train_loss:0.079,accuracy:0.986\n",
            "70/137,train_loss:0.076,accuracy:0.987\n",
            "80/137,train_loss:0.077,accuracy:0.986\n",
            "90/137,train_loss:0.073,accuracy:0.988\n",
            "100/137,train_loss:0.072,accuracy:0.988\n",
            "110/137,train_loss:0.070,accuracy:0.989\n",
            "120/137,train_loss:0.070,accuracy:0.989\n",
            "130/137,train_loss:0.069,accuracy:0.989\n",
            "epoch 13 loss:0.077 accuracy:0.987 \n",
            "Training complete in 6m 16s\n"
          ],
          "name": "stdout"
        }
      ]
    },
    {
      "cell_type": "code",
      "metadata": {
        "id": "kZ8mS69-egb7"
      },
      "source": [
        "def seisfacies_predict(section,patch_size=256,overlap=0,onehot=0): \n",
        "    m1,m2 = section.shape\n",
        "    os    = overlap                                 \n",
        "    n1,n2 = 512,patch_size           \n",
        "    c1 = int(np.round((m1+os)/(n1-os)+0.5))\n",
        "    c2 = int(np.round((m2+os)/(n2-os)+0.5))\n",
        "    p1 = (n1-os)*c1+os\n",
        "    p2 = (n2-os)*c2+os\n",
        "\n",
        "    gp = np.zeros((p1,p2),dtype=np.single)     \n",
        "    gy = np.zeros((6,p1,p2),dtype=np.single)    \n",
        "    gs = np.zeros((n1,n2),dtype=np.single) \n",
        "    \n",
        "    gp[0:m1,0:m2]=section     \n",
        "\n",
        "    for k1 in range(c1):\n",
        "        for k2 in range(c2):\n",
        "            b1 = k1*n1-k1*os\n",
        "            e1 = b1+n1\n",
        "            b2 = k2*n2-k2*os\n",
        "            e2 = b2+n2                \n",
        "            #predict\n",
        "            gs[:,:]=gp[b1:e1,b2:e2]\n",
        "            x=gs.reshape(1,1,512,256)\n",
        "            Y_patch= model(torch.from_numpy(x)).squeeze()\n",
        "            p=F.softmax(Y_patch, dim=0).detach().numpy()\n",
        "            gy[:,b1:e1,b2:e2]= gy[:,b1:e1,b2:e2]+p\n",
        "    \n",
        "    gy_onehot = gy[:,0:m1,0:m2]            \n",
        "    #onehot2label\n",
        "    gy_label =np.argmax(gy_onehot,axis=0)\n",
        "\n",
        "    if onehot==0:\n",
        "        return gy_label\n",
        "    if onehot==1:\n",
        "        return gy_label,gy_onehot"
      ],
      "execution_count": null,
      "outputs": []
    },
    {
      "cell_type": "code",
      "metadata": {
        "id": "Rj0dKt_fyIoo"
      },
      "source": [
        "#plt.imshow(training_label_data[180])"
      ],
      "execution_count": null,
      "outputs": []
    },
    {
      "cell_type": "code",
      "metadata": {
        "id": "-HioCv-Ai1Qh",
        "outputId": "508c9c70-604c-4e73-ff8c-5f937d3fc990",
        "colab": {
          "base_uri": "https://localhost:8080/",
          "height": 324
        }
      },
      "source": [
        "model = torch.load(\"model_0.pth\",map_location='cpu')\n",
        "gy_label,gy_onehot=seisfacies_predict(training_img_data[420],onehot=1)\n",
        "plt.imshow(gy_label)"
      ],
      "execution_count": null,
      "outputs": [
        {
          "output_type": "stream",
          "text": [
            "/usr/local/lib/python3.6/dist-packages/ipykernel_launcher.py:68: UserWarning: Implicit dimension choice for softmax has been deprecated. Change the call to include dim=X as an argument.\n"
          ],
          "name": "stderr"
        },
        {
          "output_type": "execute_result",
          "data": {
            "text/plain": [
              "<matplotlib.image.AxesImage at 0x7f1c5c6405f8>"
            ]
          },
          "metadata": {
            "tags": []
          },
          "execution_count": 18
        },
        {
          "output_type": "display_data",
          "data": {
            "image/png": "[encoded data removed]",
            "text/plain": [
              "<Figure size 432x288 with 1 Axes>"
            ]
          },
          "metadata": {
            "tags": [],
            "needs_background": "light"
          }
        }
      ]
    },
    {
      "cell_type": "code",
      "metadata": {
        "id": "HZvebYNDjBsO",
        "outputId": "4aa68164-9d2b-4ea5-e51d-29bca2f52e02",
        "colab": {
          "base_uri": "https://localhost:8080/",
          "height": 612
        }
      },
      "source": [
        "plt.rcParams[\"figure.figsize\"] = (15, 10)\n",
        "f, axarr = plt.subplots(1,2)\n",
        "axarr[0].imshow(gy_label)\n",
        "axarr[1].imshow(training_label_data[420])"
      ],
      "execution_count": null,
      "outputs": [
        {
          "output_type": "execute_result",
          "data": {
            "text/plain": [
              "<matplotlib.image.AxesImage at 0x7f1c5c139d30>"
            ]
          },
          "metadata": {
            "tags": []
          },
          "execution_count": 19
        },
        {
          "output_type": "display_data",
          "data": {
            "image/png": "[encoded data removed]",
            "text/plain": [
              "<Figure size 1080x720 with 2 Axes>"
            ]
          },
          "metadata": {
            "tags": [],
            "needs_background": "light"
          }
        }
      ]
    },
    {
      "cell_type": "code",
      "metadata": {
        "id": "o5xlJRcxqiEH",
        "outputId": "a685935a-5536-4de8-eeca-7c673b0829c2",
        "colab": {
          "base_uri": "https://localhost:8080/",
          "height": 139
        }
      },
      "source": [
        "training_label_data[420]"
      ],
      "execution_count": null,
      "outputs": [
        {
          "output_type": "execute_result",
          "data": {
            "text/plain": [
              "array([[4, 4, 4, ..., 4, 4, 4],\n",
              "       [4, 4, 4, ..., 4, 4, 4],\n",
              "       [4, 4, 4, ..., 4, 4, 4],\n",
              "       ...,\n",
              "       [1, 1, 1, ..., 1, 1, 1],\n",
              "       [1, 1, 1, ..., 1, 1, 1],\n",
              "       [1, 1, 1, ..., 1, 1, 1]])"
            ]
          },
          "metadata": {
            "tags": []
          },
          "execution_count": 20
        }
      ]
    },
    {
      "cell_type": "code",
      "metadata": {
        "id": "8rgjtb_pywN9",
        "outputId": "ae6e585e-9497-4d0d-e21b-ed63ec01ed9b",
        "colab": {
          "base_uri": "https://localhost:8080/",
          "height": 139
        }
      },
      "source": [
        "gy_label"
      ],
      "execution_count": null,
      "outputs": [
        {
          "output_type": "execute_result",
          "data": {
            "text/plain": [
              "array([[4, 4, 4, ..., 4, 4, 4],\n",
              "       [4, 4, 4, ..., 4, 4, 4],\n",
              "       [4, 4, 4, ..., 4, 4, 4],\n",
              "       ...,\n",
              "       [1, 1, 1, ..., 1, 1, 1],\n",
              "       [1, 1, 1, ..., 1, 1, 1],\n",
              "       [1, 1, 1, ..., 1, 1, 1]])"
            ]
          },
          "metadata": {
            "tags": []
          },
          "execution_count": 21
        }
      ]
    },
    {
      "cell_type": "code",
      "metadata": {
        "id": "NWFag7EMrVik",
        "outputId": "25f959a7-c9d5-4f2d-92e5-b4e403625cac",
        "colab": {
          "base_uri": "https://localhost:8080/",
          "height": 139
        }
      },
      "source": [
        "lab_patch[:,:,420]"
      ],
      "execution_count": null,
      "outputs": [
        {
          "output_type": "execute_result",
          "data": {
            "text/plain": [
              "array([[4, 4, 4, ..., 4, 4, 4],\n",
              "       [4, 4, 4, ..., 4, 4, 4],\n",
              "       [4, 4, 4, ..., 4, 4, 4],\n",
              "       ...,\n",
              "       [1, 1, 1, ..., 1, 1, 1],\n",
              "       [1, 1, 1, ..., 1, 1, 1],\n",
              "       [1, 1, 1, ..., 1, 1, 1]], dtype=int8)"
            ]
          },
          "metadata": {
            "tags": []
          },
          "execution_count": 22
        }
      ]
    },
    {
      "cell_type": "code",
      "metadata": {
        "id": "CbHXsJeBr3Ed",
        "outputId": "2dea6842-83d9-4211-c8f1-b3077b4e2dc4",
        "colab": {
          "base_uri": "https://localhost:8080/",
          "height": 54
        }
      },
      "source": [
        "print('The amount of labels on the training label set was: {}.'.format(np.unique(gy_label)), 'The amount of labels on the predicted example is: {}'.format(np.unique(training_label_data[340])))"
      ],
      "execution_count": null,
      "outputs": [
        {
          "output_type": "stream",
          "text": [
            "The amount of labels on the training label set was: [0 1 2 3 4 5]. The amount of labels on the predicted example is: [0 1 2 3 4 5]\n"
          ],
          "name": "stdout"
        }
      ]
    },
    {
      "cell_type": "code",
      "metadata": {
        "id": "M05Ne2s5munz"
      },
      "source": [
        "#from google.colab import drive\n",
        "#drive.mount('/content/drive')"
      ],
      "execution_count": null,
      "outputs": []
    },
    {
      "cell_type": "code",
      "metadata": {
        "id": "bnQpUjbJm7Qp"
      },
      "source": [
        "#import torch\n",
        "#model = torch.load(\"model_0.pth\",map_location='cpu')\n",
        "#torch.save(model,\"/content/drive/My Drive/Colab Notebooks/TestmodelNew11.pth\") "
      ],
      "execution_count": null,
      "outputs": []
    },
    {
      "cell_type": "code",
      "metadata": {
        "id": "cVzrlncUni9c"
      },
      "source": [
        "test_seismic = np.load('/content/data_test_1.npz')['data']"
      ],
      "execution_count": null,
      "outputs": []
    },
    {
      "cell_type": "code",
      "metadata": {
        "id": "-VMT5SNMoeJ2",
        "outputId": "a3d91111-8b70-4d63-f6d5-a866e1c9d684",
        "colab": {
          "base_uri": "https://localhost:8080/",
          "height": 34
        }
      },
      "source": [
        "test_seismic.shape"
      ],
      "execution_count": null,
      "outputs": [
        {
          "output_type": "execute_result",
          "data": {
            "text/plain": [
              "(1006, 782, 251)"
            ]
          },
          "metadata": {
            "tags": []
          },
          "execution_count": 25
        }
      ]
    },
    {
      "cell_type": "code",
      "metadata": {
        "id": "irT-rFeFjMYt",
        "outputId": "9aa6c899-697a-43d4-c308-a67c316dfb89",
        "colab": {
          "base_uri": "https://localhost:8080/",
          "height": 116,
          "referenced_widgets": [
            "71a3c83e949544d890a14b7e7cc4838c",
            "73c5f0675a084419b52994d41f32b743",
            "4cfb31268a134dd6bbd8a9aa3d83754a",
            "2b2dff6b75424fdbb62b8b8895e31850",
            "8e5202cfb97a47aebe58e283fe836b69",
            "8f17178a7fe148b6ab278567c60a3be3",
            "19a25341466542108a8f1adc8cd7d9bd",
            "cf236735c12b472d85e47546c776ab8b",
            "4c2d2a8c5a214a2a8a6b8ef39c202d33",
            "7b484a4afb6d46b1bd6bcf89c291d6a4",
            "5bdea1b7eef24b46961eb1c0fd5cf107",
            "85aece5c10f046cc917417fd989dbae2",
            "9f75ee939072471ab2f2392d1938223c",
            "fb2c7333f59644c6aef53bc1b6fbaa1c",
            "9160116cf35d4c6f9a8305fb4db524ab",
            "8e5f6382949346bd87013c22e4931a05"
          ]
        }
      },
      "source": [
        "testing_img_data = []\n",
        "for i in tqdm(range(0, test_seismic.shape[1])):\n",
        "  img = test_seismic[:,i,:]\n",
        "  #img = img/MAX_AMP\n",
        "  img = np.expand_dims(img, axis=2).astype('float32')\n",
        "  img = cv2.resize(img, (256, 512))\n",
        "  testing_img_data.append(img) \n",
        "\n",
        "for i in tqdm(range(0, test_seismic.shape[2])):\n",
        "  img = test_seismic[:,:,i]\n",
        "  #img = img/MAX_AMP\n",
        "  img = np.expand_dims(img, axis=2).astype('float32')\n",
        "  img = cv2.resize(img, (256, 512))\n",
        "  testing_img_data.append(img) \n",
        "\n",
        "\n",
        "\n",
        "\n",
        "\n",
        "\n",
        "testing_img_data = np.asarray(testing_img_data)"
      ],
      "execution_count": null,
      "outputs": [
        {
          "output_type": "display_data",
          "data": {
            "application/vnd.jupyter.widget-view+json": {
              "model_id": "71a3c83e949544d890a14b7e7cc4838c",
              "version_minor": 0,
              "version_major": 2
            },
            "text/plain": [
              "HBox(children=(FloatProgress(value=0.0, max=782.0), HTML(value='')))"
            ]
          },
          "metadata": {
            "tags": []
          }
        },
        {
          "output_type": "stream",
          "text": [
            "\n"
          ],
          "name": "stdout"
        },
        {
          "output_type": "display_data",
          "data": {
            "application/vnd.jupyter.widget-view+json": {
              "model_id": "4c2d2a8c5a214a2a8a6b8ef39c202d33",
              "version_minor": 0,
              "version_major": 2
            },
            "text/plain": [
              "HBox(children=(FloatProgress(value=0.0, max=251.0), HTML(value='')))"
            ]
          },
          "metadata": {
            "tags": []
          }
        },
        {
          "output_type": "stream",
          "text": [
            "\n"
          ],
          "name": "stdout"
        }
      ]
    },
    {
      "cell_type": "code",
      "metadata": {
        "id": "uqpcXfrkyhuQ",
        "outputId": "ce4c37c7-cf2d-4eef-d699-5fd6e3b0be27",
        "colab": {
          "base_uri": "https://localhost:8080/",
          "height": 34
        }
      },
      "source": [
        "testing_img_data.shape"
      ],
      "execution_count": null,
      "outputs": [
        {
          "output_type": "execute_result",
          "data": {
            "text/plain": [
              "(1033, 512, 256)"
            ]
          },
          "metadata": {
            "tags": []
          },
          "execution_count": 27
        }
      ]
    },
    {
      "cell_type": "code",
      "metadata": {
        "id": "UHlj3NkToUXx",
        "outputId": "d8ae1d25-218d-49cf-b857-6d9abdff3cd5",
        "colab": {
          "base_uri": "https://localhost:8080/",
          "height": 612
        }
      },
      "source": [
        "plt.imshow(testing_img_data[0])"
      ],
      "execution_count": null,
      "outputs": [
        {
          "output_type": "execute_result",
          "data": {
            "text/plain": [
              "<matplotlib.image.AxesImage at 0x7f1c5b862198>"
            ]
          },
          "metadata": {
            "tags": []
          },
          "execution_count": 28
        },
        {
          "output_type": "display_data",
          "data": {
            "image/png": "[encoded data removed]",
            "text/plain": [
              "<Figure size 1080x720 with 1 Axes>"
            ]
          },
          "metadata": {
            "tags": [],
            "needs_background": "light"
          }
        }
      ]
    },
    {
      "cell_type": "code",
      "metadata": {
        "id": "UAXv07yAnhJ3",
        "outputId": "a49733d0-cf8a-4bc5-d5d5-a0559dcd7832",
        "colab": {
          "base_uri": "https://localhost:8080/",
          "height": 138,
          "referenced_widgets": [
            "92d13de3c7b846849fdf3f0469c36e32",
            "17981b936272478cb7477baf907aef92",
            "5f94b74fa6f14a5e998d72e03653b597",
            "19c1a8027b344d6d8a7625a4eab9c140",
            "e8e3d0359185415496cc442799cf07e3",
            "efddbf430f13493bbe837bb536b6975d",
            "c887719ad5334ce49b6ef2b438d9415c",
            "bb03859661ed493fac0c96be64353490"
          ]
        }
      },
      "source": [
        "%%time\n",
        "preds = []\n",
        "for i in tqdm(range(0, test_seismic.shape[1])):\n",
        "  gy_label,gy_onehot=seisfacies_predict(testing_img_data[i],onehot=1)\n",
        "  #label = gy_label\n",
        "  #label = np.expand_dims(label, axis=2).astype('float32')\n",
        "  #label = cv2.resize(label, (251,1006))\n",
        "  preds.append(gy_label)"
      ],
      "execution_count": null,
      "outputs": [
        {
          "output_type": "display_data",
          "data": {
            "application/vnd.jupyter.widget-view+json": {
              "model_id": "92d13de3c7b846849fdf3f0469c36e32",
              "version_minor": 0,
              "version_major": 2
            },
            "text/plain": [
              "HBox(children=(FloatProgress(value=0.0, max=782.0), HTML(value='')))"
            ]
          },
          "metadata": {
            "tags": []
          }
        },
        {
          "output_type": "stream",
          "text": [
            "/usr/local/lib/python3.6/dist-packages/ipykernel_launcher.py:68: UserWarning: Implicit dimension choice for softmax has been deprecated. Change the call to include dim=X as an argument.\n"
          ],
          "name": "stderr"
        },
        {
          "output_type": "stream",
          "text": [
            "\n",
            "CPU times: user 3h 13min 7s, sys: 1min 33s, total: 3h 14min 41s\n",
            "Wall time: 3h 14min 42s\n"
          ],
          "name": "stdout"
        }
      ]
    },
    {
      "cell_type": "code",
      "metadata": {
        "id": "AiSts8kg1V05"
      },
      "source": [
        "preds = np.asarray(preds)"
      ],
      "execution_count": null,
      "outputs": []
    },
    {
      "cell_type": "code",
      "metadata": {
        "id": "889RWfXM1WFL"
      },
      "source": [
        "def reshaping(data, out_shape):\n",
        "  output_labels = []\n",
        "  for i in data:\n",
        "    img = np.expand_dims(i, axis=2).astype('float32')\n",
        "    img = cv2.resize(img, out_shape)\n",
        "    output_labels.append(img)\n",
        "  output_labels = np.asarray(output_labels)\n",
        "  output_labels = output_labels.astype(int) \n",
        "  return np.swapaxes(output_labels,0,1) "
      ],
      "execution_count": null,
      "outputs": []
    },
    {
      "cell_type": "code",
      "metadata": {
        "id": "n1QhC7AD1V9g"
      },
      "source": [
        "preds = reshaping(preds, (251,1006))"
      ],
      "execution_count": null,
      "outputs": []
    },
    {
      "cell_type": "code",
      "metadata": {
        "id": "n3AfEewAI8pH"
      },
      "source": [
        "preds[preds == 0] = 6"
      ],
      "execution_count": null,
      "outputs": []
    },
    {
      "cell_type": "code",
      "metadata": {
        "id": "_9yQDye_I8jz"
      },
      "source": [
        "#print(preds.shape, np.unique(preds))"
      ],
      "execution_count": null,
      "outputs": []
    },
    {
      "cell_type": "code",
      "metadata": {
        "id": "L5vKYoqfI8dU"
      },
      "source": [
        "np.savez_compressed(\n",
        "    \"/content/prediction.npz\",\n",
        "    prediction=preds\n",
        ")"
      ],
      "execution_count": null,
      "outputs": []
    },
    {
      "cell_type": "code",
      "metadata": {
        "id": "VJ9rAkw8J3Gv",
        "outputId": "0197ac82-ed4d-4797-f473-8f8468a7f4bd",
        "colab": {
          "base_uri": "https://localhost:8080/",
          "height": 868
        }
      },
      "source": [
        "preds"
      ],
      "execution_count": null,
      "outputs": [
        {
          "output_type": "execute_result",
          "data": {
            "text/plain": [
              "array([[[4, 4, 4, ..., 4, 4, 4],\n",
              "        [4, 4, 4, ..., 4, 4, 4],\n",
              "        [4, 4, 4, ..., 4, 4, 4],\n",
              "        ...,\n",
              "        [4, 4, 4, ..., 4, 4, 4],\n",
              "        [4, 4, 4, ..., 4, 4, 4],\n",
              "        [4, 4, 4, ..., 4, 4, 4]],\n",
              "\n",
              "       [[4, 4, 4, ..., 4, 4, 4],\n",
              "        [4, 4, 4, ..., 4, 4, 4],\n",
              "        [4, 4, 4, ..., 4, 4, 4],\n",
              "        ...,\n",
              "        [4, 4, 4, ..., 4, 4, 4],\n",
              "        [4, 4, 4, ..., 4, 4, 4],\n",
              "        [4, 4, 4, ..., 4, 4, 4]],\n",
              "\n",
              "       [[4, 4, 4, ..., 4, 4, 4],\n",
              "        [4, 4, 4, ..., 4, 4, 4],\n",
              "        [4, 4, 4, ..., 4, 4, 4],\n",
              "        ...,\n",
              "        [4, 4, 4, ..., 4, 4, 4],\n",
              "        [4, 4, 4, ..., 4, 4, 4],\n",
              "        [4, 4, 4, ..., 4, 4, 4]],\n",
              "\n",
              "       ...,\n",
              "\n",
              "       [[1, 1, 1, ..., 1, 1, 1],\n",
              "        [1, 1, 1, ..., 1, 1, 1],\n",
              "        [1, 1, 1, ..., 1, 1, 1],\n",
              "        ...,\n",
              "        [1, 1, 1, ..., 1, 1, 1],\n",
              "        [1, 1, 1, ..., 1, 1, 1],\n",
              "        [1, 1, 1, ..., 1, 1, 1]],\n",
              "\n",
              "       [[1, 1, 1, ..., 1, 1, 1],\n",
              "        [1, 1, 1, ..., 1, 1, 1],\n",
              "        [1, 1, 1, ..., 1, 1, 1],\n",
              "        ...,\n",
              "        [1, 1, 1, ..., 1, 1, 1],\n",
              "        [1, 1, 1, ..., 1, 1, 1],\n",
              "        [1, 1, 1, ..., 1, 1, 1]],\n",
              "\n",
              "       [[1, 1, 1, ..., 1, 1, 1],\n",
              "        [1, 1, 1, ..., 1, 1, 1],\n",
              "        [1, 1, 1, ..., 1, 1, 1],\n",
              "        ...,\n",
              "        [1, 1, 1, ..., 1, 1, 1],\n",
              "        [1, 1, 1, ..., 1, 1, 1],\n",
              "        [1, 1, 1, ..., 1, 1, 1]]])"
            ]
          },
          "metadata": {
            "tags": []
          },
          "execution_count": 37
        }
      ]
    },
    {
      "cell_type": "code",
      "metadata": {
        "id": "g8Xug2DT_Syt"
      },
      "source": [
        ""
      ],
      "execution_count": null,
      "outputs": []
    }
  ]
}