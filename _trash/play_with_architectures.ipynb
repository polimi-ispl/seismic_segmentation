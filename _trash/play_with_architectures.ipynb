{
 "cells": [
  {
   "cell_type": "code",
   "execution_count": 1,
   "metadata": {},
   "outputs": [],
   "source": [
    "import numpy as np\n",
    "import os\n",
    "from tqdm import trange\n",
    "from argparse import Namespace\n",
    "from tensorflow.keras.models import load_model\n",
    "from tensorflow.keras import backend as K\n",
    "from tensorflow import keras as k\n",
    "from _keras import data as D\n",
    "from _keras import architectures as A\n",
    "import utils as u\n",
    "os.environ['TF_CPP_MIN_LOG_LEVEL'] = '3'\n",
    "os.environ[\"TF_FORCE_GPU_ALLOW_GROWTH\"] = \"true\"\n",
    "import albumentations as albu\n",
    "\n",
    "# Plotting library\n",
    "from matplotlib import pyplot as plt\n",
    "from matplotlib import rcParams\n",
    "from mpl_toolkits.axes_grid1 import make_axes_locatable\n",
    "\n",
    "rcParams.update({\n",
    "    'image.cmap'     : 'gray',\n",
    "    'axes.grid'      : False,\n",
    "    'savefig.dpi'    : 300,  # to adjust notebook inline plot size\n",
    "    'axes.labelsize' : 14,  # fontsize for x and y labels (was 10)\n",
    "    'axes.titlesize' : 14,\n",
    "    'font.size'      : 14,\n",
    "    'legend.fontsize': 14,\n",
    "    'xtick.labelsize': 14,\n",
    "    'ytick.labelsize': 14,\n",
    "    'text.usetex'    : False\n",
    "})"
   ]
  },
  {
   "cell_type": "code",
   "execution_count": 19,
   "metadata": {},
   "outputs": [],
   "source": [
    "args = Namespace(\n",
    "    dataset='train8_xz.csv',\n",
    "    gpu=5,\n",
    "    nf=32,\n",
    "    batch=16,\n",
    "    backbone='xception',\n",
    "    use_inputs=True,\n",
    "    use_edges=False,\n",
    "    separate_classes=False,\n",
    "    hflip=True,\n",
    "    downscale=True,\n",
    "    shuffle=True,\n",
    "    \n",
    ")"
   ]
  },
  {
   "cell_type": "code",
   "execution_count": 3,
   "metadata": {},
   "outputs": [
    {
     "name": "stdout",
     "output_type": "stream",
     "text": [
      "GPU selected: 5 - TITAN V\n"
     ]
    }
   ],
   "source": [
    "u.set_gpu(args.gpu)"
   ]
  },
  {
   "cell_type": "code",
   "execution_count": 4,
   "metadata": {},
   "outputs": [],
   "source": [
    "data_root = \"/nas/home/fpicetti/datasets/seismic_facies/\"\n",
    "dataset = os.path.join(data_root, args.dataset)\n",
    "num_classes=6"
   ]
  },
  {
   "cell_type": "code",
   "execution_count": 20,
   "metadata": {},
   "outputs": [],
   "source": [
    "aug = []\n",
    "if args.hflip:\n",
    "    aug.append(albu.HorizontalFlip())\n",
    "if args.downscale:\n",
    "    aug.append(albu.Downscale(scale_min=0.5, scale_max=0.95, p=0.1))\n",
    "        \n",
    "datagen_train = D.CSVLoader(\n",
    "    csv_file=dataset,\n",
    "    phase=\"train\",\n",
    "    batch_size=args.batch,\n",
    "    separate_classes=args.separate_classes,\n",
    "    use_edges=args.use_edges,\n",
    "    use_inputs=args.use_inputs,\n",
    "    shuffle=args.shuffle,\n",
    "    augmentation=albu.Compose(aug),\n",
    "    preprocessing=None,\n",
    ")"
   ]
  },
  {
   "cell_type": "code",
   "execution_count": 21,
   "metadata": {},
   "outputs": [],
   "source": [
    "patch_shape = datagen_train[0][0].shape[1:]"
   ]
  },
  {
   "cell_type": "code",
   "execution_count": 22,
   "metadata": {},
   "outputs": [],
   "source": [
    "# Build model\n",
    "K.clear_session()\n",
    "\n",
    "model = A.MultiDecoder(\n",
    "    patch_shape,\n",
    "    num_classes=num_classes,\n",
    "    separate_classes=args.separate_classes,\n",
    "    use_edges=args.use_edges,\n",
    "    use_inputs=args.use_inputs,\n",
    "    nf=args.nf, act=\"relu\",\n",
    "    backbone=args.backbone)"
   ]
  },
  {
   "cell_type": "code",
   "execution_count": 23,
   "metadata": {},
   "outputs": [
    {
     "name": "stdout",
     "output_type": "stream",
     "text": [
      "Model: \"MultiDecoder\"\n",
      "_________________________________________________________________\n",
      "Layer (type)                 Output Shape              Param #   \n",
      "=================================================================\n",
      "Encoder (Model)              (None, 62, 8, 256)        183456    \n",
      "_________________________________________________________________\n",
      "Segmenter (Model)            (None, 992, 128, 6)       1875814   \n",
      "_________________________________________________________________\n",
      "Reconstructor (Model)        (None, 992, 128, 1)       1874369   \n",
      "=================================================================\n",
      "Total params: 3,933,639\n",
      "Trainable params: 3,927,943\n",
      "Non-trainable params: 5,696\n",
      "_________________________________________________________________\n"
     ]
    }
   ],
   "source": [
    "model.summary()"
   ]
  },
  {
   "cell_type": "code",
   "execution_count": 29,
   "metadata": {},
   "outputs": [],
   "source": [
    "model.segmenter.trainable = False"
   ]
  },
  {
   "cell_type": "code",
   "execution_count": 24,
   "metadata": {},
   "outputs": [],
   "source": [
    "model.compile(loss='categorical_hinge', optimizer=k.optimizers.Adam(lr=0.01))"
   ]
  },
  {
   "cell_type": "code",
   "execution_count": 45,
   "metadata": {},
   "outputs": [],
   "source": [
    "image, mask = datagen_train[2]"
   ]
  },
  {
   "cell_type": "code",
   "execution_count": 46,
   "metadata": {},
   "outputs": [],
   "source": [
    "losses = model.train_on_batch(image, mask)"
   ]
  },
  {
   "cell_type": "code",
   "execution_count": 47,
   "metadata": {},
   "outputs": [
    {
     "data": {
      "text/plain": [
       "[1.248868703842163, 1.1945821046829224, 0.05428662523627281]"
      ]
     },
     "execution_count": 47,
     "metadata": {},
     "output_type": "execute_result"
    }
   ],
   "source": [
    "losses"
   ]
  },
  {
   "cell_type": "code",
   "execution_count": 28,
   "metadata": {},
   "outputs": [
    {
     "data": {
      "text/plain": [
       "['loss', 'output_1_loss', 'output_2_loss']"
      ]
     },
     "execution_count": 28,
     "metadata": {},
     "output_type": "execute_result"
    }
   ],
   "source": [
    "model.metrics_names"
   ]
  },
  {
   "cell_type": "code",
   "execution_count": null,
   "metadata": {},
   "outputs": [],
   "source": []
  }
 ],
 "metadata": {
  "kernelspec": {
   "display_name": "Python 3",
   "language": "python",
   "name": "python3"
  },
  "language_info": {
   "codemirror_mode": {
    "name": "ipython",
    "version": 3
   },
   "file_extension": ".py",
   "mimetype": "text/x-python",
   "name": "python",
   "nbconvert_exporter": "python",
   "pygments_lexer": "ipython3",
   "version": "3.8.5"
  }
 },
 "nbformat": 4,
 "nbformat_minor": 4
}
